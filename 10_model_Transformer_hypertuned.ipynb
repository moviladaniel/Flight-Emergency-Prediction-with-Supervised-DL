{
  "cells": [
    {
      "cell_type": "markdown",
      "metadata": {
        "id": "rPi4SAev3oVP"
      },
      "source": [
        "# Training an optimized Transformer model"
      ]
    },
    {
      "cell_type": "code",
      "source": [
        "from google.colab import drive\n",
        "drive.mount('/content/drive/')\n",
        "!pwd\n",
        "!p \"/content/drive/My Drive/\""
      ],
      "metadata": {
        "id": "xhogMeBN3zF8",
        "colab": {
          "base_uri": "https://localhost:8080/"
        },
        "outputId": "5201a28b-6298-4b70-cb06-44073b61a4c4"
      },
      "execution_count": 3,
      "outputs": [
        {
          "output_type": "stream",
          "name": "stdout",
          "text": [
            "Drive already mounted at /content/drive/; to attempt to forcibly remount, call drive.mount(\"/content/drive/\", force_remount=True).\n",
            "/content\n",
            "/bin/bash: line 1: p: command not found\n"
          ]
        }
      ]
    },
    {
      "cell_type": "code",
      "source": [
        "!pip install optuna"
      ],
      "metadata": {
        "id": "TLvTLPFD39rv",
        "colab": {
          "base_uri": "https://localhost:8080/"
        },
        "outputId": "499b467b-a921-41fb-bb2c-dc50161e450d"
      },
      "execution_count": 4,
      "outputs": [
        {
          "output_type": "stream",
          "name": "stdout",
          "text": [
            "Requirement already satisfied: optuna in /usr/local/lib/python3.11/dist-packages (4.3.0)\n",
            "Requirement already satisfied: alembic>=1.5.0 in /usr/local/lib/python3.11/dist-packages (from optuna) (1.16.1)\n",
            "Requirement already satisfied: colorlog in /usr/local/lib/python3.11/dist-packages (from optuna) (6.9.0)\n",
            "Requirement already satisfied: numpy in /usr/local/lib/python3.11/dist-packages (from optuna) (2.0.2)\n",
            "Requirement already satisfied: packaging>=20.0 in /usr/local/lib/python3.11/dist-packages (from optuna) (24.2)\n",
            "Requirement already satisfied: sqlalchemy>=1.4.2 in /usr/local/lib/python3.11/dist-packages (from optuna) (2.0.40)\n",
            "Requirement already satisfied: tqdm in /usr/local/lib/python3.11/dist-packages (from optuna) (4.67.1)\n",
            "Requirement already satisfied: PyYAML in /usr/local/lib/python3.11/dist-packages (from optuna) (6.0.2)\n",
            "Requirement already satisfied: Mako in /usr/lib/python3/dist-packages (from alembic>=1.5.0->optuna) (1.1.3)\n",
            "Requirement already satisfied: typing-extensions>=4.12 in /usr/local/lib/python3.11/dist-packages (from alembic>=1.5.0->optuna) (4.13.2)\n",
            "Requirement already satisfied: greenlet>=1 in /usr/local/lib/python3.11/dist-packages (from sqlalchemy>=1.4.2->optuna) (3.2.2)\n"
          ]
        }
      ]
    },
    {
      "cell_type": "code",
      "source": [
        "gpu_info = !nvidia-smi\n",
        "gpu_info = '\\n'.join(gpu_info)\n",
        "if gpu_info.find('failed') >= 0:\n",
        "  print('Not connected to a GPU')\n",
        "else:\n",
        "  print(gpu_info)"
      ],
      "metadata": {
        "id": "z20MWd1F3-od",
        "colab": {
          "base_uri": "https://localhost:8080/"
        },
        "outputId": "4f768b54-e452-4adf-bf50-d37e5d535dcc"
      },
      "execution_count": 5,
      "outputs": [
        {
          "output_type": "stream",
          "name": "stdout",
          "text": [
            "Sat May 24 20:06:24 2025       \n",
            "+-----------------------------------------------------------------------------------------+\n",
            "| NVIDIA-SMI 550.54.15              Driver Version: 550.54.15      CUDA Version: 12.4     |\n",
            "|-----------------------------------------+------------------------+----------------------+\n",
            "| GPU  Name                 Persistence-M | Bus-Id          Disp.A | Volatile Uncorr. ECC |\n",
            "| Fan  Temp   Perf          Pwr:Usage/Cap |           Memory-Usage | GPU-Util  Compute M. |\n",
            "|                                         |                        |               MIG M. |\n",
            "|=========================================+========================+======================|\n",
            "|   0  NVIDIA A100-SXM4-40GB          Off |   00000000:00:04.0 Off |                    0 |\n",
            "| N/A   35C    P0             48W /  400W |       0MiB /  40960MiB |      0%      Default |\n",
            "|                                         |                        |             Disabled |\n",
            "+-----------------------------------------+------------------------+----------------------+\n",
            "                                                                                         \n",
            "+-----------------------------------------------------------------------------------------+\n",
            "| Processes:                                                                              |\n",
            "|  GPU   GI   CI        PID   Type   Process name                              GPU Memory |\n",
            "|        ID   ID                                                               Usage      |\n",
            "|=========================================================================================|\n",
            "|  No running processes found                                                             |\n",
            "+-----------------------------------------------------------------------------------------+\n"
          ]
        }
      ]
    },
    {
      "cell_type": "code",
      "execution_count": 6,
      "metadata": {
        "id": "JfpRbzKk3oVQ",
        "colab": {
          "base_uri": "https://localhost:8080/"
        },
        "outputId": "0c4b82a0-ff91-43c1-a414-a93266daf90c"
      },
      "outputs": [
        {
          "output_type": "stream",
          "name": "stdout",
          "text": [
            "Running with: cuda\n"
          ]
        }
      ],
      "source": [
        "import joblib, torch, numpy as np, optuna, gc, matplotlib.pyplot as plt\n",
        "from torch import nn\n",
        "from torch.utils.data import TensorDataset, DataLoader\n",
        "from sklearn.metrics import (\n",
        "    f1_score,\n",
        "    accuracy_score,\n",
        "    precision_score,\n",
        "    confusion_matrix,\n",
        "    ConfusionMatrixDisplay,\n",
        ")\n",
        "from pathlib import Path\n",
        "\n",
        "DRIVE_PROJECT = \"/content/drive/My Drive/Project 3/\"\n",
        "DEVICE = \"cuda\" if torch.cuda.is_available() else \"cpu\"\n",
        "print(\"Running with:\", DEVICE)\n",
        "\n",
        "SUPER = joblib.load(DRIVE_PROJECT + \"optimized_data_processing/super_data_payload.pkl\")\n",
        "train_df = SUPER[\"train_df\"]\n",
        "val_df = SUPER[\"val_df\"]\n",
        "test_df = SUPER[\"test_df\"]\n",
        "FEATURE_SETS = SUPER[\"feature_sets\"]\n",
        "ALL_NUMERIC = SUPER[\"numeric_cols\"]\n",
        "\n",
        "CKPT_DIR = Path(DRIVE_PROJECT + \"trans_ckpts\")\n",
        "CKPT_DIR.mkdir(exist_ok=True)"
      ]
    },
    {
      "cell_type": "markdown",
      "metadata": {
        "id": "5ar2rYn-3oVS"
      },
      "source": [
        " ## 1. Utility – caching sliding-window tensors"
      ]
    },
    {
      "cell_type": "code",
      "execution_count": 7,
      "metadata": {
        "id": "DvmYngd-3oVS"
      },
      "outputs": [],
      "source": [
        "window_cache = {}\n",
        "\n",
        "\n",
        "# Helper: build sliding windows\n",
        "def build_windows(df, win_len, stride, feature_cols):\n",
        "    data, labels = [], []\n",
        "    for _, fl in df.groupby(\"flight_id\"):\n",
        "        X = fl[feature_cols].to_numpy(dtype=np.float32)\n",
        "        y = fl[\"is_7700\"].to_numpy(dtype=np.int8)  # chdanged from bool to int\n",
        "        for i in range(0, len(X) - win_len + 1, stride):\n",
        "            data.append(X[i : i + win_len])\n",
        "            labels.append(int(y[i : i + win_len].any()))  # 1 if ANY emergency in window\n",
        "    return np.stack(data), np.array(labels)\n",
        "\n",
        "\n",
        "def get_windows(df, feat_key, win_len, stride):\n",
        "    # Different DataFrames have different id() values\n",
        "    cache_key = f\"{id(df)}_{feat_key}_{win_len}_{stride}\"\n",
        "    if cache_key not in window_cache:\n",
        "        if feat_key == \"all_numeric\":\n",
        "            X_np, y_np = build_windows(df, win_len, stride, ALL_NUMERIC)\n",
        "        else:\n",
        "            X_np, y_np = build_windows(df, win_len, stride, FEATURE_SETS[feat_key])\n",
        "        X_t = torch.tensor(X_np, dtype=torch.float32)\n",
        "        y_t = torch.tensor(y_np, dtype=torch.float32).unsqueeze(1)\n",
        "        window_cache[cache_key] = (X_t, y_t)\n",
        "    return window_cache[cache_key]"
      ]
    },
    {
      "cell_type": "markdown",
      "metadata": {
        "id": "rVW1WumJ3oVT"
      },
      "source": [
        " ## 2. Model definition (Transformer encoder)"
      ]
    },
    {
      "cell_type": "code",
      "execution_count": 8,
      "metadata": {
        "id": "BQDuvaud3oVT"
      },
      "outputs": [],
      "source": [
        "class PositionalEncoding(nn.Module):\n",
        "    def __init__(self, d_model, max_len=512):\n",
        "        super().__init__()\n",
        "        pe = torch.zeros(max_len, d_model)\n",
        "        pos = torch.arange(0, max_len).unsqueeze(1)\n",
        "        div = torch.exp(torch.arange(0, d_model, 2) * (-np.log(10000.0) / d_model))\n",
        "        pe[:, 0::2] = torch.sin(pos * div)\n",
        "        pe[:, 1::2] = torch.cos(pos * div)\n",
        "        self.register_buffer(\"pe\", pe.unsqueeze(0))  # (1, L, d_model)\n",
        "\n",
        "    def forward(self, x):  # x: (B,T,d)\n",
        "        return x + self.pe[:, : x.size(1)]\n",
        "\n",
        "\n",
        "class TransformerClassifier(nn.Module):\n",
        "    def __init__(self, n_feats, d_model, n_head, n_layers, dim_ff, dropout):\n",
        "        super().__init__()\n",
        "        self.proj = nn.Linear(n_feats, d_model)\n",
        "        self.cls = nn.Parameter(torch.zeros(1, 1, d_model))\n",
        "        self.pos = PositionalEncoding(d_model, max_len=256)\n",
        "        enc_layer = nn.TransformerEncoderLayer(\n",
        "            d_model, n_head, dim_ff, dropout, batch_first=True\n",
        "        )\n",
        "        self.enc = nn.TransformerEncoder(enc_layer, n_layers)\n",
        "        self.head = nn.Sequential(\n",
        "            nn.LayerNorm(d_model), nn.Dropout(dropout), nn.Linear(d_model, 1)\n",
        "        )\n",
        "\n",
        "    def forward(self, x):\n",
        "        B = x.size(0)\n",
        "        x = self.proj(x)  # (B, T, d_model)\n",
        "        cls_token = self.cls.expand(B, -1, -1)  # (B,1,d_model)\n",
        "        x = torch.cat([cls_token, x], dim=1)  # prepend\n",
        "        x = self.pos(x)\n",
        "        enc_out = self.enc(x)  # (B, T+1, d_model)\n",
        "        cls_out = enc_out[:, 0]  # (B, d_model)\n",
        "        return self.head(cls_out)"
      ]
    },
    {
      "cell_type": "markdown",
      "metadata": {
        "id": "4wdU3BTL3oVT"
      },
      "source": [
        " ## 3. Objective function for Optuna"
      ]
    },
    {
      "cell_type": "code",
      "execution_count": 9,
      "metadata": {
        "id": "xg5KaIlb3oVT"
      },
      "outputs": [],
      "source": [
        "def objective(trial: optuna.trial.Trial):\n",
        "    if DEVICE == \"cuda\":\n",
        "        torch.cuda.empty_cache()\n",
        "    # ─ data choices\n",
        "    feat_key = trial.suggest_categorical(\n",
        "        \"features\", [\"all_numeric\", \"baseline\", \"transformer_xyz\"]\n",
        "    )\n",
        "    win_len = trial.suggest_categorical(\"win_len\", [30, 60, 120])\n",
        "    stride = trial.suggest_categorical(\"stride\", [10, 20])\n",
        "    X_tr, y_tr = get_windows(train_df, feat_key, win_len, stride)\n",
        "    X_va, y_va = get_windows(val_df, feat_key, win_len, stride)\n",
        "    train_loader = DataLoader(\n",
        "        TensorDataset(X_tr, y_tr), 256, shuffle=True, drop_last=True\n",
        "    )\n",
        "    val_loader = DataLoader(TensorDataset(X_va, y_va), 256, shuffle=False)\n",
        "\n",
        "    # ─ model hyper-params\n",
        "    d_model = trial.suggest_categorical(\"d_model\", [32, 64, 128])\n",
        "    n_heads = trial.suggest_categorical(\"n_head\", [2, 4, 8])\n",
        "    n_layers = trial.suggest_int(\"n_layers\", 1, 3)\n",
        "    dim_ff = trial.suggest_categorical(\"dim_ff\", [128, 256, 512])\n",
        "    drop = trial.suggest_float(\"drop\", 0.0, 0.4, step=0.1)\n",
        "    lr = trial.suggest_float(\"lr\", 1e-4, 3e-3, log=True)\n",
        "\n",
        "    print(\n",
        "        f\"Using features: {feat_key}, win_len: {win_len}, stride: {stride}\"\n",
        "        f\", d_model: {d_model}, n_heads: {n_heads}, \"\n",
        "        f\"n_layers: {n_layers}, dim_ff: {dim_ff}, drop: {drop}, lr: {lr}\"\n",
        "    )\n",
        "\n",
        "    model = TransformerClassifier(\n",
        "        X_tr.shape[2], d_model, n_heads, n_layers, dim_ff, drop\n",
        "    ).to(DEVICE)\n",
        "    optim = torch.optim.Adam(model.parameters(), lr=lr)\n",
        "    scheduler = torch.optim.lr_scheduler.ReduceLROnPlateau(\n",
        "        optim, mode=\"max\", factor=0.5, patience=1\n",
        "    )\n",
        "\n",
        "    lr_curve, f1_curve = [], []\n",
        "    train_loss_curve = []\n",
        "\n",
        "    EPOCHS = 10\n",
        "    for ep in range(1, EPOCHS + 1):  # 10 epochs\n",
        "        print(f\"Epoch {ep}/{EPOCHS}  —  LR: {optim.param_groups[0]['lr']:.6f}\")\n",
        "        model.train(True)\n",
        "        running_loss = 0.0\n",
        "        for xb, yb in train_loader:\n",
        "            xb, yb = xb.to(DEVICE), yb.to(DEVICE)\n",
        "            logits = model(xb)\n",
        "            loss = nn.functional.binary_cross_entropy_with_logits(logits, yb)\n",
        "            optim.zero_grad()\n",
        "            loss.backward()\n",
        "            optim.step()\n",
        "            running_loss += loss.item() * yb.size(0)\n",
        "        tr_loss = running_loss / len(train_loader.dataset)\n",
        "        train_loss_curve.append(tr_loss)\n",
        "        # validation\n",
        "        model.train(False)\n",
        "        preds, gts = [], []\n",
        "        with torch.no_grad():\n",
        "            for xb, yb in val_loader:\n",
        "                logits = model(xb.to(DEVICE))\n",
        "                preds.extend((torch.sigmoid(logits) > 0.5).cpu().numpy().ravel())\n",
        "                gts.extend(yb.numpy().ravel())\n",
        "        val_f1 = f1_score(gts, preds)\n",
        "        f1_curve.append(val_f1)\n",
        "        lr_curve.append(float(optim.param_groups[0][\"lr\"]))\n",
        "\n",
        "        trial.report(val_f1, ep)\n",
        "        if trial.should_prune():\n",
        "            print(f\"Trial pruned at epoch {ep}, F1: {val_f1}\")\n",
        "            raise optuna.TrialPruned()\n",
        "        scheduler.step(val_f1)\n",
        "\n",
        "    # save weights\n",
        "    ckpt = CKPT_DIR / f\"trial_{trial.number}.pt\"\n",
        "    torch.save(model.state_dict(), ckpt)\n",
        "    trial.set_user_attr(\"ckpt\", str(ckpt))\n",
        "    trial.set_user_attr(\"features\", feat_key)\n",
        "    trial.set_user_attr(\"win_len\", win_len)\n",
        "    trial.set_user_attr(\"stride\", stride)\n",
        "    trial.set_user_attr(\"lr_curve\", lr_curve)\n",
        "    trial.set_user_attr(\"val_f1_curve\", f1_curve)\n",
        "    trial.set_user_attr(\"train_loss_curve\", train_loss_curve)\n",
        "\n",
        "    del model, X_tr, y_tr, X_va, y_va, train_loader, val_loader\n",
        "    torch.cuda.empty_cache()\n",
        "    gc.collect()\n",
        "    return f1_curve[-1]"
      ]
    },
    {
      "cell_type": "markdown",
      "metadata": {
        "id": "OJncNdmD3oVU"
      },
      "source": [
        " ## 4. Launch the study"
      ]
    },
    {
      "cell_type": "code",
      "execution_count": 10,
      "metadata": {
        "colab": {
          "base_uri": "https://localhost:8080/"
        },
        "id": "P52395ti3oVU",
        "outputId": "9f74b947-686a-42d8-ea98-16b3bb7c6118"
      },
      "outputs": [
        {
          "output_type": "stream",
          "name": "stderr",
          "text": [
            "[I 2025-05-24 20:06:29,222] A new study created in RDB with name: trans_hpo\n"
          ]
        },
        {
          "output_type": "stream",
          "name": "stdout",
          "text": [
            "Using features: baseline, win_len: 30, stride: 10, d_model: 64, n_heads: 8, n_layers: 2, dim_ff: 512, drop: 0.0, lr: 0.00011643288777039057\n",
            "Epoch 1/10  —  LR: 0.000116\n",
            "Epoch 2/10  —  LR: 0.000116\n",
            "Epoch 3/10  —  LR: 0.000116\n",
            "Epoch 4/10  —  LR: 0.000058\n",
            "Epoch 5/10  —  LR: 0.000058\n",
            "Epoch 6/10  —  LR: 0.000029\n",
            "Epoch 7/10  —  LR: 0.000029\n",
            "Epoch 8/10  —  LR: 0.000015\n",
            "Epoch 9/10  —  LR: 0.000015\n",
            "Epoch 10/10  —  LR: 0.000007\n"
          ]
        },
        {
          "output_type": "stream",
          "name": "stderr",
          "text": [
            "[I 2025-05-24 20:08:26,676] Trial 0 finished with value: 0.5770207804106109 and parameters: {'features': 'baseline', 'win_len': 30, 'stride': 10, 'd_model': 64, 'n_head': 8, 'n_layers': 2, 'dim_ff': 512, 'drop': 0.0, 'lr': 0.00011643288777039057}. Best is trial 0 with value: 0.5770207804106109.\n"
          ]
        },
        {
          "output_type": "stream",
          "name": "stdout",
          "text": [
            "Using features: transformer_xyz, win_len: 120, stride: 10, d_model: 64, n_heads: 4, n_layers: 3, dim_ff: 256, drop: 0.2, lr: 0.000643881479897209\n",
            "Epoch 1/10  —  LR: 0.000644\n",
            "Epoch 2/10  —  LR: 0.000644\n",
            "Epoch 3/10  —  LR: 0.000644\n",
            "Epoch 4/10  —  LR: 0.000644\n",
            "Epoch 5/10  —  LR: 0.000644\n",
            "Epoch 6/10  —  LR: 0.000322\n",
            "Epoch 7/10  —  LR: 0.000322\n",
            "Epoch 8/10  —  LR: 0.000161\n",
            "Epoch 9/10  —  LR: 0.000161\n",
            "Epoch 10/10  —  LR: 0.000080\n"
          ]
        },
        {
          "output_type": "stream",
          "name": "stderr",
          "text": [
            "[I 2025-05-24 20:11:26,934] Trial 1 finished with value: 0.6161232092791028 and parameters: {'features': 'transformer_xyz', 'win_len': 120, 'stride': 10, 'd_model': 64, 'n_head': 4, 'n_layers': 3, 'dim_ff': 256, 'drop': 0.2, 'lr': 0.000643881479897209}. Best is trial 1 with value: 0.6161232092791028.\n"
          ]
        },
        {
          "output_type": "stream",
          "name": "stdout",
          "text": [
            "Using features: transformer_xyz, win_len: 30, stride: 10, d_model: 128, n_heads: 4, n_layers: 1, dim_ff: 128, drop: 0.30000000000000004, lr: 0.00020388972584608995\n",
            "Epoch 1/10  —  LR: 0.000204\n",
            "Epoch 2/10  —  LR: 0.000204\n",
            "Epoch 3/10  —  LR: 0.000204\n",
            "Epoch 4/10  —  LR: 0.000102\n",
            "Epoch 5/10  —  LR: 0.000102\n",
            "Epoch 6/10  —  LR: 0.000051\n",
            "Epoch 7/10  —  LR: 0.000051\n",
            "Epoch 8/10  —  LR: 0.000025\n",
            "Epoch 9/10  —  LR: 0.000025\n",
            "Epoch 10/10  —  LR: 0.000013\n"
          ]
        },
        {
          "output_type": "stream",
          "name": "stderr",
          "text": [
            "[I 2025-05-24 20:12:53,962] Trial 2 finished with value: 0.5590924321478149 and parameters: {'features': 'transformer_xyz', 'win_len': 30, 'stride': 10, 'd_model': 128, 'n_head': 4, 'n_layers': 1, 'dim_ff': 128, 'drop': 0.30000000000000004, 'lr': 0.00020388972584608995}. Best is trial 1 with value: 0.6161232092791028.\n"
          ]
        },
        {
          "output_type": "stream",
          "name": "stdout",
          "text": [
            "Using features: baseline, win_len: 120, stride: 20, d_model: 128, n_heads: 2, n_layers: 3, dim_ff: 256, drop: 0.30000000000000004, lr: 0.00017473330707859033\n",
            "Epoch 1/10  —  LR: 0.000175\n",
            "Epoch 2/10  —  LR: 0.000175\n",
            "Epoch 3/10  —  LR: 0.000175\n",
            "Epoch 4/10  —  LR: 0.000175\n",
            "Epoch 5/10  —  LR: 0.000175\n",
            "Epoch 6/10  —  LR: 0.000087\n",
            "Epoch 7/10  —  LR: 0.000087\n",
            "Epoch 8/10  —  LR: 0.000087\n",
            "Epoch 9/10  —  LR: 0.000044\n",
            "Epoch 10/10  —  LR: 0.000044\n"
          ]
        },
        {
          "output_type": "stream",
          "name": "stderr",
          "text": [
            "[I 2025-05-24 20:14:53,502] Trial 3 finished with value: 0.6188219363574814 and parameters: {'features': 'baseline', 'win_len': 120, 'stride': 20, 'd_model': 128, 'n_head': 2, 'n_layers': 3, 'dim_ff': 256, 'drop': 0.30000000000000004, 'lr': 0.00017473330707859033}. Best is trial 3 with value: 0.6188219363574814.\n"
          ]
        },
        {
          "output_type": "stream",
          "name": "stdout",
          "text": [
            "Using features: all_numeric, win_len: 60, stride: 20, d_model: 64, n_heads: 2, n_layers: 1, dim_ff: 512, drop: 0.30000000000000004, lr: 0.002446809093878913\n",
            "Epoch 1/10  —  LR: 0.002447\n",
            "Epoch 2/10  —  LR: 0.002447\n",
            "Epoch 3/10  —  LR: 0.002447\n",
            "Epoch 4/10  —  LR: 0.002447\n",
            "Epoch 5/10  —  LR: 0.002447\n",
            "Epoch 6/10  —  LR: 0.002447\n",
            "Epoch 7/10  —  LR: 0.001223\n",
            "Epoch 8/10  —  LR: 0.001223\n",
            "Epoch 9/10  —  LR: 0.000612\n",
            "Epoch 10/10  —  LR: 0.000612\n"
          ]
        },
        {
          "output_type": "stream",
          "name": "stderr",
          "text": [
            "[I 2025-05-24 20:15:43,351] Trial 4 finished with value: 0.6137353433835846 and parameters: {'features': 'all_numeric', 'win_len': 60, 'stride': 20, 'd_model': 64, 'n_head': 2, 'n_layers': 1, 'dim_ff': 512, 'drop': 0.30000000000000004, 'lr': 0.002446809093878913}. Best is trial 3 with value: 0.6188219363574814.\n"
          ]
        },
        {
          "output_type": "stream",
          "name": "stdout",
          "text": [
            "Using features: baseline, win_len: 60, stride: 20, d_model: 32, n_heads: 2, n_layers: 1, dim_ff: 128, drop: 0.2, lr: 0.00010060223718264495\n",
            "Epoch 1/10  —  LR: 0.000101\n",
            "Epoch 2/10  —  LR: 0.000101\n",
            "Epoch 3/10  —  LR: 0.000101\n"
          ]
        },
        {
          "output_type": "stream",
          "name": "stderr",
          "text": [
            "[I 2025-05-24 20:15:58,682] Trial 5 pruned. \n"
          ]
        },
        {
          "output_type": "stream",
          "name": "stdout",
          "text": [
            "Trial pruned at epoch 3, F1: 0.5624801608295419\n",
            "Using features: all_numeric, win_len: 120, stride: 10, d_model: 32, n_heads: 4, n_layers: 2, dim_ff: 512, drop: 0.30000000000000004, lr: 0.0004191970928518238\n",
            "Epoch 1/10  —  LR: 0.000419\n",
            "Epoch 2/10  —  LR: 0.000419\n",
            "Epoch 3/10  —  LR: 0.000419\n",
            "Epoch 4/10  —  LR: 0.000419\n",
            "Epoch 5/10  —  LR: 0.000419\n",
            "Epoch 6/10  —  LR: 0.000210\n",
            "Epoch 7/10  —  LR: 0.000210\n",
            "Epoch 8/10  —  LR: 0.000105\n",
            "Epoch 9/10  —  LR: 0.000105\n",
            "Epoch 10/10  —  LR: 0.000052\n"
          ]
        },
        {
          "output_type": "stream",
          "name": "stderr",
          "text": [
            "[I 2025-05-24 20:18:23,906] Trial 6 finished with value: 0.6099285501637393 and parameters: {'features': 'all_numeric', 'win_len': 120, 'stride': 10, 'd_model': 32, 'n_head': 4, 'n_layers': 2, 'dim_ff': 512, 'drop': 0.30000000000000004, 'lr': 0.0004191970928518238}. Best is trial 3 with value: 0.6188219363574814.\n"
          ]
        },
        {
          "output_type": "stream",
          "name": "stdout",
          "text": [
            "Using features: all_numeric, win_len: 120, stride: 20, d_model: 32, n_heads: 8, n_layers: 3, dim_ff: 256, drop: 0.30000000000000004, lr: 0.00011623253403614482\n",
            "Epoch 1/10  —  LR: 0.000116\n",
            "Epoch 2/10  —  LR: 0.000116\n",
            "Epoch 3/10  —  LR: 0.000116\n"
          ]
        },
        {
          "output_type": "stream",
          "name": "stderr",
          "text": [
            "[I 2025-05-24 20:18:55,096] Trial 7 pruned. \n"
          ]
        },
        {
          "output_type": "stream",
          "name": "stdout",
          "text": [
            "Trial pruned at epoch 3, F1: 0.6091831802803287\n",
            "Using features: baseline, win_len: 60, stride: 10, d_model: 64, n_heads: 4, n_layers: 1, dim_ff: 128, drop: 0.4, lr: 0.001965852789131705\n",
            "Epoch 1/10  —  LR: 0.001966\n",
            "Epoch 2/10  —  LR: 0.001966\n",
            "Epoch 3/10  —  LR: 0.001966\n"
          ]
        },
        {
          "output_type": "stream",
          "name": "stderr",
          "text": [
            "[I 2025-05-24 20:19:24,326] Trial 8 pruned. \n"
          ]
        },
        {
          "output_type": "stream",
          "name": "stdout",
          "text": [
            "Trial pruned at epoch 3, F1: 0.6258813029897368\n",
            "Using features: all_numeric, win_len: 120, stride: 20, d_model: 32, n_heads: 4, n_layers: 2, dim_ff: 256, drop: 0.0, lr: 0.0007965867058905149\n",
            "Epoch 1/10  —  LR: 0.000797\n",
            "Epoch 2/10  —  LR: 0.000797\n",
            "Epoch 3/10  —  LR: 0.000797\n",
            "Epoch 4/10  —  LR: 0.000797\n",
            "Epoch 5/10  —  LR: 0.000398\n",
            "Epoch 6/10  —  LR: 0.000398\n",
            "Epoch 7/10  —  LR: 0.000199\n",
            "Epoch 8/10  —  LR: 0.000199\n",
            "Epoch 9/10  —  LR: 0.000100\n",
            "Epoch 10/10  —  LR: 0.000100\n"
          ]
        },
        {
          "output_type": "stream",
          "name": "stderr",
          "text": [
            "[I 2025-05-24 20:20:28,784] Trial 9 finished with value: 0.5961116082323273 and parameters: {'features': 'all_numeric', 'win_len': 120, 'stride': 20, 'd_model': 32, 'n_head': 4, 'n_layers': 2, 'dim_ff': 256, 'drop': 0.0, 'lr': 0.0007965867058905149}. Best is trial 3 with value: 0.6188219363574814.\n"
          ]
        },
        {
          "output_type": "stream",
          "name": "stdout",
          "text": [
            "Using features: baseline, win_len: 120, stride: 20, d_model: 128, n_heads: 2, n_layers: 3, dim_ff: 256, drop: 0.1, lr: 0.00029852676980322764\n",
            "Epoch 1/10  —  LR: 0.000299\n",
            "Epoch 2/10  —  LR: 0.000299\n",
            "Epoch 3/10  —  LR: 0.000299\n"
          ]
        },
        {
          "output_type": "stream",
          "name": "stderr",
          "text": [
            "[I 2025-05-24 20:21:04,821] Trial 10 pruned. \n"
          ]
        },
        {
          "output_type": "stream",
          "name": "stdout",
          "text": [
            "Trial pruned at epoch 3, F1: 0.617363344051447\n",
            "Using features: transformer_xyz, win_len: 120, stride: 10, d_model: 128, n_heads: 2, n_layers: 3, dim_ff: 256, drop: 0.2, lr: 0.0007544899230919011\n",
            "Epoch 1/10  —  LR: 0.000754\n",
            "Epoch 2/10  —  LR: 0.000754\n",
            "Epoch 3/10  —  LR: 0.000754\n"
          ]
        },
        {
          "output_type": "stream",
          "name": "stderr",
          "text": [
            "[I 2025-05-24 20:22:14,062] Trial 11 pruned. \n"
          ]
        },
        {
          "output_type": "stream",
          "name": "stdout",
          "text": [
            "Trial pruned at epoch 3, F1: 0.6166680640563428\n",
            "Using features: transformer_xyz, win_len: 120, stride: 10, d_model: 128, n_heads: 4, n_layers: 3, dim_ff: 256, drop: 0.4, lr: 0.0010699145755246459\n",
            "Epoch 1/10  —  LR: 0.001070\n",
            "Epoch 2/10  —  LR: 0.001070\n",
            "Epoch 3/10  —  LR: 0.001070\n"
          ]
        },
        {
          "output_type": "stream",
          "name": "stderr",
          "text": [
            "[I 2025-05-24 20:23:27,920] Trial 12 pruned. \n"
          ]
        },
        {
          "output_type": "stream",
          "name": "stdout",
          "text": [
            "Trial pruned at epoch 3, F1: 0.5984434244661744\n",
            "Using features: transformer_xyz, win_len: 120, stride: 20, d_model: 64, n_heads: 2, n_layers: 3, dim_ff: 256, drop: 0.1, lr: 0.00022089946040357235\n",
            "Epoch 1/10  —  LR: 0.000221\n",
            "Epoch 2/10  —  LR: 0.000221\n",
            "Epoch 3/10  —  LR: 0.000221\n"
          ]
        },
        {
          "output_type": "stream",
          "name": "stderr",
          "text": [
            "[I 2025-05-24 20:23:55,360] Trial 13 pruned. \n"
          ]
        },
        {
          "output_type": "stream",
          "name": "stdout",
          "text": [
            "Trial pruned at epoch 3, F1: 0.6218142933523436\n",
            "Using features: baseline, win_len: 120, stride: 20, d_model: 128, n_heads: 8, n_layers: 3, dim_ff: 256, drop: 0.1, lr: 0.0004488386900716417\n",
            "Epoch 1/10  —  LR: 0.000449\n",
            "Epoch 2/10  —  LR: 0.000449\n",
            "Epoch 3/10  —  LR: 0.000449\n"
          ]
        },
        {
          "output_type": "stream",
          "name": "stderr",
          "text": [
            "[I 2025-05-24 20:24:37,120] Trial 14 pruned. \n"
          ]
        },
        {
          "output_type": "stream",
          "name": "stdout",
          "text": [
            "Trial pruned at epoch 3, F1: 0.5776789024842417\n",
            "Using features: transformer_xyz, win_len: 30, stride: 10, d_model: 64, n_heads: 4, n_layers: 2, dim_ff: 256, drop: 0.2, lr: 0.0014611842859020624\n",
            "Epoch 1/10  —  LR: 0.001461\n",
            "Epoch 2/10  —  LR: 0.001461\n",
            "Epoch 3/10  —  LR: 0.001461\n",
            "Epoch 4/10  —  LR: 0.000731\n",
            "Epoch 5/10  —  LR: 0.000731\n",
            "Epoch 6/10  —  LR: 0.000365\n",
            "Epoch 7/10  —  LR: 0.000365\n",
            "Epoch 8/10  —  LR: 0.000183\n",
            "Epoch 9/10  —  LR: 0.000183\n",
            "Epoch 10/10  —  LR: 0.000091\n"
          ]
        },
        {
          "output_type": "stream",
          "name": "stderr",
          "text": [
            "[I 2025-05-24 20:26:39,121] Trial 15 finished with value: 0.5997893201523378 and parameters: {'features': 'transformer_xyz', 'win_len': 30, 'stride': 10, 'd_model': 64, 'n_head': 4, 'n_layers': 2, 'dim_ff': 256, 'drop': 0.2, 'lr': 0.0014611842859020624}. Best is trial 3 with value: 0.6188219363574814.\n"
          ]
        },
        {
          "output_type": "stream",
          "name": "stdout",
          "text": [
            "Using features: transformer_xyz, win_len: 120, stride: 10, d_model: 128, n_heads: 2, n_layers: 2, dim_ff: 256, drop: 0.2, lr: 0.0005965652231430459\n",
            "Epoch 1/10  —  LR: 0.000597\n",
            "Epoch 2/10  —  LR: 0.000597\n",
            "Epoch 3/10  —  LR: 0.000597\n"
          ]
        },
        {
          "output_type": "stream",
          "name": "stderr",
          "text": [
            "[I 2025-05-24 20:27:30,689] Trial 16 pruned. \n"
          ]
        },
        {
          "output_type": "stream",
          "name": "stdout",
          "text": [
            "Trial pruned at epoch 3, F1: 0.5995126584892413\n",
            "Using features: baseline, win_len: 120, stride: 20, d_model: 64, n_heads: 4, n_layers: 3, dim_ff: 256, drop: 0.4, lr: 0.0002979405413076413\n",
            "Epoch 1/10  —  LR: 0.000298\n",
            "Epoch 2/10  —  LR: 0.000298\n",
            "Epoch 3/10  —  LR: 0.000298\n"
          ]
        },
        {
          "output_type": "stream",
          "name": "stderr",
          "text": [
            "[I 2025-05-24 20:27:58,759] Trial 17 pruned. \n"
          ]
        },
        {
          "output_type": "stream",
          "name": "stdout",
          "text": [
            "Trial pruned at epoch 3, F1: 0.5954768928220255\n",
            "Using features: transformer_xyz, win_len: 30, stride: 20, d_model: 128, n_heads: 2, n_layers: 3, dim_ff: 128, drop: 0.30000000000000004, lr: 0.00017027125065697691\n",
            "Epoch 1/10  —  LR: 0.000170\n",
            "Epoch 2/10  —  LR: 0.000170\n",
            "Epoch 3/10  —  LR: 0.000170\n"
          ]
        },
        {
          "output_type": "stream",
          "name": "stderr",
          "text": [
            "[I 2025-05-24 20:28:21,785] Trial 18 pruned. \n"
          ]
        },
        {
          "output_type": "stream",
          "name": "stdout",
          "text": [
            "Trial pruned at epoch 3, F1: 0.568840219014435\n",
            "Using features: baseline, win_len: 60, stride: 10, d_model: 64, n_heads: 8, n_layers: 3, dim_ff: 512, drop: 0.1, lr: 0.0011598064363874882\n",
            "Epoch 1/10  —  LR: 0.001160\n",
            "Epoch 2/10  —  LR: 0.001160\n",
            "Epoch 3/10  —  LR: 0.001160\n",
            "Epoch 4/10  —  LR: 0.001160\n",
            "Epoch 5/10  —  LR: 0.001160\n",
            "Epoch 6/10  —  LR: 0.000580\n",
            "Epoch 7/10  —  LR: 0.000580\n",
            "Epoch 8/10  —  LR: 0.000290\n",
            "Epoch 9/10  —  LR: 0.000290\n",
            "Epoch 10/10  —  LR: 0.000145\n"
          ]
        },
        {
          "output_type": "stream",
          "name": "stderr",
          "text": [
            "[I 2025-05-24 20:30:48,328] Trial 19 finished with value: 0.5766069051906365 and parameters: {'features': 'baseline', 'win_len': 60, 'stride': 10, 'd_model': 64, 'n_head': 8, 'n_layers': 3, 'dim_ff': 512, 'drop': 0.1, 'lr': 0.0011598064363874882}. Best is trial 3 with value: 0.6188219363574814.\n"
          ]
        },
        {
          "output_type": "stream",
          "name": "stdout",
          "text": [
            "Using features: transformer_xyz, win_len: 120, stride: 10, d_model: 128, n_heads: 2, n_layers: 2, dim_ff: 256, drop: 0.30000000000000004, lr: 0.0003204620893452597\n",
            "Epoch 1/10  —  LR: 0.000320\n",
            "Epoch 2/10  —  LR: 0.000320\n",
            "Epoch 3/10  —  LR: 0.000320\n"
          ]
        },
        {
          "output_type": "stream",
          "name": "stderr",
          "text": [
            "[I 2025-05-24 20:31:38,628] Trial 20 pruned. \n"
          ]
        },
        {
          "output_type": "stream",
          "name": "stdout",
          "text": [
            "Trial pruned at epoch 3, F1: 0.606691198240494\n",
            "Using features: all_numeric, win_len: 60, stride: 20, d_model: 64, n_heads: 2, n_layers: 1, dim_ff: 512, drop: 0.30000000000000004, lr: 0.0029664124480966387\n",
            "Epoch 1/10  —  LR: 0.002966\n",
            "Epoch 2/10  —  LR: 0.002966\n",
            "Epoch 3/10  —  LR: 0.002966\n"
          ]
        },
        {
          "output_type": "stream",
          "name": "stderr",
          "text": [
            "[I 2025-05-24 20:31:52,677] Trial 21 pruned. \n"
          ]
        },
        {
          "output_type": "stream",
          "name": "stdout",
          "text": [
            "Trial pruned at epoch 3, F1: 0.6237936629942779\n",
            "Using features: all_numeric, win_len: 60, stride: 20, d_model: 64, n_heads: 2, n_layers: 2, dim_ff: 512, drop: 0.2, lr: 0.002869503397390681\n",
            "Epoch 1/10  —  LR: 0.002870\n",
            "Epoch 2/10  —  LR: 0.002870\n",
            "Epoch 3/10  —  LR: 0.002870\n"
          ]
        },
        {
          "output_type": "stream",
          "name": "stderr",
          "text": [
            "[I 2025-05-24 20:32:11,127] Trial 22 pruned. \n"
          ]
        },
        {
          "output_type": "stream",
          "name": "stdout",
          "text": [
            "Trial pruned at epoch 3, F1: 0.5928462023605731\n",
            "Using features: all_numeric, win_len: 60, stride: 20, d_model: 64, n_heads: 2, n_layers: 1, dim_ff: 512, drop: 0.4, lr: 0.0018331150964250626\n",
            "Epoch 1/10  —  LR: 0.001833\n",
            "Epoch 2/10  —  LR: 0.001833\n",
            "Epoch 3/10  —  LR: 0.001833\n"
          ]
        },
        {
          "output_type": "stream",
          "name": "stderr",
          "text": [
            "[I 2025-05-24 20:32:25,247] Trial 23 pruned. \n"
          ]
        },
        {
          "output_type": "stream",
          "name": "stdout",
          "text": [
            "Trial pruned at epoch 3, F1: 0.6060019361084221\n",
            "Using features: all_numeric, win_len: 60, stride: 20, d_model: 64, n_heads: 2, n_layers: 2, dim_ff: 512, drop: 0.2, lr: 0.0006122588662858632\n",
            "Epoch 1/10  —  LR: 0.000612\n",
            "Epoch 2/10  —  LR: 0.000612\n",
            "Epoch 3/10  —  LR: 0.000612\n",
            "Epoch 4/10  —  LR: 0.000612\n",
            "Epoch 5/10  —  LR: 0.000306\n",
            "Epoch 6/10  —  LR: 0.000306\n",
            "Epoch 7/10  —  LR: 0.000153\n",
            "Epoch 8/10  —  LR: 0.000153\n",
            "Epoch 9/10  —  LR: 0.000077\n",
            "Epoch 10/10  —  LR: 0.000077\n"
          ]
        },
        {
          "output_type": "stream",
          "name": "stderr",
          "text": [
            "[I 2025-05-24 20:33:27,160] Trial 24 finished with value: 0.5881876367171677 and parameters: {'features': 'all_numeric', 'win_len': 60, 'stride': 20, 'd_model': 64, 'n_head': 2, 'n_layers': 2, 'dim_ff': 512, 'drop': 0.2, 'lr': 0.0006122588662858632}. Best is trial 3 with value: 0.6188219363574814.\n"
          ]
        },
        {
          "output_type": "stream",
          "name": "stdout",
          "text": [
            "Using features: all_numeric, win_len: 60, stride: 20, d_model: 64, n_heads: 4, n_layers: 3, dim_ff: 512, drop: 0.30000000000000004, lr: 0.0001562992163387152\n",
            "Epoch 1/10  —  LR: 0.000156\n",
            "Epoch 2/10  —  LR: 0.000156\n",
            "Epoch 3/10  —  LR: 0.000156\n",
            "Epoch 4/10  —  LR: 0.000156\n",
            "Epoch 5/10  —  LR: 0.000156\n",
            "Epoch 6/10  —  LR: 0.000078\n",
            "Epoch 7/10  —  LR: 0.000078\n",
            "Epoch 8/10  —  LR: 0.000039\n",
            "Epoch 9/10  —  LR: 0.000039\n",
            "Epoch 10/10  —  LR: 0.000039\n"
          ]
        },
        {
          "output_type": "stream",
          "name": "stderr",
          "text": [
            "[I 2025-05-24 20:34:43,169] Trial 25 finished with value: 0.6342686941526885 and parameters: {'features': 'all_numeric', 'win_len': 60, 'stride': 20, 'd_model': 64, 'n_head': 4, 'n_layers': 3, 'dim_ff': 512, 'drop': 0.30000000000000004, 'lr': 0.0001562992163387152}. Best is trial 25 with value: 0.6342686941526885.\n"
          ]
        },
        {
          "output_type": "stream",
          "name": "stdout",
          "text": [
            "Using features: baseline, win_len: 120, stride: 20, d_model: 64, n_heads: 4, n_layers: 3, dim_ff: 256, drop: 0.30000000000000004, lr: 0.00015359779850641323\n",
            "Epoch 1/10  —  LR: 0.000154\n",
            "Epoch 2/10  —  LR: 0.000154\n",
            "Epoch 3/10  —  LR: 0.000154\n"
          ]
        },
        {
          "output_type": "stream",
          "name": "stderr",
          "text": [
            "[I 2025-05-24 20:35:10,354] Trial 26 pruned. \n"
          ]
        },
        {
          "output_type": "stream",
          "name": "stdout",
          "text": [
            "Trial pruned at epoch 3, F1: 0.605522301602626\n",
            "Using features: all_numeric, win_len: 120, stride: 20, d_model: 64, n_heads: 4, n_layers: 3, dim_ff: 128, drop: 0.4, lr: 0.00023742368410412196\n",
            "Epoch 1/10  —  LR: 0.000237\n",
            "Epoch 2/10  —  LR: 0.000237\n",
            "Epoch 3/10  —  LR: 0.000237\n"
          ]
        },
        {
          "output_type": "stream",
          "name": "stderr",
          "text": [
            "[I 2025-05-24 20:35:37,077] Trial 27 pruned. \n"
          ]
        },
        {
          "output_type": "stream",
          "name": "stdout",
          "text": [
            "Trial pruned at epoch 3, F1: 0.6188546255506608\n",
            "Using features: baseline, win_len: 30, stride: 10, d_model: 32, n_heads: 4, n_layers: 3, dim_ff: 512, drop: 0.30000000000000004, lr: 0.0001594592869360986\n",
            "Epoch 1/10  —  LR: 0.000159\n",
            "Epoch 2/10  —  LR: 0.000159\n",
            "Epoch 3/10  —  LR: 0.000159\n"
          ]
        },
        {
          "output_type": "stream",
          "name": "stderr",
          "text": [
            "[I 2025-05-24 20:36:20,145] Trial 28 pruned. \n"
          ]
        },
        {
          "output_type": "stream",
          "name": "stdout",
          "text": [
            "Trial pruned at epoch 3, F1: 0.6023235839247774\n",
            "Using features: transformer_xyz, win_len: 60, stride: 10, d_model: 128, n_heads: 8, n_layers: 3, dim_ff: 256, drop: 0.2, lr: 0.0004091190330323476\n",
            "Epoch 1/10  —  LR: 0.000409\n",
            "Epoch 2/10  —  LR: 0.000409\n",
            "Epoch 3/10  —  LR: 0.000409\n"
          ]
        },
        {
          "output_type": "stream",
          "name": "stderr",
          "text": [
            "[I 2025-05-24 20:37:08,464] Trial 29 pruned. \n"
          ]
        },
        {
          "output_type": "stream",
          "name": "stdout",
          "text": [
            "Trial pruned at epoch 3, F1: 0.6002823685740387\n",
            "Using features: baseline, win_len: 30, stride: 20, d_model: 64, n_heads: 4, n_layers: 3, dim_ff: 512, drop: 0.2, lr: 0.000136375357129927\n",
            "Epoch 1/10  —  LR: 0.000136\n",
            "Epoch 2/10  —  LR: 0.000136\n",
            "Epoch 3/10  —  LR: 0.000136\n"
          ]
        },
        {
          "output_type": "stream",
          "name": "stderr",
          "text": [
            "[I 2025-05-24 20:37:31,960] Trial 30 pruned. \n"
          ]
        },
        {
          "output_type": "stream",
          "name": "stdout",
          "text": [
            "Trial pruned at epoch 3, F1: 0.605280466034013\n",
            "Using features: all_numeric, win_len: 60, stride: 20, d_model: 64, n_heads: 2, n_layers: 2, dim_ff: 512, drop: 0.30000000000000004, lr: 0.0009094252296777898\n",
            "Epoch 1/10  —  LR: 0.000909\n",
            "Epoch 2/10  —  LR: 0.000909\n",
            "Epoch 3/10  —  LR: 0.000909\n",
            "Epoch 4/10  —  LR: 0.000909\n",
            "Epoch 5/10  —  LR: 0.000455\n",
            "Epoch 6/10  —  LR: 0.000455\n",
            "Epoch 7/10  —  LR: 0.000227\n",
            "Epoch 8/10  —  LR: 0.000227\n",
            "Epoch 9/10  —  LR: 0.000114\n",
            "Epoch 10/10  —  LR: 0.000114\n"
          ]
        },
        {
          "output_type": "stream",
          "name": "stderr",
          "text": [
            "[I 2025-05-24 20:38:33,499] Trial 31 finished with value: 0.593710292249047 and parameters: {'features': 'all_numeric', 'win_len': 60, 'stride': 20, 'd_model': 64, 'n_head': 2, 'n_layers': 2, 'dim_ff': 512, 'drop': 0.30000000000000004, 'lr': 0.0009094252296777898}. Best is trial 25 with value: 0.6342686941526885.\n"
          ]
        },
        {
          "output_type": "stream",
          "name": "stdout",
          "text": [
            "Using features: all_numeric, win_len: 60, stride: 20, d_model: 64, n_heads: 4, n_layers: 1, dim_ff: 512, drop: 0.30000000000000004, lr: 0.0002073406811489903\n",
            "Epoch 1/10  —  LR: 0.000207\n",
            "Epoch 2/10  —  LR: 0.000207\n",
            "Epoch 3/10  —  LR: 0.000207\n",
            "Epoch 4/10  —  LR: 0.000207\n",
            "Epoch 5/10  —  LR: 0.000207\n",
            "Epoch 6/10  —  LR: 0.000207\n",
            "Epoch 7/10  —  LR: 0.000207\n",
            "Epoch 8/10  —  LR: 0.000207\n",
            "Epoch 9/10  —  LR: 0.000104\n",
            "Epoch 10/10  —  LR: 0.000104\n"
          ]
        },
        {
          "output_type": "stream",
          "name": "stderr",
          "text": [
            "[I 2025-05-24 20:39:20,685] Trial 32 finished with value: 0.6215766099185789 and parameters: {'features': 'all_numeric', 'win_len': 60, 'stride': 20, 'd_model': 64, 'n_head': 4, 'n_layers': 1, 'dim_ff': 512, 'drop': 0.30000000000000004, 'lr': 0.0002073406811489903}. Best is trial 25 with value: 0.6342686941526885.\n"
          ]
        },
        {
          "output_type": "stream",
          "name": "stdout",
          "text": [
            "Using features: all_numeric, win_len: 60, stride: 20, d_model: 64, n_heads: 4, n_layers: 1, dim_ff: 512, drop: 0.30000000000000004, lr: 0.00020406600806039408\n",
            "Epoch 1/10  —  LR: 0.000204\n",
            "Epoch 2/10  —  LR: 0.000204\n",
            "Epoch 3/10  —  LR: 0.000204\n"
          ]
        },
        {
          "output_type": "stream",
          "name": "stderr",
          "text": [
            "[I 2025-05-24 20:39:34,956] Trial 33 pruned. \n"
          ]
        },
        {
          "output_type": "stream",
          "name": "stdout",
          "text": [
            "Trial pruned at epoch 3, F1: 0.5931061419783225\n",
            "Using features: all_numeric, win_len: 60, stride: 20, d_model: 64, n_heads: 4, n_layers: 3, dim_ff: 512, drop: 0.4, lr: 0.00026303389004360097\n",
            "Epoch 1/10  —  LR: 0.000263\n",
            "Epoch 2/10  —  LR: 0.000263\n",
            "Epoch 3/10  —  LR: 0.000263\n"
          ]
        },
        {
          "output_type": "stream",
          "name": "stderr",
          "text": [
            "[I 2025-05-24 20:39:57,838] Trial 34 pruned. \n"
          ]
        },
        {
          "output_type": "stream",
          "name": "stdout",
          "text": [
            "Trial pruned at epoch 3, F1: 0.602173525743809\n",
            "Using features: all_numeric, win_len: 60, stride: 20, d_model: 64, n_heads: 4, n_layers: 1, dim_ff: 512, drop: 0.30000000000000004, lr: 0.00012253618796286852\n",
            "Epoch 1/10  —  LR: 0.000123\n",
            "Epoch 2/10  —  LR: 0.000123\n",
            "Epoch 3/10  —  LR: 0.000123\n"
          ]
        },
        {
          "output_type": "stream",
          "name": "stderr",
          "text": [
            "[I 2025-05-24 20:40:12,084] Trial 35 pruned. \n"
          ]
        },
        {
          "output_type": "stream",
          "name": "stdout",
          "text": [
            "Trial pruned at epoch 3, F1: 0.5826471178951597\n",
            "Using features: all_numeric, win_len: 60, stride: 20, d_model: 32, n_heads: 4, n_layers: 2, dim_ff: 128, drop: 0.0, lr: 0.00019074731609093498\n",
            "Epoch 1/10  —  LR: 0.000191\n",
            "Epoch 2/10  —  LR: 0.000191\n",
            "Epoch 3/10  —  LR: 0.000191\n"
          ]
        },
        {
          "output_type": "stream",
          "name": "stderr",
          "text": [
            "[I 2025-05-24 20:40:29,859] Trial 36 pruned. \n"
          ]
        },
        {
          "output_type": "stream",
          "name": "stdout",
          "text": [
            "Trial pruned at epoch 3, F1: 0.5734545091381205\n",
            "Using features: transformer_xyz, win_len: 120, stride: 10, d_model: 64, n_heads: 4, n_layers: 3, dim_ff: 512, drop: 0.2, lr: 0.0003535979487125108\n",
            "Epoch 1/10  —  LR: 0.000354\n",
            "Epoch 2/10  —  LR: 0.000354\n",
            "Epoch 3/10  —  LR: 0.000354\n",
            "Epoch 4/10  —  LR: 0.000354\n",
            "Epoch 5/10  —  LR: 0.000177\n",
            "Epoch 6/10  —  LR: 0.000177\n",
            "Epoch 7/10  —  LR: 0.000088\n",
            "Epoch 8/10  —  LR: 0.000088\n",
            "Epoch 9/10  —  LR: 0.000044\n",
            "Epoch 10/10  —  LR: 0.000044\n"
          ]
        },
        {
          "output_type": "stream",
          "name": "stderr",
          "text": [
            "[I 2025-05-24 20:43:56,072] Trial 37 finished with value: 0.6075110456553755 and parameters: {'features': 'transformer_xyz', 'win_len': 120, 'stride': 10, 'd_model': 64, 'n_head': 4, 'n_layers': 3, 'dim_ff': 512, 'drop': 0.2, 'lr': 0.0003535979487125108}. Best is trial 25 with value: 0.6342686941526885.\n"
          ]
        },
        {
          "output_type": "stream",
          "name": "stdout",
          "text": [
            "Using features: baseline, win_len: 30, stride: 20, d_model: 128, n_heads: 4, n_layers: 1, dim_ff: 256, drop: 0.30000000000000004, lr: 0.0001095883327463124\n",
            "Epoch 1/10  —  LR: 0.000110\n",
            "Epoch 2/10  —  LR: 0.000110\n",
            "Epoch 3/10  —  LR: 0.000110\n"
          ]
        },
        {
          "output_type": "stream",
          "name": "stderr",
          "text": [
            "[I 2025-05-24 20:44:09,286] Trial 38 pruned. \n"
          ]
        },
        {
          "output_type": "stream",
          "name": "stdout",
          "text": [
            "Trial pruned at epoch 3, F1: 0.566483404601914\n",
            "Using features: all_numeric, win_len: 60, stride: 10, d_model: 32, n_heads: 8, n_layers: 2, dim_ff: 128, drop: 0.30000000000000004, lr: 0.0001405597185308258\n",
            "Epoch 1/10  —  LR: 0.000141\n",
            "Epoch 2/10  —  LR: 0.000141\n",
            "Epoch 3/10  —  LR: 0.000141\n"
          ]
        },
        {
          "output_type": "stream",
          "name": "stderr",
          "text": [
            "[I 2025-05-24 20:44:49,277] Trial 39 pruned. \n"
          ]
        },
        {
          "output_type": "stream",
          "name": "stdout",
          "text": [
            "Trial pruned at epoch 3, F1: 0.5879741337708715\n",
            "Using features: all_numeric, win_len: 120, stride: 20, d_model: 64, n_heads: 4, n_layers: 3, dim_ff: 512, drop: 0.1, lr: 0.00047422399734321183\n",
            "Epoch 1/10  —  LR: 0.000474\n",
            "Epoch 2/10  —  LR: 0.000474\n",
            "Epoch 3/10  —  LR: 0.000474\n",
            "Epoch 4/10  —  LR: 0.000474\n",
            "Epoch 5/10  —  LR: 0.000474\n",
            "Epoch 6/10  —  LR: 0.000237\n",
            "Epoch 7/10  —  LR: 0.000237\n",
            "Epoch 8/10  —  LR: 0.000119\n",
            "Epoch 9/10  —  LR: 0.000119\n",
            "Epoch 10/10  —  LR: 0.000059\n"
          ]
        },
        {
          "output_type": "stream",
          "name": "stderr",
          "text": [
            "[I 2025-05-24 20:46:38,670] Trial 40 finished with value: 0.5900451030927835 and parameters: {'features': 'all_numeric', 'win_len': 120, 'stride': 20, 'd_model': 64, 'n_head': 4, 'n_layers': 3, 'dim_ff': 512, 'drop': 0.1, 'lr': 0.00047422399734321183}. Best is trial 25 with value: 0.6342686941526885.\n"
          ]
        },
        {
          "output_type": "stream",
          "name": "stdout",
          "text": [
            "Using features: all_numeric, win_len: 60, stride: 20, d_model: 64, n_heads: 2, n_layers: 1, dim_ff: 512, drop: 0.30000000000000004, lr: 0.00018630505745951352\n",
            "Epoch 1/10  —  LR: 0.000186\n",
            "Epoch 2/10  —  LR: 0.000186\n",
            "Epoch 3/10  —  LR: 0.000186\n"
          ]
        },
        {
          "output_type": "stream",
          "name": "stderr",
          "text": [
            "[I 2025-05-24 20:46:52,945] Trial 41 pruned. \n"
          ]
        },
        {
          "output_type": "stream",
          "name": "stdout",
          "text": [
            "Trial pruned at epoch 3, F1: 0.620157919182536\n",
            "Using features: all_numeric, win_len: 60, stride: 20, d_model: 64, n_heads: 4, n_layers: 1, dim_ff: 512, drop: 0.4, lr: 0.001963495526454442\n",
            "Epoch 1/10  —  LR: 0.001963\n",
            "Epoch 2/10  —  LR: 0.001963\n",
            "Epoch 3/10  —  LR: 0.001963\n"
          ]
        },
        {
          "output_type": "stream",
          "name": "stderr",
          "text": [
            "[I 2025-05-24 20:47:07,168] Trial 42 pruned. \n"
          ]
        },
        {
          "output_type": "stream",
          "name": "stdout",
          "text": [
            "Trial pruned at epoch 3, F1: 0.5514075887392901\n",
            "Using features: all_numeric, win_len: 60, stride: 20, d_model: 64, n_heads: 2, n_layers: 1, dim_ff: 512, drop: 0.30000000000000004, lr: 0.0002494375415103861\n",
            "Epoch 1/10  —  LR: 0.000249\n",
            "Epoch 2/10  —  LR: 0.000249\n",
            "Epoch 3/10  —  LR: 0.000249\n"
          ]
        },
        {
          "output_type": "stream",
          "name": "stderr",
          "text": [
            "[I 2025-05-24 20:47:21,409] Trial 43 pruned. \n"
          ]
        },
        {
          "output_type": "stream",
          "name": "stdout",
          "text": [
            "Trial pruned at epoch 3, F1: 0.5966508566450489\n",
            "Using features: baseline, win_len: 120, stride: 20, d_model: 128, n_heads: 4, n_layers: 1, dim_ff: 256, drop: 0.2, lr: 0.0007130203451049322\n",
            "Epoch 1/10  —  LR: 0.000713\n",
            "Epoch 2/10  —  LR: 0.000713\n",
            "Epoch 3/10  —  LR: 0.000713\n",
            "Epoch 4/10  —  LR: 0.000357\n",
            "Epoch 5/10  —  LR: 0.000357\n",
            "Epoch 6/10  —  LR: 0.000357\n",
            "Epoch 7/10  —  LR: 0.000178\n",
            "Epoch 8/10  —  LR: 0.000178\n",
            "Epoch 9/10  —  LR: 0.000178\n",
            "Epoch 10/10  —  LR: 0.000178\n"
          ]
        },
        {
          "output_type": "stream",
          "name": "stderr",
          "text": [
            "[I 2025-05-24 20:48:20,042] Trial 44 finished with value: 0.6355048057175717 and parameters: {'features': 'baseline', 'win_len': 120, 'stride': 20, 'd_model': 128, 'n_head': 4, 'n_layers': 1, 'dim_ff': 256, 'drop': 0.2, 'lr': 0.0007130203451049322}. Best is trial 44 with value: 0.6355048057175717.\n"
          ]
        },
        {
          "output_type": "stream",
          "name": "stdout",
          "text": [
            "Using features: baseline, win_len: 120, stride: 20, d_model: 128, n_heads: 4, n_layers: 1, dim_ff: 256, drop: 0.2, lr: 0.0007194619699662771\n",
            "Epoch 1/10  —  LR: 0.000719\n",
            "Epoch 2/10  —  LR: 0.000719\n",
            "Epoch 3/10  —  LR: 0.000719\n",
            "Epoch 4/10  —  LR: 0.000719\n",
            "Epoch 5/10  —  LR: 0.000719\n",
            "Epoch 6/10  —  LR: 0.000360\n",
            "Epoch 7/10  —  LR: 0.000360\n",
            "Epoch 8/10  —  LR: 0.000360\n",
            "Epoch 9/10  —  LR: 0.000360\n",
            "Epoch 10/10  —  LR: 0.000360\n"
          ]
        },
        {
          "output_type": "stream",
          "name": "stderr",
          "text": [
            "[I 2025-05-24 20:49:18,456] Trial 45 finished with value: 0.610964216463952 and parameters: {'features': 'baseline', 'win_len': 120, 'stride': 20, 'd_model': 128, 'n_head': 4, 'n_layers': 1, 'dim_ff': 256, 'drop': 0.2, 'lr': 0.0007194619699662771}. Best is trial 44 with value: 0.6355048057175717.\n"
          ]
        },
        {
          "output_type": "stream",
          "name": "stdout",
          "text": [
            "Using features: baseline, win_len: 120, stride: 20, d_model: 128, n_heads: 4, n_layers: 3, dim_ff: 256, drop: 0.2, lr: 0.000534337904677254\n",
            "Epoch 1/10  —  LR: 0.000534\n",
            "Epoch 2/10  —  LR: 0.000534\n",
            "Epoch 3/10  —  LR: 0.000534\n"
          ]
        },
        {
          "output_type": "stream",
          "name": "stderr",
          "text": [
            "[I 2025-05-24 20:49:55,280] Trial 46 pruned. \n"
          ]
        },
        {
          "output_type": "stream",
          "name": "stdout",
          "text": [
            "Trial pruned at epoch 3, F1: 0.5867851752473587\n",
            "Using features: baseline, win_len: 120, stride: 10, d_model: 128, n_heads: 4, n_layers: 1, dim_ff: 256, drop: 0.2, lr: 0.0008836897022392538\n",
            "Epoch 1/10  —  LR: 0.000884\n",
            "Epoch 2/10  —  LR: 0.000884\n",
            "Epoch 3/10  —  LR: 0.000884\n",
            "Epoch 4/10  —  LR: 0.000884\n",
            "Epoch 5/10  —  LR: 0.000884\n",
            "Epoch 6/10  —  LR: 0.000442\n",
            "Epoch 7/10  —  LR: 0.000442\n",
            "Epoch 8/10  —  LR: 0.000442\n",
            "Epoch 9/10  —  LR: 0.000442\n",
            "Epoch 10/10  —  LR: 0.000442\n"
          ]
        },
        {
          "output_type": "stream",
          "name": "stderr",
          "text": [
            "[I 2025-05-24 20:51:54,705] Trial 47 finished with value: 0.5975695667488552 and parameters: {'features': 'baseline', 'win_len': 120, 'stride': 10, 'd_model': 128, 'n_head': 4, 'n_layers': 1, 'dim_ff': 256, 'drop': 0.2, 'lr': 0.0008836897022392538}. Best is trial 44 with value: 0.6355048057175717.\n"
          ]
        },
        {
          "output_type": "stream",
          "name": "stdout",
          "text": [
            "Using features: baseline, win_len: 120, stride: 20, d_model: 128, n_heads: 4, n_layers: 2, dim_ff: 256, drop: 0.2, lr: 0.00037646583653790685\n",
            "Epoch 1/10  —  LR: 0.000376\n",
            "Epoch 2/10  —  LR: 0.000376\n",
            "Epoch 3/10  —  LR: 0.000376\n"
          ]
        },
        {
          "output_type": "stream",
          "name": "stderr",
          "text": [
            "[I 2025-05-24 20:52:22,028] Trial 48 pruned. \n"
          ]
        },
        {
          "output_type": "stream",
          "name": "stdout",
          "text": [
            "Trial pruned at epoch 3, F1: 0.6032603957806643\n",
            "Using features: transformer_xyz, win_len: 120, stride: 10, d_model: 128, n_heads: 8, n_layers: 3, dim_ff: 256, drop: 0.1, lr: 0.0006608375050458076\n",
            "Epoch 1/10  —  LR: 0.000661\n",
            "Epoch 2/10  —  LR: 0.000661\n",
            "Epoch 3/10  —  LR: 0.000661\n"
          ]
        },
        {
          "output_type": "stream",
          "name": "stderr",
          "text": [
            "[I 2025-05-24 20:53:42,094] Trial 49 pruned. \n"
          ]
        },
        {
          "output_type": "stream",
          "name": "stdout",
          "text": [
            "Trial pruned at epoch 3, F1: 0.6096339113680154\n",
            "Using features: baseline, win_len: 120, stride: 20, d_model: 128, n_heads: 4, n_layers: 3, dim_ff: 256, drop: 0.30000000000000004, lr: 0.0012076072131634642\n",
            "Epoch 1/10  —  LR: 0.001208\n",
            "Epoch 2/10  —  LR: 0.001208\n",
            "Epoch 3/10  —  LR: 0.001208\n",
            "Epoch 4/10  —  LR: 0.001208\n",
            "Epoch 5/10  —  LR: 0.000604\n",
            "Epoch 6/10  —  LR: 0.000604\n",
            "Epoch 7/10  —  LR: 0.000302\n",
            "Epoch 8/10  —  LR: 0.000302\n",
            "Epoch 9/10  —  LR: 0.000151\n",
            "Epoch 10/10  —  LR: 0.000151\n"
          ]
        },
        {
          "output_type": "stream",
          "name": "stderr",
          "text": [
            "[I 2025-05-24 20:55:45,678] Trial 50 finished with value: 0.5941401698018978 and parameters: {'features': 'baseline', 'win_len': 120, 'stride': 20, 'd_model': 128, 'n_head': 4, 'n_layers': 3, 'dim_ff': 256, 'drop': 0.30000000000000004, 'lr': 0.0012076072131634642}. Best is trial 44 with value: 0.6355048057175717.\n"
          ]
        },
        {
          "output_type": "stream",
          "name": "stdout",
          "text": [
            "Using features: transformer_xyz, win_len: 60, stride: 20, d_model: 32, n_heads: 2, n_layers: 1, dim_ff: 256, drop: 0.30000000000000004, lr: 0.0023187590401960896\n",
            "Epoch 1/10  —  LR: 0.002319\n",
            "Epoch 2/10  —  LR: 0.002319\n",
            "Epoch 3/10  —  LR: 0.002319\n",
            "Epoch 4/10  —  LR: 0.002319\n",
            "Epoch 5/10  —  LR: 0.002319\n",
            "Epoch 6/10  —  LR: 0.001159\n",
            "Epoch 7/10  —  LR: 0.001159\n",
            "Epoch 8/10  —  LR: 0.000580\n",
            "Epoch 9/10  —  LR: 0.000580\n",
            "Epoch 10/10  —  LR: 0.000290\n"
          ]
        },
        {
          "output_type": "stream",
          "name": "stderr",
          "text": [
            "[I 2025-05-24 20:56:31,062] Trial 51 finished with value: 0.5927982967694159 and parameters: {'features': 'transformer_xyz', 'win_len': 60, 'stride': 20, 'd_model': 32, 'n_head': 2, 'n_layers': 1, 'dim_ff': 256, 'drop': 0.30000000000000004, 'lr': 0.0023187590401960896}. Best is trial 44 with value: 0.6355048057175717.\n"
          ]
        },
        {
          "output_type": "stream",
          "name": "stdout",
          "text": [
            "Using features: all_numeric, win_len: 120, stride: 20, d_model: 64, n_heads: 2, n_layers: 1, dim_ff: 256, drop: 0.2, lr: 0.0013892464749192398\n",
            "Epoch 1/10  —  LR: 0.001389\n",
            "Epoch 2/10  —  LR: 0.001389\n",
            "Epoch 3/10  —  LR: 0.001389\n"
          ]
        },
        {
          "output_type": "stream",
          "name": "stderr",
          "text": [
            "[I 2025-05-24 20:56:46,932] Trial 52 pruned. \n"
          ]
        },
        {
          "output_type": "stream",
          "name": "stdout",
          "text": [
            "Trial pruned at epoch 3, F1: 0.6132731376975169\n",
            "Using features: baseline, win_len: 60, stride: 20, d_model: 64, n_heads: 4, n_layers: 1, dim_ff: 512, drop: 0.30000000000000004, lr: 0.0002830985962288764\n",
            "Epoch 1/10  —  LR: 0.000283\n",
            "Epoch 2/10  —  LR: 0.000283\n",
            "Epoch 3/10  —  LR: 0.000283\n"
          ]
        },
        {
          "output_type": "stream",
          "name": "stderr",
          "text": [
            "[I 2025-05-24 20:57:00,484] Trial 53 pruned. \n"
          ]
        },
        {
          "output_type": "stream",
          "name": "stdout",
          "text": [
            "Trial pruned at epoch 3, F1: 0.5523219814241486\n",
            "Using features: transformer_xyz, win_len: 120, stride: 20, d_model: 128, n_heads: 2, n_layers: 1, dim_ff: 128, drop: 0.4, lr: 0.0005025076579775987\n",
            "Epoch 1/10  —  LR: 0.000503\n",
            "Epoch 2/10  —  LR: 0.000503\n",
            "Epoch 3/10  —  LR: 0.000503\n"
          ]
        },
        {
          "output_type": "stream",
          "name": "stderr",
          "text": [
            "[I 2025-05-24 20:57:16,301] Trial 54 pruned. \n"
          ]
        },
        {
          "output_type": "stream",
          "name": "stdout",
          "text": [
            "Trial pruned at epoch 3, F1: 0.5707986772221666\n",
            "Using features: all_numeric, win_len: 30, stride: 10, d_model: 64, n_heads: 4, n_layers: 1, dim_ff: 256, drop: 0.30000000000000004, lr: 0.0016588402470635961\n",
            "Epoch 1/10  —  LR: 0.001659\n",
            "Epoch 2/10  —  LR: 0.001659\n",
            "Epoch 3/10  —  LR: 0.001659\n",
            "Epoch 4/10  —  LR: 0.001659\n",
            "Epoch 5/10  —  LR: 0.000829\n",
            "Epoch 6/10  —  LR: 0.000829\n",
            "Epoch 7/10  —  LR: 0.000415\n",
            "Epoch 8/10  —  LR: 0.000415\n",
            "Epoch 9/10  —  LR: 0.000207\n",
            "Epoch 10/10  —  LR: 0.000207\n"
          ]
        },
        {
          "output_type": "stream",
          "name": "stderr",
          "text": [
            "[I 2025-05-24 20:58:51,016] Trial 55 finished with value: 0.6139538833920761 and parameters: {'features': 'all_numeric', 'win_len': 30, 'stride': 10, 'd_model': 64, 'n_head': 4, 'n_layers': 1, 'dim_ff': 256, 'drop': 0.30000000000000004, 'lr': 0.0016588402470635961}. Best is trial 44 with value: 0.6355048057175717.\n"
          ]
        },
        {
          "output_type": "stream",
          "name": "stdout",
          "text": [
            "Using features: all_numeric, win_len: 30, stride: 10, d_model: 64, n_heads: 4, n_layers: 1, dim_ff: 256, drop: 0.2, lr: 0.00010257987008131183\n",
            "Epoch 1/10  —  LR: 0.000103\n",
            "Epoch 2/10  —  LR: 0.000103\n",
            "Epoch 3/10  —  LR: 0.000103\n"
          ]
        },
        {
          "output_type": "stream",
          "name": "stderr",
          "text": [
            "[I 2025-05-24 20:59:18,457] Trial 56 pruned. \n"
          ]
        },
        {
          "output_type": "stream",
          "name": "stdout",
          "text": [
            "Trial pruned at epoch 3, F1: 0.59156585198609\n",
            "Using features: baseline, win_len: 30, stride: 10, d_model: 64, n_heads: 4, n_layers: 3, dim_ff: 256, drop: 0.30000000000000004, lr: 0.001564179787599698\n",
            "Epoch 1/10  —  LR: 0.001564\n",
            "Epoch 2/10  —  LR: 0.001564\n",
            "Epoch 3/10  —  LR: 0.001564\n"
          ]
        },
        {
          "output_type": "stream",
          "name": "stderr",
          "text": [
            "[I 2025-05-24 21:00:04,934] Trial 57 pruned. \n"
          ]
        },
        {
          "output_type": "stream",
          "name": "stdout",
          "text": [
            "Trial pruned at epoch 3, F1: 0.5728199791883455\n",
            "Using features: all_numeric, win_len: 30, stride: 10, d_model: 128, n_heads: 4, n_layers: 1, dim_ff: 256, drop: 0.30000000000000004, lr: 0.0009201302078848026\n",
            "Epoch 1/10  —  LR: 0.000920\n",
            "Epoch 2/10  —  LR: 0.000920\n",
            "Epoch 3/10  —  LR: 0.000920\n",
            "Epoch 4/10  —  LR: 0.000920\n",
            "Epoch 5/10  —  LR: 0.000460\n",
            "Epoch 6/10  —  LR: 0.000460\n",
            "Epoch 7/10  —  LR: 0.000230\n",
            "Epoch 8/10  —  LR: 0.000230\n",
            "Epoch 9/10  —  LR: 0.000115\n",
            "Epoch 10/10  —  LR: 0.000115\n"
          ]
        },
        {
          "output_type": "stream",
          "name": "stderr",
          "text": [
            "[I 2025-05-24 21:01:36,141] Trial 58 finished with value: 0.5853427488804684 and parameters: {'features': 'all_numeric', 'win_len': 30, 'stride': 10, 'd_model': 128, 'n_head': 4, 'n_layers': 1, 'dim_ff': 256, 'drop': 0.30000000000000004, 'lr': 0.0009201302078848026}. Best is trial 44 with value: 0.6355048057175717.\n"
          ]
        },
        {
          "output_type": "stream",
          "name": "stdout",
          "text": [
            "Using features: transformer_xyz, win_len: 30, stride: 10, d_model: 64, n_heads: 4, n_layers: 3, dim_ff: 256, drop: 0.1, lr: 0.00013368625451848915\n",
            "Epoch 1/10  —  LR: 0.000134\n",
            "Epoch 2/10  —  LR: 0.000134\n",
            "Epoch 3/10  —  LR: 0.000134\n"
          ]
        },
        {
          "output_type": "stream",
          "name": "stderr",
          "text": [
            "[I 2025-05-24 21:02:21,679] Trial 59 pruned. \n"
          ]
        },
        {
          "output_type": "stream",
          "name": "stdout",
          "text": [
            "Trial pruned at epoch 3, F1: 0.559841740850643\n",
            "Using features: baseline, win_len: 30, stride: 10, d_model: 128, n_heads: 4, n_layers: 2, dim_ff: 256, drop: 0.2, lr: 0.00016930904586419932\n",
            "Epoch 1/10  —  LR: 0.000169\n",
            "Epoch 2/10  —  LR: 0.000169\n",
            "Epoch 3/10  —  LR: 0.000169\n",
            "Epoch 4/10  —  LR: 0.000169\n",
            "Epoch 5/10  —  LR: 0.000085\n",
            "Epoch 6/10  —  LR: 0.000085\n",
            "Epoch 7/10  —  LR: 0.000042\n",
            "Epoch 8/10  —  LR: 0.000042\n",
            "Epoch 9/10  —  LR: 0.000021\n",
            "Epoch 10/10  —  LR: 0.000021\n"
          ]
        },
        {
          "output_type": "stream",
          "name": "stderr",
          "text": [
            "[I 2025-05-24 21:04:19,582] Trial 60 finished with value: 0.5890042609523022 and parameters: {'features': 'baseline', 'win_len': 30, 'stride': 10, 'd_model': 128, 'n_head': 4, 'n_layers': 2, 'dim_ff': 256, 'drop': 0.2, 'lr': 0.00016930904586419932}. Best is trial 44 with value: 0.6355048057175717.\n"
          ]
        },
        {
          "output_type": "stream",
          "name": "stdout",
          "text": [
            "Using features: all_numeric, win_len: 120, stride: 20, d_model: 64, n_heads: 2, n_layers: 1, dim_ff: 512, drop: 0.30000000000000004, lr: 0.0024766473324110906\n",
            "Epoch 1/10  —  LR: 0.002477\n",
            "Epoch 2/10  —  LR: 0.002477\n",
            "Epoch 3/10  —  LR: 0.002477\n",
            "Epoch 4/10  —  LR: 0.001238\n",
            "Epoch 5/10  —  LR: 0.001238\n",
            "Epoch 6/10  —  LR: 0.000619\n",
            "Epoch 7/10  —  LR: 0.000619\n",
            "Epoch 8/10  —  LR: 0.000310\n",
            "Epoch 9/10  —  LR: 0.000310\n",
            "Epoch 10/10  —  LR: 0.000155\n"
          ]
        },
        {
          "output_type": "stream",
          "name": "stderr",
          "text": [
            "[I 2025-05-24 21:05:15,273] Trial 61 finished with value: 0.5928982890551113 and parameters: {'features': 'all_numeric', 'win_len': 120, 'stride': 20, 'd_model': 64, 'n_head': 2, 'n_layers': 1, 'dim_ff': 512, 'drop': 0.30000000000000004, 'lr': 0.0024766473324110906}. Best is trial 44 with value: 0.6355048057175717.\n"
          ]
        },
        {
          "output_type": "stream",
          "name": "stdout",
          "text": [
            "Using features: all_numeric, win_len: 60, stride: 10, d_model: 64, n_heads: 8, n_layers: 1, dim_ff: 256, drop: 0.30000000000000004, lr: 0.0024644702549501615\n",
            "Epoch 1/10  —  LR: 0.002464\n",
            "Epoch 2/10  —  LR: 0.002464\n",
            "Epoch 3/10  —  LR: 0.002464\n"
          ]
        },
        {
          "output_type": "stream",
          "name": "stderr",
          "text": [
            "[I 2025-05-24 21:05:43,723] Trial 62 pruned. \n"
          ]
        },
        {
          "output_type": "stream",
          "name": "stdout",
          "text": [
            "Trial pruned at epoch 3, F1: 0.5962066281594364\n",
            "Using features: all_numeric, win_len: 120, stride: 20, d_model: 64, n_heads: 2, n_layers: 1, dim_ff: 512, drop: 0.4, lr: 0.0010444430778814844\n",
            "Epoch 1/10  —  LR: 0.001044\n",
            "Epoch 2/10  —  LR: 0.001044\n",
            "Epoch 3/10  —  LR: 0.001044\n",
            "Epoch 4/10  —  LR: 0.001044\n",
            "Epoch 5/10  —  LR: 0.001044\n",
            "Epoch 6/10  —  LR: 0.001044\n",
            "Epoch 7/10  —  LR: 0.000522\n",
            "Epoch 8/10  —  LR: 0.000522\n",
            "Epoch 9/10  —  LR: 0.000261\n",
            "Epoch 10/10  —  LR: 0.000261\n"
          ]
        },
        {
          "output_type": "stream",
          "name": "stderr",
          "text": [
            "[I 2025-05-24 21:06:39,257] Trial 63 finished with value: 0.6172839506172839 and parameters: {'features': 'all_numeric', 'win_len': 120, 'stride': 20, 'd_model': 64, 'n_head': 2, 'n_layers': 1, 'dim_ff': 512, 'drop': 0.4, 'lr': 0.0010444430778814844}. Best is trial 44 with value: 0.6355048057175717.\n"
          ]
        },
        {
          "output_type": "stream",
          "name": "stdout",
          "text": [
            "Using features: all_numeric, win_len: 120, stride: 20, d_model: 64, n_heads: 4, n_layers: 1, dim_ff: 512, drop: 0.4, lr: 0.0011186874893961104\n",
            "Epoch 1/10  —  LR: 0.001119\n",
            "Epoch 2/10  —  LR: 0.001119\n",
            "Epoch 3/10  —  LR: 0.001119\n"
          ]
        },
        {
          "output_type": "stream",
          "name": "stderr",
          "text": [
            "[I 2025-05-24 21:06:56,566] Trial 64 pruned. \n"
          ]
        },
        {
          "output_type": "stream",
          "name": "stdout",
          "text": [
            "Trial pruned at epoch 3, F1: 0.6040643359337379\n",
            "Using features: all_numeric, win_len: 120, stride: 20, d_model: 64, n_heads: 2, n_layers: 1, dim_ff: 256, drop: 0.4, lr: 0.0009988016235991934\n",
            "Epoch 1/10  —  LR: 0.000999\n",
            "Epoch 2/10  —  LR: 0.000999\n",
            "Epoch 3/10  —  LR: 0.000999\n",
            "Epoch 4/10  —  LR: 0.000999\n",
            "Epoch 5/10  —  LR: 0.000499\n",
            "Epoch 6/10  —  LR: 0.000499\n",
            "Epoch 7/10  —  LR: 0.000250\n",
            "Epoch 8/10  —  LR: 0.000250\n",
            "Epoch 9/10  —  LR: 0.000125\n",
            "Epoch 10/10  —  LR: 0.000125\n"
          ]
        },
        {
          "output_type": "stream",
          "name": "stderr",
          "text": [
            "[I 2025-05-24 21:07:49,322] Trial 65 finished with value: 0.6146245059288538 and parameters: {'features': 'all_numeric', 'win_len': 120, 'stride': 20, 'd_model': 64, 'n_head': 2, 'n_layers': 1, 'dim_ff': 256, 'drop': 0.4, 'lr': 0.0009988016235991934}. Best is trial 44 with value: 0.6355048057175717.\n"
          ]
        },
        {
          "output_type": "stream",
          "name": "stdout",
          "text": [
            "Using features: all_numeric, win_len: 120, stride: 20, d_model: 64, n_heads: 2, n_layers: 1, dim_ff: 512, drop: 0.4, lr: 0.001010341550068592\n",
            "Epoch 1/10  —  LR: 0.001010\n",
            "Epoch 2/10  —  LR: 0.001010\n",
            "Epoch 3/10  —  LR: 0.001010\n",
            "Epoch 4/10  —  LR: 0.001010\n",
            "Epoch 5/10  —  LR: 0.000505\n",
            "Epoch 6/10  —  LR: 0.000505\n",
            "Epoch 7/10  —  LR: 0.000253\n",
            "Epoch 8/10  —  LR: 0.000253\n",
            "Epoch 9/10  —  LR: 0.000126\n",
            "Epoch 10/10  —  LR: 0.000126\n"
          ]
        },
        {
          "output_type": "stream",
          "name": "stderr",
          "text": [
            "[I 2025-05-24 21:08:45,314] Trial 66 finished with value: 0.6239316239316239 and parameters: {'features': 'all_numeric', 'win_len': 120, 'stride': 20, 'd_model': 64, 'n_head': 2, 'n_layers': 1, 'dim_ff': 512, 'drop': 0.4, 'lr': 0.001010341550068592}. Best is trial 44 with value: 0.6355048057175717.\n"
          ]
        },
        {
          "output_type": "stream",
          "name": "stdout",
          "text": [
            "Using features: transformer_xyz, win_len: 120, stride: 20, d_model: 32, n_heads: 2, n_layers: 3, dim_ff: 512, drop: 0.4, lr: 0.0007753078437474974\n",
            "Epoch 1/10  —  LR: 0.000775\n",
            "Epoch 2/10  —  LR: 0.000775\n",
            "Epoch 3/10  —  LR: 0.000775\n"
          ]
        },
        {
          "output_type": "stream",
          "name": "stderr",
          "text": [
            "[I 2025-05-24 21:09:08,837] Trial 67 pruned. \n"
          ]
        },
        {
          "output_type": "stream",
          "name": "stdout",
          "text": [
            "Trial pruned at epoch 3, F1: 0.6170082860880942\n",
            "Using features: all_numeric, win_len: 120, stride: 20, d_model: 64, n_heads: 2, n_layers: 1, dim_ff: 512, drop: 0.4, lr: 0.000585571425366208\n",
            "Epoch 1/10  —  LR: 0.000586\n",
            "Epoch 2/10  —  LR: 0.000586\n",
            "Epoch 3/10  —  LR: 0.000586\n"
          ]
        },
        {
          "output_type": "stream",
          "name": "stderr",
          "text": [
            "[I 2025-05-24 21:09:25,516] Trial 68 pruned. \n"
          ]
        },
        {
          "output_type": "stream",
          "name": "stdout",
          "text": [
            "Trial pruned at epoch 3, F1: 0.6153144108788902\n",
            "Using features: baseline, win_len: 120, stride: 20, d_model: 64, n_heads: 2, n_layers: 2, dim_ff: 512, drop: 0.4, lr: 0.0012691588429277231\n",
            "Epoch 1/10  —  LR: 0.001269\n",
            "Epoch 2/10  —  LR: 0.001269\n",
            "Epoch 3/10  —  LR: 0.001269\n",
            "Epoch 4/10  —  LR: 0.001269\n",
            "Epoch 5/10  —  LR: 0.000635\n",
            "Epoch 6/10  —  LR: 0.000635\n",
            "Epoch 7/10  —  LR: 0.000317\n",
            "Epoch 8/10  —  LR: 0.000317\n",
            "Epoch 9/10  —  LR: 0.000159\n",
            "Epoch 10/10  —  LR: 0.000159\n"
          ]
        },
        {
          "output_type": "stream",
          "name": "stderr",
          "text": [
            "[I 2025-05-24 21:10:39,851] Trial 69 finished with value: 0.6082474226804123 and parameters: {'features': 'baseline', 'win_len': 120, 'stride': 20, 'd_model': 64, 'n_head': 2, 'n_layers': 2, 'dim_ff': 512, 'drop': 0.4, 'lr': 0.0012691588429277231}. Best is trial 44 with value: 0.6355048057175717.\n"
          ]
        },
        {
          "output_type": "stream",
          "name": "stdout",
          "text": [
            "Using features: all_numeric, win_len: 120, stride: 20, d_model: 128, n_heads: 2, n_layers: 3, dim_ff: 512, drop: 0.4, lr: 0.0006915297800389508\n",
            "Epoch 1/10  —  LR: 0.000692\n",
            "Epoch 2/10  —  LR: 0.000692\n",
            "Epoch 3/10  —  LR: 0.000692\n"
          ]
        },
        {
          "output_type": "stream",
          "name": "stderr",
          "text": [
            "[I 2025-05-24 21:11:22,156] Trial 70 pruned. \n"
          ]
        },
        {
          "output_type": "stream",
          "name": "stdout",
          "text": [
            "Trial pruned at epoch 3, F1: 0.5701614927621119\n",
            "Using features: all_numeric, win_len: 120, stride: 20, d_model: 64, n_heads: 2, n_layers: 1, dim_ff: 512, drop: 0.4, lr: 0.0010160222711577934\n",
            "Epoch 1/10  —  LR: 0.001016\n",
            "Epoch 2/10  —  LR: 0.001016\n",
            "Epoch 3/10  —  LR: 0.001016\n",
            "Epoch 4/10  —  LR: 0.001016\n",
            "Epoch 5/10  —  LR: 0.001016\n",
            "Epoch 6/10  —  LR: 0.000508\n",
            "Epoch 7/10  —  LR: 0.000508\n",
            "Epoch 8/10  —  LR: 0.000254\n",
            "Epoch 9/10  —  LR: 0.000254\n",
            "Epoch 10/10  —  LR: 0.000254\n"
          ]
        },
        {
          "output_type": "stream",
          "name": "stderr",
          "text": [
            "[I 2025-05-24 21:12:17,754] Trial 71 finished with value: 0.6452769007594504 and parameters: {'features': 'all_numeric', 'win_len': 120, 'stride': 20, 'd_model': 64, 'n_head': 2, 'n_layers': 1, 'dim_ff': 512, 'drop': 0.4, 'lr': 0.0010160222711577934}. Best is trial 71 with value: 0.6452769007594504.\n"
          ]
        },
        {
          "output_type": "stream",
          "name": "stdout",
          "text": [
            "Best F1: 0.6452769007594504\n",
            "Best params: {'features': 'all_numeric', 'win_len': 120, 'stride': 20, 'd_model': 64, 'n_head': 2, 'n_layers': 1, 'dim_ff': 512, 'drop': 0.4, 'lr': 0.0010160222711577934}\n"
          ]
        }
      ],
      "source": [
        "TRIALS = 72\n",
        "optuna.logging.set_verbosity(optuna.logging.DEBUG)\n",
        "DB = f\"sqlite:///{DRIVE_PROJECT}/trans_hpo.db\"\n",
        "study = optuna.create_study(\n",
        "    study_name=\"trans_hpo\",\n",
        "    direction=\"maximize\",\n",
        "    storage=DB,\n",
        "    load_if_exists=True,\n",
        "    pruner=optuna.pruners.MedianPruner(n_startup_trials=5, n_warmup_steps=3),\n",
        ")\n",
        "study.optimize(objective, n_trials=TRIALS)\n",
        "print(\"Best F1:\", study.best_value)\n",
        "print(\"Best params:\", study.best_params)"
      ]
    },
    {
      "cell_type": "markdown",
      "metadata": {
        "id": "UBdUYYF63oVV"
      },
      "source": [
        " ## 5. Reload best model & evaluate on **test** split"
      ]
    },
    {
      "cell_type": "code",
      "execution_count": 11,
      "metadata": {
        "id": "jfjkHCKN3oVV"
      },
      "outputs": [],
      "source": [
        "best = study.best_trial\n",
        "cols = (\n",
        "    ALL_NUMERIC\n",
        "    if best.user_attrs[\"features\"] == \"all_numeric\"\n",
        "    else FEATURE_SETS[best.user_attrs[\"features\"]]\n",
        ")\n",
        "WIN, STR = best.user_attrs[\"win_len\"], best.user_attrs[\"stride\"]\n",
        "X_te, y_te = build_windows(test_df, WIN, STR, cols)\n",
        "test_loader = DataLoader(\n",
        "    TensorDataset(\n",
        "        torch.tensor(X_te, dtype=torch.float32),\n",
        "        torch.tensor(y_te, dtype=torch.float32).unsqueeze(1),\n",
        "    ),\n",
        "    batch_size=256,\n",
        "    shuffle=False,\n",
        ")"
      ]
    },
    {
      "cell_type": "code",
      "execution_count": 12,
      "metadata": {
        "id": "71kmUSFS3oVW",
        "colab": {
          "base_uri": "https://localhost:8080/",
          "height": 649
        },
        "outputId": "d36327f5-7229-418e-d74b-663daaac42e7"
      },
      "outputs": [
        {
          "output_type": "display_data",
          "data": {
            "text/plain": [
              "<Figure size 600x300 with 1 Axes>"
            ],
            "image/png": "[encoded data removed]"
          },
          "metadata": {}
        },
        {
          "output_type": "display_data",
          "data": {
            "text/plain": [
              "<Figure size 500x300 with 1 Axes>"
            ],
            "image/png": "[encoded data removed]"
          },
          "metadata": {}
        }
      ],
      "source": [
        "best = study.best_trial\n",
        "epochs = range(1, len(best.user_attrs[\"lr_curve\"]) + 1)\n",
        "\n",
        "plt.figure(figsize=(6, 3))\n",
        "plt.plot(epochs, best.user_attrs[\"train_loss_curve\"], label=\"train loss\")\n",
        "plt.plot(epochs, best.user_attrs[\"val_f1_curve\"], label=\"val F1\")\n",
        "plt.xlabel(\"epoch\")\n",
        "plt.legend()\n",
        "plt.title(\"Transformer - Learning curves - best trial\")\n",
        "plt.show()\n",
        "\n",
        "plt.figure(figsize=(5, 3))\n",
        "plt.plot(epochs, best.user_attrs[\"lr_curve\"])\n",
        "plt.xlabel(\"epoch\")\n",
        "plt.ylabel(\"learning rate\")\n",
        "plt.title(\"Transformer - LR schedule - best trial\")\n",
        "plt.show()"
      ]
    },
    {
      "cell_type": "code",
      "execution_count": 13,
      "metadata": {
        "id": "qewIBD8V3oVX",
        "colab": {
          "base_uri": "https://localhost:8080/",
          "height": 643
        },
        "outputId": "b617423d-d21d-4f85-b6f1-0583b5154163"
      },
      "outputs": [
        {
          "output_type": "stream",
          "name": "stdout",
          "text": [
            "Confusion matrix (rows: true, cols: pred)\n",
            "[[10856  2540]\n",
            " [ 2290  4129]] \n",
            "\n",
            "Accuracy     : 0.756\n",
            "Recall (TPR) : 0.643\n",
            "Specificity  : 0.810\n",
            "Precision    : 0.619\n",
            "F1-score     : 0.631\n"
          ]
        },
        {
          "output_type": "display_data",
          "data": {
            "text/plain": [
              "<Figure size 640x480 with 2 Axes>"
            ],
            "image/png": "[encoded data removed]"
          },
          "metadata": {}
        }
      ],
      "source": [
        "model = TransformerClassifier(\n",
        "    n_feats=X_te.shape[2],\n",
        "    d_model=best.params[\"d_model\"],\n",
        "    n_head=best.params[\"n_head\"],\n",
        "    n_layers=best.params[\"n_layers\"],\n",
        "    dim_ff=best.params[\"dim_ff\"],\n",
        "    dropout=best.params[\"drop\"],\n",
        ").to(DEVICE)\n",
        "model.load_state_dict(torch.load(best.user_attrs[\"ckpt\"], map_location=DEVICE))\n",
        "model.eval()\n",
        "\n",
        "preds, gts = [], []\n",
        "with torch.no_grad():\n",
        "    for xb, yb in test_loader:\n",
        "        logit = model(xb.to(DEVICE))\n",
        "        preds.extend((torch.sigmoid(logit) > 0.5).cpu().numpy().ravel())\n",
        "        gts.extend(yb.numpy().ravel())\n",
        "y_pred, y_true = np.array(preds, int), np.array(gts, int)\n",
        "\n",
        "cm = confusion_matrix(y_true, y_pred)\n",
        "TN, FP, FN, TP = cm.ravel()\n",
        "acc = accuracy_score(y_true, y_pred)\n",
        "recall = TP / (TP + FN + 1e-12)\n",
        "spec = TN / (TN + FP + 1e-12)\n",
        "prec = precision_score(y_true, y_pred)\n",
        "f1 = f1_score(y_true, y_pred)\n",
        "\n",
        "print(\"Confusion matrix (rows: true, cols: pred)\")\n",
        "print(cm, \"\\n\")\n",
        "print(f\"Accuracy     : {acc :.3f}\")\n",
        "print(f\"Recall (TPR) : {recall :.3f}\")\n",
        "print(f\"Specificity  : {spec :.3f}\")\n",
        "print(f\"Precision    : {prec :.3f}\")\n",
        "print(f\"F1-score     : {f1 :.3f}\")\n",
        "\n",
        "fig, ax = plt.subplots()\n",
        "ConfusionMatrixDisplay(\n",
        "    confusion_matrix=cm, display_labels=[\"Normal\", \"Emergency\"]\n",
        ").plot(ax=ax)\n",
        "ax.set_title(\"Transformer (hyper-tuned) - test set\")\n",
        "plt.tight_layout()\n",
        "plt.show()"
      ]
    },
    {
      "cell_type": "code",
      "execution_count": 14,
      "metadata": {
        "id": "YlrrLcZQ3oVX",
        "colab": {
          "base_uri": "https://localhost:8080/",
          "height": 487
        },
        "outputId": "0e5db70b-f039-4e78-8b05-5bcb7e88ffbb"
      },
      "outputs": [
        {
          "output_type": "display_data",
          "data": {
            "text/plain": [
              "<Figure size 640x480 with 1 Axes>"
            ],
            "image/png": "[encoded data removed]"
          },
          "metadata": {}
        }
      ],
      "source": [
        "fig2, ax2 = plt.subplots()\n",
        "metrics = [acc, recall, spec, prec, f1]\n",
        "labels = [\"Accuracy\", \"Recall\", \"Specificity\", \"Precision\", \"F1\"]\n",
        "ax2.bar(labels, metrics)\n",
        "ax2.set_ylim(0, 1)\n",
        "ax2.set_ylabel(\"score\")\n",
        "ax2.set_title(\"Transfomer hypertuned - test-set performance\")\n",
        "for idx, v in enumerate(metrics):  # annotate bars\n",
        "    ax2.text(idx, v + 0.02, f\"{v:.2f}\", ha=\"center\")\n",
        "plt.tight_layout()\n",
        "plt.show()"
      ]
    },
    {
      "cell_type": "code",
      "execution_count": 14,
      "metadata": {
        "id": "-Z9esU_o3oVX"
      },
      "outputs": [],
      "source": []
    }
  ],
  "metadata": {
    "kernelspec": {
      "display_name": "Python 3",
      "name": "python3"
    },
    "language_info": {
      "codemirror_mode": {
        "name": "ipython",
        "version": 3
      },
      "file_extension": ".py",
      "mimetype": "text/x-python",
      "name": "python",
      "nbconvert_exporter": "python",
      "pygments_lexer": "ipython3",
      "version": "3.10.5"
    },
    "colab": {
      "provenance": [],
      "machine_shape": "hm",
      "gpuType": "A100"
    },
    "accelerator": "GPU"
  },
  "nbformat": 4,
  "nbformat_minor": 0
}