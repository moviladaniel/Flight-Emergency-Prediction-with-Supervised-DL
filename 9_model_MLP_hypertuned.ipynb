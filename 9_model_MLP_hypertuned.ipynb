{
  "cells": [
    {
      "cell_type": "markdown",
      "metadata": {
        "id": "plsqm2P5W6ED"
      },
      "source": [
        "# Training an optimized MLP model"
      ]
    },
    {
      "cell_type": "code",
      "execution_count": 5,
      "metadata": {
        "colab": {
          "base_uri": "https://localhost:8080/"
        },
        "id": "Yxlg-qpmW6EE",
        "outputId": "0a74ae70-1e33-4e9d-9f93-b4e56c37dafd"
      },
      "outputs": [
        {
          "output_type": "stream",
          "name": "stdout",
          "text": [
            "Drive already mounted at /content/drive/; to attempt to forcibly remount, call drive.mount(\"/content/drive/\", force_remount=True).\n",
            "/content\n",
            "/bin/bash: line 1: p: command not found\n"
          ]
        }
      ],
      "source": [
        "from google.colab import drive\n",
        "drive.mount('/content/drive/')\n",
        "!pwd\n",
        "!p \"/content/drive/My Drive/\""
      ]
    },
    {
      "cell_type": "code",
      "execution_count": 6,
      "metadata": {
        "colab": {
          "base_uri": "https://localhost:8080/"
        },
        "id": "18KguT71W6EE",
        "outputId": "fae69ee1-3474-4faf-dfc8-7e8a401d0aad"
      },
      "outputs": [
        {
          "output_type": "stream",
          "name": "stdout",
          "text": [
            "Requirement already satisfied: optuna in /usr/local/lib/python3.11/dist-packages (4.3.0)\n",
            "Requirement already satisfied: alembic>=1.5.0 in /usr/local/lib/python3.11/dist-packages (from optuna) (1.16.1)\n",
            "Requirement already satisfied: colorlog in /usr/local/lib/python3.11/dist-packages (from optuna) (6.9.0)\n",
            "Requirement already satisfied: numpy in /usr/local/lib/python3.11/dist-packages (from optuna) (2.0.2)\n",
            "Requirement already satisfied: packaging>=20.0 in /usr/local/lib/python3.11/dist-packages (from optuna) (24.2)\n",
            "Requirement already satisfied: sqlalchemy>=1.4.2 in /usr/local/lib/python3.11/dist-packages (from optuna) (2.0.40)\n",
            "Requirement already satisfied: tqdm in /usr/local/lib/python3.11/dist-packages (from optuna) (4.67.1)\n",
            "Requirement already satisfied: PyYAML in /usr/local/lib/python3.11/dist-packages (from optuna) (6.0.2)\n",
            "Requirement already satisfied: Mako in /usr/lib/python3/dist-packages (from alembic>=1.5.0->optuna) (1.1.3)\n",
            "Requirement already satisfied: typing-extensions>=4.12 in /usr/local/lib/python3.11/dist-packages (from alembic>=1.5.0->optuna) (4.13.2)\n",
            "Requirement already satisfied: greenlet>=1 in /usr/local/lib/python3.11/dist-packages (from sqlalchemy>=1.4.2->optuna) (3.2.2)\n"
          ]
        }
      ],
      "source": [
        "!pip install optuna"
      ]
    },
    {
      "cell_type": "code",
      "execution_count": 7,
      "metadata": {
        "colab": {
          "base_uri": "https://localhost:8080/"
        },
        "id": "IomFoaaFW6EF",
        "outputId": "ac8c2ba0-883b-423c-bb25-65036af53e3e"
      },
      "outputs": [
        {
          "output_type": "stream",
          "name": "stdout",
          "text": [
            "Sun May 25 12:38:23 2025       \n",
            "+-----------------------------------------------------------------------------------------+\n",
            "| NVIDIA-SMI 550.54.15              Driver Version: 550.54.15      CUDA Version: 12.4     |\n",
            "|-----------------------------------------+------------------------+----------------------+\n",
            "| GPU  Name                 Persistence-M | Bus-Id          Disp.A | Volatile Uncorr. ECC |\n",
            "| Fan  Temp   Perf          Pwr:Usage/Cap |           Memory-Usage | GPU-Util  Compute M. |\n",
            "|                                         |                        |               MIG M. |\n",
            "|=========================================+========================+======================|\n",
            "|   0  NVIDIA A100-SXM4-40GB          Off |   00000000:00:04.0 Off |                    0 |\n",
            "| N/A   41C    P0             49W /  400W |       5MiB /  40960MiB |      0%      Default |\n",
            "|                                         |                        |             Disabled |\n",
            "+-----------------------------------------+------------------------+----------------------+\n",
            "                                                                                         \n",
            "+-----------------------------------------------------------------------------------------+\n",
            "| Processes:                                                                              |\n",
            "|  GPU   GI   CI        PID   Type   Process name                              GPU Memory |\n",
            "|        ID   ID                                                               Usage      |\n",
            "|=========================================================================================|\n",
            "|  No running processes found                                                             |\n",
            "+-----------------------------------------------------------------------------------------+\n"
          ]
        }
      ],
      "source": [
        "gpu_info = !nvidia-smi\n",
        "gpu_info = '\\n'.join(gpu_info)\n",
        "if gpu_info.find('failed') >= 0:\n",
        "  print('Not connected to a GPU')\n",
        "else:\n",
        "  print(gpu_info)"
      ]
    },
    {
      "cell_type": "markdown",
      "metadata": {
        "id": "DiJfuMCYW6EF"
      },
      "source": [
        "## 1. Dataset"
      ]
    },
    {
      "cell_type": "code",
      "execution_count": 8,
      "metadata": {
        "colab": {
          "base_uri": "https://localhost:8080/"
        },
        "id": "Az8wJMJRW6EF",
        "outputId": "8736c4d8-96f6-4c4d-b81d-a72150c78f66"
      },
      "outputs": [
        {
          "output_type": "stream",
          "name": "stdout",
          "text": [
            "Running on cuda\n"
          ]
        }
      ],
      "source": [
        "import joblib, numpy as np, torch, optuna, gc\n",
        "from torch.utils.data import TensorDataset, DataLoader\n",
        "from torch import nn\n",
        "from sklearn.metrics import (\n",
        "    f1_score,\n",
        "    accuracy_score,\n",
        "    precision_score,\n",
        "    confusion_matrix,\n",
        "    ConfusionMatrixDisplay,\n",
        ")\n",
        "from pathlib import Path\n",
        "\n",
        "\n",
        "DRIVE_PROJECT = \"/content/drive/My Drive/Project 3/\"\n",
        "DEVICE = \"cuda\" if torch.cuda.is_available() else \"cpu\"\n",
        "print(f\"Running on {DEVICE}\")\n",
        "\n",
        "SUPER = joblib.load(DRIVE_PROJECT + \"optimized_data_processing/super_data_payload.pkl\")\n",
        "train_df = SUPER[\"train_df\"]\n",
        "val_df = SUPER[\"val_df\"]\n",
        "FEATURE_SETS = SUPER[\"feature_sets\"]\n",
        "ALL_NUMERIC_COLS = SUPER[\"numeric_cols\"]\n",
        "\n",
        "CKPT_DIR = Path(DRIVE_PROJECT + \"gru_ckpts\")\n",
        "CKPT_DIR.mkdir(exist_ok=True)"
      ]
    },
    {
      "cell_type": "markdown",
      "metadata": {
        "id": "ExLPeKnIW6EG"
      },
      "source": [
        "## 2. Sliding windows"
      ]
    },
    {
      "cell_type": "code",
      "execution_count": 9,
      "metadata": {
        "id": "x_S7H6lQW6EG"
      },
      "outputs": [],
      "source": [
        "# Helper: build sliding windows\n",
        "def build_windows(df, win_len, stride, feature_cols):\n",
        "    data, labels = [], []\n",
        "    for _, fl in df.groupby(\"flight_id\"):\n",
        "        X = fl[feature_cols].to_numpy(dtype=np.float32)\n",
        "        y = fl[\"is_7700\"].to_numpy(dtype=np.int8)  # chdanged from bool to int\n",
        "        for i in range(0, len(X) - win_len + 1, stride):\n",
        "            data.append(X[i : i + win_len])\n",
        "            labels.append(int(y[i : i + win_len].any()))  # 1 if ANY emergency in window\n",
        "    return np.stack(data), np.array(labels)\n",
        "\n",
        "\n",
        "window_cache = {}\n",
        "\n",
        "\n",
        "def get_windows(df, feat_key, win_len, stride):\n",
        "    # Different DataFrames have different id() values\n",
        "    cache_key = f\"{id(df)}_{feat_key}_{win_len}_{stride}\"\n",
        "    if cache_key not in window_cache:\n",
        "        if feat_key == \"all_numeric\":\n",
        "            X_np, y_np = build_windows(df, win_len, stride, ALL_NUMERIC_COLS)\n",
        "        else:\n",
        "            X_np, y_np = build_windows(df, win_len, stride, FEATURE_SETS[feat_key])\n",
        "        X_t = torch.tensor(X_np, dtype=torch.float32)\n",
        "        y_t = torch.tensor(y_np, dtype=torch.float32).unsqueeze(1)\n",
        "        window_cache[cache_key] = (X_t, y_t)\n",
        "    return window_cache[cache_key]"
      ]
    },
    {
      "cell_type": "markdown",
      "metadata": {
        "id": "l7xUFuRfW6EG"
      },
      "source": [
        " ## 3. Model definition"
      ]
    },
    {
      "cell_type": "code",
      "execution_count": 10,
      "metadata": {
        "id": "f5QNe8tIW6EH"
      },
      "outputs": [],
      "source": [
        "class MLPClassifier(nn.Module):\n",
        "    def __init__(self, in_dim, hidden1, hidden2, dropout):\n",
        "        super().__init__()\n",
        "        self.net = nn.Sequential(\n",
        "            nn.Flatten(),  # (B, T, F) → (B, T*F)\n",
        "            nn.Linear(in_dim, hidden1),\n",
        "            nn.ReLU(),\n",
        "            nn.Dropout(dropout),\n",
        "            nn.Linear(hidden1, hidden2),\n",
        "            nn.ReLU(),\n",
        "            nn.Dropout(dropout),\n",
        "            nn.Linear(hidden2, 1),  # binary logit\n",
        "        )\n",
        "\n",
        "    def forward(self, x):\n",
        "        return self.net(x)"
      ]
    },
    {
      "cell_type": "markdown",
      "metadata": {
        "id": "NqOi1uxIW6EH"
      },
      "source": [
        " ## 4. Optuna objective"
      ]
    },
    {
      "cell_type": "code",
      "execution_count": 11,
      "metadata": {
        "id": "a_hAKN18W6EH"
      },
      "outputs": [],
      "source": [
        "def objective(trial: optuna.trial.Trial):\n",
        "    print(f\"---- Trial #{trial.number}  --  started ----------------------------\")\n",
        "\n",
        "    # -- data hyper‐params\n",
        "    feat_key = trial.suggest_categorical(\"features\", [\"all_numeric\", \"baseline\"])\n",
        "    win_len = trial.suggest_categorical(\"win_len\", [30, 60, 120])\n",
        "    stride = trial.suggest_categorical(\"stride\", [10, 20])\n",
        "\n",
        "    X_tr, y_tr = get_windows(train_df, feat_key, win_len, stride)\n",
        "    X_va, y_va = get_windows(val_df, feat_key, win_len, stride)\n",
        "\n",
        "    BATCH = 256\n",
        "    train_loader = DataLoader(\n",
        "        TensorDataset(X_tr, y_tr),\n",
        "        batch_size=BATCH,\n",
        "        shuffle=True,\n",
        "        drop_last=True,\n",
        "        pin_memory=True if DEVICE == \"cuda\" else False,\n",
        "    )\n",
        "    val_loader = DataLoader(\n",
        "        TensorDataset(X_va, y_va),\n",
        "        batch_size=BATCH,\n",
        "        shuffle=False,\n",
        "        pin_memory=True if DEVICE == \"cuda\" else False,\n",
        "    )\n",
        "\n",
        "    # -- model hyper‐params\n",
        "    hidden1 = trial.suggest_categorical(\"hidden1\", [128, 256, 512])\n",
        "    hidden2 = trial.suggest_categorical(\"hidden2\", [32, 64, 128])\n",
        "    dropout = trial.suggest_float(\"dropout\", 0.0, 0.5, step=0.1)\n",
        "    lr = trial.suggest_float(\"lr\", 1e-4, 5e-3, log=True)\n",
        "\n",
        "    # build model\n",
        "    in_dim = X_tr.shape[1] * X_tr.shape[2]\n",
        "    print(\n",
        "        f\"Using features: {feat_key}, win_len: {win_len}, stride: {stride}\"\n",
        "        f\", hidden1: {hidden1}, hidden2: {hidden2}, dropout: {dropout}, lr: {lr}, in_dim: {in_dim}\"\n",
        "    )\n",
        "    model = MLPClassifier(in_dim, hidden1, hidden2, dropout).to(DEVICE)\n",
        "    optim = torch.optim.Adam(model.parameters(), lr=lr)\n",
        "    sched = torch.optim.lr_scheduler.ReduceLROnPlateau(\n",
        "        optim, mode=\"max\", factor=0.5, patience=1\n",
        "    )\n",
        "\n",
        "    # -- training loops & logging\n",
        "    lr_curve, train_loss_curve, val_f1_curve = [], [], []\n",
        "    EPOCHS = 10\n",
        "    for ep in range(1, EPOCHS + 1):\n",
        "        print(f\"Epoch {ep}/{EPOCHS}  —  LR: {optim.param_groups[0]['lr']:.6f}\")\n",
        "        # train\n",
        "        model.train()\n",
        "        running = 0.0\n",
        "        for xb, yb in train_loader:\n",
        "            xb, yb = xb.to(DEVICE), yb.to(DEVICE)\n",
        "            logits = model(xb)\n",
        "            loss = nn.functional.binary_cross_entropy_with_logits(logits, yb)\n",
        "            optim.zero_grad()\n",
        "            loss.backward()\n",
        "            optim.step()\n",
        "            running += loss.item() * yb.size(0)\n",
        "        tr_loss = running / len(train_loader.dataset)\n",
        "        train_loss_curve.append(tr_loss)\n",
        "\n",
        "        # validate\n",
        "        model.eval()\n",
        "        preds, gts = [], []\n",
        "        with torch.no_grad():\n",
        "            for xb, yb in val_loader:\n",
        "                logits = model(xb.to(DEVICE))\n",
        "                preds.extend((torch.sigmoid(logits) > 0.5).cpu().numpy().ravel())\n",
        "                gts.extend(yb.cpu().numpy().ravel())\n",
        "        val_f1 = f1_score(gts, preds)\n",
        "        val_f1_curve.append(val_f1)\n",
        "\n",
        "        # logging & pruning & LR‐decay\n",
        "        lr_curve.append(optim.param_groups[0][\"lr\"])\n",
        "        trial.report(val_f1, ep)\n",
        "        if trial.should_prune():\n",
        "            print(f\"Trial #{trial.number} pruned at epoch {ep} with F1: {val_f1:.4f}\")\n",
        "            raise optuna.TrialPruned()\n",
        "        sched.step(val_f1)\n",
        "\n",
        "    # -- save checkpoint & attrs\n",
        "    ckpt = CKPT_DIR / f\"trial_{trial.number}.pt\"\n",
        "    torch.save(model.state_dict(), ckpt)\n",
        "    trial.set_user_attr(\"ckpt\", str(ckpt))\n",
        "    trial.set_user_attr(\"features\", feat_key)\n",
        "    trial.set_user_attr(\"win_len\", win_len)\n",
        "    trial.set_user_attr(\"stride\", stride)\n",
        "    trial.set_user_attr(\"lr_curve\", lr_curve)\n",
        "    trial.set_user_attr(\"train_loss_curve\", train_loss_curve)\n",
        "    trial.set_user_attr(\"val_f1_curve\", val_f1_curve)\n",
        "\n",
        "    # cleanup\n",
        "    del model, X_tr, y_tr, X_va, y_va, train_loader, val_loader\n",
        "    torch.cuda.empty_cache()\n",
        "    gc.collect()\n",
        "\n",
        "    return val_f1_curve[-1]"
      ]
    },
    {
      "cell_type": "markdown",
      "metadata": {
        "id": "0m8ekYU3W6EH"
      },
      "source": [
        " ## 5. Launch the study"
      ]
    },
    {
      "cell_type": "markdown",
      "metadata": {
        "id": "HkMmDZTvW6EH"
      },
      "source": [
        "n_startup_trials=5, n_warmup_steps=3"
      ]
    },
    {
      "cell_type": "code",
      "execution_count": 12,
      "metadata": {
        "colab": {
          "base_uri": "https://localhost:8080/"
        },
        "id": "xKxRbHEDW6EI",
        "outputId": "5b8bdc55-ae26-4593-bb8f-143a02c09cdc"
      },
      "outputs": [
        {
          "output_type": "stream",
          "name": "stderr",
          "text": [
            "[I 2025-05-25 12:38:30,451] A new study created in RDB with name: mlp_hpo\n"
          ]
        },
        {
          "output_type": "stream",
          "name": "stdout",
          "text": [
            "---- Trial #0  --  started ----------------------------\n",
            "Using features: baseline, win_len: 60, stride: 10, hidden1: 512, hidden2: 64, dropout: 0.0, lr: 0.001925166558779066, in_dim: 600\n",
            "Epoch 1/10  —  LR: 0.001925\n",
            "Epoch 2/10  —  LR: 0.001925\n",
            "Epoch 3/10  —  LR: 0.001925\n",
            "Epoch 4/10  —  LR: 0.000963\n",
            "Epoch 5/10  —  LR: 0.000963\n",
            "Epoch 6/10  —  LR: 0.000481\n",
            "Epoch 7/10  —  LR: 0.000481\n",
            "Epoch 8/10  —  LR: 0.000241\n",
            "Epoch 9/10  —  LR: 0.000241\n",
            "Epoch 10/10  —  LR: 0.000120\n"
          ]
        },
        {
          "output_type": "stream",
          "name": "stderr",
          "text": [
            "[I 2025-05-25 12:39:36,808] Trial 0 finished with value: 0.6196935844238749 and parameters: {'features': 'baseline', 'win_len': 60, 'stride': 10, 'hidden1': 512, 'hidden2': 64, 'dropout': 0.0, 'lr': 0.001925166558779066}. Best is trial 0 with value: 0.6196935844238749.\n"
          ]
        },
        {
          "output_type": "stream",
          "name": "stdout",
          "text": [
            "---- Trial #1  --  started ----------------------------\n",
            "Using features: baseline, win_len: 60, stride: 20, hidden1: 256, hidden2: 32, dropout: 0.4, lr: 0.0002955708763572358, in_dim: 600\n",
            "Epoch 1/10  —  LR: 0.000296\n",
            "Epoch 2/10  —  LR: 0.000296\n",
            "Epoch 3/10  —  LR: 0.000296\n",
            "Epoch 4/10  —  LR: 0.000296\n",
            "Epoch 5/10  —  LR: 0.000296\n",
            "Epoch 6/10  —  LR: 0.000296\n",
            "Epoch 7/10  —  LR: 0.000148\n",
            "Epoch 8/10  —  LR: 0.000148\n",
            "Epoch 9/10  —  LR: 0.000074\n",
            "Epoch 10/10  —  LR: 0.000074\n"
          ]
        },
        {
          "output_type": "stream",
          "name": "stderr",
          "text": [
            "[I 2025-05-25 12:40:08,735] Trial 1 finished with value: 0.5741568468102397 and parameters: {'features': 'baseline', 'win_len': 60, 'stride': 20, 'hidden1': 256, 'hidden2': 32, 'dropout': 0.4, 'lr': 0.0002955708763572358}. Best is trial 0 with value: 0.6196935844238749.\n"
          ]
        },
        {
          "output_type": "stream",
          "name": "stdout",
          "text": [
            "---- Trial #2  --  started ----------------------------\n",
            "Using features: all_numeric, win_len: 120, stride: 10, hidden1: 512, hidden2: 32, dropout: 0.2, lr: 0.0001247970403527792, in_dim: 2040\n",
            "Epoch 1/10  —  LR: 0.000125\n",
            "Epoch 2/10  —  LR: 0.000125\n",
            "Epoch 3/10  —  LR: 0.000125\n",
            "Epoch 4/10  —  LR: 0.000125\n",
            "Epoch 5/10  —  LR: 0.000062\n",
            "Epoch 6/10  —  LR: 0.000062\n",
            "Epoch 7/10  —  LR: 0.000031\n",
            "Epoch 8/10  —  LR: 0.000031\n",
            "Epoch 9/10  —  LR: 0.000016\n",
            "Epoch 10/10  —  LR: 0.000016\n"
          ]
        },
        {
          "output_type": "stream",
          "name": "stderr",
          "text": [
            "[I 2025-05-25 12:41:20,975] Trial 2 finished with value: 0.6134641873278237 and parameters: {'features': 'all_numeric', 'win_len': 120, 'stride': 10, 'hidden1': 512, 'hidden2': 32, 'dropout': 0.2, 'lr': 0.0001247970403527792}. Best is trial 0 with value: 0.6196935844238749.\n"
          ]
        },
        {
          "output_type": "stream",
          "name": "stdout",
          "text": [
            "---- Trial #3  --  started ----------------------------\n",
            "Using features: all_numeric, win_len: 30, stride: 20, hidden1: 128, hidden2: 128, dropout: 0.0, lr: 0.00026468524231368715, in_dim: 510\n",
            "Epoch 1/10  —  LR: 0.000265\n",
            "Epoch 2/10  —  LR: 0.000265\n",
            "Epoch 3/10  —  LR: 0.000265\n",
            "Epoch 4/10  —  LR: 0.000265\n",
            "Epoch 5/10  —  LR: 0.000265\n",
            "Epoch 6/10  —  LR: 0.000132\n",
            "Epoch 7/10  —  LR: 0.000132\n",
            "Epoch 8/10  —  LR: 0.000066\n",
            "Epoch 9/10  —  LR: 0.000066\n",
            "Epoch 10/10  —  LR: 0.000033\n"
          ]
        },
        {
          "output_type": "stream",
          "name": "stderr",
          "text": [
            "[I 2025-05-25 12:41:51,197] Trial 3 finished with value: 0.5836569306094884 and parameters: {'features': 'all_numeric', 'win_len': 30, 'stride': 20, 'hidden1': 128, 'hidden2': 128, 'dropout': 0.0, 'lr': 0.00026468524231368715}. Best is trial 0 with value: 0.6196935844238749.\n"
          ]
        },
        {
          "output_type": "stream",
          "name": "stdout",
          "text": [
            "---- Trial #4  --  started ----------------------------\n",
            "Using features: all_numeric, win_len: 120, stride: 20, hidden1: 256, hidden2: 32, dropout: 0.5, lr: 0.0035425030495094306, in_dim: 2040\n",
            "Epoch 1/10  —  LR: 0.003543\n",
            "Epoch 2/10  —  LR: 0.003543\n",
            "Epoch 3/10  —  LR: 0.003543\n",
            "Epoch 4/10  —  LR: 0.001771\n",
            "Epoch 5/10  —  LR: 0.001771\n",
            "Epoch 6/10  —  LR: 0.000886\n",
            "Epoch 7/10  —  LR: 0.000886\n",
            "Epoch 8/10  —  LR: 0.000443\n",
            "Epoch 9/10  —  LR: 0.000443\n",
            "Epoch 10/10  —  LR: 0.000221\n"
          ]
        },
        {
          "output_type": "stream",
          "name": "stderr",
          "text": [
            "[I 2025-05-25 12:42:28,590] Trial 4 finished with value: 0.4493927125506073 and parameters: {'features': 'all_numeric', 'win_len': 120, 'stride': 20, 'hidden1': 256, 'hidden2': 32, 'dropout': 0.5, 'lr': 0.0035425030495094306}. Best is trial 0 with value: 0.6196935844238749.\n"
          ]
        },
        {
          "output_type": "stream",
          "name": "stdout",
          "text": [
            "---- Trial #5  --  started ----------------------------\n",
            "Using features: baseline, win_len: 60, stride: 20, hidden1: 512, hidden2: 32, dropout: 0.1, lr: 0.0020764401054895014, in_dim: 600\n",
            "Epoch 1/10  —  LR: 0.002076\n",
            "Epoch 2/10  —  LR: 0.002076\n",
            "Epoch 3/10  —  LR: 0.002076\n"
          ]
        },
        {
          "output_type": "stream",
          "name": "stderr",
          "text": [
            "[I 2025-05-25 12:42:37,397] Trial 5 pruned. \n"
          ]
        },
        {
          "output_type": "stream",
          "name": "stdout",
          "text": [
            "Trial #5 pruned at epoch 3 with F1: 0.5468\n",
            "---- Trial #6  --  started ----------------------------\n",
            "Using features: baseline, win_len: 60, stride: 10, hidden1: 128, hidden2: 32, dropout: 0.1, lr: 0.00015037173707199014, in_dim: 600\n",
            "Epoch 1/10  —  LR: 0.000150\n",
            "Epoch 2/10  —  LR: 0.000150\n",
            "Epoch 3/10  —  LR: 0.000150\n",
            "Epoch 4/10  —  LR: 0.000150\n",
            "Epoch 5/10  —  LR: 0.000150\n",
            "Epoch 6/10  —  LR: 0.000150\n",
            "Epoch 7/10  —  LR: 0.000150\n",
            "Epoch 8/10  —  LR: 0.000150\n",
            "Epoch 9/10  —  LR: 0.000150\n",
            "Epoch 10/10  —  LR: 0.000150\n"
          ]
        },
        {
          "output_type": "stream",
          "name": "stderr",
          "text": [
            "[I 2025-05-25 12:43:35,365] Trial 6 finished with value: 0.608417238909719 and parameters: {'features': 'baseline', 'win_len': 60, 'stride': 10, 'hidden1': 128, 'hidden2': 32, 'dropout': 0.1, 'lr': 0.00015037173707199014}. Best is trial 0 with value: 0.6196935844238749.\n"
          ]
        },
        {
          "output_type": "stream",
          "name": "stdout",
          "text": [
            "---- Trial #7  --  started ----------------------------\n",
            "Using features: all_numeric, win_len: 60, stride: 10, hidden1: 256, hidden2: 32, dropout: 0.4, lr: 0.0022679308877355904, in_dim: 1020\n",
            "Epoch 1/10  —  LR: 0.002268\n",
            "Epoch 2/10  —  LR: 0.002268\n",
            "Epoch 3/10  —  LR: 0.002268\n"
          ]
        },
        {
          "output_type": "stream",
          "name": "stderr",
          "text": [
            "[I 2025-05-25 12:43:57,186] Trial 7 pruned. \n"
          ]
        },
        {
          "output_type": "stream",
          "name": "stdout",
          "text": [
            "Trial #7 pruned at epoch 3 with F1: 0.5330\n",
            "---- Trial #8  --  started ----------------------------\n",
            "Using features: baseline, win_len: 120, stride: 20, hidden1: 512, hidden2: 64, dropout: 0.5, lr: 0.0005522124519222526, in_dim: 1200\n",
            "Epoch 1/10  —  LR: 0.000552\n",
            "Epoch 2/10  —  LR: 0.000552\n",
            "Epoch 3/10  —  LR: 0.000552\n"
          ]
        },
        {
          "output_type": "stream",
          "name": "stderr",
          "text": [
            "[I 2025-05-25 12:44:08,825] Trial 8 pruned. \n"
          ]
        },
        {
          "output_type": "stream",
          "name": "stdout",
          "text": [
            "Trial #8 pruned at epoch 3 with F1: 0.5283\n",
            "---- Trial #9  --  started ----------------------------\n",
            "Using features: all_numeric, win_len: 30, stride: 20, hidden1: 512, hidden2: 128, dropout: 0.2, lr: 0.0017538300163857058, in_dim: 510\n",
            "Epoch 1/10  —  LR: 0.001754\n",
            "Epoch 2/10  —  LR: 0.001754\n",
            "Epoch 3/10  —  LR: 0.001754\n",
            "Epoch 4/10  —  LR: 0.000877\n",
            "Epoch 5/10  —  LR: 0.000877\n",
            "Epoch 6/10  —  LR: 0.000877\n",
            "Epoch 7/10  —  LR: 0.000438\n",
            "Epoch 8/10  —  LR: 0.000438\n",
            "Epoch 9/10  —  LR: 0.000219\n",
            "Epoch 10/10  —  LR: 0.000219\n"
          ]
        },
        {
          "output_type": "stream",
          "name": "stderr",
          "text": [
            "[I 2025-05-25 12:44:37,743] Trial 9 finished with value: 0.616247865333008 and parameters: {'features': 'all_numeric', 'win_len': 30, 'stride': 20, 'hidden1': 512, 'hidden2': 128, 'dropout': 0.2, 'lr': 0.0017538300163857058}. Best is trial 0 with value: 0.6196935844238749.\n"
          ]
        },
        {
          "output_type": "stream",
          "name": "stdout",
          "text": [
            "---- Trial #10  --  started ----------------------------\n",
            "Using features: baseline, win_len: 60, stride: 10, hidden1: 512, hidden2: 64, dropout: 0.0, lr: 0.0010216563505826015, in_dim: 600\n",
            "Epoch 1/10  —  LR: 0.001022\n",
            "Epoch 2/10  —  LR: 0.001022\n",
            "Epoch 3/10  —  LR: 0.001022\n",
            "Epoch 4/10  —  LR: 0.001022\n",
            "Epoch 5/10  —  LR: 0.001022\n",
            "Epoch 6/10  —  LR: 0.001022\n",
            "Epoch 7/10  —  LR: 0.000511\n",
            "Epoch 8/10  —  LR: 0.000511\n",
            "Epoch 9/10  —  LR: 0.000511\n",
            "Epoch 10/10  —  LR: 0.000255\n"
          ]
        },
        {
          "output_type": "stream",
          "name": "stderr",
          "text": [
            "[I 2025-05-25 12:45:34,317] Trial 10 finished with value: 0.5931150808862992 and parameters: {'features': 'baseline', 'win_len': 60, 'stride': 10, 'hidden1': 512, 'hidden2': 64, 'dropout': 0.0, 'lr': 0.0010216563505826015}. Best is trial 0 with value: 0.6196935844238749.\n"
          ]
        },
        {
          "output_type": "stream",
          "name": "stdout",
          "text": [
            "---- Trial #11  --  started ----------------------------\n",
            "Using features: all_numeric, win_len: 30, stride: 10, hidden1: 512, hidden2: 128, dropout: 0.2, lr: 0.001130853796316479, in_dim: 510\n",
            "Epoch 1/10  —  LR: 0.001131\n",
            "Epoch 2/10  —  LR: 0.001131\n",
            "Epoch 3/10  —  LR: 0.001131\n",
            "Epoch 4/10  —  LR: 0.001131\n",
            "Epoch 5/10  —  LR: 0.001131\n",
            "Epoch 6/10  —  LR: 0.001131\n",
            "Epoch 7/10  —  LR: 0.000565\n",
            "Epoch 8/10  —  LR: 0.000565\n",
            "Epoch 9/10  —  LR: 0.000283\n",
            "Epoch 10/10  —  LR: 0.000283\n"
          ]
        },
        {
          "output_type": "stream",
          "name": "stderr",
          "text": [
            "[I 2025-05-25 12:46:34,638] Trial 11 finished with value: 0.6238320543914755 and parameters: {'features': 'all_numeric', 'win_len': 30, 'stride': 10, 'hidden1': 512, 'hidden2': 128, 'dropout': 0.2, 'lr': 0.001130853796316479}. Best is trial 11 with value: 0.6238320543914755.\n"
          ]
        },
        {
          "output_type": "stream",
          "name": "stdout",
          "text": [
            "---- Trial #12  --  started ----------------------------\n",
            "Using features: all_numeric, win_len: 30, stride: 10, hidden1: 512, hidden2: 128, dropout: 0.30000000000000004, lr: 0.00092368056830032, in_dim: 510\n",
            "Epoch 1/10  —  LR: 0.000924\n",
            "Epoch 2/10  —  LR: 0.000924\n",
            "Epoch 3/10  —  LR: 0.000924\n",
            "Epoch 4/10  —  LR: 0.000462\n",
            "Epoch 5/10  —  LR: 0.000462\n",
            "Epoch 6/10  —  LR: 0.000462\n",
            "Epoch 7/10  —  LR: 0.000231\n",
            "Epoch 8/10  —  LR: 0.000231\n",
            "Epoch 9/10  —  LR: 0.000115\n",
            "Epoch 10/10  —  LR: 0.000115\n"
          ]
        },
        {
          "output_type": "stream",
          "name": "stderr",
          "text": [
            "[I 2025-05-25 12:47:31,876] Trial 12 finished with value: 0.6298674904479311 and parameters: {'features': 'all_numeric', 'win_len': 30, 'stride': 10, 'hidden1': 512, 'hidden2': 128, 'dropout': 0.30000000000000004, 'lr': 0.00092368056830032}. Best is trial 12 with value: 0.6298674904479311.\n"
          ]
        },
        {
          "output_type": "stream",
          "name": "stdout",
          "text": [
            "---- Trial #13  --  started ----------------------------\n",
            "Using features: all_numeric, win_len: 30, stride: 10, hidden1: 512, hidden2: 128, dropout: 0.30000000000000004, lr: 0.0007776580370991685, in_dim: 510\n",
            "Epoch 1/10  —  LR: 0.000778\n",
            "Epoch 2/10  —  LR: 0.000778\n",
            "Epoch 3/10  —  LR: 0.000778\n",
            "Epoch 4/10  —  LR: 0.000778\n",
            "Epoch 5/10  —  LR: 0.000778\n",
            "Epoch 6/10  —  LR: 0.000389\n",
            "Epoch 7/10  —  LR: 0.000389\n",
            "Epoch 8/10  —  LR: 0.000194\n",
            "Epoch 9/10  —  LR: 0.000194\n",
            "Epoch 10/10  —  LR: 0.000097\n"
          ]
        },
        {
          "output_type": "stream",
          "name": "stderr",
          "text": [
            "[I 2025-05-25 12:48:29,257] Trial 13 finished with value: 0.6025385764061723 and parameters: {'features': 'all_numeric', 'win_len': 30, 'stride': 10, 'hidden1': 512, 'hidden2': 128, 'dropout': 0.30000000000000004, 'lr': 0.0007776580370991685}. Best is trial 12 with value: 0.6298674904479311.\n"
          ]
        },
        {
          "output_type": "stream",
          "name": "stdout",
          "text": [
            "---- Trial #14  --  started ----------------------------\n",
            "Using features: all_numeric, win_len: 30, stride: 10, hidden1: 512, hidden2: 128, dropout: 0.30000000000000004, lr: 0.000490281990625108, in_dim: 510\n",
            "Epoch 1/10  —  LR: 0.000490\n",
            "Epoch 2/10  —  LR: 0.000490\n",
            "Epoch 3/10  —  LR: 0.000490\n",
            "Epoch 4/10  —  LR: 0.000245\n",
            "Epoch 5/10  —  LR: 0.000245\n",
            "Epoch 6/10  —  LR: 0.000123\n",
            "Epoch 7/10  —  LR: 0.000123\n",
            "Epoch 8/10  —  LR: 0.000061\n",
            "Epoch 9/10  —  LR: 0.000061\n",
            "Epoch 10/10  —  LR: 0.000031\n"
          ]
        },
        {
          "output_type": "stream",
          "name": "stderr",
          "text": [
            "[I 2025-05-25 12:49:26,911] Trial 14 finished with value: 0.6265196952504458 and parameters: {'features': 'all_numeric', 'win_len': 30, 'stride': 10, 'hidden1': 512, 'hidden2': 128, 'dropout': 0.30000000000000004, 'lr': 0.000490281990625108}. Best is trial 12 with value: 0.6298674904479311.\n"
          ]
        },
        {
          "output_type": "stream",
          "name": "stdout",
          "text": [
            "---- Trial #15  --  started ----------------------------\n",
            "Using features: all_numeric, win_len: 30, stride: 10, hidden1: 128, hidden2: 128, dropout: 0.30000000000000004, lr: 0.0004179036004091992, in_dim: 510\n",
            "Epoch 1/10  —  LR: 0.000418\n",
            "Epoch 2/10  —  LR: 0.000418\n",
            "Epoch 3/10  —  LR: 0.000418\n"
          ]
        },
        {
          "output_type": "stream",
          "name": "stderr",
          "text": [
            "[I 2025-05-25 12:49:43,964] Trial 15 pruned. \n"
          ]
        },
        {
          "output_type": "stream",
          "name": "stdout",
          "text": [
            "Trial #15 pruned at epoch 3 with F1: 0.5788\n",
            "---- Trial #16  --  started ----------------------------\n",
            "Using features: all_numeric, win_len: 30, stride: 10, hidden1: 512, hidden2: 128, dropout: 0.4, lr: 0.00047400277612799597, in_dim: 510\n",
            "Epoch 1/10  —  LR: 0.000474\n",
            "Epoch 2/10  —  LR: 0.000474\n",
            "Epoch 3/10  —  LR: 0.000474\n",
            "Epoch 4/10  —  LR: 0.000474\n"
          ]
        },
        {
          "output_type": "stream",
          "name": "stderr",
          "text": [
            "[I 2025-05-25 12:50:06,954] Trial 16 pruned. \n"
          ]
        },
        {
          "output_type": "stream",
          "name": "stdout",
          "text": [
            "Trial #16 pruned at epoch 4 with F1: 0.5683\n",
            "---- Trial #17  --  started ----------------------------\n",
            "Using features: all_numeric, win_len: 30, stride: 10, hidden1: 512, hidden2: 128, dropout: 0.30000000000000004, lr: 0.00022260253761000845, in_dim: 510\n",
            "Epoch 1/10  —  LR: 0.000223\n",
            "Epoch 2/10  —  LR: 0.000223\n",
            "Epoch 3/10  —  LR: 0.000223\n",
            "Epoch 4/10  —  LR: 0.000223\n",
            "Epoch 5/10  —  LR: 0.000111\n",
            "Epoch 6/10  —  LR: 0.000111\n",
            "Epoch 7/10  —  LR: 0.000056\n",
            "Epoch 8/10  —  LR: 0.000056\n",
            "Epoch 9/10  —  LR: 0.000028\n",
            "Epoch 10/10  —  LR: 0.000028\n"
          ]
        },
        {
          "output_type": "stream",
          "name": "stderr",
          "text": [
            "[I 2025-05-25 12:51:04,558] Trial 17 finished with value: 0.6001509813789633 and parameters: {'features': 'all_numeric', 'win_len': 30, 'stride': 10, 'hidden1': 512, 'hidden2': 128, 'dropout': 0.30000000000000004, 'lr': 0.00022260253761000845}. Best is trial 12 with value: 0.6298674904479311.\n"
          ]
        },
        {
          "output_type": "stream",
          "name": "stdout",
          "text": [
            "---- Trial #18  --  started ----------------------------\n",
            "Using features: all_numeric, win_len: 30, stride: 10, hidden1: 256, hidden2: 128, dropout: 0.4, lr: 0.0008876085324943659, in_dim: 510\n",
            "Epoch 1/10  —  LR: 0.000888\n",
            "Epoch 2/10  —  LR: 0.000888\n",
            "Epoch 3/10  —  LR: 0.000888\n"
          ]
        },
        {
          "output_type": "stream",
          "name": "stderr",
          "text": [
            "[I 2025-05-25 12:51:21,629] Trial 18 pruned. \n"
          ]
        },
        {
          "output_type": "stream",
          "name": "stdout",
          "text": [
            "Trial #18 pruned at epoch 3 with F1: 0.5873\n",
            "---- Trial #19  --  started ----------------------------\n",
            "Using features: all_numeric, win_len: 30, stride: 10, hidden1: 128, hidden2: 128, dropout: 0.30000000000000004, lr: 0.00404113975126703, in_dim: 510\n",
            "Epoch 1/10  —  LR: 0.004041\n",
            "Epoch 2/10  —  LR: 0.004041\n",
            "Epoch 3/10  —  LR: 0.004041\n"
          ]
        },
        {
          "output_type": "stream",
          "name": "stderr",
          "text": [
            "[I 2025-05-25 12:51:38,880] Trial 19 pruned. \n"
          ]
        },
        {
          "output_type": "stream",
          "name": "stdout",
          "text": [
            "Trial #19 pruned at epoch 3 with F1: 0.5726\n",
            "---- Trial #20  --  started ----------------------------\n",
            "Using features: all_numeric, win_len: 30, stride: 10, hidden1: 512, hidden2: 128, dropout: 0.1, lr: 0.0006150035778280939, in_dim: 510\n",
            "Epoch 1/10  —  LR: 0.000615\n",
            "Epoch 2/10  —  LR: 0.000615\n",
            "Epoch 3/10  —  LR: 0.000615\n",
            "Epoch 4/10  —  LR: 0.000615\n",
            "Epoch 5/10  —  LR: 0.000615\n",
            "Epoch 6/10  —  LR: 0.000308\n",
            "Epoch 7/10  —  LR: 0.000308\n",
            "Epoch 8/10  —  LR: 0.000154\n",
            "Epoch 9/10  —  LR: 0.000154\n",
            "Epoch 10/10  —  LR: 0.000077\n"
          ]
        },
        {
          "output_type": "stream",
          "name": "stderr",
          "text": [
            "[I 2025-05-25 12:52:36,622] Trial 20 finished with value: 0.6036054618208819 and parameters: {'features': 'all_numeric', 'win_len': 30, 'stride': 10, 'hidden1': 512, 'hidden2': 128, 'dropout': 0.1, 'lr': 0.0006150035778280939}. Best is trial 12 with value: 0.6298674904479311.\n"
          ]
        },
        {
          "output_type": "stream",
          "name": "stdout",
          "text": [
            "---- Trial #21  --  started ----------------------------\n",
            "Using features: all_numeric, win_len: 30, stride: 10, hidden1: 512, hidden2: 128, dropout: 0.2, lr: 0.0012203459981438472, in_dim: 510\n",
            "Epoch 1/10  —  LR: 0.001220\n",
            "Epoch 2/10  —  LR: 0.001220\n",
            "Epoch 3/10  —  LR: 0.001220\n",
            "Epoch 4/10  —  LR: 0.001220\n",
            "Epoch 5/10  —  LR: 0.000610\n",
            "Epoch 6/10  —  LR: 0.000610\n",
            "Epoch 7/10  —  LR: 0.000305\n",
            "Epoch 8/10  —  LR: 0.000305\n",
            "Epoch 9/10  —  LR: 0.000153\n",
            "Epoch 10/10  —  LR: 0.000153\n"
          ]
        },
        {
          "output_type": "stream",
          "name": "stderr",
          "text": [
            "[I 2025-05-25 12:53:33,853] Trial 21 finished with value: 0.599807984638771 and parameters: {'features': 'all_numeric', 'win_len': 30, 'stride': 10, 'hidden1': 512, 'hidden2': 128, 'dropout': 0.2, 'lr': 0.0012203459981438472}. Best is trial 12 with value: 0.6298674904479311.\n"
          ]
        },
        {
          "output_type": "stream",
          "name": "stdout",
          "text": [
            "---- Trial #22  --  started ----------------------------\n",
            "Using features: all_numeric, win_len: 30, stride: 10, hidden1: 512, hidden2: 128, dropout: 0.2, lr: 0.0012610819950291173, in_dim: 510\n",
            "Epoch 1/10  —  LR: 0.001261\n",
            "Epoch 2/10  —  LR: 0.001261\n",
            "Epoch 3/10  —  LR: 0.001261\n",
            "Epoch 4/10  —  LR: 0.001261\n",
            "Epoch 5/10  —  LR: 0.001261\n",
            "Epoch 6/10  —  LR: 0.001261\n",
            "Epoch 7/10  —  LR: 0.001261\n",
            "Epoch 8/10  —  LR: 0.000631\n",
            "Epoch 9/10  —  LR: 0.000631\n",
            "Epoch 10/10  —  LR: 0.000315\n"
          ]
        },
        {
          "output_type": "stream",
          "name": "stderr",
          "text": [
            "[I 2025-05-25 12:54:31,236] Trial 22 finished with value: 0.6051383562208751 and parameters: {'features': 'all_numeric', 'win_len': 30, 'stride': 10, 'hidden1': 512, 'hidden2': 128, 'dropout': 0.2, 'lr': 0.0012610819950291173}. Best is trial 12 with value: 0.6298674904479311.\n"
          ]
        },
        {
          "output_type": "stream",
          "name": "stdout",
          "text": [
            "---- Trial #23  --  started ----------------------------\n",
            "Using features: all_numeric, win_len: 30, stride: 10, hidden1: 512, hidden2: 128, dropout: 0.30000000000000004, lr: 0.0003859685441218909, in_dim: 510\n",
            "Epoch 1/10  —  LR: 0.000386\n",
            "Epoch 2/10  —  LR: 0.000386\n",
            "Epoch 3/10  —  LR: 0.000386\n",
            "Epoch 4/10  —  LR: 0.000193\n",
            "Epoch 5/10  —  LR: 0.000193\n",
            "Epoch 6/10  —  LR: 0.000096\n",
            "Epoch 7/10  —  LR: 0.000096\n",
            "Epoch 8/10  —  LR: 0.000048\n",
            "Epoch 9/10  —  LR: 0.000048\n",
            "Epoch 10/10  —  LR: 0.000024\n"
          ]
        },
        {
          "output_type": "stream",
          "name": "stderr",
          "text": [
            "[I 2025-05-25 12:55:28,632] Trial 23 finished with value: 0.5999829307843305 and parameters: {'features': 'all_numeric', 'win_len': 30, 'stride': 10, 'hidden1': 512, 'hidden2': 128, 'dropout': 0.30000000000000004, 'lr': 0.0003859685441218909}. Best is trial 12 with value: 0.6298674904479311.\n"
          ]
        },
        {
          "output_type": "stream",
          "name": "stdout",
          "text": [
            "---- Trial #24  --  started ----------------------------\n",
            "Using features: all_numeric, win_len: 30, stride: 10, hidden1: 512, hidden2: 128, dropout: 0.2, lr: 0.0007252059742777075, in_dim: 510\n",
            "Epoch 1/10  —  LR: 0.000725\n",
            "Epoch 2/10  —  LR: 0.000725\n",
            "Epoch 3/10  —  LR: 0.000725\n",
            "Epoch 4/10  —  LR: 0.000725\n",
            "Epoch 5/10  —  LR: 0.000725\n",
            "Epoch 6/10  —  LR: 0.000363\n",
            "Epoch 7/10  —  LR: 0.000363\n",
            "Epoch 8/10  —  LR: 0.000363\n",
            "Epoch 9/10  —  LR: 0.000363\n"
          ]
        },
        {
          "output_type": "stream",
          "name": "stderr",
          "text": [
            "[I 2025-05-25 12:56:19,996] Trial 24 pruned. \n"
          ]
        },
        {
          "output_type": "stream",
          "name": "stdout",
          "text": [
            "Trial #24 pruned at epoch 9 with F1: 0.6023\n",
            "---- Trial #25  --  started ----------------------------\n",
            "Using features: all_numeric, win_len: 120, stride: 10, hidden1: 512, hidden2: 64, dropout: 0.1, lr: 0.0013698910328471638, in_dim: 2040\n",
            "Epoch 1/10  —  LR: 0.001370\n",
            "Epoch 2/10  —  LR: 0.001370\n",
            "Epoch 3/10  —  LR: 0.001370\n",
            "Epoch 4/10  —  LR: 0.001370\n",
            "Epoch 5/10  —  LR: 0.001370\n",
            "Epoch 6/10  —  LR: 0.001370\n",
            "Epoch 7/10  —  LR: 0.001370\n",
            "Epoch 8/10  —  LR: 0.000685\n",
            "Epoch 9/10  —  LR: 0.000685\n",
            "Epoch 10/10  —  LR: 0.000342\n"
          ]
        },
        {
          "output_type": "stream",
          "name": "stderr",
          "text": [
            "[I 2025-05-25 12:57:30,104] Trial 25 finished with value: 0.6617207131745841 and parameters: {'features': 'all_numeric', 'win_len': 120, 'stride': 10, 'hidden1': 512, 'hidden2': 64, 'dropout': 0.1, 'lr': 0.0013698910328471638}. Best is trial 25 with value: 0.6617207131745841.\n"
          ]
        },
        {
          "output_type": "stream",
          "name": "stdout",
          "text": [
            "---- Trial #26  --  started ----------------------------\n",
            "Using features: all_numeric, win_len: 120, stride: 10, hidden1: 512, hidden2: 64, dropout: 0.1, lr: 0.0014842509250744091, in_dim: 2040\n",
            "Epoch 1/10  —  LR: 0.001484\n",
            "Epoch 2/10  —  LR: 0.001484\n",
            "Epoch 3/10  —  LR: 0.001484\n",
            "Epoch 4/10  —  LR: 0.001484\n",
            "Epoch 5/10  —  LR: 0.001484\n",
            "Epoch 6/10  —  LR: 0.001484\n",
            "Epoch 7/10  —  LR: 0.000742\n",
            "Epoch 8/10  —  LR: 0.000742\n",
            "Epoch 9/10  —  LR: 0.000371\n",
            "Epoch 10/10  —  LR: 0.000371\n"
          ]
        },
        {
          "output_type": "stream",
          "name": "stderr",
          "text": [
            "[I 2025-05-25 12:58:39,603] Trial 26 finished with value: 0.6073701706733693 and parameters: {'features': 'all_numeric', 'win_len': 120, 'stride': 10, 'hidden1': 512, 'hidden2': 64, 'dropout': 0.1, 'lr': 0.0014842509250744091}. Best is trial 25 with value: 0.6617207131745841.\n"
          ]
        },
        {
          "output_type": "stream",
          "name": "stdout",
          "text": [
            "---- Trial #27  --  started ----------------------------\n",
            "Using features: all_numeric, win_len: 120, stride: 10, hidden1: 512, hidden2: 64, dropout: 0.4, lr: 0.0028023965875341346, in_dim: 2040\n",
            "Epoch 1/10  —  LR: 0.002802\n",
            "Epoch 2/10  —  LR: 0.002802\n",
            "Epoch 3/10  —  LR: 0.002802\n",
            "Epoch 4/10  —  LR: 0.002802\n",
            "Epoch 5/10  —  LR: 0.002802\n",
            "Epoch 6/10  —  LR: 0.002802\n",
            "Epoch 7/10  —  LR: 0.002802\n",
            "Epoch 8/10  —  LR: 0.001401\n",
            "Epoch 9/10  —  LR: 0.001401\n",
            "Epoch 10/10  —  LR: 0.000701\n"
          ]
        },
        {
          "output_type": "stream",
          "name": "stderr",
          "text": [
            "[I 2025-05-25 12:59:48,871] Trial 27 finished with value: 0.6411827489425623 and parameters: {'features': 'all_numeric', 'win_len': 120, 'stride': 10, 'hidden1': 512, 'hidden2': 64, 'dropout': 0.4, 'lr': 0.0028023965875341346}. Best is trial 25 with value: 0.6617207131745841.\n"
          ]
        },
        {
          "output_type": "stream",
          "name": "stdout",
          "text": [
            "---- Trial #28  --  started ----------------------------\n",
            "Using features: all_numeric, win_len: 120, stride: 10, hidden1: 256, hidden2: 64, dropout: 0.5, lr: 0.002384484131828196, in_dim: 2040\n",
            "Epoch 1/10  —  LR: 0.002384\n",
            "Epoch 2/10  —  LR: 0.002384\n",
            "Epoch 3/10  —  LR: 0.002384\n"
          ]
        },
        {
          "output_type": "stream",
          "name": "stderr",
          "text": [
            "[I 2025-05-25 13:00:09,475] Trial 28 pruned. \n"
          ]
        },
        {
          "output_type": "stream",
          "name": "stdout",
          "text": [
            "Trial #28 pruned at epoch 3 with F1: 0.4608\n",
            "---- Trial #29  --  started ----------------------------\n",
            "Using features: baseline, win_len: 120, stride: 10, hidden1: 128, hidden2: 64, dropout: 0.4, lr: 0.003092077681698592, in_dim: 1200\n",
            "Epoch 1/10  —  LR: 0.003092\n",
            "Epoch 2/10  —  LR: 0.003092\n",
            "Epoch 3/10  —  LR: 0.003092\n"
          ]
        },
        {
          "output_type": "stream",
          "name": "stderr",
          "text": [
            "[I 2025-05-25 13:00:31,365] Trial 29 pruned. \n"
          ]
        },
        {
          "output_type": "stream",
          "name": "stdout",
          "text": [
            "Trial #29 pruned at epoch 3 with F1: 0.5082\n",
            "---- Trial #30  --  started ----------------------------\n",
            "Using features: all_numeric, win_len: 120, stride: 10, hidden1: 512, hidden2: 64, dropout: 0.0, lr: 0.002721759386562148, in_dim: 2040\n",
            "Epoch 1/10  —  LR: 0.002722\n",
            "Epoch 2/10  —  LR: 0.002722\n",
            "Epoch 3/10  —  LR: 0.002722\n",
            "Epoch 4/10  —  LR: 0.002722\n",
            "Epoch 5/10  —  LR: 0.002722\n",
            "Epoch 6/10  —  LR: 0.001361\n",
            "Epoch 7/10  —  LR: 0.001361\n",
            "Epoch 8/10  —  LR: 0.000680\n",
            "Epoch 9/10  —  LR: 0.000680\n",
            "Epoch 10/10  —  LR: 0.000340\n"
          ]
        },
        {
          "output_type": "stream",
          "name": "stderr",
          "text": [
            "[I 2025-05-25 13:01:39,237] Trial 30 finished with value: 0.629041990558336 and parameters: {'features': 'all_numeric', 'win_len': 120, 'stride': 10, 'hidden1': 512, 'hidden2': 64, 'dropout': 0.0, 'lr': 0.002721759386562148}. Best is trial 25 with value: 0.6617207131745841.\n"
          ]
        },
        {
          "output_type": "stream",
          "name": "stdout",
          "text": [
            "---- Trial #31  --  started ----------------------------\n",
            "Using features: all_numeric, win_len: 120, stride: 10, hidden1: 512, hidden2: 64, dropout: 0.0, lr: 0.0032824674324633692, in_dim: 2040\n",
            "Epoch 1/10  —  LR: 0.003282\n",
            "Epoch 2/10  —  LR: 0.003282\n",
            "Epoch 3/10  —  LR: 0.003282\n",
            "Epoch 4/10  —  LR: 0.001641\n",
            "Epoch 5/10  —  LR: 0.001641\n",
            "Epoch 6/10  —  LR: 0.000821\n",
            "Epoch 7/10  —  LR: 0.000821\n",
            "Epoch 8/10  —  LR: 0.000410\n",
            "Epoch 9/10  —  LR: 0.000410\n",
            "Epoch 10/10  —  LR: 0.000205\n"
          ]
        },
        {
          "output_type": "stream",
          "name": "stderr",
          "text": [
            "[I 2025-05-25 13:02:47,060] Trial 31 finished with value: 0.5954682424764216 and parameters: {'features': 'all_numeric', 'win_len': 120, 'stride': 10, 'hidden1': 512, 'hidden2': 64, 'dropout': 0.0, 'lr': 0.0032824674324633692}. Best is trial 25 with value: 0.6617207131745841.\n"
          ]
        },
        {
          "output_type": "stream",
          "name": "stdout",
          "text": [
            "---- Trial #32  --  started ----------------------------\n",
            "Using features: all_numeric, win_len: 120, stride: 10, hidden1: 512, hidden2: 64, dropout: 0.0, lr: 0.0017047679509055752, in_dim: 2040\n",
            "Epoch 1/10  —  LR: 0.001705\n",
            "Epoch 2/10  —  LR: 0.001705\n",
            "Epoch 3/10  —  LR: 0.001705\n",
            "Epoch 4/10  —  LR: 0.001705\n",
            "Epoch 5/10  —  LR: 0.001705\n",
            "Epoch 6/10  —  LR: 0.001705\n",
            "Epoch 7/10  —  LR: 0.001705\n",
            "Epoch 8/10  —  LR: 0.001705\n",
            "Epoch 9/10  —  LR: 0.000852\n",
            "Epoch 10/10  —  LR: 0.000852\n"
          ]
        },
        {
          "output_type": "stream",
          "name": "stderr",
          "text": [
            "[I 2025-05-25 13:03:54,820] Trial 32 finished with value: 0.6298686508237795 and parameters: {'features': 'all_numeric', 'win_len': 120, 'stride': 10, 'hidden1': 512, 'hidden2': 64, 'dropout': 0.0, 'lr': 0.0017047679509055752}. Best is trial 25 with value: 0.6617207131745841.\n"
          ]
        },
        {
          "output_type": "stream",
          "name": "stdout",
          "text": [
            "---- Trial #33  --  started ----------------------------\n",
            "Using features: all_numeric, win_len: 120, stride: 10, hidden1: 512, hidden2: 64, dropout: 0.1, lr: 0.004587648324912342, in_dim: 2040\n",
            "Epoch 1/10  —  LR: 0.004588\n",
            "Epoch 2/10  —  LR: 0.004588\n",
            "Epoch 3/10  —  LR: 0.004588\n",
            "Epoch 4/10  —  LR: 0.002294\n",
            "Epoch 5/10  —  LR: 0.002294\n",
            "Epoch 6/10  —  LR: 0.001147\n",
            "Epoch 7/10  —  LR: 0.001147\n",
            "Epoch 8/10  —  LR: 0.000573\n",
            "Epoch 9/10  —  LR: 0.000573\n",
            "Epoch 10/10  —  LR: 0.000287\n"
          ]
        },
        {
          "output_type": "stream",
          "name": "stderr",
          "text": [
            "[I 2025-05-25 13:05:04,262] Trial 33 finished with value: 0.6303113586229342 and parameters: {'features': 'all_numeric', 'win_len': 120, 'stride': 10, 'hidden1': 512, 'hidden2': 64, 'dropout': 0.1, 'lr': 0.004587648324912342}. Best is trial 25 with value: 0.6617207131745841.\n"
          ]
        },
        {
          "output_type": "stream",
          "name": "stdout",
          "text": [
            "---- Trial #34  --  started ----------------------------\n",
            "Using features: all_numeric, win_len: 120, stride: 20, hidden1: 512, hidden2: 64, dropout: 0.1, lr: 0.004366817247700153, in_dim: 2040\n",
            "Epoch 1/10  —  LR: 0.004367\n",
            "Epoch 2/10  —  LR: 0.004367\n",
            "Epoch 3/10  —  LR: 0.004367\n"
          ]
        },
        {
          "output_type": "stream",
          "name": "stderr",
          "text": [
            "[I 2025-05-25 13:05:14,707] Trial 34 pruned. \n"
          ]
        },
        {
          "output_type": "stream",
          "name": "stdout",
          "text": [
            "Trial #34 pruned at epoch 3 with F1: 0.5336\n",
            "---- Trial #35  --  started ----------------------------\n",
            "Using features: all_numeric, win_len: 120, stride: 10, hidden1: 512, hidden2: 64, dropout: 0.0, lr: 0.004994712029623225, in_dim: 2040\n",
            "Epoch 1/10  —  LR: 0.004995\n",
            "Epoch 2/10  —  LR: 0.004995\n",
            "Epoch 3/10  —  LR: 0.004995\n",
            "Epoch 4/10  —  LR: 0.004995\n",
            "Epoch 5/10  —  LR: 0.004995\n",
            "Epoch 6/10  —  LR: 0.004995\n",
            "Epoch 7/10  —  LR: 0.002497\n",
            "Epoch 8/10  —  LR: 0.002497\n",
            "Epoch 9/10  —  LR: 0.001249\n",
            "Epoch 10/10  —  LR: 0.001249\n"
          ]
        },
        {
          "output_type": "stream",
          "name": "stderr",
          "text": [
            "[I 2025-05-25 13:06:22,571] Trial 35 finished with value: 0.628185010834641 and parameters: {'features': 'all_numeric', 'win_len': 120, 'stride': 10, 'hidden1': 512, 'hidden2': 64, 'dropout': 0.0, 'lr': 0.004994712029623225}. Best is trial 25 with value: 0.6617207131745841.\n"
          ]
        },
        {
          "output_type": "stream",
          "name": "stdout",
          "text": [
            "---- Trial #36  --  started ----------------------------\n",
            "Using features: baseline, win_len: 120, stride: 20, hidden1: 256, hidden2: 64, dropout: 0.1, lr: 0.0017498342699353224, in_dim: 1200\n",
            "Epoch 1/10  —  LR: 0.001750\n",
            "Epoch 2/10  —  LR: 0.001750\n",
            "Epoch 3/10  —  LR: 0.001750\n",
            "Epoch 4/10  —  LR: 0.001750\n",
            "Epoch 5/10  —  LR: 0.001750\n",
            "Epoch 6/10  —  LR: 0.001750\n",
            "Epoch 7/10  —  LR: 0.001750\n",
            "Epoch 8/10  —  LR: 0.000875\n",
            "Epoch 9/10  —  LR: 0.000875\n",
            "Epoch 10/10  —  LR: 0.000875\n"
          ]
        },
        {
          "output_type": "stream",
          "name": "stderr",
          "text": [
            "[I 2025-05-25 13:06:53,991] Trial 36 finished with value: 0.6549022590705104 and parameters: {'features': 'baseline', 'win_len': 120, 'stride': 20, 'hidden1': 256, 'hidden2': 64, 'dropout': 0.1, 'lr': 0.0017498342699353224}. Best is trial 25 with value: 0.6617207131745841.\n"
          ]
        },
        {
          "output_type": "stream",
          "name": "stdout",
          "text": [
            "---- Trial #37  --  started ----------------------------\n",
            "Using features: baseline, win_len: 120, stride: 20, hidden1: 256, hidden2: 64, dropout: 0.1, lr: 0.002802038076770962, in_dim: 1200\n",
            "Epoch 1/10  —  LR: 0.002802\n",
            "Epoch 2/10  —  LR: 0.002802\n",
            "Epoch 3/10  —  LR: 0.002802\n",
            "Epoch 4/10  —  LR: 0.001401\n",
            "Epoch 5/10  —  LR: 0.001401\n",
            "Epoch 6/10  —  LR: 0.000701\n",
            "Epoch 7/10  —  LR: 0.000701\n",
            "Epoch 8/10  —  LR: 0.000350\n",
            "Epoch 9/10  —  LR: 0.000350\n",
            "Epoch 10/10  —  LR: 0.000175\n"
          ]
        },
        {
          "output_type": "stream",
          "name": "stderr",
          "text": [
            "[I 2025-05-25 13:07:25,925] Trial 37 finished with value: 0.5471223021582734 and parameters: {'features': 'baseline', 'win_len': 120, 'stride': 20, 'hidden1': 256, 'hidden2': 64, 'dropout': 0.1, 'lr': 0.002802038076770962}. Best is trial 25 with value: 0.6617207131745841.\n"
          ]
        },
        {
          "output_type": "stream",
          "name": "stdout",
          "text": [
            "---- Trial #38  --  started ----------------------------\n",
            "Using features: baseline, win_len: 120, stride: 20, hidden1: 256, hidden2: 64, dropout: 0.1, lr: 0.002003768295833615, in_dim: 1200\n",
            "Epoch 1/10  —  LR: 0.002004\n",
            "Epoch 2/10  —  LR: 0.002004\n",
            "Epoch 3/10  —  LR: 0.002004\n"
          ]
        },
        {
          "output_type": "stream",
          "name": "stderr",
          "text": [
            "[I 2025-05-25 13:07:35,472] Trial 38 pruned. \n"
          ]
        },
        {
          "output_type": "stream",
          "name": "stdout",
          "text": [
            "Trial #38 pruned at epoch 3 with F1: 0.6016\n",
            "---- Trial #39  --  started ----------------------------\n",
            "Using features: baseline, win_len: 120, stride: 20, hidden1: 256, hidden2: 64, dropout: 0.1, lr: 0.0014325737125670673, in_dim: 1200\n",
            "Epoch 1/10  —  LR: 0.001433\n",
            "Epoch 2/10  —  LR: 0.001433\n",
            "Epoch 3/10  —  LR: 0.001433\n",
            "Epoch 4/10  —  LR: 0.000716\n",
            "Epoch 5/10  —  LR: 0.000716\n",
            "Epoch 6/10  —  LR: 0.000358\n",
            "Epoch 7/10  —  LR: 0.000358\n",
            "Epoch 8/10  —  LR: 0.000358\n",
            "Epoch 9/10  —  LR: 0.000358\n",
            "Epoch 10/10  —  LR: 0.000358\n"
          ]
        },
        {
          "output_type": "stream",
          "name": "stderr",
          "text": [
            "[I 2025-05-25 13:08:07,097] Trial 39 finished with value: 0.6159242943383912 and parameters: {'features': 'baseline', 'win_len': 120, 'stride': 20, 'hidden1': 256, 'hidden2': 64, 'dropout': 0.1, 'lr': 0.0014325737125670673}. Best is trial 25 with value: 0.6617207131745841.\n"
          ]
        },
        {
          "output_type": "stream",
          "name": "stdout",
          "text": [
            "---- Trial #40  --  started ----------------------------\n",
            "Using features: baseline, win_len: 120, stride: 20, hidden1: 256, hidden2: 64, dropout: 0.2, lr: 0.003478563002757065, in_dim: 1200\n",
            "Epoch 1/10  —  LR: 0.003479\n",
            "Epoch 2/10  —  LR: 0.003479\n",
            "Epoch 3/10  —  LR: 0.003479\n"
          ]
        },
        {
          "output_type": "stream",
          "name": "stderr",
          "text": [
            "[I 2025-05-25 13:08:16,789] Trial 40 pruned. \n"
          ]
        },
        {
          "output_type": "stream",
          "name": "stdout",
          "text": [
            "Trial #40 pruned at epoch 3 with F1: 0.5339\n",
            "---- Trial #41  --  started ----------------------------\n",
            "Using features: baseline, win_len: 120, stride: 20, hidden1: 256, hidden2: 64, dropout: 0.0, lr: 0.0016303896595601748, in_dim: 1200\n",
            "Epoch 1/10  —  LR: 0.001630\n",
            "Epoch 2/10  —  LR: 0.001630\n",
            "Epoch 3/10  —  LR: 0.001630\n",
            "Epoch 4/10  —  LR: 0.001630\n",
            "Epoch 5/10  —  LR: 0.001630\n",
            "Epoch 6/10  —  LR: 0.000815\n",
            "Epoch 7/10  —  LR: 0.000815\n",
            "Epoch 8/10  —  LR: 0.000408\n",
            "Epoch 9/10  —  LR: 0.000408\n",
            "Epoch 10/10  —  LR: 0.000204\n"
          ]
        },
        {
          "output_type": "stream",
          "name": "stderr",
          "text": [
            "[I 2025-05-25 13:08:47,974] Trial 41 finished with value: 0.587173702868192 and parameters: {'features': 'baseline', 'win_len': 120, 'stride': 20, 'hidden1': 256, 'hidden2': 64, 'dropout': 0.0, 'lr': 0.0016303896595601748}. Best is trial 25 with value: 0.6617207131745841.\n"
          ]
        },
        {
          "output_type": "stream",
          "name": "stdout",
          "text": [
            "---- Trial #42  --  started ----------------------------\n",
            "Using features: baseline, win_len: 120, stride: 20, hidden1: 128, hidden2: 64, dropout: 0.0, lr: 0.0023917099887091004, in_dim: 1200\n",
            "Epoch 1/10  —  LR: 0.002392\n",
            "Epoch 2/10  —  LR: 0.002392\n",
            "Epoch 3/10  —  LR: 0.002392\n",
            "Epoch 4/10  —  LR: 0.002392\n",
            "Epoch 5/10  —  LR: 0.001196\n",
            "Epoch 6/10  —  LR: 0.001196\n",
            "Epoch 7/10  —  LR: 0.000598\n",
            "Epoch 8/10  —  LR: 0.000598\n",
            "Epoch 9/10  —  LR: 0.000598\n",
            "Epoch 10/10  —  LR: 0.000598\n"
          ]
        },
        {
          "output_type": "stream",
          "name": "stderr",
          "text": [
            "[I 2025-05-25 13:09:19,065] Trial 42 finished with value: 0.6115025397345568 and parameters: {'features': 'baseline', 'win_len': 120, 'stride': 20, 'hidden1': 128, 'hidden2': 64, 'dropout': 0.0, 'lr': 0.0023917099887091004}. Best is trial 25 with value: 0.6617207131745841.\n"
          ]
        },
        {
          "output_type": "stream",
          "name": "stdout",
          "text": [
            "---- Trial #43  --  started ----------------------------\n",
            "Using features: all_numeric, win_len: 120, stride: 10, hidden1: 512, hidden2: 64, dropout: 0.1, lr: 0.0019024105191476634, in_dim: 2040\n",
            "Epoch 1/10  —  LR: 0.001902\n",
            "Epoch 2/10  —  LR: 0.001902\n",
            "Epoch 3/10  —  LR: 0.001902\n",
            "Epoch 4/10  —  LR: 0.000951\n",
            "Epoch 5/10  —  LR: 0.000951\n",
            "Epoch 6/10  —  LR: 0.000476\n",
            "Epoch 7/10  —  LR: 0.000476\n",
            "Epoch 8/10  —  LR: 0.000238\n",
            "Epoch 9/10  —  LR: 0.000238\n",
            "Epoch 10/10  —  LR: 0.000119\n"
          ]
        },
        {
          "output_type": "stream",
          "name": "stderr",
          "text": [
            "[I 2025-05-25 13:10:28,225] Trial 43 finished with value: 0.6312502380136334 and parameters: {'features': 'all_numeric', 'win_len': 120, 'stride': 10, 'hidden1': 512, 'hidden2': 64, 'dropout': 0.1, 'lr': 0.0019024105191476634}. Best is trial 25 with value: 0.6617207131745841.\n"
          ]
        },
        {
          "output_type": "stream",
          "name": "stdout",
          "text": [
            "---- Trial #44  --  started ----------------------------\n",
            "Using features: baseline, win_len: 120, stride: 20, hidden1: 512, hidden2: 32, dropout: 0.1, lr: 0.0020759383479135056, in_dim: 1200\n",
            "Epoch 1/10  —  LR: 0.002076\n",
            "Epoch 2/10  —  LR: 0.002076\n",
            "Epoch 3/10  —  LR: 0.002076\n"
          ]
        },
        {
          "output_type": "stream",
          "name": "stderr",
          "text": [
            "[I 2025-05-25 13:10:37,782] Trial 44 pruned. \n"
          ]
        },
        {
          "output_type": "stream",
          "name": "stdout",
          "text": [
            "Trial #44 pruned at epoch 3 with F1: 0.5828\n",
            "---- Trial #45  --  started ----------------------------\n",
            "Using features: all_numeric, win_len: 60, stride: 10, hidden1: 256, hidden2: 64, dropout: 0.1, lr: 0.0039174336720680545, in_dim: 1020\n",
            "Epoch 1/10  —  LR: 0.003917\n",
            "Epoch 2/10  —  LR: 0.003917\n",
            "Epoch 3/10  —  LR: 0.003917\n",
            "Epoch 4/10  —  LR: 0.003917\n",
            "Epoch 5/10  —  LR: 0.003917\n",
            "Epoch 6/10  —  LR: 0.001959\n",
            "Epoch 7/10  —  LR: 0.001959\n",
            "Epoch 8/10  —  LR: 0.000979\n",
            "Epoch 9/10  —  LR: 0.000979\n",
            "Epoch 10/10  —  LR: 0.000490\n"
          ]
        },
        {
          "output_type": "stream",
          "name": "stderr",
          "text": [
            "[I 2025-05-25 13:11:39,931] Trial 45 finished with value: 0.6067530028561368 and parameters: {'features': 'all_numeric', 'win_len': 60, 'stride': 10, 'hidden1': 256, 'hidden2': 64, 'dropout': 0.1, 'lr': 0.0039174336720680545}. Best is trial 25 with value: 0.6617207131745841.\n"
          ]
        },
        {
          "output_type": "stream",
          "name": "stdout",
          "text": [
            "---- Trial #46  --  started ----------------------------\n",
            "Using features: all_numeric, win_len: 120, stride: 10, hidden1: 512, hidden2: 64, dropout: 0.1, lr: 0.0027084705704389345, in_dim: 2040\n",
            "Epoch 1/10  —  LR: 0.002708\n",
            "Epoch 2/10  —  LR: 0.002708\n",
            "Epoch 3/10  —  LR: 0.002708\n",
            "Epoch 4/10  —  LR: 0.002708\n",
            "Epoch 5/10  —  LR: 0.001354\n",
            "Epoch 6/10  —  LR: 0.001354\n",
            "Epoch 7/10  —  LR: 0.000677\n",
            "Epoch 8/10  —  LR: 0.000677\n",
            "Epoch 9/10  —  LR: 0.000339\n",
            "Epoch 10/10  —  LR: 0.000339\n"
          ]
        },
        {
          "output_type": "stream",
          "name": "stderr",
          "text": [
            "[I 2025-05-25 13:12:48,825] Trial 46 finished with value: 0.6188347839723987 and parameters: {'features': 'all_numeric', 'win_len': 120, 'stride': 10, 'hidden1': 512, 'hidden2': 64, 'dropout': 0.1, 'lr': 0.0027084705704389345}. Best is trial 25 with value: 0.6617207131745841.\n"
          ]
        },
        {
          "output_type": "stream",
          "name": "stdout",
          "text": [
            "---- Trial #47  --  started ----------------------------\n",
            "Using features: baseline, win_len: 120, stride: 20, hidden1: 512, hidden2: 32, dropout: 0.2, lr: 0.001891610800613796, in_dim: 1200\n",
            "Epoch 1/10  —  LR: 0.001892\n",
            "Epoch 2/10  —  LR: 0.001892\n",
            "Epoch 3/10  —  LR: 0.001892\n"
          ]
        },
        {
          "output_type": "stream",
          "name": "stderr",
          "text": [
            "[I 2025-05-25 13:12:58,121] Trial 47 pruned. \n"
          ]
        },
        {
          "output_type": "stream",
          "name": "stdout",
          "text": [
            "Trial #47 pruned at epoch 3 with F1: 0.5597\n",
            "---- Trial #48  --  started ----------------------------\n",
            "Using features: all_numeric, win_len: 60, stride: 10, hidden1: 512, hidden2: 64, dropout: 0.5, lr: 0.004721032294435505, in_dim: 1020\n",
            "Epoch 1/10  —  LR: 0.004721\n",
            "Epoch 2/10  —  LR: 0.004721\n",
            "Epoch 3/10  —  LR: 0.004721\n"
          ]
        },
        {
          "output_type": "stream",
          "name": "stderr",
          "text": [
            "[I 2025-05-25 13:13:16,843] Trial 48 pruned. \n"
          ]
        },
        {
          "output_type": "stream",
          "name": "stdout",
          "text": [
            "Trial #48 pruned at epoch 3 with F1: 0.3998\n",
            "---- Trial #49  --  started ----------------------------\n",
            "Using features: all_numeric, win_len: 120, stride: 10, hidden1: 128, hidden2: 64, dropout: 0.1, lr: 0.00011040834825886207, in_dim: 2040\n",
            "Epoch 1/10  —  LR: 0.000110\n",
            "Epoch 2/10  —  LR: 0.000110\n",
            "Epoch 3/10  —  LR: 0.000110\n",
            "Epoch 4/10  —  LR: 0.000110\n",
            "Epoch 5/10  —  LR: 0.000055\n"
          ]
        },
        {
          "output_type": "stream",
          "name": "stderr",
          "text": [
            "[I 2025-05-25 13:13:51,374] Trial 49 pruned. \n"
          ]
        },
        {
          "output_type": "stream",
          "name": "stdout",
          "text": [
            "Trial #49 pruned at epoch 5 with F1: 0.6048\n",
            "---- Trial #50  --  started ----------------------------\n",
            "Using features: all_numeric, win_len: 120, stride: 10, hidden1: 256, hidden2: 64, dropout: 0.2, lr: 0.0010813862699563081, in_dim: 2040\n",
            "Epoch 1/10  —  LR: 0.001081\n",
            "Epoch 2/10  —  LR: 0.001081\n",
            "Epoch 3/10  —  LR: 0.001081\n"
          ]
        },
        {
          "output_type": "stream",
          "name": "stderr",
          "text": [
            "[I 2025-05-25 13:14:11,870] Trial 50 pruned. \n"
          ]
        },
        {
          "output_type": "stream",
          "name": "stdout",
          "text": [
            "Trial #50 pruned at epoch 3 with F1: 0.5688\n",
            "---- Trial #51  --  started ----------------------------\n",
            "Using features: all_numeric, win_len: 120, stride: 10, hidden1: 512, hidden2: 64, dropout: 0.0, lr: 0.0017358419713169476, in_dim: 2040\n",
            "Epoch 1/10  —  LR: 0.001736\n",
            "Epoch 2/10  —  LR: 0.001736\n",
            "Epoch 3/10  —  LR: 0.001736\n",
            "Epoch 4/10  —  LR: 0.001736\n"
          ]
        },
        {
          "output_type": "stream",
          "name": "stderr",
          "text": [
            "[I 2025-05-25 13:14:38,971] Trial 51 pruned. \n"
          ]
        },
        {
          "output_type": "stream",
          "name": "stdout",
          "text": [
            "Trial #51 pruned at epoch 4 with F1: 0.5809\n",
            "---- Trial #52  --  started ----------------------------\n",
            "Using features: all_numeric, win_len: 120, stride: 10, hidden1: 512, hidden2: 64, dropout: 0.0, lr: 0.0023765893678826884, in_dim: 2040\n",
            "Epoch 1/10  —  LR: 0.002377\n",
            "Epoch 2/10  —  LR: 0.002377\n",
            "Epoch 3/10  —  LR: 0.002377\n"
          ]
        },
        {
          "output_type": "stream",
          "name": "stderr",
          "text": [
            "[I 2025-05-25 13:14:59,169] Trial 52 pruned. \n"
          ]
        },
        {
          "output_type": "stream",
          "name": "stdout",
          "text": [
            "Trial #52 pruned at epoch 3 with F1: 0.5249\n",
            "---- Trial #53  --  started ----------------------------\n",
            "Using features: all_numeric, win_len: 120, stride: 10, hidden1: 512, hidden2: 64, dropout: 0.1, lr: 0.0014659237784624842, in_dim: 2040\n",
            "Epoch 1/10  —  LR: 0.001466\n",
            "Epoch 2/10  —  LR: 0.001466\n",
            "Epoch 3/10  —  LR: 0.001466\n",
            "Epoch 4/10  —  LR: 0.001466\n",
            "Epoch 5/10  —  LR: 0.001466\n",
            "Epoch 6/10  —  LR: 0.001466\n",
            "Epoch 7/10  —  LR: 0.001466\n",
            "Epoch 8/10  —  LR: 0.000733\n",
            "Epoch 9/10  —  LR: 0.000733\n",
            "Epoch 10/10  —  LR: 0.000366\n"
          ]
        },
        {
          "output_type": "stream",
          "name": "stderr",
          "text": [
            "[I 2025-05-25 13:16:08,516] Trial 53 finished with value: 0.6013516183851717 and parameters: {'features': 'all_numeric', 'win_len': 120, 'stride': 10, 'hidden1': 512, 'hidden2': 64, 'dropout': 0.1, 'lr': 0.0014659237784624842}. Best is trial 25 with value: 0.6617207131745841.\n"
          ]
        },
        {
          "output_type": "stream",
          "name": "stdout",
          "text": [
            "---- Trial #54  --  started ----------------------------\n",
            "Using features: all_numeric, win_len: 120, stride: 10, hidden1: 512, hidden2: 64, dropout: 0.0, lr: 0.0012950143306097836, in_dim: 2040\n",
            "Epoch 1/10  —  LR: 0.001295\n",
            "Epoch 2/10  —  LR: 0.001295\n",
            "Epoch 3/10  —  LR: 0.001295\n"
          ]
        },
        {
          "output_type": "stream",
          "name": "stderr",
          "text": [
            "[I 2025-05-25 13:16:29,012] Trial 54 pruned. \n"
          ]
        },
        {
          "output_type": "stream",
          "name": "stdout",
          "text": [
            "Trial #54 pruned at epoch 3 with F1: 0.5791\n",
            "---- Trial #55  --  started ----------------------------\n",
            "Using features: all_numeric, win_len: 120, stride: 10, hidden1: 512, hidden2: 32, dropout: 0.1, lr: 0.0009436047156282675, in_dim: 2040\n",
            "Epoch 1/10  —  LR: 0.000944\n",
            "Epoch 2/10  —  LR: 0.000944\n",
            "Epoch 3/10  —  LR: 0.000944\n",
            "Epoch 4/10  —  LR: 0.000472\n",
            "Epoch 5/10  —  LR: 0.000472\n",
            "Epoch 6/10  —  LR: 0.000472\n",
            "Epoch 7/10  —  LR: 0.000472\n",
            "Epoch 8/10  —  LR: 0.000236\n",
            "Epoch 9/10  —  LR: 0.000236\n",
            "Epoch 10/10  —  LR: 0.000118\n"
          ]
        },
        {
          "output_type": "stream",
          "name": "stderr",
          "text": [
            "[I 2025-05-25 13:17:38,149] Trial 55 finished with value: 0.6600239446954775 and parameters: {'features': 'all_numeric', 'win_len': 120, 'stride': 10, 'hidden1': 512, 'hidden2': 32, 'dropout': 0.1, 'lr': 0.0009436047156282675}. Best is trial 25 with value: 0.6617207131745841.\n"
          ]
        },
        {
          "output_type": "stream",
          "name": "stdout",
          "text": [
            "---- Trial #56  --  started ----------------------------\n",
            "Using features: all_numeric, win_len: 60, stride: 10, hidden1: 512, hidden2: 32, dropout: 0.1, lr: 0.00086971769827263, in_dim: 1020\n",
            "Epoch 1/10  —  LR: 0.000870\n",
            "Epoch 2/10  —  LR: 0.000870\n",
            "Epoch 3/10  —  LR: 0.000870\n",
            "Epoch 4/10  —  LR: 0.000870\n",
            "Epoch 5/10  —  LR: 0.000435\n",
            "Epoch 6/10  —  LR: 0.000435\n",
            "Epoch 7/10  —  LR: 0.000435\n",
            "Epoch 8/10  —  LR: 0.000217\n",
            "Epoch 9/10  —  LR: 0.000217\n",
            "Epoch 10/10  —  LR: 0.000109\n"
          ]
        },
        {
          "output_type": "stream",
          "name": "stderr",
          "text": [
            "[I 2025-05-25 13:18:40,274] Trial 56 finished with value: 0.6224914193418131 and parameters: {'features': 'all_numeric', 'win_len': 60, 'stride': 10, 'hidden1': 512, 'hidden2': 32, 'dropout': 0.1, 'lr': 0.00086971769827263}. Best is trial 25 with value: 0.6617207131745841.\n"
          ]
        },
        {
          "output_type": "stream",
          "name": "stdout",
          "text": [
            "---- Trial #57  --  started ----------------------------\n",
            "Using features: all_numeric, win_len: 120, stride: 10, hidden1: 512, hidden2: 32, dropout: 0.2, lr: 0.0009442105321969309, in_dim: 2040\n",
            "Epoch 1/10  —  LR: 0.000944\n",
            "Epoch 2/10  —  LR: 0.000944\n",
            "Epoch 3/10  —  LR: 0.000944\n",
            "Epoch 4/10  —  LR: 0.000944\n",
            "Epoch 5/10  —  LR: 0.000944\n",
            "Epoch 6/10  —  LR: 0.000472\n",
            "Epoch 7/10  —  LR: 0.000472\n",
            "Epoch 8/10  —  LR: 0.000236\n",
            "Epoch 9/10  —  LR: 0.000236\n",
            "Epoch 10/10  —  LR: 0.000118\n"
          ]
        },
        {
          "output_type": "stream",
          "name": "stderr",
          "text": [
            "[I 2025-05-25 13:19:50,088] Trial 57 finished with value: 0.6350949628406276 and parameters: {'features': 'all_numeric', 'win_len': 120, 'stride': 10, 'hidden1': 512, 'hidden2': 32, 'dropout': 0.2, 'lr': 0.0009442105321969309}. Best is trial 25 with value: 0.6617207131745841.\n"
          ]
        },
        {
          "output_type": "stream",
          "name": "stdout",
          "text": [
            "---- Trial #58  --  started ----------------------------\n",
            "Using features: all_numeric, win_len: 120, stride: 10, hidden1: 512, hidden2: 32, dropout: 0.2, lr: 0.000776564793841501, in_dim: 2040\n",
            "Epoch 1/10  —  LR: 0.000777\n",
            "Epoch 2/10  —  LR: 0.000777\n",
            "Epoch 3/10  —  LR: 0.000777\n",
            "Epoch 4/10  —  LR: 0.000777\n",
            "Epoch 5/10  —  LR: 0.000777\n",
            "Epoch 6/10  —  LR: 0.000777\n",
            "Epoch 7/10  —  LR: 0.000777\n",
            "Epoch 8/10  —  LR: 0.000388\n",
            "Epoch 9/10  —  LR: 0.000388\n",
            "Epoch 10/10  —  LR: 0.000194\n"
          ]
        },
        {
          "output_type": "stream",
          "name": "stderr",
          "text": [
            "[I 2025-05-25 13:20:59,549] Trial 58 finished with value: 0.6610759004482919 and parameters: {'features': 'all_numeric', 'win_len': 120, 'stride': 10, 'hidden1': 512, 'hidden2': 32, 'dropout': 0.2, 'lr': 0.000776564793841501}. Best is trial 25 with value: 0.6617207131745841.\n"
          ]
        },
        {
          "output_type": "stream",
          "name": "stdout",
          "text": [
            "---- Trial #59  --  started ----------------------------\n",
            "Using features: baseline, win_len: 120, stride: 20, hidden1: 512, hidden2: 32, dropout: 0.2, lr: 0.0006336462035616203, in_dim: 1200\n",
            "Epoch 1/10  —  LR: 0.000634\n",
            "Epoch 2/10  —  LR: 0.000634\n",
            "Epoch 3/10  —  LR: 0.000634\n",
            "Epoch 4/10  —  LR: 0.000634\n",
            "Epoch 5/10  —  LR: 0.000634\n",
            "Epoch 6/10  —  LR: 0.000634\n",
            "Epoch 7/10  —  LR: 0.000634\n",
            "Epoch 8/10  —  LR: 0.000634\n",
            "Epoch 9/10  —  LR: 0.000634\n",
            "Epoch 10/10  —  LR: 0.000317\n"
          ]
        },
        {
          "output_type": "stream",
          "name": "stderr",
          "text": [
            "[I 2025-05-25 13:21:31,898] Trial 59 finished with value: 0.657991967871486 and parameters: {'features': 'baseline', 'win_len': 120, 'stride': 20, 'hidden1': 512, 'hidden2': 32, 'dropout': 0.2, 'lr': 0.0006336462035616203}. Best is trial 25 with value: 0.6617207131745841.\n"
          ]
        },
        {
          "output_type": "stream",
          "name": "stdout",
          "text": [
            "---- Trial #60  --  started ----------------------------\n",
            "Using features: baseline, win_len: 120, stride: 20, hidden1: 512, hidden2: 32, dropout: 0.4, lr: 0.0006351568930552352, in_dim: 1200\n",
            "Epoch 1/10  —  LR: 0.000635\n",
            "Epoch 2/10  —  LR: 0.000635\n",
            "Epoch 3/10  —  LR: 0.000635\n"
          ]
        },
        {
          "output_type": "stream",
          "name": "stderr",
          "text": [
            "[I 2025-05-25 13:21:41,562] Trial 60 pruned. \n"
          ]
        },
        {
          "output_type": "stream",
          "name": "stdout",
          "text": [
            "Trial #60 pruned at epoch 3 with F1: 0.5713\n",
            "---- Trial #61  --  started ----------------------------\n",
            "Using features: baseline, win_len: 120, stride: 20, hidden1: 512, hidden2: 32, dropout: 0.2, lr: 0.0007750554259179936, in_dim: 1200\n",
            "Epoch 1/10  —  LR: 0.000775\n",
            "Epoch 2/10  —  LR: 0.000775\n",
            "Epoch 3/10  —  LR: 0.000775\n",
            "Epoch 4/10  —  LR: 0.000775\n",
            "Epoch 5/10  —  LR: 0.000775\n",
            "Epoch 6/10  —  LR: 0.000775\n",
            "Epoch 7/10  —  LR: 0.000388\n",
            "Epoch 8/10  —  LR: 0.000388\n",
            "Epoch 9/10  —  LR: 0.000388\n",
            "Epoch 10/10  —  LR: 0.000388\n"
          ]
        },
        {
          "output_type": "stream",
          "name": "stderr",
          "text": [
            "[I 2025-05-25 13:22:13,373] Trial 61 finished with value: 0.6428627358859917 and parameters: {'features': 'baseline', 'win_len': 120, 'stride': 20, 'hidden1': 512, 'hidden2': 32, 'dropout': 0.2, 'lr': 0.0007750554259179936}. Best is trial 25 with value: 0.6617207131745841.\n"
          ]
        },
        {
          "output_type": "stream",
          "name": "stdout",
          "text": [
            "---- Trial #62  --  started ----------------------------\n",
            "Using features: baseline, win_len: 120, stride: 20, hidden1: 512, hidden2: 32, dropout: 0.2, lr: 0.0005763209247179826, in_dim: 1200\n",
            "Epoch 1/10  —  LR: 0.000576\n",
            "Epoch 2/10  —  LR: 0.000576\n",
            "Epoch 3/10  —  LR: 0.000576\n",
            "Epoch 4/10  —  LR: 0.000576\n",
            "Epoch 5/10  —  LR: 0.000576\n",
            "Epoch 6/10  —  LR: 0.000576\n",
            "Epoch 7/10  —  LR: 0.000576\n",
            "Epoch 8/10  —  LR: 0.000288\n",
            "Epoch 9/10  —  LR: 0.000288\n",
            "Epoch 10/10  —  LR: 0.000288\n"
          ]
        },
        {
          "output_type": "stream",
          "name": "stderr",
          "text": [
            "[I 2025-05-25 13:22:45,141] Trial 62 finished with value: 0.6252598320445664 and parameters: {'features': 'baseline', 'win_len': 120, 'stride': 20, 'hidden1': 512, 'hidden2': 32, 'dropout': 0.2, 'lr': 0.0005763209247179826}. Best is trial 25 with value: 0.6617207131745841.\n"
          ]
        },
        {
          "output_type": "stream",
          "name": "stdout",
          "text": [
            "---- Trial #63  --  started ----------------------------\n",
            "Using features: baseline, win_len: 120, stride: 20, hidden1: 512, hidden2: 32, dropout: 0.2, lr: 0.0007528119660305897, in_dim: 1200\n",
            "Epoch 1/10  —  LR: 0.000753\n",
            "Epoch 2/10  —  LR: 0.000753\n",
            "Epoch 3/10  —  LR: 0.000753\n",
            "Epoch 4/10  —  LR: 0.000753\n",
            "Epoch 5/10  —  LR: 0.000753\n",
            "Epoch 6/10  —  LR: 0.000376\n",
            "Epoch 7/10  —  LR: 0.000376\n",
            "Epoch 8/10  —  LR: 0.000376\n",
            "Epoch 9/10  —  LR: 0.000376\n",
            "Epoch 10/10  —  LR: 0.000376\n"
          ]
        },
        {
          "output_type": "stream",
          "name": "stderr",
          "text": [
            "[I 2025-05-25 13:23:17,218] Trial 63 finished with value: 0.6021805982667039 and parameters: {'features': 'baseline', 'win_len': 120, 'stride': 20, 'hidden1': 512, 'hidden2': 32, 'dropout': 0.2, 'lr': 0.0007528119660305897}. Best is trial 25 with value: 0.6617207131745841.\n"
          ]
        },
        {
          "output_type": "stream",
          "name": "stdout",
          "text": [
            "---- Trial #64  --  started ----------------------------\n",
            "Using features: baseline, win_len: 120, stride: 20, hidden1: 512, hidden2: 32, dropout: 0.30000000000000004, lr: 0.0003794846392910018, in_dim: 1200\n",
            "Epoch 1/10  —  LR: 0.000379\n",
            "Epoch 2/10  —  LR: 0.000379\n",
            "Epoch 3/10  —  LR: 0.000379\n"
          ]
        },
        {
          "output_type": "stream",
          "name": "stderr",
          "text": [
            "[I 2025-05-25 13:23:26,576] Trial 64 pruned. \n"
          ]
        },
        {
          "output_type": "stream",
          "name": "stdout",
          "text": [
            "Trial #64 pruned at epoch 3 with F1: 0.5731\n",
            "---- Trial #65  --  started ----------------------------\n",
            "Using features: baseline, win_len: 120, stride: 20, hidden1: 128, hidden2: 32, dropout: 0.2, lr: 0.0004882915335587668, in_dim: 1200\n",
            "Epoch 1/10  —  LR: 0.000488\n",
            "Epoch 2/10  —  LR: 0.000488\n",
            "Epoch 3/10  —  LR: 0.000488\n"
          ]
        },
        {
          "output_type": "stream",
          "name": "stderr",
          "text": [
            "[I 2025-05-25 13:23:36,187] Trial 65 pruned. \n"
          ]
        },
        {
          "output_type": "stream",
          "name": "stdout",
          "text": [
            "Trial #65 pruned at epoch 3 with F1: 0.6104\n",
            "---- Trial #66  --  started ----------------------------\n",
            "Using features: baseline, win_len: 60, stride: 20, hidden1: 512, hidden2: 32, dropout: 0.30000000000000004, lr: 0.0008124812789998779, in_dim: 600\n",
            "Epoch 1/10  —  LR: 0.000812\n",
            "Epoch 2/10  —  LR: 0.000812\n",
            "Epoch 3/10  —  LR: 0.000812\n"
          ]
        },
        {
          "output_type": "stream",
          "name": "stderr",
          "text": [
            "[I 2025-05-25 13:23:45,226] Trial 66 pruned. \n"
          ]
        },
        {
          "output_type": "stream",
          "name": "stdout",
          "text": [
            "Trial #66 pruned at epoch 3 with F1: 0.5793\n",
            "---- Trial #67  --  started ----------------------------\n",
            "Using features: baseline, win_len: 120, stride: 20, hidden1: 512, hidden2: 32, dropout: 0.2, lr: 0.0010423140460451587, in_dim: 1200\n",
            "Epoch 1/10  —  LR: 0.001042\n",
            "Epoch 2/10  —  LR: 0.001042\n",
            "Epoch 3/10  —  LR: 0.001042\n"
          ]
        },
        {
          "output_type": "stream",
          "name": "stderr",
          "text": [
            "[I 2025-05-25 13:23:54,816] Trial 67 pruned. \n"
          ]
        },
        {
          "output_type": "stream",
          "name": "stdout",
          "text": [
            "Trial #67 pruned at epoch 3 with F1: 0.6051\n",
            "---- Trial #68  --  started ----------------------------\n",
            "Using features: baseline, win_len: 120, stride: 20, hidden1: 256, hidden2: 32, dropout: 0.2, lr: 0.0006590890123977708, in_dim: 1200\n",
            "Epoch 1/10  —  LR: 0.000659\n",
            "Epoch 2/10  —  LR: 0.000659\n",
            "Epoch 3/10  —  LR: 0.000659\n",
            "Epoch 4/10  —  LR: 0.000330\n",
            "Epoch 5/10  —  LR: 0.000330\n",
            "Epoch 6/10  —  LR: 0.000165\n",
            "Epoch 7/10  —  LR: 0.000165\n",
            "Epoch 8/10  —  LR: 0.000082\n",
            "Epoch 9/10  —  LR: 0.000082\n",
            "Epoch 10/10  —  LR: 0.000041\n"
          ]
        },
        {
          "output_type": "stream",
          "name": "stderr",
          "text": [
            "[I 2025-05-25 13:24:26,475] Trial 68 finished with value: 0.6214159292035398 and parameters: {'features': 'baseline', 'win_len': 120, 'stride': 20, 'hidden1': 256, 'hidden2': 32, 'dropout': 0.2, 'lr': 0.0006590890123977708}. Best is trial 25 with value: 0.6617207131745841.\n"
          ]
        },
        {
          "output_type": "stream",
          "name": "stdout",
          "text": [
            "---- Trial #69  --  started ----------------------------\n",
            "Using features: baseline, win_len: 120, stride: 20, hidden1: 512, hidden2: 32, dropout: 0.30000000000000004, lr: 0.00029645917839616796, in_dim: 1200\n",
            "Epoch 1/10  —  LR: 0.000296\n",
            "Epoch 2/10  —  LR: 0.000296\n",
            "Epoch 3/10  —  LR: 0.000296\n",
            "Epoch 4/10  —  LR: 0.000296\n",
            "Epoch 5/10  —  LR: 0.000296\n",
            "Epoch 6/10  —  LR: 0.000296\n",
            "Epoch 7/10  —  LR: 0.000148\n",
            "Epoch 8/10  —  LR: 0.000148\n",
            "Epoch 9/10  —  LR: 0.000148\n",
            "Epoch 10/10  —  LR: 0.000148\n"
          ]
        },
        {
          "output_type": "stream",
          "name": "stderr",
          "text": [
            "[I 2025-05-25 13:24:58,128] Trial 69 finished with value: 0.6187371950083814 and parameters: {'features': 'baseline', 'win_len': 120, 'stride': 20, 'hidden1': 512, 'hidden2': 32, 'dropout': 0.30000000000000004, 'lr': 0.00029645917839616796}. Best is trial 25 with value: 0.6617207131745841.\n"
          ]
        },
        {
          "output_type": "stream",
          "name": "stdout",
          "text": [
            "---- Trial #70  --  started ----------------------------\n",
            "Using features: baseline, win_len: 120, stride: 20, hidden1: 512, hidden2: 32, dropout: 0.2, lr: 0.001179456165242646, in_dim: 1200\n",
            "Epoch 1/10  —  LR: 0.001179\n",
            "Epoch 2/10  —  LR: 0.001179\n",
            "Epoch 3/10  —  LR: 0.001179\n"
          ]
        },
        {
          "output_type": "stream",
          "name": "stderr",
          "text": [
            "[I 2025-05-25 13:25:07,730] Trial 70 pruned. \n"
          ]
        },
        {
          "output_type": "stream",
          "name": "stdout",
          "text": [
            "Trial #70 pruned at epoch 3 with F1: 0.5707\n",
            "---- Trial #71  --  started ----------------------------\n",
            "Using features: all_numeric, win_len: 120, stride: 10, hidden1: 512, hidden2: 32, dropout: 0.2, lr: 0.0009546476355959278, in_dim: 2040\n",
            "Epoch 1/10  —  LR: 0.000955\n",
            "Epoch 2/10  —  LR: 0.000955\n",
            "Epoch 3/10  —  LR: 0.000955\n"
          ]
        },
        {
          "output_type": "stream",
          "name": "stderr",
          "text": [
            "[I 2025-05-25 13:25:28,407] Trial 71 pruned. \n"
          ]
        },
        {
          "output_type": "stream",
          "name": "stdout",
          "text": [
            "Trial #71 pruned at epoch 3 with F1: 0.5669\n",
            "Best F1: 0.6617207131745841\n",
            "Best params: {'features': 'all_numeric', 'win_len': 120, 'stride': 10, 'hidden1': 512, 'hidden2': 64, 'dropout': 0.1, 'lr': 0.0013698910328471638}\n"
          ]
        }
      ],
      "source": [
        "TRIALS = 72\n",
        "optuna.logging.set_verbosity(optuna.logging.INFO)\n",
        "DB = f\"sqlite:///{DRIVE_PROJECT}/mlp_hpo.db\"\n",
        "\n",
        "study = optuna.create_study(\n",
        "    study_name=\"mlp_hpo\",\n",
        "    direction=\"maximize\",\n",
        "    storage=DB,\n",
        "    load_if_exists=True,\n",
        "    pruner=optuna.pruners.MedianPruner(n_startup_trials=5, n_warmup_steps=3),\n",
        ")\n",
        "study.optimize(objective, n_trials=TRIALS)\n",
        "\n",
        "print(\"Best F1:\", study.best_value)\n",
        "print(\"Best params:\", study.best_params)"
      ]
    },
    {
      "cell_type": "markdown",
      "metadata": {
        "id": "vz-ew5iZW6EI"
      },
      "source": [
        " ## 6. Plot learning curves for best trial"
      ]
    },
    {
      "cell_type": "code",
      "execution_count": 13,
      "metadata": {
        "colab": {
          "base_uri": "https://localhost:8080/",
          "height": 649
        },
        "id": "pCb1PT5dW6EI",
        "outputId": "5463a1b7-861c-487d-8f0b-3681fc67f4ee"
      },
      "outputs": [
        {
          "output_type": "display_data",
          "data": {
            "text/plain": [
              "<Figure size 600x300 with 1 Axes>"
            ],
            "image/png": "[encoded data removed]"
          },
          "metadata": {}
        },
        {
          "output_type": "display_data",
          "data": {
            "text/plain": [
              "<Figure size 500x300 with 1 Axes>"
            ],
            "image/png": "[encoded data removed]"
          },
          "metadata": {}
        }
      ],
      "source": [
        "import matplotlib.pyplot as plt\n",
        "\n",
        "best = study.best_trial\n",
        "\n",
        "epochs = range(1, len(best.user_attrs[\"lr_curve\"]) + 1)\n",
        "\n",
        "\n",
        "plt.figure(figsize=(6, 3))\n",
        "\n",
        "plt.plot(epochs, best.user_attrs[\"train_loss_curve\"], label=\"train loss\")\n",
        "\n",
        "plt.plot(epochs, best.user_attrs[\"val_f1_curve\"], label=\"val F1\")\n",
        "\n",
        "plt.xlabel(\"epoch\")\n",
        "plt.legend()\n",
        "\n",
        "plt.title(\"MLP - learning curves (best trial)\")\n",
        "\n",
        "plt.show()\n",
        "\n",
        "\n",
        "plt.figure(figsize=(5, 3))\n",
        "\n",
        "plt.plot(epochs, best.user_attrs[\"lr_curve\"])\n",
        "\n",
        "plt.xlabel(\"epoch\")\n",
        "plt.ylabel(\"learning rate\")\n",
        "\n",
        "plt.title(\"MLP - LR schedule\")\n",
        "\n",
        "plt.show()"
      ]
    },
    {
      "cell_type": "markdown",
      "metadata": {
        "id": "WJ2RNSpiW6EI"
      },
      "source": [
        " ## 7. Evaluate best MLP on test set"
      ]
    },
    {
      "cell_type": "code",
      "execution_count": 14,
      "metadata": {
        "colab": {
          "base_uri": "https://localhost:8080/"
        },
        "id": "IuLLU5e7W6EI",
        "outputId": "e739250a-45ee-4377-b219-48000132fed3"
      },
      "outputs": [
        {
          "output_type": "execute_result",
          "data": {
            "text/plain": [
              "MLPClassifier(\n",
              "  (net): Sequential(\n",
              "    (0): Flatten(start_dim=1, end_dim=-1)\n",
              "    (1): Linear(in_features=2040, out_features=512, bias=True)\n",
              "    (2): ReLU()\n",
              "    (3): Dropout(p=0.1, inplace=False)\n",
              "    (4): Linear(in_features=512, out_features=64, bias=True)\n",
              "    (5): ReLU()\n",
              "    (6): Dropout(p=0.1, inplace=False)\n",
              "    (7): Linear(in_features=64, out_features=1, bias=True)\n",
              "  )\n",
              ")"
            ]
          },
          "metadata": {},
          "execution_count": 14
        }
      ],
      "source": [
        "# rebuild test windows\n",
        "feat = best.user_attrs[\"features\"]\n",
        "cols = ALL_NUMERIC_COLS if feat == \"all_numeric\" else FEATURE_SETS[feat]\n",
        "WIN, STR = best.user_attrs[\"win_len\"], best.user_attrs[\"stride\"]\n",
        "\n",
        "test_df = SUPER[\"test_df\"]\n",
        "X_te, y_te = build_windows(test_df, WIN, STR, cols)\n",
        "test_loader = DataLoader(\n",
        "    TensorDataset(\n",
        "        torch.tensor(X_te, dtype=torch.float32),\n",
        "        torch.tensor(y_te, dtype=torch.float32).unsqueeze(1),\n",
        "    ),\n",
        "    batch_size=256,\n",
        "    shuffle=False,\n",
        "    pin_memory=True if DEVICE == \"cuda\" else False,\n",
        ")\n",
        "\n",
        "model = MLPClassifier(\n",
        "    in_dim=X_te.shape[1] * X_te.shape[2],\n",
        "    hidden1=best.params[\"hidden1\"],\n",
        "    hidden2=best.params[\"hidden2\"],\n",
        "    dropout=best.params[\"dropout\"],\n",
        ").to(DEVICE)\n",
        "model.load_state_dict(torch.load(best.user_attrs[\"ckpt\"], map_location=DEVICE))\n",
        "model.eval()"
      ]
    },
    {
      "cell_type": "markdown",
      "metadata": {
        "id": "SC71ea72W6EI"
      },
      "source": [
        "Evaluation"
      ]
    },
    {
      "cell_type": "code",
      "execution_count": 15,
      "metadata": {
        "id": "KMR8cyhHW6EI"
      },
      "outputs": [],
      "source": [
        "all_pred, all_true = [], []\n",
        "with torch.no_grad():\n",
        "    for xb, yb in test_loader:\n",
        "        logits = model(xb.to(DEVICE))\n",
        "        all_pred.extend((torch.sigmoid(logits) > 0.5).cpu().numpy().ravel())\n",
        "        all_true.extend(yb.numpy().ravel())\n",
        "y_pred = np.array(all_pred, dtype=int)\n",
        "y_true = np.array(all_true, dtype=int)"
      ]
    },
    {
      "cell_type": "markdown",
      "metadata": {
        "id": "UsE0qvElW6EJ"
      },
      "source": [
        "Metrics"
      ]
    },
    {
      "cell_type": "code",
      "execution_count": 16,
      "metadata": {
        "colab": {
          "base_uri": "https://localhost:8080/"
        },
        "id": "54jxaFXZW6EJ",
        "outputId": "2f0430a2-c7b0-45c2-9552-924e1d92ec75"
      },
      "outputs": [
        {
          "output_type": "stream",
          "name": "stdout",
          "text": [
            "Confusion matrix (rows: true, cols: pred)\n",
            "[[20076  6689]\n",
            " [ 4058  8764]] \n",
            "\n",
            "Accuracy     : 0.729\n",
            "Recall (TPR) : 0.684\n",
            "Specificity  : 0.750\n",
            "Precision    : 0.567\n",
            "F1-score     : 0.620\n"
          ]
        }
      ],
      "source": [
        "cm = confusion_matrix(y_true, y_pred)  # [[TN FP] [FN TP]]\n",
        "TN, FP, FN, TP = cm.ravel()\n",
        "\n",
        "acc = accuracy_score(y_true, y_pred)\n",
        "recall = TP / (TP + FN + 1e-12)  # sensitivity / TPR\n",
        "spec = TN / (TN + FP + 1e-12)  # specificity / TNR\n",
        "prec = precision_score(y_true, y_pred)\n",
        "f1 = f1_score(y_true, y_pred)\n",
        "\n",
        "print(\"Confusion matrix (rows: true, cols: pred)\")\n",
        "print(cm, \"\\n\")\n",
        "print(f\"Accuracy     : {acc :.3f}\")\n",
        "print(f\"Recall (TPR) : {recall :.3f}\")\n",
        "print(f\"Specificity  : {spec :.3f}\")\n",
        "print(f\"Precision    : {prec :.3f}\")\n",
        "print(f\"F1-score     : {f1 :.3f}\")"
      ]
    },
    {
      "cell_type": "code",
      "execution_count": 17,
      "metadata": {
        "colab": {
          "base_uri": "https://localhost:8080/",
          "height": 487
        },
        "id": "d-u-_OTwW6EJ",
        "outputId": "d93a821a-4806-41d2-aaf2-57d522f725a3"
      },
      "outputs": [
        {
          "output_type": "display_data",
          "data": {
            "text/plain": [
              "<Figure size 640x480 with 2 Axes>"
            ],
            "image/png": "[encoded data removed]"
          },
          "metadata": {}
        }
      ],
      "source": [
        "fig1, ax1 = plt.subplots()\n",
        "ConfusionMatrixDisplay(cm, display_labels=[\"Normal\", \"Emergency\"]).plot(ax=ax1)\n",
        "ax1.set_title(\"GRU - Confusion matrix (test set)\")\n",
        "plt.tight_layout()\n",
        "plt.show()"
      ]
    },
    {
      "cell_type": "code",
      "execution_count": 18,
      "metadata": {
        "colab": {
          "base_uri": "https://localhost:8080/",
          "height": 487
        },
        "id": "SZFm7mPoW6EJ",
        "outputId": "bba65cd1-6e13-4301-d726-1215c9cbc07b"
      },
      "outputs": [
        {
          "output_type": "display_data",
          "data": {
            "text/plain": [
              "<Figure size 640x480 with 1 Axes>"
            ],
            "image/png": "[encoded data removed]"
          },
          "metadata": {}
        }
      ],
      "source": [
        "fig2, ax2 = plt.subplots()\n",
        "metrics = [acc, recall, spec, prec, f1]\n",
        "labels = [\"Accuracy\", \"Recall\", \"Specificity\", \"Precision\", \"F1\"]\n",
        "ax2.bar(labels, metrics)\n",
        "ax2.set_ylim(0, 1)\n",
        "ax2.set_ylabel(\"score\")\n",
        "ax2.set_title(\"GRU hypertuned - test-set performance\")\n",
        "for idx, v in enumerate(metrics):  # annotate bars\n",
        "    ax2.text(idx, v + 0.02, f\"{v:.2f}\", ha=\"center\")\n",
        "plt.tight_layout()\n",
        "plt.show()"
      ]
    }
  ],
  "metadata": {
    "kernelspec": {
      "display_name": "Python 3",
      "name": "python3"
    },
    "language_info": {
      "codemirror_mode": {
        "name": "ipython",
        "version": 3
      },
      "file_extension": ".py",
      "mimetype": "text/x-python",
      "name": "python",
      "nbconvert_exporter": "python",
      "pygments_lexer": "ipython3",
      "version": "3.10.5"
    },
    "colab": {
      "provenance": [],
      "machine_shape": "hm",
      "gpuType": "A100"
    },
    "accelerator": "GPU"
  },
  "nbformat": 4,
  "nbformat_minor": 0
}