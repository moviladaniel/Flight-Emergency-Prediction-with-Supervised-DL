{
  "cells": [
    {
      "cell_type": "markdown",
      "metadata": {
        "id": "Ny0KBJwQhWeL"
      },
      "source": [
        "# Training an optimized GRU model"
      ]
    },
    {
      "cell_type": "code",
      "source": [
        "from google.colab import drive\n",
        "drive.mount('/content/drive/')\n",
        "!pwd\n",
        "!p \"/content/drive/My Drive/\""
      ],
      "metadata": {
        "colab": {
          "base_uri": "https://localhost:8080/"
        },
        "id": "09TJgmZXhlpU",
        "outputId": "6a3919fc-c060-42d1-a2b2-e3d73b4e7ba4"
      },
      "execution_count": 1,
      "outputs": [
        {
          "output_type": "stream",
          "name": "stdout",
          "text": [
            "Drive already mounted at /content/drive/; to attempt to forcibly remount, call drive.mount(\"/content/drive/\", force_remount=True).\n",
            "/content\n",
            "/bin/bash: line 1: p: command not found\n"
          ]
        }
      ]
    },
    {
      "cell_type": "code",
      "source": [
        "!pip install optuna"
      ],
      "metadata": {
        "colab": {
          "base_uri": "https://localhost:8080/"
        },
        "id": "DEu90-nXiFEj",
        "outputId": "c2cb5885-dd6e-47c8-a9d5-c533ecd88f29"
      },
      "execution_count": 2,
      "outputs": [
        {
          "output_type": "stream",
          "name": "stdout",
          "text": [
            "Requirement already satisfied: optuna in /usr/local/lib/python3.11/dist-packages (4.3.0)\n",
            "Requirement already satisfied: alembic>=1.5.0 in /usr/local/lib/python3.11/dist-packages (from optuna) (1.16.1)\n",
            "Requirement already satisfied: colorlog in /usr/local/lib/python3.11/dist-packages (from optuna) (6.9.0)\n",
            "Requirement already satisfied: numpy in /usr/local/lib/python3.11/dist-packages (from optuna) (2.0.2)\n",
            "Requirement already satisfied: packaging>=20.0 in /usr/local/lib/python3.11/dist-packages (from optuna) (24.2)\n",
            "Requirement already satisfied: sqlalchemy>=1.4.2 in /usr/local/lib/python3.11/dist-packages (from optuna) (2.0.40)\n",
            "Requirement already satisfied: tqdm in /usr/local/lib/python3.11/dist-packages (from optuna) (4.67.1)\n",
            "Requirement already satisfied: PyYAML in /usr/local/lib/python3.11/dist-packages (from optuna) (6.0.2)\n",
            "Requirement already satisfied: Mako in /usr/lib/python3/dist-packages (from alembic>=1.5.0->optuna) (1.1.3)\n",
            "Requirement already satisfied: typing-extensions>=4.12 in /usr/local/lib/python3.11/dist-packages (from alembic>=1.5.0->optuna) (4.13.2)\n",
            "Requirement already satisfied: greenlet>=1 in /usr/local/lib/python3.11/dist-packages (from sqlalchemy>=1.4.2->optuna) (3.2.2)\n"
          ]
        }
      ]
    },
    {
      "cell_type": "code",
      "source": [
        "gpu_info = !nvidia-smi\n",
        "gpu_info = '\\n'.join(gpu_info)\n",
        "if gpu_info.find('failed') >= 0:\n",
        "  print('Not connected to a GPU')\n",
        "else:\n",
        "  print(gpu_info)"
      ],
      "metadata": {
        "colab": {
          "base_uri": "https://localhost:8080/"
        },
        "id": "ZCbMQF19huBi",
        "outputId": "2702da1e-b135-455c-a261-ad1101f5b6b5"
      },
      "execution_count": 3,
      "outputs": [
        {
          "output_type": "stream",
          "name": "stdout",
          "text": [
            "Sat May 24 18:32:26 2025       \n",
            "+-----------------------------------------------------------------------------------------+\n",
            "| NVIDIA-SMI 550.54.15              Driver Version: 550.54.15      CUDA Version: 12.4     |\n",
            "|-----------------------------------------+------------------------+----------------------+\n",
            "| GPU  Name                 Persistence-M | Bus-Id          Disp.A | Volatile Uncorr. ECC |\n",
            "| Fan  Temp   Perf          Pwr:Usage/Cap |           Memory-Usage | GPU-Util  Compute M. |\n",
            "|                                         |                        |               MIG M. |\n",
            "|=========================================+========================+======================|\n",
            "|   0  NVIDIA A100-SXM4-40GB          Off |   00000000:00:04.0 Off |                    0 |\n",
            "| N/A   30C    P0             46W /  400W |       0MiB /  40960MiB |      0%      Default |\n",
            "|                                         |                        |             Disabled |\n",
            "+-----------------------------------------+------------------------+----------------------+\n",
            "                                                                                         \n",
            "+-----------------------------------------------------------------------------------------+\n",
            "| Processes:                                                                              |\n",
            "|  GPU   GI   CI        PID   Type   Process name                              GPU Memory |\n",
            "|        ID   ID                                                               Usage      |\n",
            "|=========================================================================================|\n",
            "|  No running processes found                                                             |\n",
            "+-----------------------------------------------------------------------------------------+\n"
          ]
        }
      ]
    },
    {
      "cell_type": "code",
      "execution_count": 4,
      "metadata": {
        "colab": {
          "base_uri": "https://localhost:8080/"
        },
        "id": "FVJNRavXhWeM",
        "outputId": "db616233-0aef-4236-9c90-1a9524c2cb82"
      },
      "outputs": [
        {
          "output_type": "stream",
          "name": "stdout",
          "text": [
            "Running on cuda\n"
          ]
        }
      ],
      "source": [
        "import joblib, numpy as np, torch, optuna, gc\n",
        "from torch.utils.data import TensorDataset, DataLoader\n",
        "from torch import nn\n",
        "from sklearn.metrics import (\n",
        "    f1_score,\n",
        "    accuracy_score,\n",
        "    precision_score,\n",
        "    confusion_matrix,\n",
        "    ConfusionMatrixDisplay,\n",
        ")\n",
        "from pathlib import Path\n",
        "\n",
        "\n",
        "DRIVE_PROJECT = \"/content/drive/My Drive/Project 3/\"\n",
        "DEVICE = \"cuda\" if torch.cuda.is_available() else \"cpu\"\n",
        "print(f\"Running on {DEVICE}\")\n",
        "\n",
        "SUPER = joblib.load(DRIVE_PROJECT + \"optimized_data_processing/super_data_payload.pkl\")\n",
        "train_df = SUPER[\"train_df\"]\n",
        "val_df = SUPER[\"val_df\"]\n",
        "FEATURE_SETS = SUPER[\"feature_sets\"]\n",
        "ALL_NUMERIC_COLS = SUPER[\"numeric_cols\"]\n",
        "\n",
        "CKPT_DIR = Path(DRIVE_PROJECT + \"gru_ckpts\")\n",
        "CKPT_DIR.mkdir(exist_ok=True)\n",
        "\n",
        "\n",
        "# Helper: build sliding windows\n",
        "def build_windows(df, win_len, stride, feature_cols):\n",
        "    data, labels = [], []\n",
        "    for _, fl in df.groupby(\"flight_id\"):\n",
        "        X = fl[feature_cols].to_numpy(dtype=np.float32)\n",
        "        y = fl[\"is_7700\"].to_numpy(dtype=np.int8)  # chdanged from bool to int\n",
        "        for i in range(0, len(X) - win_len + 1, stride):\n",
        "            data.append(X[i : i + win_len])\n",
        "            labels.append(int(y[i : i + win_len].any()))  # 1 if ANY emergency in window\n",
        "    return np.stack(data), np.array(labels)\n",
        "\n",
        "\n",
        "# GRU module (same as before) ---------------------------------------\n",
        "class GRUClassifier(nn.Module):\n",
        "    def __init__(self, n_feats, hidden, num_layers, dropout):\n",
        "        super().__init__()\n",
        "        self.gru = nn.GRU(\n",
        "            input_size=n_feats,\n",
        "            hidden_size=hidden,\n",
        "            num_layers=num_layers,\n",
        "            batch_first=True,\n",
        "            dropout=dropout if num_layers > 1 else 0.0,\n",
        "        )\n",
        "        self.head = nn.Sequential(nn.Dropout(dropout), nn.Linear(hidden, 1))\n",
        "\n",
        "    def forward(self, x):\n",
        "        # x : (B, T, F)\n",
        "        _, h_n = self.gru(x)  # h_n : (num_layers, B, hidden)\n",
        "        logits = self.head(h_n[-1])  # use last layer’s hidden\n",
        "        return logits\n",
        "\n",
        "\n",
        "def run_epoch(model, loader, train, optim=None):\n",
        "    model.train(train)\n",
        "    total, preds, gts = 0.0, [], []\n",
        "    for xb, yb in loader:\n",
        "        xb, yb = xb.to(DEVICE), yb.to(DEVICE)\n",
        "        logit = model(xb)\n",
        "        loss = nn.functional.binary_cross_entropy_with_logits(logit, yb)\n",
        "        if train:\n",
        "            optim.zero_grad()\n",
        "            loss.backward()\n",
        "            optim.step()\n",
        "        total += loss.item() * yb.size(0)\n",
        "        preds.extend((torch.sigmoid(logit) > 0.5).cpu().numpy().ravel())\n",
        "        gts.extend(yb.cpu().numpy().ravel())\n",
        "    return total / len(loader.dataset), f1_score(gts, preds)"
      ]
    },
    {
      "cell_type": "code",
      "execution_count": 5,
      "metadata": {
        "id": "jjD4DrS3hWeO"
      },
      "outputs": [],
      "source": [
        "# print(f\"Training set size: {len(train_df)}\")\n",
        "# flights = train_df.flight_id.unique()\n",
        "# print(len(flights), \"flights in training set\")\n",
        "# print(len(val_df.flight_id.unique()), \"flights in validation set\")\n",
        "\n",
        "# selected_flights = np.random.choice(\n",
        "#     flights, size=int(len(flights) * 0.1), replace=False\n",
        "# )\n",
        "# print(\"Using\", len(selected_flights), \"flights for training\")\n",
        "\n",
        "# train_df = train_df[train_df.flight_id.isin(selected_flights)]\n",
        "# print(\"Training set size:\", len(train_df))"
      ]
    },
    {
      "cell_type": "markdown",
      "metadata": {
        "id": "RwLa9qgahWeP"
      },
      "source": [
        " ## 1.  Optuna objective with per-epoch logging"
      ]
    },
    {
      "cell_type": "code",
      "execution_count": 6,
      "metadata": {
        "id": "uyYWdkurhWeP"
      },
      "outputs": [],
      "source": [
        "window_cache = {}\n",
        "\n",
        "\n",
        "def get_windows(df, feat_key, win_len, stride):\n",
        "    # Different DataFrames have different id() values\n",
        "    cache_key = f\"{id(df)}_{feat_key}_{win_len}_{stride}\"\n",
        "    if cache_key not in window_cache:\n",
        "        if feat_key == \"all_numeric\":\n",
        "            X_np, y_np = build_windows(df, win_len, stride, ALL_NUMERIC_COLS)\n",
        "        else:\n",
        "            X_np, y_np = build_windows(df, win_len, stride, FEATURE_SETS[feat_key])\n",
        "        X_t = torch.tensor(X_np, dtype=torch.float32)\n",
        "        y_t = torch.tensor(y_np, dtype=torch.float32).unsqueeze(1)\n",
        "        window_cache[cache_key] = (X_t, y_t)\n",
        "    return window_cache[cache_key]"
      ]
    },
    {
      "cell_type": "code",
      "execution_count": 7,
      "metadata": {
        "id": "wkzRkz9IhWeP"
      },
      "outputs": [],
      "source": [
        "def objective(trial: optuna.trial.Trial):\n",
        "    print(f\"---- Trial #{trial.number}  --  started ----------------------------\")\n",
        "    try:\n",
        "        # -- data hyper-params\n",
        "        feat_key = trial.suggest_categorical(\n",
        "            \"features\", [\"all_numeric\", \"baseline\", \"gru_delta\"]\n",
        "        )\n",
        "\n",
        "        win_len = trial.suggest_categorical(\"win_len\", [30, 60, 120])\n",
        "        stride = trial.suggest_categorical(\"stride\", [10, 20])\n",
        "\n",
        "        X_tr, y_tr = get_windows(train_df, feat_key, win_len, stride)\n",
        "        X_va, y_va = get_windows(val_df, feat_key, win_len, stride)\n",
        "\n",
        "        BATCH = 256\n",
        "        tr_loader = DataLoader(\n",
        "            TensorDataset(X_tr, y_tr),\n",
        "            batch_size=BATCH,\n",
        "            shuffle=True,\n",
        "            drop_last=True,\n",
        "        )\n",
        "        va_loader = DataLoader(\n",
        "            TensorDataset(X_va, y_va),\n",
        "            batch_size=BATCH,\n",
        "            shuffle=False,\n",
        "        )\n",
        "\n",
        "        # -- model hyper-params\n",
        "\n",
        "        hidden = trial.suggest_categorical(\"hidden\", [64, 128, 256])\n",
        "        layers = trial.suggest_int(\"layers\", 1, 3)\n",
        "        drop = trial.suggest_float(\"drop\", 0.0, 0.4, step=0.1)\n",
        "\n",
        "        lr = trial.suggest_float(\"lr\", 1e-4, 5e-3, log=True)\n",
        "\n",
        "        print(\n",
        "            f\"Using features: {feat_key}, win_len: {win_len}, stride: {stride}, \"\n",
        "            f\"hidden: {hidden}, layers: {layers}, drop: {drop}, lr: {lr}\"\n",
        "        )\n",
        "\n",
        "        model = GRUClassifier(X_tr.shape[2], hidden, layers, drop).to(DEVICE)\n",
        "\n",
        "        optim = torch.optim.Adam(model.parameters(), lr=lr)\n",
        "\n",
        "        scheduler = torch.optim.lr_scheduler.ReduceLROnPlateau(\n",
        "            optim, mode=\"max\", factor=0.5, patience=1\n",
        "        )\n",
        "\n",
        "        # -- training loop with logging\n",
        "\n",
        "        lr_curve, tr_loss_curve, val_f1_curve = [], [], []\n",
        "\n",
        "        EPOCHS = 10\n",
        "\n",
        "        for ep in range(1, EPOCHS + 1):\n",
        "            print(f\"Epoch {ep}/{EPOCHS}  —  LR: {optim.param_groups[0]['lr']:.6f}\")\n",
        "\n",
        "            tr_loss, _ = run_epoch(model, tr_loader, True, optim)\n",
        "            _, val_f1 = run_epoch(model, va_loader, False)\n",
        "            lr_now = optim.param_groups[0][\"lr\"]\n",
        "            lr_curve.append(float(lr_now))\n",
        "            tr_loss_curve.append(float(tr_loss))\n",
        "            val_f1_curve.append(float(val_f1))\n",
        "\n",
        "            # report for pruning & Optuna dashboards\n",
        "            trial.report(val_f1, ep)\n",
        "            if trial.should_prune():\n",
        "                print(f\"Trial pruned at epoch {ep}, F1: {val_f1}\")\n",
        "                raise optuna.TrialPruned()\n",
        "            scheduler.step(val_f1)\n",
        "        ckpt_path = CKPT_DIR / f\"trial_{trial.number}.pt\"\n",
        "        torch.save(model.state_dict(), ckpt_path)\n",
        "\n",
        "        # save curves for later plotting\n",
        "        trial.set_user_attr(\"lr_curve\", lr_curve)\n",
        "        trial.set_user_attr(\"train_loss_curve\", tr_loss_curve)\n",
        "        trial.set_user_attr(\"val_f1_curve\", val_f1_curve)\n",
        "        trial.set_user_attr(\"ckpt\", str(ckpt_path))\n",
        "        trial.set_user_attr(\"features\", feat_key)\n",
        "        trial.set_user_attr(\"win_len\", win_len)\n",
        "        trial.set_user_attr(\"stride\", stride)\n",
        "\n",
        "        # tidy memory\n",
        "        del model, X_tr, y_tr, X_va, y_va, tr_loader, va_loader\n",
        "        torch.cuda.empty_cache()\n",
        "        gc.collect()\n",
        "\n",
        "        return val_f1_curve[-1]  # final validation F1\n",
        "    except Exception as e:\n",
        "        print(f\"Trial #{trial.number} failed with error: {e}\")\n",
        "        raise"
      ]
    },
    {
      "cell_type": "markdown",
      "metadata": {
        "id": "T7U61-vEhWeQ"
      },
      "source": [
        " ## 2.  Launch / resume the study"
      ]
    },
    {
      "cell_type": "code",
      "execution_count": 8,
      "metadata": {
        "colab": {
          "base_uri": "https://localhost:8080/"
        },
        "id": "Fh8IzJ1YhWeQ",
        "outputId": "88d67142-c5f3-473b-b2a4-eb857db1f5a3"
      },
      "outputs": [
        {
          "output_type": "stream",
          "name": "stderr",
          "text": [
            "[I 2025-05-24 18:32:31,467] A new study created in RDB with name: gru_hpo\n"
          ]
        },
        {
          "output_type": "stream",
          "name": "stdout",
          "text": [
            "---- Trial #0  --  started ----------------------------\n",
            "Using features: all_numeric, win_len: 120, stride: 20, hidden: 128, layers: 2, drop: 0.2, lr: 0.0014991826835680123\n",
            "Epoch 1/10  —  LR: 0.001499\n",
            "Epoch 2/10  —  LR: 0.001499\n",
            "Epoch 3/10  —  LR: 0.001499\n",
            "Epoch 4/10  —  LR: 0.001499\n",
            "Epoch 5/10  —  LR: 0.000750\n",
            "Epoch 6/10  —  LR: 0.000750\n",
            "Epoch 7/10  —  LR: 0.000375\n",
            "Epoch 8/10  —  LR: 0.000375\n",
            "Epoch 9/10  —  LR: 0.000187\n",
            "Epoch 10/10  —  LR: 0.000187\n"
          ]
        },
        {
          "output_type": "stream",
          "name": "stderr",
          "text": [
            "[I 2025-05-24 18:33:32,834] Trial 0 finished with value: 0.59240729841083 and parameters: {'features': 'all_numeric', 'win_len': 120, 'stride': 20, 'hidden': 128, 'layers': 2, 'drop': 0.2, 'lr': 0.0014991826835680123}. Best is trial 0 with value: 0.59240729841083.\n"
          ]
        },
        {
          "output_type": "stream",
          "name": "stdout",
          "text": [
            "---- Trial #1  --  started ----------------------------\n",
            "Using features: gru_delta, win_len: 30, stride: 20, hidden: 128, layers: 3, drop: 0.30000000000000004, lr: 0.002505797474962122\n",
            "Epoch 1/10  —  LR: 0.002506\n",
            "Epoch 2/10  —  LR: 0.002506\n",
            "Epoch 3/10  —  LR: 0.002506\n",
            "Epoch 4/10  —  LR: 0.001253\n",
            "Epoch 5/10  —  LR: 0.001253\n",
            "Epoch 6/10  —  LR: 0.000626\n",
            "Epoch 7/10  —  LR: 0.000626\n",
            "Epoch 8/10  —  LR: 0.000313\n",
            "Epoch 9/10  —  LR: 0.000313\n",
            "Epoch 10/10  —  LR: 0.000157\n"
          ]
        },
        {
          "output_type": "stream",
          "name": "stderr",
          "text": [
            "[I 2025-05-24 18:34:13,037] Trial 1 finished with value: 0.5133005694671972 and parameters: {'features': 'gru_delta', 'win_len': 30, 'stride': 20, 'hidden': 128, 'layers': 3, 'drop': 0.30000000000000004, 'lr': 0.002505797474962122}. Best is trial 0 with value: 0.59240729841083.\n"
          ]
        },
        {
          "output_type": "stream",
          "name": "stdout",
          "text": [
            "---- Trial #2  --  started ----------------------------\n",
            "Using features: all_numeric, win_len: 30, stride: 20, hidden: 64, layers: 2, drop: 0.30000000000000004, lr: 0.0009150177573060654\n",
            "Epoch 1/10  —  LR: 0.000915\n",
            "Epoch 2/10  —  LR: 0.000915\n",
            "Epoch 3/10  —  LR: 0.000915\n",
            "Epoch 4/10  —  LR: 0.000458\n",
            "Epoch 5/10  —  LR: 0.000458\n",
            "Epoch 6/10  —  LR: 0.000458\n",
            "Epoch 7/10  —  LR: 0.000458\n",
            "Epoch 8/10  —  LR: 0.000458\n",
            "Epoch 9/10  —  LR: 0.000458\n",
            "Epoch 10/10  —  LR: 0.000229\n"
          ]
        },
        {
          "output_type": "stream",
          "name": "stderr",
          "text": [
            "[I 2025-05-24 18:34:52,219] Trial 2 finished with value: 0.6069326357096141 and parameters: {'features': 'all_numeric', 'win_len': 30, 'stride': 20, 'hidden': 64, 'layers': 2, 'drop': 0.30000000000000004, 'lr': 0.0009150177573060654}. Best is trial 2 with value: 0.6069326357096141.\n"
          ]
        },
        {
          "output_type": "stream",
          "name": "stdout",
          "text": [
            "---- Trial #3  --  started ----------------------------\n",
            "Using features: gru_delta, win_len: 30, stride: 10, hidden: 128, layers: 1, drop: 0.2, lr: 0.00034853056581768383\n",
            "Epoch 1/10  —  LR: 0.000349\n",
            "Epoch 2/10  —  LR: 0.000349\n",
            "Epoch 3/10  —  LR: 0.000349\n",
            "Epoch 4/10  —  LR: 0.000349\n",
            "Epoch 5/10  —  LR: 0.000174\n",
            "Epoch 6/10  —  LR: 0.000174\n",
            "Epoch 7/10  —  LR: 0.000087\n",
            "Epoch 8/10  —  LR: 0.000087\n",
            "Epoch 9/10  —  LR: 0.000044\n",
            "Epoch 10/10  —  LR: 0.000044\n"
          ]
        },
        {
          "output_type": "stream",
          "name": "stderr",
          "text": [
            "[I 2025-05-24 18:36:00,847] Trial 3 finished with value: 0.45886442641946695 and parameters: {'features': 'gru_delta', 'win_len': 30, 'stride': 10, 'hidden': 128, 'layers': 1, 'drop': 0.2, 'lr': 0.00034853056581768383}. Best is trial 2 with value: 0.6069326357096141.\n"
          ]
        },
        {
          "output_type": "stream",
          "name": "stdout",
          "text": [
            "---- Trial #4  --  started ----------------------------\n",
            "Using features: all_numeric, win_len: 120, stride: 20, hidden: 128, layers: 1, drop: 0.0, lr: 0.0007274060065459558\n",
            "Epoch 1/10  —  LR: 0.000727\n",
            "Epoch 2/10  —  LR: 0.000727\n",
            "Epoch 3/10  —  LR: 0.000727\n",
            "Epoch 4/10  —  LR: 0.000727\n",
            "Epoch 5/10  —  LR: 0.000727\n",
            "Epoch 6/10  —  LR: 0.000364\n",
            "Epoch 7/10  —  LR: 0.000364\n",
            "Epoch 8/10  —  LR: 0.000182\n",
            "Epoch 9/10  —  LR: 0.000182\n",
            "Epoch 10/10  —  LR: 0.000091\n"
          ]
        },
        {
          "output_type": "stream",
          "name": "stderr",
          "text": [
            "[I 2025-05-24 18:36:47,591] Trial 4 finished with value: 0.5912642309695662 and parameters: {'features': 'all_numeric', 'win_len': 120, 'stride': 20, 'hidden': 128, 'layers': 1, 'drop': 0.0, 'lr': 0.0007274060065459558}. Best is trial 2 with value: 0.6069326357096141.\n"
          ]
        },
        {
          "output_type": "stream",
          "name": "stdout",
          "text": [
            "---- Trial #5  --  started ----------------------------\n",
            "Using features: all_numeric, win_len: 30, stride: 10, hidden: 256, layers: 1, drop: 0.1, lr: 0.0018463999062270768\n",
            "Epoch 1/10  —  LR: 0.001846\n",
            "Epoch 2/10  —  LR: 0.001846\n",
            "Epoch 3/10  —  LR: 0.001846\n",
            "Epoch 4/10  —  LR: 0.000923\n",
            "Epoch 5/10  —  LR: 0.000923\n",
            "Epoch 6/10  —  LR: 0.000462\n",
            "Epoch 7/10  —  LR: 0.000462\n",
            "Epoch 8/10  —  LR: 0.000231\n",
            "Epoch 9/10  —  LR: 0.000231\n",
            "Epoch 10/10  —  LR: 0.000115\n"
          ]
        },
        {
          "output_type": "stream",
          "name": "stderr",
          "text": [
            "[I 2025-05-24 18:38:11,367] Trial 5 finished with value: 0.56912288948956 and parameters: {'features': 'all_numeric', 'win_len': 30, 'stride': 10, 'hidden': 256, 'layers': 1, 'drop': 0.1, 'lr': 0.0018463999062270768}. Best is trial 2 with value: 0.6069326357096141.\n"
          ]
        },
        {
          "output_type": "stream",
          "name": "stdout",
          "text": [
            "---- Trial #6  --  started ----------------------------\n",
            "Using features: gru_delta, win_len: 60, stride: 20, hidden: 128, layers: 2, drop: 0.0, lr: 0.00023885327130069667\n",
            "Epoch 1/10  —  LR: 0.000239\n",
            "Epoch 2/10  —  LR: 0.000239\n",
            "Epoch 3/10  —  LR: 0.000239\n"
          ]
        },
        {
          "output_type": "stream",
          "name": "stderr",
          "text": [
            "[I 2025-05-24 18:38:24,741] Trial 6 pruned. \n"
          ]
        },
        {
          "output_type": "stream",
          "name": "stdout",
          "text": [
            "Trial pruned at epoch 3, F1: 0.5377649941408331\n",
            "Trial #6 failed with error: \n",
            "---- Trial #7  --  started ----------------------------\n",
            "Using features: baseline, win_len: 60, stride: 20, hidden: 256, layers: 2, drop: 0.0, lr: 0.0005277622486733176\n",
            "Epoch 1/10  —  LR: 0.000528\n",
            "Epoch 2/10  —  LR: 0.000528\n",
            "Epoch 3/10  —  LR: 0.000528\n",
            "Epoch 4/10  —  LR: 0.000264\n",
            "Epoch 5/10  —  LR: 0.000264\n",
            "Epoch 6/10  —  LR: 0.000132\n",
            "Epoch 7/10  —  LR: 0.000132\n",
            "Epoch 8/10  —  LR: 0.000066\n",
            "Epoch 9/10  —  LR: 0.000066\n",
            "Epoch 10/10  —  LR: 0.000033\n"
          ]
        },
        {
          "output_type": "stream",
          "name": "stderr",
          "text": [
            "[I 2025-05-24 18:39:29,193] Trial 7 finished with value: 0.5580473888580711 and parameters: {'features': 'baseline', 'win_len': 60, 'stride': 20, 'hidden': 256, 'layers': 2, 'drop': 0.0, 'lr': 0.0005277622486733176}. Best is trial 2 with value: 0.6069326357096141.\n"
          ]
        },
        {
          "output_type": "stream",
          "name": "stdout",
          "text": [
            "---- Trial #8  --  started ----------------------------\n",
            "Using features: all_numeric, win_len: 60, stride: 20, hidden: 64, layers: 1, drop: 0.0, lr: 0.00034481735133938426\n",
            "Epoch 1/10  —  LR: 0.000345\n",
            "Epoch 2/10  —  LR: 0.000345\n",
            "Epoch 3/10  —  LR: 0.000345\n",
            "Epoch 4/10  —  LR: 0.000345\n",
            "Epoch 5/10  —  LR: 0.000345\n",
            "Epoch 6/10  —  LR: 0.000345\n",
            "Epoch 7/10  —  LR: 0.000345\n",
            "Epoch 8/10  —  LR: 0.000172\n",
            "Epoch 9/10  —  LR: 0.000172\n",
            "Epoch 10/10  —  LR: 0.000086\n"
          ]
        },
        {
          "output_type": "stream",
          "name": "stderr",
          "text": [
            "[I 2025-05-24 18:40:09,099] Trial 8 finished with value: 0.5947565543071162 and parameters: {'features': 'all_numeric', 'win_len': 60, 'stride': 20, 'hidden': 64, 'layers': 1, 'drop': 0.0, 'lr': 0.00034481735133938426}. Best is trial 2 with value: 0.6069326357096141.\n"
          ]
        },
        {
          "output_type": "stream",
          "name": "stdout",
          "text": [
            "---- Trial #9  --  started ----------------------------\n",
            "Using features: gru_delta, win_len: 30, stride: 10, hidden: 256, layers: 2, drop: 0.2, lr: 0.0001133670646053326\n",
            "Epoch 1/10  —  LR: 0.000113\n",
            "Epoch 2/10  —  LR: 0.000113\n",
            "Epoch 3/10  —  LR: 0.000113\n"
          ]
        },
        {
          "output_type": "stream",
          "name": "stderr",
          "text": [
            "[I 2025-05-24 18:40:38,171] Trial 9 pruned. \n"
          ]
        },
        {
          "output_type": "stream",
          "name": "stdout",
          "text": [
            "Trial pruned at epoch 3, F1: 0.5197630476968644\n",
            "Trial #9 failed with error: \n",
            "---- Trial #10  --  started ----------------------------\n",
            "Using features: baseline, win_len: 30, stride: 10, hidden: 64, layers: 3, drop: 0.4, lr: 0.0035251692205568942\n",
            "Epoch 1/10  —  LR: 0.003525\n",
            "Epoch 2/10  —  LR: 0.003525\n",
            "Epoch 3/10  —  LR: 0.003525\n"
          ]
        },
        {
          "output_type": "stream",
          "name": "stderr",
          "text": [
            "[I 2025-05-24 18:41:03,170] Trial 10 pruned. \n"
          ]
        },
        {
          "output_type": "stream",
          "name": "stdout",
          "text": [
            "Trial pruned at epoch 3, F1: 0.5970329272705344\n",
            "Trial #10 failed with error: \n",
            "---- Trial #11  --  started ----------------------------\n",
            "Using features: all_numeric, win_len: 60, stride: 20, hidden: 64, layers: 1, drop: 0.4, lr: 0.0008465359988196493\n",
            "Epoch 1/10  —  LR: 0.000847\n",
            "Epoch 2/10  —  LR: 0.000847\n",
            "Epoch 3/10  —  LR: 0.000847\n",
            "Epoch 4/10  —  LR: 0.000847\n",
            "Epoch 5/10  —  LR: 0.000423\n",
            "Epoch 6/10  —  LR: 0.000423\n",
            "Epoch 7/10  —  LR: 0.000212\n",
            "Epoch 8/10  —  LR: 0.000212\n",
            "Epoch 9/10  —  LR: 0.000106\n",
            "Epoch 10/10  —  LR: 0.000106\n"
          ]
        },
        {
          "output_type": "stream",
          "name": "stderr",
          "text": [
            "[I 2025-05-24 18:41:40,864] Trial 11 finished with value: 0.5800460223537146 and parameters: {'features': 'all_numeric', 'win_len': 60, 'stride': 20, 'hidden': 64, 'layers': 1, 'drop': 0.4, 'lr': 0.0008465359988196493}. Best is trial 2 with value: 0.6069326357096141.\n"
          ]
        },
        {
          "output_type": "stream",
          "name": "stdout",
          "text": [
            "---- Trial #12  --  started ----------------------------\n",
            "Using features: all_numeric, win_len: 60, stride: 20, hidden: 64, layers: 3, drop: 0.30000000000000004, lr: 0.00019346807282216746\n",
            "Epoch 1/10  —  LR: 0.000193\n",
            "Epoch 2/10  —  LR: 0.000193\n",
            "Epoch 3/10  —  LR: 0.000193\n",
            "Epoch 4/10  —  LR: 0.000193\n",
            "Epoch 5/10  —  LR: 0.000193\n",
            "Epoch 6/10  —  LR: 0.000193\n",
            "Epoch 7/10  —  LR: 0.000097\n",
            "Epoch 8/10  —  LR: 0.000097\n",
            "Epoch 9/10  —  LR: 0.000048\n",
            "Epoch 10/10  —  LR: 0.000048\n"
          ]
        },
        {
          "output_type": "stream",
          "name": "stderr",
          "text": [
            "[I 2025-05-24 18:42:24,850] Trial 12 finished with value: 0.6265307870172133 and parameters: {'features': 'all_numeric', 'win_len': 60, 'stride': 20, 'hidden': 64, 'layers': 3, 'drop': 0.30000000000000004, 'lr': 0.00019346807282216746}. Best is trial 12 with value: 0.6265307870172133.\n"
          ]
        },
        {
          "output_type": "stream",
          "name": "stdout",
          "text": [
            "---- Trial #13  --  started ----------------------------\n",
            "Using features: all_numeric, win_len: 60, stride: 20, hidden: 64, layers: 3, drop: 0.30000000000000004, lr: 0.0001382355764544188\n",
            "Epoch 1/10  —  LR: 0.000138\n",
            "Epoch 2/10  —  LR: 0.000138\n",
            "Epoch 3/10  —  LR: 0.000138\n"
          ]
        },
        {
          "output_type": "stream",
          "name": "stderr",
          "text": [
            "[I 2025-05-24 18:42:37,966] Trial 13 pruned. \n"
          ]
        },
        {
          "output_type": "stream",
          "name": "stdout",
          "text": [
            "Trial pruned at epoch 3, F1: 0.6055028281085226\n",
            "Trial #13 failed with error: \n",
            "---- Trial #14  --  started ----------------------------\n",
            "Using features: all_numeric, win_len: 120, stride: 20, hidden: 64, layers: 3, drop: 0.30000000000000004, lr: 0.0011876691350819562\n",
            "Epoch 1/10  —  LR: 0.001188\n",
            "Epoch 2/10  —  LR: 0.001188\n",
            "Epoch 3/10  —  LR: 0.001188\n",
            "Epoch 4/10  —  LR: 0.001188\n",
            "Epoch 5/10  —  LR: 0.001188\n",
            "Epoch 6/10  —  LR: 0.000594\n",
            "Epoch 7/10  —  LR: 0.000594\n",
            "Epoch 8/10  —  LR: 0.000297\n",
            "Epoch 9/10  —  LR: 0.000297\n",
            "Epoch 10/10  —  LR: 0.000297\n"
          ]
        },
        {
          "output_type": "stream",
          "name": "stderr",
          "text": [
            "[I 2025-05-24 18:43:36,911] Trial 14 finished with value: 0.6167756518931138 and parameters: {'features': 'all_numeric', 'win_len': 120, 'stride': 20, 'hidden': 64, 'layers': 3, 'drop': 0.30000000000000004, 'lr': 0.0011876691350819562}. Best is trial 12 with value: 0.6265307870172133.\n"
          ]
        },
        {
          "output_type": "stream",
          "name": "stdout",
          "text": [
            "---- Trial #15  --  started ----------------------------\n",
            "Using features: all_numeric, win_len: 120, stride: 20, hidden: 64, layers: 3, drop: 0.30000000000000004, lr: 0.00020109280552196062\n",
            "Epoch 1/10  —  LR: 0.000201\n",
            "Epoch 2/10  —  LR: 0.000201\n",
            "Epoch 3/10  —  LR: 0.000201\n",
            "Epoch 4/10  —  LR: 0.000201\n",
            "Epoch 5/10  —  LR: 0.000201\n",
            "Epoch 6/10  —  LR: 0.000201\n",
            "Epoch 7/10  —  LR: 0.000101\n",
            "Epoch 8/10  —  LR: 0.000101\n",
            "Epoch 9/10  —  LR: 0.000050\n",
            "Epoch 10/10  —  LR: 0.000050\n"
          ]
        },
        {
          "output_type": "stream",
          "name": "stderr",
          "text": [
            "[I 2025-05-24 18:44:36,480] Trial 15 finished with value: 0.6114767932489451 and parameters: {'features': 'all_numeric', 'win_len': 120, 'stride': 20, 'hidden': 64, 'layers': 3, 'drop': 0.30000000000000004, 'lr': 0.00020109280552196062}. Best is trial 12 with value: 0.6265307870172133.\n"
          ]
        },
        {
          "output_type": "stream",
          "name": "stdout",
          "text": [
            "---- Trial #16  --  started ----------------------------\n",
            "Using features: baseline, win_len: 120, stride: 20, hidden: 64, layers: 3, drop: 0.4, lr: 0.00494201611838819\n",
            "Epoch 1/10  —  LR: 0.004942\n",
            "Epoch 2/10  —  LR: 0.004942\n",
            "Epoch 3/10  —  LR: 0.004942\n"
          ]
        },
        {
          "output_type": "stream",
          "name": "stderr",
          "text": [
            "[I 2025-05-24 18:44:55,165] Trial 16 pruned. \n"
          ]
        },
        {
          "output_type": "stream",
          "name": "stdout",
          "text": [
            "Trial pruned at epoch 3, F1: 0.5850730221306335\n",
            "Trial #16 failed with error: \n",
            "---- Trial #17  --  started ----------------------------\n",
            "Using features: all_numeric, win_len: 120, stride: 20, hidden: 64, layers: 3, drop: 0.1, lr: 0.0013115337177285527\n",
            "Epoch 1/10  —  LR: 0.001312\n",
            "Epoch 2/10  —  LR: 0.001312\n",
            "Epoch 3/10  —  LR: 0.001312\n",
            "Epoch 4/10  —  LR: 0.001312\n",
            "Epoch 5/10  —  LR: 0.000656\n",
            "Epoch 6/10  —  LR: 0.000656\n",
            "Epoch 7/10  —  LR: 0.000328\n",
            "Epoch 8/10  —  LR: 0.000328\n",
            "Epoch 9/10  —  LR: 0.000164\n",
            "Epoch 10/10  —  LR: 0.000164\n"
          ]
        },
        {
          "output_type": "stream",
          "name": "stderr",
          "text": [
            "[I 2025-05-24 18:45:54,904] Trial 17 finished with value: 0.577039946638998 and parameters: {'features': 'all_numeric', 'win_len': 120, 'stride': 20, 'hidden': 64, 'layers': 3, 'drop': 0.1, 'lr': 0.0013115337177285527}. Best is trial 12 with value: 0.6265307870172133.\n"
          ]
        },
        {
          "output_type": "stream",
          "name": "stdout",
          "text": [
            "---- Trial #18  --  started ----------------------------\n",
            "Using features: all_numeric, win_len: 120, stride: 10, hidden: 64, layers: 3, drop: 0.30000000000000004, lr: 0.0004992899827996533\n",
            "Epoch 1/10  —  LR: 0.000499\n",
            "Epoch 2/10  —  LR: 0.000499\n",
            "Epoch 3/10  —  LR: 0.000499\n",
            "Epoch 4/10  —  LR: 0.000499\n",
            "Epoch 5/10  —  LR: 0.000499\n",
            "Epoch 6/10  —  LR: 0.000250\n",
            "Epoch 7/10  —  LR: 0.000250\n",
            "Epoch 8/10  —  LR: 0.000125\n",
            "Epoch 9/10  —  LR: 0.000125\n",
            "Epoch 10/10  —  LR: 0.000062\n"
          ]
        },
        {
          "output_type": "stream",
          "name": "stderr",
          "text": [
            "[I 2025-05-24 18:47:57,125] Trial 18 finished with value: 0.5795749885338634 and parameters: {'features': 'all_numeric', 'win_len': 120, 'stride': 10, 'hidden': 64, 'layers': 3, 'drop': 0.30000000000000004, 'lr': 0.0004992899827996533}. Best is trial 12 with value: 0.6265307870172133.\n"
          ]
        },
        {
          "output_type": "stream",
          "name": "stdout",
          "text": [
            "---- Trial #19  --  started ----------------------------\n",
            "Using features: baseline, win_len: 60, stride: 20, hidden: 64, layers: 3, drop: 0.1, lr: 0.0001650272056045969\n",
            "Epoch 1/10  —  LR: 0.000165\n",
            "Epoch 2/10  —  LR: 0.000165\n",
            "Epoch 3/10  —  LR: 0.000165\n"
          ]
        },
        {
          "output_type": "stream",
          "name": "stderr",
          "text": [
            "[I 2025-05-24 18:48:09,584] Trial 19 pruned. \n"
          ]
        },
        {
          "output_type": "stream",
          "name": "stdout",
          "text": [
            "Trial pruned at epoch 3, F1: 0.579695634761714\n",
            "Trial #19 failed with error: \n",
            "---- Trial #20  --  started ----------------------------\n",
            "Using features: all_numeric, win_len: 120, stride: 20, hidden: 256, layers: 3, drop: 0.4, lr: 0.00036584761429955684\n",
            "Epoch 1/10  —  LR: 0.000366\n",
            "Epoch 2/10  —  LR: 0.000366\n",
            "Epoch 3/10  —  LR: 0.000366\n",
            "Epoch 4/10  —  LR: 0.000366\n",
            "Epoch 5/10  —  LR: 0.000366\n",
            "Epoch 6/10  —  LR: 0.000183\n",
            "Epoch 7/10  —  LR: 0.000183\n",
            "Epoch 8/10  —  LR: 0.000091\n",
            "Epoch 9/10  —  LR: 0.000091\n",
            "Epoch 10/10  —  LR: 0.000046\n"
          ]
        },
        {
          "output_type": "stream",
          "name": "stderr",
          "text": [
            "[I 2025-05-24 18:50:29,858] Trial 20 finished with value: 0.5914166350170907 and parameters: {'features': 'all_numeric', 'win_len': 120, 'stride': 20, 'hidden': 256, 'layers': 3, 'drop': 0.4, 'lr': 0.00036584761429955684}. Best is trial 12 with value: 0.6265307870172133.\n"
          ]
        },
        {
          "output_type": "stream",
          "name": "stdout",
          "text": [
            "---- Trial #21  --  started ----------------------------\n",
            "Using features: all_numeric, win_len: 120, stride: 20, hidden: 64, layers: 3, drop: 0.30000000000000004, lr: 0.00021067093765608988\n",
            "Epoch 1/10  —  LR: 0.000211\n",
            "Epoch 2/10  —  LR: 0.000211\n",
            "Epoch 3/10  —  LR: 0.000211\n",
            "Epoch 4/10  —  LR: 0.000211\n",
            "Epoch 5/10  —  LR: 0.000211\n",
            "Epoch 6/10  —  LR: 0.000105\n",
            "Epoch 7/10  —  LR: 0.000105\n",
            "Epoch 8/10  —  LR: 0.000105\n",
            "Epoch 9/10  —  LR: 0.000105\n",
            "Epoch 10/10  —  LR: 0.000105\n"
          ]
        },
        {
          "output_type": "stream",
          "name": "stderr",
          "text": [
            "[I 2025-05-24 18:51:28,834] Trial 21 finished with value: 0.633571309978416 and parameters: {'features': 'all_numeric', 'win_len': 120, 'stride': 20, 'hidden': 64, 'layers': 3, 'drop': 0.30000000000000004, 'lr': 0.00021067093765608988}. Best is trial 21 with value: 0.633571309978416.\n"
          ]
        },
        {
          "output_type": "stream",
          "name": "stdout",
          "text": [
            "---- Trial #22  --  started ----------------------------\n",
            "Using features: all_numeric, win_len: 120, stride: 20, hidden: 64, layers: 3, drop: 0.30000000000000004, lr: 0.00010018074769951827\n",
            "Epoch 1/10  —  LR: 0.000100\n",
            "Epoch 2/10  —  LR: 0.000100\n",
            "Epoch 3/10  —  LR: 0.000100\n"
          ]
        },
        {
          "output_type": "stream",
          "name": "stderr",
          "text": [
            "[I 2025-05-24 18:51:46,707] Trial 22 pruned. \n"
          ]
        },
        {
          "output_type": "stream",
          "name": "stdout",
          "text": [
            "Trial pruned at epoch 3, F1: 0.6011352885525071\n",
            "Trial #22 failed with error: \n",
            "---- Trial #23  --  started ----------------------------\n",
            "Using features: all_numeric, win_len: 120, stride: 20, hidden: 64, layers: 3, drop: 0.2, lr: 0.0002581021390253056\n",
            "Epoch 1/10  —  LR: 0.000258\n",
            "Epoch 2/10  —  LR: 0.000258\n",
            "Epoch 3/10  —  LR: 0.000258\n"
          ]
        },
        {
          "output_type": "stream",
          "name": "stderr",
          "text": [
            "[I 2025-05-24 18:52:04,494] Trial 23 pruned. \n"
          ]
        },
        {
          "output_type": "stream",
          "name": "stdout",
          "text": [
            "Trial pruned at epoch 3, F1: 0.5903656212094958\n",
            "Trial #23 failed with error: \n",
            "---- Trial #24  --  started ----------------------------\n",
            "Using features: all_numeric, win_len: 120, stride: 20, hidden: 64, layers: 2, drop: 0.30000000000000004, lr: 0.0012067733912012062\n",
            "Epoch 1/10  —  LR: 0.001207\n",
            "Epoch 2/10  —  LR: 0.001207\n",
            "Epoch 3/10  —  LR: 0.001207\n",
            "Epoch 4/10  —  LR: 0.000603\n",
            "Epoch 5/10  —  LR: 0.000603\n",
            "Epoch 6/10  —  LR: 0.000302\n",
            "Epoch 7/10  —  LR: 0.000302\n",
            "Epoch 8/10  —  LR: 0.000151\n",
            "Epoch 9/10  —  LR: 0.000151\n",
            "Epoch 10/10  —  LR: 0.000075\n"
          ]
        },
        {
          "output_type": "stream",
          "name": "stderr",
          "text": [
            "[I 2025-05-24 18:52:54,150] Trial 24 finished with value: 0.5835211620335587 and parameters: {'features': 'all_numeric', 'win_len': 120, 'stride': 20, 'hidden': 64, 'layers': 2, 'drop': 0.30000000000000004, 'lr': 0.0012067733912012062}. Best is trial 21 with value: 0.633571309978416.\n"
          ]
        },
        {
          "output_type": "stream",
          "name": "stdout",
          "text": [
            "---- Trial #25  --  started ----------------------------\n",
            "Using features: all_numeric, win_len: 60, stride: 20, hidden: 64, layers: 3, drop: 0.2, lr: 0.0005357327159555071\n",
            "Epoch 1/10  —  LR: 0.000536\n",
            "Epoch 2/10  —  LR: 0.000536\n",
            "Epoch 3/10  —  LR: 0.000536\n",
            "Epoch 4/10  —  LR: 0.000268\n",
            "Epoch 5/10  —  LR: 0.000268\n",
            "Epoch 6/10  —  LR: 0.000134\n",
            "Epoch 7/10  —  LR: 0.000134\n",
            "Epoch 8/10  —  LR: 0.000134\n",
            "Epoch 9/10  —  LR: 0.000134\n",
            "Epoch 10/10  —  LR: 0.000067\n"
          ]
        },
        {
          "output_type": "stream",
          "name": "stderr",
          "text": [
            "[I 2025-05-24 18:53:38,441] Trial 25 finished with value: 0.6126080752119534 and parameters: {'features': 'all_numeric', 'win_len': 60, 'stride': 20, 'hidden': 64, 'layers': 3, 'drop': 0.2, 'lr': 0.0005357327159555071}. Best is trial 21 with value: 0.633571309978416.\n"
          ]
        },
        {
          "output_type": "stream",
          "name": "stdout",
          "text": [
            "---- Trial #26  --  started ----------------------------\n",
            "Using features: all_numeric, win_len: 120, stride: 10, hidden: 64, layers: 3, drop: 0.4, lr: 0.00016107243933877714\n",
            "Epoch 1/10  —  LR: 0.000161\n",
            "Epoch 2/10  —  LR: 0.000161\n",
            "Epoch 3/10  —  LR: 0.000161\n",
            "Epoch 4/10  —  LR: 0.000161\n",
            "Epoch 5/10  —  LR: 0.000161\n",
            "Epoch 6/10  —  LR: 0.000161\n",
            "Epoch 7/10  —  LR: 0.000161\n",
            "Epoch 8/10  —  LR: 0.000081\n",
            "Epoch 9/10  —  LR: 0.000081\n",
            "Epoch 10/10  —  LR: 0.000081\n"
          ]
        },
        {
          "output_type": "stream",
          "name": "stderr",
          "text": [
            "[I 2025-05-24 18:55:36,517] Trial 26 finished with value: 0.6189976384151141 and parameters: {'features': 'all_numeric', 'win_len': 120, 'stride': 10, 'hidden': 64, 'layers': 3, 'drop': 0.4, 'lr': 0.00016107243933877714}. Best is trial 21 with value: 0.633571309978416.\n"
          ]
        },
        {
          "output_type": "stream",
          "name": "stdout",
          "text": [
            "---- Trial #27  --  started ----------------------------\n",
            "Using features: all_numeric, win_len: 60, stride: 10, hidden: 64, layers: 2, drop: 0.4, lr: 0.00017099067108851613\n",
            "Epoch 1/10  —  LR: 0.000171\n",
            "Epoch 2/10  —  LR: 0.000171\n",
            "Epoch 3/10  —  LR: 0.000171\n"
          ]
        },
        {
          "output_type": "stream",
          "name": "stderr",
          "text": [
            "[I 2025-05-24 18:56:04,064] Trial 27 pruned. \n"
          ]
        },
        {
          "output_type": "stream",
          "name": "stdout",
          "text": [
            "Trial pruned at epoch 3, F1: 0.6085622646771719\n",
            "Trial #27 failed with error: \n",
            "---- Trial #28  --  started ----------------------------\n",
            "Using features: gru_delta, win_len: 120, stride: 10, hidden: 256, layers: 3, drop: 0.4, lr: 0.00025676237899707803\n",
            "Epoch 1/10  —  LR: 0.000257\n",
            "Epoch 2/10  —  LR: 0.000257\n",
            "Epoch 3/10  —  LR: 0.000257\n"
          ]
        },
        {
          "output_type": "stream",
          "name": "stderr",
          "text": [
            "[I 2025-05-24 18:57:28,376] Trial 28 pruned. \n"
          ]
        },
        {
          "output_type": "stream",
          "name": "stdout",
          "text": [
            "Trial pruned at epoch 3, F1: 0.5059794196718272\n",
            "Trial #28 failed with error: \n",
            "---- Trial #29  --  started ----------------------------\n",
            "Using features: baseline, win_len: 120, stride: 10, hidden: 64, layers: 2, drop: 0.4, lr: 0.00013710731654461214\n",
            "Epoch 1/10  —  LR: 0.000137\n",
            "Epoch 2/10  —  LR: 0.000137\n",
            "Epoch 3/10  —  LR: 0.000137\n"
          ]
        },
        {
          "output_type": "stream",
          "name": "stderr",
          "text": [
            "[I 2025-05-24 18:57:58,311] Trial 29 pruned. \n"
          ]
        },
        {
          "output_type": "stream",
          "name": "stdout",
          "text": [
            "Trial pruned at epoch 3, F1: 0.5840594693053709\n",
            "Trial #29 failed with error: \n",
            "---- Trial #30  --  started ----------------------------\n",
            "Using features: all_numeric, win_len: 60, stride: 10, hidden: 128, layers: 2, drop: 0.30000000000000004, lr: 0.000225565809008508\n",
            "Epoch 1/10  —  LR: 0.000226\n",
            "Epoch 2/10  —  LR: 0.000226\n",
            "Epoch 3/10  —  LR: 0.000226\n",
            "Epoch 4/10  —  LR: 0.000226\n",
            "Epoch 5/10  —  LR: 0.000113\n",
            "Epoch 6/10  —  LR: 0.000113\n",
            "Epoch 7/10  —  LR: 0.000056\n",
            "Epoch 8/10  —  LR: 0.000056\n",
            "Epoch 9/10  —  LR: 0.000028\n",
            "Epoch 10/10  —  LR: 0.000028\n"
          ]
        },
        {
          "output_type": "stream",
          "name": "stderr",
          "text": [
            "[I 2025-05-24 18:59:20,783] Trial 30 finished with value: 0.6067478762622215 and parameters: {'features': 'all_numeric', 'win_len': 60, 'stride': 10, 'hidden': 128, 'layers': 2, 'drop': 0.30000000000000004, 'lr': 0.000225565809008508}. Best is trial 21 with value: 0.633571309978416.\n"
          ]
        },
        {
          "output_type": "stream",
          "name": "stdout",
          "text": [
            "---- Trial #31  --  started ----------------------------\n",
            "Using features: all_numeric, win_len: 120, stride: 20, hidden: 64, layers: 3, drop: 0.30000000000000004, lr: 0.0021938733336626056\n",
            "Epoch 1/10  —  LR: 0.002194\n",
            "Epoch 2/10  —  LR: 0.002194\n",
            "Epoch 3/10  —  LR: 0.002194\n",
            "Epoch 4/10  —  LR: 0.001097\n",
            "Epoch 5/10  —  LR: 0.001097\n",
            "Epoch 6/10  —  LR: 0.001097\n",
            "Epoch 7/10  —  LR: 0.001097\n",
            "Epoch 8/10  —  LR: 0.001097\n",
            "Epoch 9/10  —  LR: 0.000548\n",
            "Epoch 10/10  —  LR: 0.000548\n"
          ]
        },
        {
          "output_type": "stream",
          "name": "stderr",
          "text": [
            "[I 2025-05-24 19:00:19,816] Trial 31 finished with value: 0.6012722846147804 and parameters: {'features': 'all_numeric', 'win_len': 120, 'stride': 20, 'hidden': 64, 'layers': 3, 'drop': 0.30000000000000004, 'lr': 0.0021938733336626056}. Best is trial 21 with value: 0.633571309978416.\n"
          ]
        },
        {
          "output_type": "stream",
          "name": "stdout",
          "text": [
            "---- Trial #32  --  started ----------------------------\n",
            "Using features: all_numeric, win_len: 120, stride: 10, hidden: 64, layers: 3, drop: 0.30000000000000004, lr: 0.00017407055492004104\n",
            "Epoch 1/10  —  LR: 0.000174\n",
            "Epoch 2/10  —  LR: 0.000174\n",
            "Epoch 3/10  —  LR: 0.000174\n"
          ]
        },
        {
          "output_type": "stream",
          "name": "stderr",
          "text": [
            "[I 2025-05-24 19:00:55,233] Trial 32 pruned. \n"
          ]
        },
        {
          "output_type": "stream",
          "name": "stdout",
          "text": [
            "Trial pruned at epoch 3, F1: 0.610443448766802\n",
            "Trial #32 failed with error: \n",
            "---- Trial #33  --  started ----------------------------\n",
            "Using features: all_numeric, win_len: 120, stride: 20, hidden: 64, layers: 3, drop: 0.2, lr: 0.00032081566506351463\n",
            "Epoch 1/10  —  LR: 0.000321\n",
            "Epoch 2/10  —  LR: 0.000321\n",
            "Epoch 3/10  —  LR: 0.000321\n",
            "Epoch 4/10  —  LR: 0.000321\n",
            "Epoch 5/10  —  LR: 0.000321\n",
            "Epoch 6/10  —  LR: 0.000160\n",
            "Epoch 7/10  —  LR: 0.000160\n",
            "Epoch 8/10  —  LR: 0.000080\n",
            "Epoch 9/10  —  LR: 0.000080\n",
            "Epoch 10/10  —  LR: 0.000040\n"
          ]
        },
        {
          "output_type": "stream",
          "name": "stderr",
          "text": [
            "[I 2025-05-24 19:01:54,555] Trial 33 finished with value: 0.6175704077343421 and parameters: {'features': 'all_numeric', 'win_len': 120, 'stride': 20, 'hidden': 64, 'layers': 3, 'drop': 0.2, 'lr': 0.00032081566506351463}. Best is trial 21 with value: 0.633571309978416.\n"
          ]
        },
        {
          "output_type": "stream",
          "name": "stdout",
          "text": [
            "---- Trial #34  --  started ----------------------------\n",
            "Using features: all_numeric, win_len: 120, stride: 20, hidden: 64, layers: 3, drop: 0.2, lr: 0.00043451664598185674\n",
            "Epoch 1/10  —  LR: 0.000435\n",
            "Epoch 2/10  —  LR: 0.000435\n",
            "Epoch 3/10  —  LR: 0.000435\n",
            "Epoch 4/10  —  LR: 0.000435\n",
            "Epoch 5/10  —  LR: 0.000217\n",
            "Epoch 6/10  —  LR: 0.000217\n",
            "Epoch 7/10  —  LR: 0.000217\n",
            "Epoch 8/10  —  LR: 0.000109\n",
            "Epoch 9/10  —  LR: 0.000109\n",
            "Epoch 10/10  —  LR: 0.000109\n"
          ]
        },
        {
          "output_type": "stream",
          "name": "stderr",
          "text": [
            "[I 2025-05-24 19:02:53,809] Trial 34 finished with value: 0.6299150676313306 and parameters: {'features': 'all_numeric', 'win_len': 120, 'stride': 20, 'hidden': 64, 'layers': 3, 'drop': 0.2, 'lr': 0.00043451664598185674}. Best is trial 21 with value: 0.633571309978416.\n"
          ]
        },
        {
          "output_type": "stream",
          "name": "stdout",
          "text": [
            "---- Trial #35  --  started ----------------------------\n",
            "Using features: gru_delta, win_len: 120, stride: 10, hidden: 128, layers: 3, drop: 0.2, lr: 0.0004102492246288924\n",
            "Epoch 1/10  —  LR: 0.000410\n",
            "Epoch 2/10  —  LR: 0.000410\n",
            "Epoch 3/10  —  LR: 0.000410\n"
          ]
        },
        {
          "output_type": "stream",
          "name": "stderr",
          "text": [
            "[I 2025-05-24 19:03:31,814] Trial 35 pruned. \n"
          ]
        },
        {
          "output_type": "stream",
          "name": "stdout",
          "text": [
            "Trial pruned at epoch 3, F1: 0.5199073098799242\n",
            "Trial #35 failed with error: \n",
            "---- Trial #36  --  started ----------------------------\n",
            "Using features: all_numeric, win_len: 30, stride: 20, hidden: 64, layers: 3, drop: 0.1, lr: 0.0001272809249929675\n",
            "Epoch 1/10  —  LR: 0.000127\n",
            "Epoch 2/10  —  LR: 0.000127\n",
            "Epoch 3/10  —  LR: 0.000127\n"
          ]
        },
        {
          "output_type": "stream",
          "name": "stderr",
          "text": [
            "[I 2025-05-24 19:03:43,782] Trial 36 pruned. \n"
          ]
        },
        {
          "output_type": "stream",
          "name": "stdout",
          "text": [
            "Trial pruned at epoch 3, F1: 0.5958883702453074\n",
            "Trial #36 failed with error: \n",
            "---- Trial #37  --  started ----------------------------\n",
            "Using features: all_numeric, win_len: 120, stride: 20, hidden: 128, layers: 3, drop: 0.2, lr: 0.00028195059304284454\n",
            "Epoch 1/10  —  LR: 0.000282\n",
            "Epoch 2/10  —  LR: 0.000282\n",
            "Epoch 3/10  —  LR: 0.000282\n",
            "Epoch 4/10  —  LR: 0.000282\n",
            "Epoch 5/10  —  LR: 0.000282\n",
            "Epoch 6/10  —  LR: 0.000282\n",
            "Epoch 7/10  —  LR: 0.000141\n",
            "Epoch 8/10  —  LR: 0.000141\n",
            "Epoch 9/10  —  LR: 0.000070\n",
            "Epoch 10/10  —  LR: 0.000070\n"
          ]
        },
        {
          "output_type": "stream",
          "name": "stderr",
          "text": [
            "[I 2025-05-24 19:04:52,476] Trial 37 finished with value: 0.5838458384583846 and parameters: {'features': 'all_numeric', 'win_len': 120, 'stride': 20, 'hidden': 128, 'layers': 3, 'drop': 0.2, 'lr': 0.00028195059304284454}. Best is trial 21 with value: 0.633571309978416.\n"
          ]
        },
        {
          "output_type": "stream",
          "name": "stdout",
          "text": [
            "---- Trial #38  --  started ----------------------------\n",
            "Using features: all_numeric, win_len: 120, stride: 10, hidden: 64, layers: 3, drop: 0.2, lr: 0.0004470990375633453\n",
            "Epoch 1/10  —  LR: 0.000447\n",
            "Epoch 2/10  —  LR: 0.000447\n",
            "Epoch 3/10  —  LR: 0.000447\n",
            "Epoch 4/10  —  LR: 0.000447\n",
            "Epoch 5/10  —  LR: 0.000447\n",
            "Epoch 6/10  —  LR: 0.000224\n",
            "Epoch 7/10  —  LR: 0.000224\n",
            "Epoch 8/10  —  LR: 0.000112\n",
            "Epoch 9/10  —  LR: 0.000112\n",
            "Epoch 10/10  —  LR: 0.000056\n"
          ]
        },
        {
          "output_type": "stream",
          "name": "stderr",
          "text": [
            "[I 2025-05-24 19:06:50,749] Trial 38 finished with value: 0.5863231398988683 and parameters: {'features': 'all_numeric', 'win_len': 120, 'stride': 10, 'hidden': 64, 'layers': 3, 'drop': 0.2, 'lr': 0.0004470990375633453}. Best is trial 21 with value: 0.633571309978416.\n"
          ]
        },
        {
          "output_type": "stream",
          "name": "stdout",
          "text": [
            "---- Trial #39  --  started ----------------------------\n",
            "Using features: gru_delta, win_len: 60, stride: 20, hidden: 256, layers: 2, drop: 0.4, lr: 0.0006555390030401694\n",
            "Epoch 1/10  —  LR: 0.000656\n",
            "Epoch 2/10  —  LR: 0.000656\n",
            "Epoch 3/10  —  LR: 0.000656\n"
          ]
        },
        {
          "output_type": "stream",
          "name": "stderr",
          "text": [
            "[I 2025-05-24 19:07:09,820] Trial 39 pruned. \n"
          ]
        },
        {
          "output_type": "stream",
          "name": "stdout",
          "text": [
            "Trial pruned at epoch 3, F1: 0.49480288416518403\n",
            "Trial #39 failed with error: \n",
            "---- Trial #40  --  started ----------------------------\n",
            "Using features: all_numeric, win_len: 30, stride: 20, hidden: 64, layers: 3, drop: 0.2, lr: 0.00019301244600819677\n",
            "Epoch 1/10  —  LR: 0.000193\n",
            "Epoch 2/10  —  LR: 0.000193\n",
            "Epoch 3/10  —  LR: 0.000193\n"
          ]
        },
        {
          "output_type": "stream",
          "name": "stderr",
          "text": [
            "[I 2025-05-24 19:07:21,590] Trial 40 pruned. \n"
          ]
        },
        {
          "output_type": "stream",
          "name": "stdout",
          "text": [
            "Trial pruned at epoch 3, F1: 0.6108778625954199\n",
            "Trial #40 failed with error: \n",
            "---- Trial #41  --  started ----------------------------\n",
            "Using features: all_numeric, win_len: 120, stride: 20, hidden: 64, layers: 3, drop: 0.2, lr: 0.0003347889977699518\n",
            "Epoch 1/10  —  LR: 0.000335\n",
            "Epoch 2/10  —  LR: 0.000335\n",
            "Epoch 3/10  —  LR: 0.000335\n",
            "Epoch 4/10  —  LR: 0.000335\n",
            "Epoch 5/10  —  LR: 0.000335\n",
            "Epoch 6/10  —  LR: 0.000335\n",
            "Epoch 7/10  —  LR: 0.000167\n",
            "Epoch 8/10  —  LR: 0.000167\n",
            "Epoch 9/10  —  LR: 0.000084\n",
            "Epoch 10/10  —  LR: 0.000084\n"
          ]
        },
        {
          "output_type": "stream",
          "name": "stderr",
          "text": [
            "[I 2025-05-24 19:08:20,875] Trial 41 finished with value: 0.6205642930530308 and parameters: {'features': 'all_numeric', 'win_len': 120, 'stride': 20, 'hidden': 64, 'layers': 3, 'drop': 0.2, 'lr': 0.0003347889977699518}. Best is trial 21 with value: 0.633571309978416.\n"
          ]
        },
        {
          "output_type": "stream",
          "name": "stdout",
          "text": [
            "---- Trial #42  --  started ----------------------------\n",
            "Using features: all_numeric, win_len: 120, stride: 20, hidden: 64, layers: 3, drop: 0.1, lr: 0.00029601708987329927\n",
            "Epoch 1/10  —  LR: 0.000296\n",
            "Epoch 2/10  —  LR: 0.000296\n",
            "Epoch 3/10  —  LR: 0.000296\n",
            "Epoch 4/10  —  LR: 0.000296\n",
            "Epoch 5/10  —  LR: 0.000296\n",
            "Epoch 6/10  —  LR: 0.000148\n",
            "Epoch 7/10  —  LR: 0.000148\n",
            "Epoch 8/10  —  LR: 0.000074\n",
            "Epoch 9/10  —  LR: 0.000074\n",
            "Epoch 10/10  —  LR: 0.000037\n"
          ]
        },
        {
          "output_type": "stream",
          "name": "stderr",
          "text": [
            "[I 2025-05-24 19:09:20,997] Trial 42 finished with value: 0.6102209478832855 and parameters: {'features': 'all_numeric', 'win_len': 120, 'stride': 20, 'hidden': 64, 'layers': 3, 'drop': 0.1, 'lr': 0.00029601708987329927}. Best is trial 21 with value: 0.633571309978416.\n"
          ]
        },
        {
          "output_type": "stream",
          "name": "stdout",
          "text": [
            "---- Trial #43  --  started ----------------------------\n",
            "Using features: all_numeric, win_len: 120, stride: 20, hidden: 64, layers: 3, drop: 0.2, lr: 0.00022211265793206064\n",
            "Epoch 1/10  —  LR: 0.000222\n",
            "Epoch 2/10  —  LR: 0.000222\n",
            "Epoch 3/10  —  LR: 0.000222\n"
          ]
        },
        {
          "output_type": "stream",
          "name": "stderr",
          "text": [
            "[I 2025-05-24 19:09:38,812] Trial 43 pruned. \n"
          ]
        },
        {
          "output_type": "stream",
          "name": "stdout",
          "text": [
            "Trial pruned at epoch 3, F1: 0.6020711391265196\n",
            "Trial #43 failed with error: \n",
            "---- Trial #44  --  started ----------------------------\n",
            "Using features: all_numeric, win_len: 120, stride: 20, hidden: 64, layers: 3, drop: 0.2, lr: 0.0006063061590505843\n",
            "Epoch 1/10  —  LR: 0.000606\n",
            "Epoch 2/10  —  LR: 0.000606\n",
            "Epoch 3/10  —  LR: 0.000606\n"
          ]
        },
        {
          "output_type": "stream",
          "name": "stderr",
          "text": [
            "[I 2025-05-24 19:09:56,723] Trial 44 pruned. \n"
          ]
        },
        {
          "output_type": "stream",
          "name": "stdout",
          "text": [
            "Trial pruned at epoch 3, F1: 0.6047819971870605\n",
            "Trial #44 failed with error: \n",
            "---- Trial #45  --  started ----------------------------\n",
            "Using features: all_numeric, win_len: 60, stride: 20, hidden: 128, layers: 3, drop: 0.30000000000000004, lr: 0.0001506556193532733\n",
            "Epoch 1/10  —  LR: 0.000151\n",
            "Epoch 2/10  —  LR: 0.000151\n",
            "Epoch 3/10  —  LR: 0.000151\n"
          ]
        },
        {
          "output_type": "stream",
          "name": "stderr",
          "text": [
            "[I 2025-05-24 19:10:11,010] Trial 45 pruned. \n"
          ]
        },
        {
          "output_type": "stream",
          "name": "stdout",
          "text": [
            "Trial pruned at epoch 3, F1: 0.6077582235326637\n",
            "Trial #45 failed with error: \n",
            "---- Trial #46  --  started ----------------------------\n",
            "Using features: baseline, win_len: 30, stride: 10, hidden: 64, layers: 2, drop: 0.2, lr: 0.0004312444144029348\n",
            "Epoch 1/10  —  LR: 0.000431\n",
            "Epoch 2/10  —  LR: 0.000431\n",
            "Epoch 3/10  —  LR: 0.000431\n"
          ]
        },
        {
          "output_type": "stream",
          "name": "stderr",
          "text": [
            "[I 2025-05-24 19:10:32,562] Trial 46 pruned. \n"
          ]
        },
        {
          "output_type": "stream",
          "name": "stdout",
          "text": [
            "Trial pruned at epoch 3, F1: 0.5868310598111228\n",
            "Trial #46 failed with error: \n",
            "---- Trial #47  --  started ----------------------------\n",
            "Using features: all_numeric, win_len: 120, stride: 20, hidden: 64, layers: 3, drop: 0.30000000000000004, lr: 0.00035021211301315176\n",
            "Epoch 1/10  —  LR: 0.000350\n",
            "Epoch 2/10  —  LR: 0.000350\n",
            "Epoch 3/10  —  LR: 0.000350\n",
            "Epoch 4/10  —  LR: 0.000350\n",
            "Epoch 5/10  —  LR: 0.000350\n",
            "Epoch 6/10  —  LR: 0.000350\n",
            "Epoch 7/10  —  LR: 0.000350\n",
            "Epoch 8/10  —  LR: 0.000350\n",
            "Epoch 9/10  —  LR: 0.000350\n",
            "Epoch 10/10  —  LR: 0.000350\n"
          ]
        },
        {
          "output_type": "stream",
          "name": "stderr",
          "text": [
            "[I 2025-05-24 19:11:32,142] Trial 47 finished with value: 0.629800796812749 and parameters: {'features': 'all_numeric', 'win_len': 120, 'stride': 20, 'hidden': 64, 'layers': 3, 'drop': 0.30000000000000004, 'lr': 0.00035021211301315176}. Best is trial 21 with value: 0.633571309978416.\n"
          ]
        },
        {
          "output_type": "stream",
          "name": "stdout",
          "text": [
            "---- Trial #48  --  started ----------------------------\n",
            "Using features: gru_delta, win_len: 120, stride: 20, hidden: 256, layers: 1, drop: 0.30000000000000004, lr: 0.0007741398900076421\n",
            "Epoch 1/10  —  LR: 0.000774\n",
            "Epoch 2/10  —  LR: 0.000774\n",
            "Epoch 3/10  —  LR: 0.000774\n"
          ]
        },
        {
          "output_type": "stream",
          "name": "stderr",
          "text": [
            "[I 2025-05-24 19:11:53,046] Trial 48 pruned. \n"
          ]
        },
        {
          "output_type": "stream",
          "name": "stdout",
          "text": [
            "Trial pruned at epoch 3, F1: 0.531629392971246\n",
            "Trial #48 failed with error: \n",
            "---- Trial #49  --  started ----------------------------\n",
            "Using features: all_numeric, win_len: 60, stride: 20, hidden: 64, layers: 3, drop: 0.30000000000000004, lr: 0.00036644715790058497\n",
            "Epoch 1/10  —  LR: 0.000366\n",
            "Epoch 2/10  —  LR: 0.000366\n",
            "Epoch 3/10  —  LR: 0.000366\n",
            "Epoch 4/10  —  LR: 0.000366\n",
            "Epoch 5/10  —  LR: 0.000366\n",
            "Epoch 6/10  —  LR: 0.000366\n",
            "Epoch 7/10  —  LR: 0.000366\n",
            "Epoch 8/10  —  LR: 0.000183\n",
            "Epoch 9/10  —  LR: 0.000183\n",
            "Epoch 10/10  —  LR: 0.000092\n"
          ]
        },
        {
          "output_type": "stream",
          "name": "stderr",
          "text": [
            "[I 2025-05-24 19:12:37,682] Trial 49 finished with value: 0.619651086240948 and parameters: {'features': 'all_numeric', 'win_len': 60, 'stride': 20, 'hidden': 64, 'layers': 3, 'drop': 0.30000000000000004, 'lr': 0.00036644715790058497}. Best is trial 21 with value: 0.633571309978416.\n"
          ]
        },
        {
          "output_type": "stream",
          "name": "stdout",
          "text": [
            "---- Trial #50  --  started ----------------------------\n",
            "Using features: all_numeric, win_len: 120, stride: 20, hidden: 64, layers: 3, drop: 0.30000000000000004, lr: 0.0003190063719789571\n",
            "Epoch 1/10  —  LR: 0.000319\n",
            "Epoch 2/10  —  LR: 0.000319\n",
            "Epoch 3/10  —  LR: 0.000319\n",
            "Epoch 4/10  —  LR: 0.000319\n",
            "Epoch 5/10  —  LR: 0.000319\n",
            "Epoch 6/10  —  LR: 0.000160\n",
            "Epoch 7/10  —  LR: 0.000160\n",
            "Epoch 8/10  —  LR: 0.000080\n",
            "Epoch 9/10  —  LR: 0.000080\n",
            "Epoch 10/10  —  LR: 0.000040\n"
          ]
        },
        {
          "output_type": "stream",
          "name": "stderr",
          "text": [
            "[I 2025-05-24 19:13:36,999] Trial 50 finished with value: 0.6074699370868838 and parameters: {'features': 'all_numeric', 'win_len': 120, 'stride': 20, 'hidden': 64, 'layers': 3, 'drop': 0.30000000000000004, 'lr': 0.0003190063719789571}. Best is trial 21 with value: 0.633571309978416.\n"
          ]
        },
        {
          "output_type": "stream",
          "name": "stdout",
          "text": [
            "---- Trial #51  --  started ----------------------------\n",
            "Using features: all_numeric, win_len: 60, stride: 20, hidden: 64, layers: 3, drop: 0.30000000000000004, lr: 0.0003947569173889963\n",
            "Epoch 1/10  —  LR: 0.000395\n",
            "Epoch 2/10  —  LR: 0.000395\n",
            "Epoch 3/10  —  LR: 0.000395\n",
            "Epoch 4/10  —  LR: 0.000395\n",
            "Epoch 5/10  —  LR: 0.000197\n",
            "Epoch 6/10  —  LR: 0.000197\n",
            "Epoch 7/10  —  LR: 0.000099\n",
            "Epoch 8/10  —  LR: 0.000099\n",
            "Epoch 9/10  —  LR: 0.000049\n",
            "Epoch 10/10  —  LR: 0.000049\n"
          ]
        },
        {
          "output_type": "stream",
          "name": "stderr",
          "text": [
            "[I 2025-05-24 19:14:21,704] Trial 51 finished with value: 0.6118222584590297 and parameters: {'features': 'all_numeric', 'win_len': 60, 'stride': 20, 'hidden': 64, 'layers': 3, 'drop': 0.30000000000000004, 'lr': 0.0003947569173889963}. Best is trial 21 with value: 0.633571309978416.\n"
          ]
        },
        {
          "output_type": "stream",
          "name": "stdout",
          "text": [
            "---- Trial #52  --  started ----------------------------\n",
            "Using features: all_numeric, win_len: 60, stride: 20, hidden: 64, layers: 3, drop: 0.30000000000000004, lr: 0.0005257763798157722\n",
            "Epoch 1/10  —  LR: 0.000526\n",
            "Epoch 2/10  —  LR: 0.000526\n",
            "Epoch 3/10  —  LR: 0.000526\n"
          ]
        },
        {
          "output_type": "stream",
          "name": "stderr",
          "text": [
            "[I 2025-05-24 19:14:35,292] Trial 52 pruned. \n"
          ]
        },
        {
          "output_type": "stream",
          "name": "stdout",
          "text": [
            "Trial pruned at epoch 3, F1: 0.5923937360178971\n",
            "Trial #52 failed with error: \n",
            "---- Trial #53  --  started ----------------------------\n",
            "Using features: all_numeric, win_len: 60, stride: 20, hidden: 64, layers: 3, drop: 0.30000000000000004, lr: 0.0009778782082664698\n",
            "Epoch 1/10  —  LR: 0.000978\n",
            "Epoch 2/10  —  LR: 0.000978\n",
            "Epoch 3/10  —  LR: 0.000978\n",
            "Epoch 4/10  —  LR: 0.000489\n",
            "Epoch 5/10  —  LR: 0.000489\n",
            "Epoch 6/10  —  LR: 0.000244\n",
            "Epoch 7/10  —  LR: 0.000244\n",
            "Epoch 8/10  —  LR: 0.000122\n",
            "Epoch 9/10  —  LR: 0.000122\n",
            "Epoch 10/10  —  LR: 0.000061\n"
          ]
        },
        {
          "output_type": "stream",
          "name": "stderr",
          "text": [
            "[I 2025-05-24 19:15:19,609] Trial 53 finished with value: 0.5920240280327048 and parameters: {'features': 'all_numeric', 'win_len': 60, 'stride': 20, 'hidden': 64, 'layers': 3, 'drop': 0.30000000000000004, 'lr': 0.0009778782082664698}. Best is trial 21 with value: 0.633571309978416.\n"
          ]
        },
        {
          "output_type": "stream",
          "name": "stdout",
          "text": [
            "---- Trial #54  --  started ----------------------------\n",
            "Using features: all_numeric, win_len: 60, stride: 20, hidden: 64, layers: 3, drop: 0.30000000000000004, lr: 0.0003523222244827183\n",
            "Epoch 1/10  —  LR: 0.000352\n",
            "Epoch 2/10  —  LR: 0.000352\n",
            "Epoch 3/10  —  LR: 0.000352\n"
          ]
        },
        {
          "output_type": "stream",
          "name": "stderr",
          "text": [
            "[I 2025-05-24 19:15:33,057] Trial 54 pruned. \n"
          ]
        },
        {
          "output_type": "stream",
          "name": "stdout",
          "text": [
            "Trial pruned at epoch 3, F1: 0.5767776096822995\n",
            "Trial #54 failed with error: \n",
            "---- Trial #55  --  started ----------------------------\n",
            "Using features: baseline, win_len: 60, stride: 20, hidden: 64, layers: 3, drop: 0.2, lr: 0.0002018714096498403\n",
            "Epoch 1/10  —  LR: 0.000202\n",
            "Epoch 2/10  —  LR: 0.000202\n",
            "Epoch 3/10  —  LR: 0.000202\n"
          ]
        },
        {
          "output_type": "stream",
          "name": "stderr",
          "text": [
            "[I 2025-05-24 19:15:45,523] Trial 55 pruned. \n"
          ]
        },
        {
          "output_type": "stream",
          "name": "stdout",
          "text": [
            "Trial pruned at epoch 3, F1: 0.5717712914834067\n",
            "Trial #55 failed with error: \n",
            "---- Trial #56  --  started ----------------------------\n",
            "Using features: all_numeric, win_len: 30, stride: 20, hidden: 64, layers: 3, drop: 0.2, lr: 0.00046159799762927493\n",
            "Epoch 1/10  —  LR: 0.000462\n",
            "Epoch 2/10  —  LR: 0.000462\n",
            "Epoch 3/10  —  LR: 0.000462\n"
          ]
        },
        {
          "output_type": "stream",
          "name": "stderr",
          "text": [
            "[I 2025-05-24 19:15:57,317] Trial 56 pruned. \n"
          ]
        },
        {
          "output_type": "stream",
          "name": "stdout",
          "text": [
            "Trial pruned at epoch 3, F1: 0.5982294217366736\n",
            "Trial #56 failed with error: \n",
            "---- Trial #57  --  started ----------------------------\n",
            "Using features: all_numeric, win_len: 120, stride: 20, hidden: 64, layers: 3, drop: 0.30000000000000004, lr: 0.00027365731205208503\n",
            "Epoch 1/10  —  LR: 0.000274\n",
            "Epoch 2/10  —  LR: 0.000274\n",
            "Epoch 3/10  —  LR: 0.000274\n",
            "Epoch 4/10  —  LR: 0.000274\n",
            "Epoch 5/10  —  LR: 0.000274\n",
            "Epoch 6/10  —  LR: 0.000274\n",
            "Epoch 7/10  —  LR: 0.000137\n",
            "Epoch 8/10  —  LR: 0.000137\n",
            "Epoch 9/10  —  LR: 0.000068\n",
            "Epoch 10/10  —  LR: 0.000068\n"
          ]
        },
        {
          "output_type": "stream",
          "name": "stderr",
          "text": [
            "[I 2025-05-24 19:16:57,721] Trial 57 finished with value: 0.619567013716741 and parameters: {'features': 'all_numeric', 'win_len': 120, 'stride': 20, 'hidden': 64, 'layers': 3, 'drop': 0.30000000000000004, 'lr': 0.00027365731205208503}. Best is trial 21 with value: 0.633571309978416.\n"
          ]
        },
        {
          "output_type": "stream",
          "name": "stdout",
          "text": [
            "---- Trial #58  --  started ----------------------------\n",
            "Using features: all_numeric, win_len: 60, stride: 20, hidden: 64, layers: 3, drop: 0.1, lr: 0.0002325496033859159\n",
            "Epoch 1/10  —  LR: 0.000233\n",
            "Epoch 2/10  —  LR: 0.000233\n",
            "Epoch 3/10  —  LR: 0.000233\n"
          ]
        },
        {
          "output_type": "stream",
          "name": "stderr",
          "text": [
            "[I 2025-05-24 19:17:11,279] Trial 58 pruned. \n"
          ]
        },
        {
          "output_type": "stream",
          "name": "stdout",
          "text": [
            "Trial pruned at epoch 3, F1: 0.5719253294289898\n",
            "Trial #58 failed with error: \n",
            "---- Trial #59  --  started ----------------------------\n",
            "Using features: all_numeric, win_len: 120, stride: 20, hidden: 256, layers: 3, drop: 0.30000000000000004, lr: 0.0005862070919511861\n",
            "Epoch 1/10  —  LR: 0.000586\n",
            "Epoch 2/10  —  LR: 0.000586\n",
            "Epoch 3/10  —  LR: 0.000586\n",
            "Epoch 4/10  —  LR: 0.000293\n",
            "Epoch 5/10  —  LR: 0.000293\n",
            "Epoch 6/10  —  LR: 0.000147\n",
            "Epoch 7/10  —  LR: 0.000147\n",
            "Epoch 8/10  —  LR: 0.000073\n",
            "Epoch 9/10  —  LR: 0.000073\n",
            "Epoch 10/10  —  LR: 0.000037\n"
          ]
        },
        {
          "output_type": "stream",
          "name": "stderr",
          "text": [
            "[I 2025-05-24 19:19:33,169] Trial 59 finished with value: 0.5605969249321676 and parameters: {'features': 'all_numeric', 'win_len': 120, 'stride': 20, 'hidden': 256, 'layers': 3, 'drop': 0.30000000000000004, 'lr': 0.0005862070919511861}. Best is trial 21 with value: 0.633571309978416.\n"
          ]
        },
        {
          "output_type": "stream",
          "name": "stdout",
          "text": [
            "---- Trial #60  --  started ----------------------------\n",
            "Using features: all_numeric, win_len: 60, stride: 20, hidden: 64, layers: 2, drop: 0.2, lr: 0.0003794509011797941\n",
            "Epoch 1/10  —  LR: 0.000379\n",
            "Epoch 2/10  —  LR: 0.000379\n",
            "Epoch 3/10  —  LR: 0.000379\n",
            "Epoch 4/10  —  LR: 0.000379\n",
            "Epoch 5/10  —  LR: 0.000379\n",
            "Epoch 6/10  —  LR: 0.000190\n",
            "Epoch 7/10  —  LR: 0.000190\n",
            "Epoch 8/10  —  LR: 0.000095\n",
            "Epoch 9/10  —  LR: 0.000095\n",
            "Epoch 10/10  —  LR: 0.000047\n"
          ]
        },
        {
          "output_type": "stream",
          "name": "stderr",
          "text": [
            "[I 2025-05-24 19:20:13,950] Trial 60 finished with value: 0.6152597402597403 and parameters: {'features': 'all_numeric', 'win_len': 60, 'stride': 20, 'hidden': 64, 'layers': 2, 'drop': 0.2, 'lr': 0.0003794509011797941}. Best is trial 21 with value: 0.633571309978416.\n"
          ]
        },
        {
          "output_type": "stream",
          "name": "stdout",
          "text": [
            "---- Trial #61  --  started ----------------------------\n",
            "Using features: all_numeric, win_len: 120, stride: 20, hidden: 64, layers: 3, drop: 0.30000000000000004, lr: 0.00027547644820451146\n",
            "Epoch 1/10  —  LR: 0.000275\n",
            "Epoch 2/10  —  LR: 0.000275\n",
            "Epoch 3/10  —  LR: 0.000275\n",
            "Epoch 4/10  —  LR: 0.000275\n",
            "Epoch 5/10  —  LR: 0.000275\n",
            "Epoch 6/10  —  LR: 0.000275\n",
            "Epoch 7/10  —  LR: 0.000275\n",
            "Epoch 8/10  —  LR: 0.000138\n",
            "Epoch 9/10  —  LR: 0.000138\n",
            "Epoch 10/10  —  LR: 0.000069\n"
          ]
        },
        {
          "output_type": "stream",
          "name": "stderr",
          "text": [
            "[I 2025-05-24 19:21:13,647] Trial 61 finished with value: 0.6297810921337503 and parameters: {'features': 'all_numeric', 'win_len': 120, 'stride': 20, 'hidden': 64, 'layers': 3, 'drop': 0.30000000000000004, 'lr': 0.00027547644820451146}. Best is trial 21 with value: 0.633571309978416.\n"
          ]
        },
        {
          "output_type": "stream",
          "name": "stdout",
          "text": [
            "---- Trial #62  --  started ----------------------------\n",
            "Using features: all_numeric, win_len: 120, stride: 20, hidden: 64, layers: 3, drop: 0.30000000000000004, lr: 0.0003516473800337228\n",
            "Epoch 1/10  —  LR: 0.000352\n",
            "Epoch 2/10  —  LR: 0.000352\n",
            "Epoch 3/10  —  LR: 0.000352\n"
          ]
        },
        {
          "output_type": "stream",
          "name": "stderr",
          "text": [
            "[I 2025-05-24 19:21:31,584] Trial 62 pruned. \n"
          ]
        },
        {
          "output_type": "stream",
          "name": "stdout",
          "text": [
            "Trial pruned at epoch 3, F1: 0.6157807614493287\n",
            "Trial #62 failed with error: \n",
            "---- Trial #63  --  started ----------------------------\n",
            "Using features: all_numeric, win_len: 120, stride: 20, hidden: 64, layers: 3, drop: 0.30000000000000004, lr: 0.0002985303274463985\n",
            "Epoch 1/10  —  LR: 0.000299\n",
            "Epoch 2/10  —  LR: 0.000299\n",
            "Epoch 3/10  —  LR: 0.000299\n",
            "Epoch 4/10  —  LR: 0.000299\n",
            "Epoch 5/10  —  LR: 0.000299\n",
            "Epoch 6/10  —  LR: 0.000149\n",
            "Epoch 7/10  —  LR: 0.000149\n",
            "Epoch 8/10  —  LR: 0.000149\n",
            "Epoch 9/10  —  LR: 0.000149\n",
            "Epoch 10/10  —  LR: 0.000075\n"
          ]
        },
        {
          "output_type": "stream",
          "name": "stderr",
          "text": [
            "[I 2025-05-24 19:22:31,075] Trial 63 finished with value: 0.6398239465319097 and parameters: {'features': 'all_numeric', 'win_len': 120, 'stride': 20, 'hidden': 64, 'layers': 3, 'drop': 0.30000000000000004, 'lr': 0.0002985303274463985}. Best is trial 63 with value: 0.6398239465319097.\n"
          ]
        },
        {
          "output_type": "stream",
          "name": "stdout",
          "text": [
            "---- Trial #64  --  started ----------------------------\n",
            "Using features: all_numeric, win_len: 120, stride: 20, hidden: 64, layers: 1, drop: 0.30000000000000004, lr: 0.0002481053658448939\n",
            "Epoch 1/10  —  LR: 0.000248\n",
            "Epoch 2/10  —  LR: 0.000248\n",
            "Epoch 3/10  —  LR: 0.000248\n"
          ]
        },
        {
          "output_type": "stream",
          "name": "stderr",
          "text": [
            "[I 2025-05-24 19:22:44,326] Trial 64 pruned. \n"
          ]
        },
        {
          "output_type": "stream",
          "name": "stdout",
          "text": [
            "Trial pruned at epoch 3, F1: 0.5957363583023665\n",
            "Trial #64 failed with error: \n",
            "---- Trial #65  --  started ----------------------------\n",
            "Using features: all_numeric, win_len: 120, stride: 20, hidden: 64, layers: 3, drop: 0.30000000000000004, lr: 0.0001905435868910783\n",
            "Epoch 1/10  —  LR: 0.000191\n",
            "Epoch 2/10  —  LR: 0.000191\n",
            "Epoch 3/10  —  LR: 0.000191\n"
          ]
        },
        {
          "output_type": "stream",
          "name": "stderr",
          "text": [
            "[I 2025-05-24 19:23:02,226] Trial 65 pruned. \n"
          ]
        },
        {
          "output_type": "stream",
          "name": "stdout",
          "text": [
            "Trial pruned at epoch 3, F1: 0.6067026194144838\n",
            "Trial #65 failed with error: \n",
            "---- Trial #66  --  started ----------------------------\n",
            "Using features: baseline, win_len: 120, stride: 20, hidden: 128, layers: 3, drop: 0.2, lr: 0.0003228530339846622\n",
            "Epoch 1/10  —  LR: 0.000323\n",
            "Epoch 2/10  —  LR: 0.000323\n",
            "Epoch 3/10  —  LR: 0.000323\n"
          ]
        },
        {
          "output_type": "stream",
          "name": "stderr",
          "text": [
            "[I 2025-05-24 19:23:21,509] Trial 66 pruned. \n"
          ]
        },
        {
          "output_type": "stream",
          "name": "stdout",
          "text": [
            "Trial pruned at epoch 3, F1: 0.5861746450131792\n",
            "Trial #66 failed with error: \n",
            "---- Trial #67  --  started ----------------------------\n",
            "Using features: gru_delta, win_len: 120, stride: 20, hidden: 64, layers: 3, drop: 0.4, lr: 0.0002879646517203978\n",
            "Epoch 1/10  —  LR: 0.000288\n",
            "Epoch 2/10  —  LR: 0.000288\n",
            "Epoch 3/10  —  LR: 0.000288\n"
          ]
        },
        {
          "output_type": "stream",
          "name": "stderr",
          "text": [
            "[I 2025-05-24 19:23:38,138] Trial 67 pruned. \n"
          ]
        },
        {
          "output_type": "stream",
          "name": "stdout",
          "text": [
            "Trial pruned at epoch 3, F1: 0.5315196426758705\n",
            "Trial #67 failed with error: \n",
            "---- Trial #68  --  started ----------------------------\n",
            "Using features: all_numeric, win_len: 120, stride: 20, hidden: 64, layers: 3, drop: 0.30000000000000004, lr: 0.00011516045028354148\n",
            "Epoch 1/10  —  LR: 0.000115\n",
            "Epoch 2/10  —  LR: 0.000115\n",
            "Epoch 3/10  —  LR: 0.000115\n"
          ]
        },
        {
          "output_type": "stream",
          "name": "stderr",
          "text": [
            "[I 2025-05-24 19:23:55,948] Trial 68 pruned. \n"
          ]
        },
        {
          "output_type": "stream",
          "name": "stdout",
          "text": [
            "Trial pruned at epoch 3, F1: 0.5915245981490501\n",
            "Trial #68 failed with error: \n",
            "---- Trial #69  --  started ----------------------------\n",
            "Using features: all_numeric, win_len: 120, stride: 20, hidden: 64, layers: 3, drop: 0.30000000000000004, lr: 0.0002239797360725492\n",
            "Epoch 1/10  —  LR: 0.000224\n",
            "Epoch 2/10  —  LR: 0.000224\n",
            "Epoch 3/10  —  LR: 0.000224\n"
          ]
        },
        {
          "output_type": "stream",
          "name": "stderr",
          "text": [
            "[I 2025-05-24 19:24:14,024] Trial 69 pruned. \n"
          ]
        },
        {
          "output_type": "stream",
          "name": "stdout",
          "text": [
            "Trial pruned at epoch 3, F1: 0.6097065879313527\n",
            "Trial #69 failed with error: \n",
            "---- Trial #70  --  started ----------------------------\n",
            "Using features: all_numeric, win_len: 120, stride: 20, hidden: 64, layers: 3, drop: 0.2, lr: 0.0003063472849223976\n",
            "Epoch 1/10  —  LR: 0.000306\n",
            "Epoch 2/10  —  LR: 0.000306\n",
            "Epoch 3/10  —  LR: 0.000306\n",
            "Epoch 4/10  —  LR: 0.000306\n",
            "Epoch 5/10  —  LR: 0.000306\n",
            "Epoch 6/10  —  LR: 0.000153\n",
            "Epoch 7/10  —  LR: 0.000153\n",
            "Epoch 8/10  —  LR: 0.000153\n",
            "Epoch 9/10  —  LR: 0.000153\n",
            "Epoch 10/10  —  LR: 0.000153\n"
          ]
        },
        {
          "output_type": "stream",
          "name": "stderr",
          "text": [
            "[I 2025-05-24 19:25:13,777] Trial 70 finished with value: 0.6414871144909168 and parameters: {'features': 'all_numeric', 'win_len': 120, 'stride': 20, 'hidden': 64, 'layers': 3, 'drop': 0.2, 'lr': 0.0003063472849223976}. Best is trial 70 with value: 0.6414871144909168.\n"
          ]
        },
        {
          "output_type": "stream",
          "name": "stdout",
          "text": [
            "---- Trial #71  --  started ----------------------------\n",
            "Using features: all_numeric, win_len: 120, stride: 20, hidden: 64, layers: 3, drop: 0.2, lr: 0.0002991165766379828\n",
            "Epoch 1/10  —  LR: 0.000299\n",
            "Epoch 2/10  —  LR: 0.000299\n",
            "Epoch 3/10  —  LR: 0.000299\n"
          ]
        },
        {
          "output_type": "stream",
          "name": "stderr",
          "text": [
            "[I 2025-05-24 19:25:31,683] Trial 71 pruned. \n"
          ]
        },
        {
          "output_type": "stream",
          "name": "stdout",
          "text": [
            "Trial pruned at epoch 3, F1: 0.6131564193608672\n",
            "Trial #71 failed with error: \n",
            "Best F1: 0.6414871144909168\n",
            "Best params: {'features': 'all_numeric', 'win_len': 120, 'stride': 20, 'hidden': 64, 'layers': 3, 'drop': 0.2, 'lr': 0.0003063472849223976}\n"
          ]
        }
      ],
      "source": [
        "import optuna\n",
        "\n",
        "TRIALS = 72\n",
        "\n",
        "optuna.logging.set_verbosity(optuna.logging.DEBUG)\n",
        "\n",
        "\n",
        "# DB = \"sqlite:///gru_hpo.db\"\n",
        "DB = f\"sqlite:///{DRIVE_PROJECT}/gru_hpo.db\"\n",
        "\n",
        "study = optuna.create_study(\n",
        "    study_name=\"gru_hpo\",\n",
        "    direction=\"maximize\",\n",
        "    storage=DB,\n",
        "    load_if_exists=True,\n",
        "    pruner=optuna.pruners.MedianPruner(n_startup_trials=5, n_warmup_steps=3),\n",
        ")\n",
        "\n",
        "\n",
        "study.optimize(objective, n_trials=TRIALS)\n",
        "\n",
        "\n",
        "print(\"Best F1:\", study.best_value)\n",
        "print(\"Best params:\", study.best_params)"
      ]
    },
    {
      "cell_type": "markdown",
      "metadata": {
        "id": "JS-xEYndhWeQ"
      },
      "source": [
        " ## 3.  Retrieve and plot curves for the winning trial"
      ]
    },
    {
      "cell_type": "code",
      "execution_count": 18,
      "metadata": {
        "colab": {
          "base_uri": "https://localhost:8080/"
        },
        "id": "LK1KDKochWeQ",
        "outputId": "bb7ff63a-588b-4d93-faa4-ca8d0d4eadb4"
      },
      "outputs": [
        {
          "output_type": "stream",
          "name": "stdout",
          "text": [
            "Trials recorded so far: 72\n"
          ]
        }
      ],
      "source": [
        "print(\"Trials recorded so far:\", len(study.trials))"
      ]
    },
    {
      "cell_type": "code",
      "execution_count": 10,
      "metadata": {
        "colab": {
          "base_uri": "https://localhost:8080/"
        },
        "id": "uB0I-iZWhWeR",
        "outputId": "caade227-bab4-41c3-ba0e-3cf62dd3283a"
      },
      "outputs": [
        {
          "output_type": "stream",
          "name": "stdout",
          "text": [
            "Trial #0 failed.\n",
            "  params : {'features': 'all_numeric', 'win_len': 120, 'stride': 20, 'hidden': 128, 'layers': 2, 'drop': 0.2, 'lr': 0.0014991826835680123}\n",
            "  system attrs: {}\n",
            "  user attrs: {'ckpt': '/content/drive/My Drive/Project 3/gru_ckpts/trial_0.pt', 'features': 'all_numeric', 'lr_curve': [0.0014991826835680123, 0.0014991826835680123, 0.0014991826835680123, 0.0014991826835680123, 0.0007495913417840061, 0.0007495913417840061, 0.00037479567089200306, 0.00037479567089200306, 0.00018739783544600153, 0.00018739783544600153], 'stride': 20, 'train_loss_curve': [0.41365397917099506, 0.3364770162257868, 0.2676704323506994, 0.21777967594652586, 0.15889526675031165, 0.12844540079204828, 0.09336049024553453, 0.08523943948113144, 0.06595419137571448, 0.06119417531055064], 'val_f1_curve': [0.5783152767279751, 0.6168053244592346, 0.6057502953918865, 0.5879352936488963, 0.5938363134176479, 0.6011782032400589, 0.6035982008995502, 0.5915492957746479, 0.5892711801701813, 0.59240729841083], 'win_len': 120}\n",
            "Trial #1 failed.\n",
            "  params : {'features': 'gru_delta', 'win_len': 30, 'stride': 20, 'hidden': 128, 'layers': 3, 'drop': 0.30000000000000004, 'lr': 0.002505797474962122}\n",
            "  system attrs: {}\n",
            "  user attrs: {'ckpt': '/content/drive/My Drive/Project 3/gru_ckpts/trial_1.pt', 'features': 'gru_delta', 'lr_curve': [0.002505797474962122, 0.002505797474962122, 0.002505797474962122, 0.001252898737481061, 0.001252898737481061, 0.0006264493687405305, 0.0006264493687405305, 0.00031322468437026523, 0.00031322468437026523, 0.00015661234218513262], 'stride': 20, 'train_loss_curve': [0.461458664844593, 0.40253488577022484, 0.3416502556430514, 0.2542244350853533, 0.2096679096351582, 0.16135341712214102, 0.14205541993380813, 0.11750656376459864, 0.10716338149335047, 0.09589211430022097], 'val_f1_curve': [0.5447876447876447, 0.5319675629534785, 0.5103681760473974, 0.49136564611662636, 0.5195718165841189, 0.51953125, 0.5233943853475166, 0.5079816658764027, 0.512792511700468, 0.5133005694671972], 'win_len': 30}\n",
            "Trial #2 failed.\n",
            "  params : {'features': 'all_numeric', 'win_len': 30, 'stride': 20, 'hidden': 64, 'layers': 2, 'drop': 0.30000000000000004, 'lr': 0.0009150177573060654}\n",
            "  system attrs: {}\n",
            "  user attrs: {'ckpt': '/content/drive/My Drive/Project 3/gru_ckpts/trial_2.pt', 'features': 'all_numeric', 'lr_curve': [0.0009150177573060654, 0.0009150177573060654, 0.0009150177573060654, 0.0004575088786530327, 0.0004575088786530327, 0.0004575088786530327, 0.0004575088786530327, 0.0004575088786530327, 0.0004575088786530327, 0.00022875443932651634], 'stride': 20, 'train_loss_curve': [0.43100627143482134, 0.371253741106631, 0.3335915595380894, 0.2938739545751348, 0.27437262278934726, 0.2590719920077321, 0.2445090376899782, 0.22957724141119362, 0.21609860025344038, 0.1987526458458429], 'val_f1_curve': [0.6214051692755733, 0.592930029154519, 0.6067260309501167, 0.6294082989647336, 0.6306306306306306, 0.6181758205508824, 0.6318542126338155, 0.6151564816982752, 0.6066938775510204, 0.6069326357096141], 'win_len': 30}\n",
            "Trial #3 failed.\n",
            "  params : {'features': 'gru_delta', 'win_len': 30, 'stride': 10, 'hidden': 128, 'layers': 1, 'drop': 0.2, 'lr': 0.00034853056581768383}\n",
            "  system attrs: {}\n",
            "  user attrs: {'ckpt': '/content/drive/My Drive/Project 3/gru_ckpts/trial_3.pt', 'features': 'gru_delta', 'lr_curve': [0.00034853056581768383, 0.00034853056581768383, 0.00034853056581768383, 0.00034853056581768383, 0.00017426528290884191, 0.00017426528290884191, 8.713264145442096e-05, 8.713264145442096e-05, 4.356632072721048e-05, 4.356632072721048e-05], 'stride': 10, 'train_loss_curve': [0.47183937015190386, 0.4408436800871064, 0.4111090849364574, 0.3794492666463402, 0.3501330129079695, 0.3354857835068428, 0.3191898205552918, 0.31029483507968614, 0.3018972814553631, 0.2978634036215907], 'val_f1_curve': [0.5051179593847501, 0.508543574910279, 0.5081171219775369, 0.49703434640673133, 0.4844417888495657, 0.4912470673163689, 0.47787689962791946, 0.4700907957984689, 0.46176470588235297, 0.45886442641946695], 'win_len': 30}\n",
            "Trial #4 failed.\n",
            "  params : {'features': 'all_numeric', 'win_len': 120, 'stride': 20, 'hidden': 128, 'layers': 1, 'drop': 0.0, 'lr': 0.0007274060065459558}\n",
            "  system attrs: {}\n",
            "  user attrs: {'ckpt': '/content/drive/My Drive/Project 3/gru_ckpts/trial_4.pt', 'features': 'all_numeric', 'lr_curve': [0.0007274060065459558, 0.0007274060065459558, 0.0007274060065459558, 0.0007274060065459558, 0.0007274060065459558, 0.0003637030032729779, 0.0003637030032729779, 0.00018185150163648896, 0.00018185150163648896, 9.092575081824448e-05], 'stride': 20, 'train_loss_curve': [0.43973171772635417, 0.37752100866232824, 0.3379549300435558, 0.3057997827669385, 0.27885910780832524, 0.25133308509615965, 0.23015709766161715, 0.21618392325379138, 0.19681523091680073, 0.17810167677179312], 'val_f1_curve': [0.6196691176470588, 0.6493770658530383, 0.6554224995783438, 0.5967475842564224, 0.595205163669894, 0.6035484857754665, 0.6069761923594084, 0.5971498620901011, 0.6033975084937713, 0.5912642309695662], 'win_len': 120}\n",
            "Trial #5 failed.\n",
            "  params : {'features': 'all_numeric', 'win_len': 30, 'stride': 10, 'hidden': 256, 'layers': 1, 'drop': 0.1, 'lr': 0.0018463999062270768}\n",
            "  system attrs: {}\n",
            "  user attrs: {'ckpt': '/content/drive/My Drive/Project 3/gru_ckpts/trial_5.pt', 'features': 'all_numeric', 'lr_curve': [0.0018463999062270768, 0.0018463999062270768, 0.0018463999062270768, 0.0009231999531135384, 0.0009231999531135384, 0.0004615999765567692, 0.0004615999765567692, 0.0002307999882783846, 0.0002307999882783846, 0.0001153999941391923], 'stride': 10, 'train_loss_curve': [0.3548504497331152, 0.19813377551660466, 0.13212692466027573, 0.07704166769776805, 0.06531934609209773, 0.0432113594922166, 0.0384418274900749, 0.026736074766841193, 0.024982424588849497, 0.018772020276065376], 'val_f1_curve': [0.6176163203879437, 0.5876938945531003, 0.5667047199149706, 0.5796371364477154, 0.5732857709076496, 0.5845034212712099, 0.575809199318569, 0.5744319304485279, 0.5660790368604152, 0.56912288948956], 'win_len': 30}\n",
            "Trial #6 failed.\n",
            "  params : {'features': 'gru_delta', 'win_len': 60, 'stride': 20, 'hidden': 128, 'layers': 2, 'drop': 0.0, 'lr': 0.00023885327130069667}\n",
            "  system attrs: {}\n",
            "  user attrs: {}\n",
            "Trial #7 failed.\n",
            "  params : {'features': 'baseline', 'win_len': 60, 'stride': 20, 'hidden': 256, 'layers': 2, 'drop': 0.0, 'lr': 0.0005277622486733176}\n",
            "  system attrs: {}\n",
            "  user attrs: {'ckpt': '/content/drive/My Drive/Project 3/gru_ckpts/trial_7.pt', 'features': 'baseline', 'lr_curve': [0.0005277622486733176, 0.0005277622486733176, 0.0005277622486733176, 0.0002638811243366588, 0.0002638811243366588, 0.0001319405621683294, 0.0001319405621683294, 6.59702810841647e-05, 6.59702810841647e-05, 3.298514054208235e-05], 'stride': 20, 'train_loss_curve': [0.4342962977197647, 0.3973530881813277, 0.36132447155084413, 0.31535338718416384, 0.2920323341477189, 0.25832584021261257, 0.24418450659803076, 0.22335589626938, 0.21503866967412258, 0.20345779260143854], 'val_f1_curve': [0.6120640904806786, 0.5710335292084342, 0.6044568245125348, 0.56959140485105, 0.5919018404907975, 0.5630488815244408, 0.5596660664593223, 0.5659652772221778, 0.5633314964968905, 0.5580473888580711], 'win_len': 60}\n",
            "Trial #8 failed.\n",
            "  params : {'features': 'all_numeric', 'win_len': 60, 'stride': 20, 'hidden': 64, 'layers': 1, 'drop': 0.0, 'lr': 0.00034481735133938426}\n",
            "  system attrs: {}\n",
            "  user attrs: {'ckpt': '/content/drive/My Drive/Project 3/gru_ckpts/trial_8.pt', 'features': 'all_numeric', 'lr_curve': [0.00034481735133938426, 0.00034481735133938426, 0.00034481735133938426, 0.00034481735133938426, 0.00034481735133938426, 0.00034481735133938426, 0.00034481735133938426, 0.00017240867566969213, 0.00017240867566969213, 8.620433783484607e-05], 'stride': 20, 'train_loss_curve': [0.45672132651674746, 0.411600304376973, 0.39122368311747857, 0.37640614006691997, 0.36392480431634777, 0.3528603720478883, 0.342927730336642, 0.33106730963087866, 0.3255574409012614, 0.3192294528582874], 'val_f1_curve': [0.5646668050653934, 0.5957279259769662, 0.6070240295748613, 0.6259993048314216, 0.6312213351452353, 0.6114541916927502, 0.6016680567139283, 0.6019739570374056, 0.6021042167177533, 0.5947565543071162], 'win_len': 60}\n",
            "Trial #9 failed.\n",
            "  params : {'features': 'gru_delta', 'win_len': 30, 'stride': 10, 'hidden': 256, 'layers': 2, 'drop': 0.2, 'lr': 0.0001133670646053326}\n",
            "  system attrs: {}\n",
            "  user attrs: {}\n",
            "Trial #10 failed.\n",
            "  params : {'features': 'baseline', 'win_len': 30, 'stride': 10, 'hidden': 64, 'layers': 3, 'drop': 0.4, 'lr': 0.0035251692205568942}\n",
            "  system attrs: {}\n",
            "  user attrs: {}\n",
            "Trial #11 failed.\n",
            "  params : {'features': 'all_numeric', 'win_len': 60, 'stride': 20, 'hidden': 64, 'layers': 1, 'drop': 0.4, 'lr': 0.0008465359988196493}\n",
            "  system attrs: {}\n",
            "  user attrs: {'ckpt': '/content/drive/My Drive/Project 3/gru_ckpts/trial_11.pt', 'features': 'all_numeric', 'lr_curve': [0.0008465359988196493, 0.0008465359988196493, 0.0008465359988196493, 0.0008465359988196493, 0.00042326799940982466, 0.00042326799940982466, 0.00021163399970491233, 0.00021163399970491233, 0.00010581699985245616, 0.00010581699985245616], 'stride': 20, 'train_loss_curve': [0.44844428608492093, 0.3939011304717665, 0.3677178612362417, 0.34516070198506404, 0.32058346546907324, 0.3159680406043366, 0.2958137840889122, 0.29063148648565607, 0.2816638420734185, 0.27875373176966634], 'val_f1_curve': [0.5999408342372547, 0.6283114797966283, 0.6257711968975851, 0.6072176170141506, 0.585201415809877, 0.5724868636402791, 0.5749235474006116, 0.5920684548296857, 0.5751547668179943, 0.5800460223537146], 'win_len': 60}\n",
            "Trial #12 failed.\n",
            "  params : {'features': 'all_numeric', 'win_len': 60, 'stride': 20, 'hidden': 64, 'layers': 3, 'drop': 0.30000000000000004, 'lr': 0.00019346807282216746}\n",
            "  system attrs: {}\n",
            "  user attrs: {'ckpt': '/content/drive/My Drive/Project 3/gru_ckpts/trial_12.pt', 'features': 'all_numeric', 'lr_curve': [0.00019346807282216746, 0.00019346807282216746, 0.00019346807282216746, 0.00019346807282216746, 0.00019346807282216746, 0.00019346807282216746, 9.673403641108373e-05, 9.673403641108373e-05, 4.8367018205541864e-05, 4.8367018205541864e-05], 'stride': 20, 'train_loss_curve': [0.4618172779961507, 0.42264372702770703, 0.40366646501281817, 0.38866687986316545, 0.37840530248708787, 0.3700064490103582, 0.3622941717042921, 0.35797912040004615, 0.354278249689244, 0.3521368724374984], 'val_f1_curve': [0.57624750499002, 0.5702429149797571, 0.6305515759312321, 0.632978239096786, 0.6268993661543805, 0.6061918945753226, 0.5896385971158982, 0.6220479302832244, 0.6310142212381844, 0.6265307870172133], 'win_len': 60}\n",
            "Trial #13 failed.\n",
            "  params : {'features': 'all_numeric', 'win_len': 60, 'stride': 20, 'hidden': 64, 'layers': 3, 'drop': 0.30000000000000004, 'lr': 0.0001382355764544188}\n",
            "  system attrs: {}\n",
            "  user attrs: {}\n",
            "Trial #14 failed.\n",
            "  params : {'features': 'all_numeric', 'win_len': 120, 'stride': 20, 'hidden': 64, 'layers': 3, 'drop': 0.30000000000000004, 'lr': 0.0011876691350819562}\n",
            "  system attrs: {}\n",
            "  user attrs: {'ckpt': '/content/drive/My Drive/Project 3/gru_ckpts/trial_14.pt', 'features': 'all_numeric', 'lr_curve': [0.0011876691350819562, 0.0011876691350819562, 0.0011876691350819562, 0.0011876691350819562, 0.0011876691350819562, 0.0005938345675409781, 0.0005938345675409781, 0.00029691728377048904, 0.00029691728377048904, 0.00029691728377048904], 'stride': 20, 'train_loss_curve': [0.4246860949194902, 0.3609889914374447, 0.32084830764607686, 0.29235769900510694, 0.25156563809976384, 0.20309928617959838, 0.18384093776819344, 0.15862683961405855, 0.1486694865567792, 0.1415665360700701], 'val_f1_curve': [0.6073307611364434, 0.6079668348954578, 0.6169797943991492, 0.5856380397865114, 0.5943641960691451, 0.6014186792771491, 0.6153079860534617, 0.61403364792778, 0.6199267995119967, 0.6167756518931138], 'win_len': 120}\n",
            "Trial #15 failed.\n",
            "  params : {'features': 'all_numeric', 'win_len': 120, 'stride': 20, 'hidden': 64, 'layers': 3, 'drop': 0.30000000000000004, 'lr': 0.00020109280552196062}\n",
            "  system attrs: {}\n",
            "  user attrs: {'ckpt': '/content/drive/My Drive/Project 3/gru_ckpts/trial_15.pt', 'features': 'all_numeric', 'lr_curve': [0.00020109280552196062, 0.00020109280552196062, 0.00020109280552196062, 0.00020109280552196062, 0.00020109280552196062, 0.00020109280552196062, 0.00010054640276098031, 0.00010054640276098031, 5.0273201380490155e-05, 5.0273201380490155e-05], 'stride': 20, 'train_loss_curve': [0.4633382729878515, 0.4199477150918857, 0.4024426302169871, 0.3896634042322509, 0.3787847950945925, 0.3700256835740958, 0.3599987061673066, 0.35579301872090646, 0.3501406803799126, 0.34716770214832393], 'val_f1_curve': [0.5865460267505901, 0.587521663778163, 0.619907363644957, 0.6305321626948576, 0.6132471163928697, 0.5868186414192481, 0.6145973154362416, 0.6058077152346079, 0.6059045657397871, 0.6114767932489451], 'win_len': 120}\n",
            "Trial #16 failed.\n",
            "  params : {'features': 'baseline', 'win_len': 120, 'stride': 20, 'hidden': 64, 'layers': 3, 'drop': 0.4, 'lr': 0.00494201611838819}\n",
            "  system attrs: {}\n",
            "  user attrs: {}\n",
            "Trial #17 failed.\n",
            "  params : {'features': 'all_numeric', 'win_len': 120, 'stride': 20, 'hidden': 64, 'layers': 3, 'drop': 0.1, 'lr': 0.0013115337177285527}\n",
            "  system attrs: {}\n",
            "  user attrs: {'ckpt': '/content/drive/My Drive/Project 3/gru_ckpts/trial_17.pt', 'features': 'all_numeric', 'lr_curve': [0.0013115337177285527, 0.0013115337177285527, 0.0013115337177285527, 0.0013115337177285527, 0.0006557668588642764, 0.0006557668588642764, 0.0003278834294321382, 0.0003278834294321382, 0.0001639417147160691, 0.0001639417147160691], 'stride': 20, 'train_loss_curve': [0.4170162055646635, 0.3461921996562144, 0.28736088852984937, 0.23739634889744426, 0.17877485993418646, 0.15423189607260002, 0.12447883100100435, 0.1141547138357711, 0.09651084474801581, 0.09128553807044695], 'val_f1_curve': [0.6017067223963776, 0.6302938452471163, 0.5835217086288876, 0.5927097203728362, 0.5998745688303544, 0.603526907874734, 0.5922381711855396, 0.5886657208989771, 0.5825446898002103, 0.577039946638998], 'win_len': 120}\n",
            "Trial #18 failed.\n",
            "  params : {'features': 'all_numeric', 'win_len': 120, 'stride': 10, 'hidden': 64, 'layers': 3, 'drop': 0.30000000000000004, 'lr': 0.0004992899827996533}\n",
            "  system attrs: {}\n",
            "  user attrs: {'ckpt': '/content/drive/My Drive/Project 3/gru_ckpts/trial_18.pt', 'features': 'all_numeric', 'lr_curve': [0.0004992899827996533, 0.0004992899827996533, 0.0004992899827996533, 0.0004992899827996533, 0.0004992899827996533, 0.00024964499139982664, 0.00024964499139982664, 0.00012482249569991332, 0.00012482249569991332, 6.241124784995666e-05], 'stride': 10, 'train_loss_curve': [0.42116763532893875, 0.3600622819705593, 0.32036875400059495, 0.28454729160048786, 0.25774538860159335, 0.2170292568141625, 0.20200776978881813, 0.18034088530624812, 0.1731354929576977, 0.16254153837129273], 'val_f1_curve': [0.6131016042780749, 0.6137633316404266, 0.6339429467861124, 0.6030879467713043, 0.6005710266065296, 0.6032079274437353, 0.5812338821662368, 0.5914396887159533, 0.5771871008939975, 0.5795749885338634], 'win_len': 120}\n",
            "Trial #19 failed.\n",
            "  params : {'features': 'baseline', 'win_len': 60, 'stride': 20, 'hidden': 64, 'layers': 3, 'drop': 0.1, 'lr': 0.0001650272056045969}\n",
            "  system attrs: {}\n",
            "  user attrs: {}\n",
            "Trial #20 failed.\n",
            "  params : {'features': 'all_numeric', 'win_len': 120, 'stride': 20, 'hidden': 256, 'layers': 3, 'drop': 0.4, 'lr': 0.00036584761429955684}\n",
            "  system attrs: {}\n",
            "  user attrs: {'ckpt': '/content/drive/My Drive/Project 3/gru_ckpts/trial_20.pt', 'features': 'all_numeric', 'lr_curve': [0.00036584761429955684, 0.00036584761429955684, 0.00036584761429955684, 0.00036584761429955684, 0.00036584761429955684, 0.00018292380714977842, 0.00018292380714977842, 9.146190357488921e-05, 9.146190357488921e-05, 4.5730951787444605e-05], 'stride': 20, 'train_loss_curve': [0.4353175469752377, 0.3844393419138016, 0.35194639263510263, 0.3159258025562754, 0.27375235165190925, 0.2218482669606434, 0.19925251160161192, 0.16542489996583867, 0.1519815944042095, 0.13286536485176592], 'val_f1_curve': [0.6117546117546118, 0.6191620879120879, 0.6503382318637742, 0.5844301765650081, 0.6164940544687381, 0.5807189542483661, 0.5736176935229068, 0.5786832902539152, 0.6040530007794233, 0.5914166350170907], 'win_len': 120}\n",
            "Trial #21 failed.\n",
            "  params : {'features': 'all_numeric', 'win_len': 120, 'stride': 20, 'hidden': 64, 'layers': 3, 'drop': 0.30000000000000004, 'lr': 0.00021067093765608988}\n",
            "  system attrs: {}\n",
            "  user attrs: {'ckpt': '/content/drive/My Drive/Project 3/gru_ckpts/trial_21.pt', 'features': 'all_numeric', 'lr_curve': [0.00021067093765608988, 0.00021067093765608988, 0.00021067093765608988, 0.00021067093765608988, 0.00021067093765608988, 0.00010533546882804494, 0.00010533546882804494, 0.00010533546882804494, 0.00010533546882804494, 0.00010533546882804494], 'stride': 20, 'train_loss_curve': [0.4671898187806886, 0.41734759453068443, 0.40163847310785045, 0.3903781609905163, 0.38114215549315167, 0.3702185476543722, 0.36512602024145746, 0.36101127446606013, 0.35725250003134207, 0.3522575791912124], 'val_f1_curve': [0.5921284511454866, 0.603319656844461, 0.6157006340984192, 0.615219912570256, 0.6100221729490022, 0.6121248810862233, 0.6216031447615792, 0.6105481943361912, 0.633355614973262, 0.633571309978416], 'win_len': 120}\n",
            "Trial #22 failed.\n",
            "  params : {'features': 'all_numeric', 'win_len': 120, 'stride': 20, 'hidden': 64, 'layers': 3, 'drop': 0.30000000000000004, 'lr': 0.00010018074769951827}\n",
            "  system attrs: {}\n",
            "  user attrs: {}\n",
            "Trial #23 failed.\n",
            "  params : {'features': 'all_numeric', 'win_len': 120, 'stride': 20, 'hidden': 64, 'layers': 3, 'drop': 0.2, 'lr': 0.0002581021390253056}\n",
            "  system attrs: {}\n",
            "  user attrs: {}\n",
            "Trial #24 failed.\n",
            "  params : {'features': 'all_numeric', 'win_len': 120, 'stride': 20, 'hidden': 64, 'layers': 2, 'drop': 0.30000000000000004, 'lr': 0.0012067733912012062}\n",
            "  system attrs: {}\n",
            "  user attrs: {'ckpt': '/content/drive/My Drive/Project 3/gru_ckpts/trial_24.pt', 'features': 'all_numeric', 'lr_curve': [0.0012067733912012062, 0.0012067733912012062, 0.0012067733912012062, 0.0006033866956006031, 0.0006033866956006031, 0.00030169334780030154, 0.00030169334780030154, 0.00015084667390015077, 0.00015084667390015077, 7.542333695007538e-05], 'stride': 20, 'train_loss_curve': [0.42741208846348944, 0.3609438117246214, 0.31923982568079584, 0.2732784003587658, 0.255644177798204, 0.22867823791700073, 0.2174788008921563, 0.2044055425437746, 0.19907553109385473, 0.19260539374618635], 'val_f1_curve': [0.61250539025442, 0.6054338299737073, 0.6081416514976006, 0.583326265795946, 0.5990455391086306, 0.5947434292866083, 0.5989339893398934, 0.5883331946409254, 0.5913862941225098, 0.5835211620335587], 'win_len': 120}\n",
            "Trial #25 failed.\n",
            "  params : {'features': 'all_numeric', 'win_len': 60, 'stride': 20, 'hidden': 64, 'layers': 3, 'drop': 0.2, 'lr': 0.0005357327159555071}\n",
            "  system attrs: {}\n",
            "  user attrs: {'ckpt': '/content/drive/My Drive/Project 3/gru_ckpts/trial_25.pt', 'features': 'all_numeric', 'lr_curve': [0.0005357327159555071, 0.0005357327159555071, 0.0005357327159555071, 0.0002678663579777536, 0.0002678663579777536, 0.0001339331789888768, 0.0001339331789888768, 0.0001339331789888768, 0.0001339331789888768, 6.69665894944384e-05], 'stride': 20, 'train_loss_curve': [0.43225016288967366, 0.38581450005267776, 0.36091135070841407, 0.332611498299229, 0.318352634432009, 0.3031502946027432, 0.29599326223688593, 0.2897595429872005, 0.28316408070677196, 0.2758799523084503], 'val_f1_curve': [0.6285465622280244, 0.6246266746309412, 0.6255468817019817, 0.6279184478789872, 0.6258381030253475, 0.6225751002701154, 0.6360966057441253, 0.607516339869281, 0.6092257001647446, 0.6126080752119534], 'win_len': 60}\n",
            "Trial #26 failed.\n",
            "  params : {'features': 'all_numeric', 'win_len': 120, 'stride': 10, 'hidden': 64, 'layers': 3, 'drop': 0.4, 'lr': 0.00016107243933877714}\n",
            "  system attrs: {}\n",
            "  user attrs: {'ckpt': '/content/drive/My Drive/Project 3/gru_ckpts/trial_26.pt', 'features': 'all_numeric', 'lr_curve': [0.00016107243933877714, 0.00016107243933877714, 0.00016107243933877714, 0.00016107243933877714, 0.00016107243933877714, 0.00016107243933877714, 0.00016107243933877714, 8.053621966938857e-05, 8.053621966938857e-05, 8.053621966938857e-05], 'stride': 10, 'train_loss_curve': [0.4524259959432272, 0.4088171726352561, 0.3902024183075228, 0.3757633797512109, 0.3643608798416577, 0.3538750020249738, 0.3441550945065293, 0.3327692998710299, 0.32697660526354544, 0.3203458239962804], 'val_f1_curve': [0.609954924714683, 0.6102097348634745, 0.619013399839371, 0.5912283567461614, 0.631767449608529, 0.628650091773736, 0.6099129776768824, 0.6390890869546676, 0.5982636148382005, 0.6189976384151141], 'win_len': 120}\n",
            "Trial #27 failed.\n",
            "  params : {'features': 'all_numeric', 'win_len': 60, 'stride': 10, 'hidden': 64, 'layers': 2, 'drop': 0.4, 'lr': 0.00017099067108851613}\n",
            "  system attrs: {}\n",
            "  user attrs: {}\n",
            "Trial #28 failed.\n",
            "  params : {'features': 'gru_delta', 'win_len': 120, 'stride': 10, 'hidden': 256, 'layers': 3, 'drop': 0.4, 'lr': 0.00025676237899707803}\n",
            "  system attrs: {}\n",
            "  user attrs: {}\n",
            "Trial #29 failed.\n",
            "  params : {'features': 'baseline', 'win_len': 120, 'stride': 10, 'hidden': 64, 'layers': 2, 'drop': 0.4, 'lr': 0.00013710731654461214}\n",
            "  system attrs: {}\n",
            "  user attrs: {}\n",
            "Trial #30 failed.\n",
            "  params : {'features': 'all_numeric', 'win_len': 60, 'stride': 10, 'hidden': 128, 'layers': 2, 'drop': 0.30000000000000004, 'lr': 0.000225565809008508}\n",
            "  system attrs: {}\n",
            "  user attrs: {'ckpt': '/content/drive/My Drive/Project 3/gru_ckpts/trial_30.pt', 'features': 'all_numeric', 'lr_curve': [0.000225565809008508, 0.000225565809008508, 0.000225565809008508, 0.000225565809008508, 0.000112782904504254, 0.000112782904504254, 5.6391452252127e-05, 5.6391452252127e-05, 2.81957261260635e-05, 2.81957261260635e-05], 'stride': 10, 'train_loss_curve': [0.4272505975221932, 0.37539235990373043, 0.34457446178716244, 0.31640286239772586, 0.28630640908362526, 0.27103210367660485, 0.2547137129536573, 0.24663579311867304, 0.23757833860872218, 0.23416487062735317], 'val_f1_curve': [0.6156625417758107, 0.6299541093032958, 0.6257443884562529, 0.6129178516961379, 0.6143218603156754, 0.5827236347467561, 0.6008743523316062, 0.6110643752754076, 0.6067059540743751, 0.6067478762622215], 'win_len': 60}\n",
            "Trial #31 failed.\n",
            "  params : {'features': 'all_numeric', 'win_len': 120, 'stride': 20, 'hidden': 64, 'layers': 3, 'drop': 0.30000000000000004, 'lr': 0.0021938733336626056}\n",
            "  system attrs: {}\n",
            "  user attrs: {'ckpt': '/content/drive/My Drive/Project 3/gru_ckpts/trial_31.pt', 'features': 'all_numeric', 'lr_curve': [0.0021938733336626056, 0.0021938733336626056, 0.0021938733336626056, 0.0010969366668313028, 0.0010969366668313028, 0.0010969366668313028, 0.0010969366668313028, 0.0010969366668313028, 0.0005484683334156514, 0.0005484683334156514], 'stride': 20, 'train_loss_curve': [0.413898083645032, 0.3375900175515, 0.2966459419631475, 0.23716808370632608, 0.199550878204174, 0.1727153895286562, 0.15466705978774586, 0.14097974080673423, 0.11045752363508492, 0.10234624282025245], 'val_f1_curve': [0.6202698256005265, 0.6150008601410631, 0.6143580673687595, 0.6176307228437674, 0.6205051538279959, 0.6290520127378133, 0.6235941612826035, 0.624893369523071, 0.6135702492334303, 0.6012722846147804], 'win_len': 120}\n",
            "Trial #32 failed.\n",
            "  params : {'features': 'all_numeric', 'win_len': 120, 'stride': 10, 'hidden': 64, 'layers': 3, 'drop': 0.30000000000000004, 'lr': 0.00017407055492004104}\n",
            "  system attrs: {}\n",
            "  user attrs: {}\n",
            "Trial #33 failed.\n",
            "  params : {'features': 'all_numeric', 'win_len': 120, 'stride': 20, 'hidden': 64, 'layers': 3, 'drop': 0.2, 'lr': 0.00032081566506351463}\n",
            "  system attrs: {}\n",
            "  user attrs: {'ckpt': '/content/drive/My Drive/Project 3/gru_ckpts/trial_33.pt', 'features': 'all_numeric', 'lr_curve': [0.00032081566506351463, 0.00032081566506351463, 0.00032081566506351463, 0.00032081566506351463, 0.00032081566506351463, 0.00016040783253175732, 0.00016040783253175732, 8.020391626587866e-05, 8.020391626587866e-05, 4.010195813293933e-05], 'stride': 20, 'train_loss_curve': [0.457390721118218, 0.409783763834471, 0.3881648123438368, 0.37222678904790363, 0.357354408755561, 0.3412811398959365, 0.33240648529681033, 0.3223592449015581, 0.3172844449587833, 0.3126974245663056], 'val_f1_curve': [0.5966609751470309, 0.6114988978692139, 0.6333274430111328, 0.6321848810632354, 0.62070764148483, 0.6121241991128635, 0.5983365538099639, 0.6047017485150171, 0.6078566505858028, 0.6175704077343421], 'win_len': 120}\n",
            "Trial #34 failed.\n",
            "  params : {'features': 'all_numeric', 'win_len': 120, 'stride': 20, 'hidden': 64, 'layers': 3, 'drop': 0.2, 'lr': 0.00043451664598185674}\n",
            "  system attrs: {}\n",
            "  user attrs: {'ckpt': '/content/drive/My Drive/Project 3/gru_ckpts/trial_34.pt', 'features': 'all_numeric', 'lr_curve': [0.00043451664598185674, 0.00043451664598185674, 0.00043451664598185674, 0.00043451664598185674, 0.00021725832299092837, 0.00021725832299092837, 0.00021725832299092837, 0.00010862916149546418, 0.00010862916149546418, 0.00010862916149546418], 'stride': 20, 'train_loss_curve': [0.4454544098115802, 0.3982496129358418, 0.3778266727151133, 0.3582544128103726, 0.33804291471523956, 0.3257129939877963, 0.31525483110653413, 0.30304182401826407, 0.29694249625347485, 0.29218325323333616], 'val_f1_curve': [0.5838063937854795, 0.6260420140046682, 0.6194499668654738, 0.6071187584345479, 0.6310639356497222, 0.6140139658078497, 0.6205, 0.6362092665965877, 0.6219541616405307, 0.6299150676313306], 'win_len': 120}\n",
            "Trial #35 failed.\n",
            "  params : {'features': 'gru_delta', 'win_len': 120, 'stride': 10, 'hidden': 128, 'layers': 3, 'drop': 0.2, 'lr': 0.0004102492246288924}\n",
            "  system attrs: {}\n",
            "  user attrs: {}\n",
            "Trial #36 failed.\n",
            "  params : {'features': 'all_numeric', 'win_len': 30, 'stride': 20, 'hidden': 64, 'layers': 3, 'drop': 0.1, 'lr': 0.0001272809249929675}\n",
            "  system attrs: {}\n",
            "  user attrs: {}\n",
            "Trial #37 failed.\n",
            "  params : {'features': 'all_numeric', 'win_len': 120, 'stride': 20, 'hidden': 128, 'layers': 3, 'drop': 0.2, 'lr': 0.00028195059304284454}\n",
            "  system attrs: {}\n",
            "  user attrs: {'ckpt': '/content/drive/My Drive/Project 3/gru_ckpts/trial_37.pt', 'features': 'all_numeric', 'lr_curve': [0.00028195059304284454, 0.00028195059304284454, 0.00028195059304284454, 0.00028195059304284454, 0.00028195059304284454, 0.00028195059304284454, 0.00014097529652142227, 0.00014097529652142227, 7.048764826071113e-05, 7.048764826071113e-05], 'stride': 20, 'train_loss_curve': [0.4465945574279306, 0.3963046844427682, 0.37018661416352633, 0.34624048230334914, 0.32129686333136587, 0.2951725275157292, 0.2597282689581046, 0.24294624278870677, 0.22443365682175392, 0.21522808048678668], 'val_f1_curve': [0.6138875767595654, 0.6084289844913695, 0.6182661434177666, 0.6459585272958104, 0.6198492865159532, 0.6022166491384192, 0.5845484572625473, 0.6008597883597884, 0.5809882198952879, 0.5838458384583846], 'win_len': 120}\n",
            "Trial #38 failed.\n",
            "  params : {'features': 'all_numeric', 'win_len': 120, 'stride': 10, 'hidden': 64, 'layers': 3, 'drop': 0.2, 'lr': 0.0004470990375633453}\n",
            "  system attrs: {}\n",
            "  user attrs: {'ckpt': '/content/drive/My Drive/Project 3/gru_ckpts/trial_38.pt', 'features': 'all_numeric', 'lr_curve': [0.0004470990375633453, 0.0004470990375633453, 0.0004470990375633453, 0.0004470990375633453, 0.0004470990375633453, 0.00022354951878167265, 0.00022354951878167265, 0.00011177475939083632, 0.00011177475939083632, 5.588737969541816e-05], 'stride': 10, 'train_loss_curve': [0.4210327439382548, 0.36110230420004386, 0.31894394599333853, 0.28088719864344874, 0.24898807353384356, 0.21536748410564258, 0.19767020079751405, 0.17834289400726913, 0.17030058668626155, 0.16090828063850204], 'val_f1_curve': [0.5925672789406237, 0.6169087957374183, 0.6365384615384615, 0.6054885654885654, 0.6318894456117666, 0.595426457275554, 0.599896911304072, 0.5879048115895501, 0.5940032414910859, 0.5863231398988683], 'win_len': 120}\n",
            "Trial #39 failed.\n",
            "  params : {'features': 'gru_delta', 'win_len': 60, 'stride': 20, 'hidden': 256, 'layers': 2, 'drop': 0.4, 'lr': 0.0006555390030401694}\n",
            "  system attrs: {}\n",
            "  user attrs: {}\n",
            "Trial #40 failed.\n",
            "  params : {'features': 'all_numeric', 'win_len': 30, 'stride': 20, 'hidden': 64, 'layers': 3, 'drop': 0.2, 'lr': 0.00019301244600819677}\n",
            "  system attrs: {}\n",
            "  user attrs: {}\n",
            "Trial #41 failed.\n",
            "  params : {'features': 'all_numeric', 'win_len': 120, 'stride': 20, 'hidden': 64, 'layers': 3, 'drop': 0.2, 'lr': 0.0003347889977699518}\n",
            "  system attrs: {}\n",
            "  user attrs: {'ckpt': '/content/drive/My Drive/Project 3/gru_ckpts/trial_41.pt', 'features': 'all_numeric', 'lr_curve': [0.0003347889977699518, 0.0003347889977699518, 0.0003347889977699518, 0.0003347889977699518, 0.0003347889977699518, 0.0003347889977699518, 0.0001673944988849759, 0.0001673944988849759, 8.369724944248795e-05, 8.369724944248795e-05], 'stride': 20, 'train_loss_curve': [0.4562516741445616, 0.40538923809585814, 0.38617053946759106, 0.3707854627604711, 0.3565293137465704, 0.34359851541434916, 0.3285796150350862, 0.32123941973126247, 0.31167486968076635, 0.30685639185970465], 'val_f1_curve': [0.5885558583106267, 0.6204391613009741, 0.6212956581667816, 0.6363709612440577, 0.6297166118678565, 0.615347018572825, 0.624706434945984, 0.6063004590786766, 0.6042452830188679, 0.6205642930530308], 'win_len': 120}\n",
            "Trial #42 failed.\n",
            "  params : {'features': 'all_numeric', 'win_len': 120, 'stride': 20, 'hidden': 64, 'layers': 3, 'drop': 0.1, 'lr': 0.00029601708987329927}\n",
            "  system attrs: {}\n",
            "  user attrs: {'ckpt': '/content/drive/My Drive/Project 3/gru_ckpts/trial_42.pt', 'features': 'all_numeric', 'lr_curve': [0.00029601708987329927, 0.00029601708987329927, 0.00029601708987329927, 0.00029601708987329927, 0.00029601708987329927, 0.00014800854493664963, 0.00014800854493664963, 7.400427246832482e-05, 7.400427246832482e-05, 3.700213623416241e-05], 'stride': 20, 'train_loss_curve': [0.4573885410843653, 0.40488482366121437, 0.38502009625312184, 0.3677835760889748, 0.3531002443155695, 0.33779751443468536, 0.3300029837519659, 0.32167705299155913, 0.3175742102710578, 0.313496579507782], 'val_f1_curve': [0.5718595997183948, 0.6216433223302703, 0.6290945741642869, 0.6123670212765957, 0.6139311174096024, 0.6169867690994452, 0.6262303356608059, 0.5938607868568958, 0.6107254425546685, 0.6102209478832855], 'win_len': 120}\n",
            "Trial #43 failed.\n",
            "  params : {'features': 'all_numeric', 'win_len': 120, 'stride': 20, 'hidden': 64, 'layers': 3, 'drop': 0.2, 'lr': 0.00022211265793206064}\n",
            "  system attrs: {}\n",
            "  user attrs: {}\n",
            "Trial #44 failed.\n",
            "  params : {'features': 'all_numeric', 'win_len': 120, 'stride': 20, 'hidden': 64, 'layers': 3, 'drop': 0.2, 'lr': 0.0006063061590505843}\n",
            "  system attrs: {}\n",
            "  user attrs: {}\n",
            "Trial #45 failed.\n",
            "  params : {'features': 'all_numeric', 'win_len': 60, 'stride': 20, 'hidden': 128, 'layers': 3, 'drop': 0.30000000000000004, 'lr': 0.0001506556193532733}\n",
            "  system attrs: {}\n",
            "  user attrs: {}\n",
            "Trial #46 failed.\n",
            "  params : {'features': 'baseline', 'win_len': 30, 'stride': 10, 'hidden': 64, 'layers': 2, 'drop': 0.2, 'lr': 0.0004312444144029348}\n",
            "  system attrs: {}\n",
            "  user attrs: {}\n",
            "Trial #47 failed.\n",
            "  params : {'features': 'all_numeric', 'win_len': 120, 'stride': 20, 'hidden': 64, 'layers': 3, 'drop': 0.30000000000000004, 'lr': 0.00035021211301315176}\n",
            "  system attrs: {}\n",
            "  user attrs: {'ckpt': '/content/drive/My Drive/Project 3/gru_ckpts/trial_47.pt', 'features': 'all_numeric', 'lr_curve': [0.00035021211301315176, 0.00035021211301315176, 0.00035021211301315176, 0.00035021211301315176, 0.00035021211301315176, 0.00035021211301315176, 0.00035021211301315176, 0.00035021211301315176, 0.00035021211301315176, 0.00035021211301315176], 'stride': 20, 'train_loss_curve': [0.45450090981194186, 0.40795077268840574, 0.38670068241188443, 0.36827441779866, 0.34943078088186175, 0.33260573051249137, 0.31732450104324916, 0.3055501517961565, 0.2948627833083159, 0.28276215291335166], 'val_f1_curve': [0.6111111111111112, 0.614948312139786, 0.6349614395886889, 0.6246307081961678, 0.6425652310594153, 0.6337717506739645, 0.6529171013562315, 0.6718467109233555, 0.6391736683881909, 0.629800796812749], 'win_len': 120}\n",
            "Trial #48 failed.\n",
            "  params : {'features': 'gru_delta', 'win_len': 120, 'stride': 20, 'hidden': 256, 'layers': 1, 'drop': 0.30000000000000004, 'lr': 0.0007741398900076421}\n",
            "  system attrs: {}\n",
            "  user attrs: {}\n",
            "Trial #49 failed.\n",
            "  params : {'features': 'all_numeric', 'win_len': 60, 'stride': 20, 'hidden': 64, 'layers': 3, 'drop': 0.30000000000000004, 'lr': 0.00036644715790058497}\n",
            "  system attrs: {}\n",
            "  user attrs: {'ckpt': '/content/drive/My Drive/Project 3/gru_ckpts/trial_49.pt', 'features': 'all_numeric', 'lr_curve': [0.00036644715790058497, 0.00036644715790058497, 0.00036644715790058497, 0.00036644715790058497, 0.00036644715790058497, 0.00036644715790058497, 0.00036644715790058497, 0.00018322357895029248, 0.00018322357895029248, 9.161178947514624e-05], 'stride': 20, 'train_loss_curve': [0.44723144026224426, 0.39943498556169743, 0.3774904883188453, 0.36012803319650705, 0.3449344086359956, 0.33073473785117874, 0.3173313532102387, 0.3008258750566072, 0.2932455164771508, 0.2839961336479434], 'val_f1_curve': [0.5822634801501086, 0.6147941381716678, 0.6244894556972577, 0.6492549533322417, 0.6514303979542911, 0.6159254414650098, 0.6204428167138338, 0.6123826774246666, 0.6280897037158291, 0.619651086240948], 'win_len': 60}\n",
            "Trial #50 failed.\n",
            "  params : {'features': 'all_numeric', 'win_len': 120, 'stride': 20, 'hidden': 64, 'layers': 3, 'drop': 0.30000000000000004, 'lr': 0.0003190063719789571}\n",
            "  system attrs: {}\n",
            "  user attrs: {'ckpt': '/content/drive/My Drive/Project 3/gru_ckpts/trial_50.pt', 'features': 'all_numeric', 'lr_curve': [0.0003190063719789571, 0.0003190063719789571, 0.0003190063719789571, 0.0003190063719789571, 0.0003190063719789571, 0.00015950318598947856, 0.00015950318598947856, 7.975159299473928e-05, 7.975159299473928e-05, 3.987579649736964e-05], 'stride': 20, 'train_loss_curve': [0.4562505487473322, 0.41186419898152493, 0.39449773609553923, 0.37890865011568486, 0.3644765650135662, 0.34758761506124797, 0.33890454101973516, 0.33233063875469604, 0.3262574649739727, 0.3220305894901439], 'val_f1_curve': [0.5946692991115499, 0.5913209346685742, 0.6206958879349299, 0.6184019783405815, 0.6138564688353613, 0.6142266335814723, 0.6158814275068312, 0.6062139299549372, 0.6077224398433129, 0.6074699370868838], 'win_len': 120}\n",
            "Trial #51 failed.\n",
            "  params : {'features': 'all_numeric', 'win_len': 60, 'stride': 20, 'hidden': 64, 'layers': 3, 'drop': 0.30000000000000004, 'lr': 0.0003947569173889963}\n",
            "  system attrs: {}\n",
            "  user attrs: {'ckpt': '/content/drive/My Drive/Project 3/gru_ckpts/trial_51.pt', 'features': 'all_numeric', 'lr_curve': [0.0003947569173889963, 0.0003947569173889963, 0.0003947569173889963, 0.0003947569173889963, 0.00019737845869449816, 0.00019737845869449816, 9.868922934724908e-05, 9.868922934724908e-05, 4.934461467362454e-05, 4.934461467362454e-05], 'stride': 20, 'train_loss_curve': [0.4481376890767729, 0.3994568353037714, 0.37771172741908243, 0.35997683809623965, 0.3418733896516431, 0.331911931822966, 0.32288865009611845, 0.31763629990653464, 0.3125676340493344, 0.3097160148932207], 'val_f1_curve': [0.5909574983057411, 0.6243425302205408, 0.6129936305732484, 0.623626811017354, 0.6240313239252794, 0.6165661904368651, 0.6129323802481308, 0.6068111455108359, 0.624611213015392, 0.6118222584590297], 'win_len': 60}\n",
            "Trial #52 failed.\n",
            "  params : {'features': 'all_numeric', 'win_len': 60, 'stride': 20, 'hidden': 64, 'layers': 3, 'drop': 0.30000000000000004, 'lr': 0.0005257763798157722}\n",
            "  system attrs: {}\n",
            "  user attrs: {}\n",
            "Trial #53 failed.\n",
            "  params : {'features': 'all_numeric', 'win_len': 60, 'stride': 20, 'hidden': 64, 'layers': 3, 'drop': 0.30000000000000004, 'lr': 0.0009778782082664698}\n",
            "  system attrs: {}\n",
            "  user attrs: {'ckpt': '/content/drive/My Drive/Project 3/gru_ckpts/trial_53.pt', 'features': 'all_numeric', 'lr_curve': [0.0009778782082664698, 0.0009778782082664698, 0.0009778782082664698, 0.0004889391041332349, 0.0004889391041332349, 0.00024446955206661744, 0.00024446955206661744, 0.00012223477603330872, 0.00012223477603330872, 6.111738801665436e-05], 'stride': 20, 'train_loss_curve': [0.42580559070915147, 0.3690369305553241, 0.33439438428017265, 0.2982031268649939, 0.2821039127468262, 0.25727901240619044, 0.24646418570260384, 0.23356542245095444, 0.22746615393405428, 0.22100871491145113], 'val_f1_curve': [0.6248193641618497, 0.618840698532426, 0.6099983167816866, 0.581986143187067, 0.5841575642900146, 0.596377859025593, 0.5826639892904953, 0.5921300256629598, 0.5916866233321929, 0.5920240280327048], 'win_len': 60}\n",
            "Trial #54 failed.\n",
            "  params : {'features': 'all_numeric', 'win_len': 60, 'stride': 20, 'hidden': 64, 'layers': 3, 'drop': 0.30000000000000004, 'lr': 0.0003523222244827183}\n",
            "  system attrs: {}\n",
            "  user attrs: {}\n",
            "Trial #55 failed.\n",
            "  params : {'features': 'baseline', 'win_len': 60, 'stride': 20, 'hidden': 64, 'layers': 3, 'drop': 0.2, 'lr': 0.0002018714096498403}\n",
            "  system attrs: {}\n",
            "  user attrs: {}\n",
            "Trial #56 failed.\n",
            "  params : {'features': 'all_numeric', 'win_len': 30, 'stride': 20, 'hidden': 64, 'layers': 3, 'drop': 0.2, 'lr': 0.00046159799762927493}\n",
            "  system attrs: {}\n",
            "  user attrs: {}\n",
            "Trial #57 failed.\n",
            "  params : {'features': 'all_numeric', 'win_len': 120, 'stride': 20, 'hidden': 64, 'layers': 3, 'drop': 0.30000000000000004, 'lr': 0.00027365731205208503}\n",
            "  system attrs: {}\n",
            "  user attrs: {'ckpt': '/content/drive/My Drive/Project 3/gru_ckpts/trial_57.pt', 'features': 'all_numeric', 'lr_curve': [0.00027365731205208503, 0.00027365731205208503, 0.00027365731205208503, 0.00027365731205208503, 0.00027365731205208503, 0.00027365731205208503, 0.00013682865602604252, 0.00013682865602604252, 6.841432801302126e-05, 6.841432801302126e-05], 'stride': 20, 'train_loss_curve': [0.46179523839452374, 0.4124292902855482, 0.3928337046958298, 0.37778059051264634, 0.36603733903394153, 0.34909469299123974, 0.33374508093938704, 0.32496591994997226, 0.3171176556013527, 0.31267410983404215], 'val_f1_curve': [0.5804328313553406, 0.6312083024462565, 0.6341341341341341, 0.6480696986651746, 0.6209757716561567, 0.6140201262152482, 0.6285431773236652, 0.6126081582200247, 0.6252995125175577, 0.619567013716741], 'win_len': 120}\n",
            "Trial #58 failed.\n",
            "  params : {'features': 'all_numeric', 'win_len': 60, 'stride': 20, 'hidden': 64, 'layers': 3, 'drop': 0.1, 'lr': 0.0002325496033859159}\n",
            "  system attrs: {}\n",
            "  user attrs: {}\n",
            "Trial #59 failed.\n",
            "  params : {'features': 'all_numeric', 'win_len': 120, 'stride': 20, 'hidden': 256, 'layers': 3, 'drop': 0.30000000000000004, 'lr': 0.0005862070919511861}\n",
            "  system attrs: {}\n",
            "  user attrs: {'ckpt': '/content/drive/My Drive/Project 3/gru_ckpts/trial_59.pt', 'features': 'all_numeric', 'lr_curve': [0.0005862070919511861, 0.0005862070919511861, 0.0005862070919511861, 0.00029310354597559304, 0.00029310354597559304, 0.00014655177298779652, 0.00014655177298779652, 7.327588649389826e-05, 7.327588649389826e-05, 3.663794324694913e-05], 'stride': 20, 'train_loss_curve': [0.4266315720291174, 0.36538744569747955, 0.3126654598754038, 0.24141462468353353, 0.1991664129919958, 0.150842246114144, 0.12905085332689342, 0.10377543160865559, 0.09478794143486101, 0.08157229937442284], 'val_f1_curve': [0.6392815566273075, 0.5927546377318866, 0.5969332780770825, 0.5628164187241997, 0.5854122119268235, 0.5784788380446666, 0.5741140215716487, 0.56860853432282, 0.5595008171148418, 0.5605969249321676], 'win_len': 120}\n",
            "Trial #60 failed.\n",
            "  params : {'features': 'all_numeric', 'win_len': 60, 'stride': 20, 'hidden': 64, 'layers': 2, 'drop': 0.2, 'lr': 0.0003794509011797941}\n",
            "  system attrs: {}\n",
            "  user attrs: {'ckpt': '/content/drive/My Drive/Project 3/gru_ckpts/trial_60.pt', 'features': 'all_numeric', 'lr_curve': [0.0003794509011797941, 0.0003794509011797941, 0.0003794509011797941, 0.0003794509011797941, 0.0003794509011797941, 0.00018972545058989706, 0.00018972545058989706, 9.486272529494853e-05, 9.486272529494853e-05, 4.7431362647474266e-05], 'stride': 20, 'train_loss_curve': [0.4457558363746398, 0.39712886476773507, 0.378935223280096, 0.36159830117042435, 0.344573429052501, 0.3273640203830832, 0.3196386893662421, 0.3111019895983715, 0.30726495245273805, 0.3032348519712623], 'val_f1_curve': [0.5954168312919794, 0.591275659824047, 0.628206206374569, 0.6065363938902637, 0.6229646502995022, 0.6119181247936613, 0.617015947232195, 0.6179222058099458, 0.6057831325301205, 0.6152597402597403], 'win_len': 60}\n",
            "Trial #61 failed.\n",
            "  params : {'features': 'all_numeric', 'win_len': 120, 'stride': 20, 'hidden': 64, 'layers': 3, 'drop': 0.30000000000000004, 'lr': 0.00027547644820451146}\n",
            "  system attrs: {}\n",
            "  user attrs: {'ckpt': '/content/drive/My Drive/Project 3/gru_ckpts/trial_61.pt', 'features': 'all_numeric', 'lr_curve': [0.00027547644820451146, 0.00027547644820451146, 0.00027547644820451146, 0.00027547644820451146, 0.00027547644820451146, 0.00027547644820451146, 0.00027547644820451146, 0.00013773822410225573, 0.00013773822410225573, 6.886911205112786e-05], 'stride': 20, 'train_loss_curve': [0.46322519459687905, 0.4120225973220993, 0.3923844440667606, 0.37730521249418775, 0.36406427948678655, 0.34982427612821076, 0.33858924196462775, 0.325751834157505, 0.3204991048025754, 0.3120696581881191], 'val_f1_curve': [0.5913095714857829, 0.6351203501094091, 0.6472778861500266, 0.6381681904291244, 0.6477884772319242, 0.636466226019668, 0.6282563528847691, 0.6219373681648548, 0.6195572257168532, 0.6297810921337503], 'win_len': 120}\n",
            "Trial #62 failed.\n",
            "  params : {'features': 'all_numeric', 'win_len': 120, 'stride': 20, 'hidden': 64, 'layers': 3, 'drop': 0.30000000000000004, 'lr': 0.0003516473800337228}\n",
            "  system attrs: {}\n",
            "  user attrs: {}\n",
            "Trial #63 failed.\n",
            "  params : {'features': 'all_numeric', 'win_len': 120, 'stride': 20, 'hidden': 64, 'layers': 3, 'drop': 0.30000000000000004, 'lr': 0.0002985303274463985}\n",
            "  system attrs: {}\n",
            "  user attrs: {'ckpt': '/content/drive/My Drive/Project 3/gru_ckpts/trial_63.pt', 'features': 'all_numeric', 'lr_curve': [0.0002985303274463985, 0.0002985303274463985, 0.0002985303274463985, 0.0002985303274463985, 0.0002985303274463985, 0.00014926516372319924, 0.00014926516372319924, 0.00014926516372319924, 0.00014926516372319924, 7.463258186159962e-05], 'stride': 20, 'train_loss_curve': [0.459473792763417, 0.4104309922284255, 0.39139719942423545, 0.3762701353167129, 0.3639118465688948, 0.34979349250888975, 0.3429987470929992, 0.3370907137841124, 0.3311562488900627, 0.3236693513666563], 'val_f1_curve': [0.5998651122458811, 0.6172908514999068, 0.6218692730604765, 0.6213235294117647, 0.6025893852353597, 0.6246620237607537, 0.6341264001308151, 0.6271466314398944, 0.6162810054935908, 0.6398239465319097], 'win_len': 120}\n",
            "Trial #64 failed.\n",
            "  params : {'features': 'all_numeric', 'win_len': 120, 'stride': 20, 'hidden': 64, 'layers': 1, 'drop': 0.30000000000000004, 'lr': 0.0002481053658448939}\n",
            "  system attrs: {}\n",
            "  user attrs: {}\n",
            "Trial #65 failed.\n",
            "  params : {'features': 'all_numeric', 'win_len': 120, 'stride': 20, 'hidden': 64, 'layers': 3, 'drop': 0.30000000000000004, 'lr': 0.0001905435868910783}\n",
            "  system attrs: {}\n",
            "  user attrs: {}\n",
            "Trial #66 failed.\n",
            "  params : {'features': 'baseline', 'win_len': 120, 'stride': 20, 'hidden': 128, 'layers': 3, 'drop': 0.2, 'lr': 0.0003228530339846622}\n",
            "  system attrs: {}\n",
            "  user attrs: {}\n",
            "Trial #67 failed.\n",
            "  params : {'features': 'gru_delta', 'win_len': 120, 'stride': 20, 'hidden': 64, 'layers': 3, 'drop': 0.4, 'lr': 0.0002879646517203978}\n",
            "  system attrs: {}\n",
            "  user attrs: {}\n",
            "Trial #68 failed.\n",
            "  params : {'features': 'all_numeric', 'win_len': 120, 'stride': 20, 'hidden': 64, 'layers': 3, 'drop': 0.30000000000000004, 'lr': 0.00011516045028354148}\n",
            "  system attrs: {}\n",
            "  user attrs: {}\n",
            "Trial #69 failed.\n",
            "  params : {'features': 'all_numeric', 'win_len': 120, 'stride': 20, 'hidden': 64, 'layers': 3, 'drop': 0.30000000000000004, 'lr': 0.0002239797360725492}\n",
            "  system attrs: {}\n",
            "  user attrs: {}\n",
            "Trial #70 failed.\n",
            "  params : {'features': 'all_numeric', 'win_len': 120, 'stride': 20, 'hidden': 64, 'layers': 3, 'drop': 0.2, 'lr': 0.0003063472849223976}\n",
            "  system attrs: {}\n",
            "  user attrs: {'ckpt': '/content/drive/My Drive/Project 3/gru_ckpts/trial_70.pt', 'features': 'all_numeric', 'lr_curve': [0.0003063472849223976, 0.0003063472849223976, 0.0003063472849223976, 0.0003063472849223976, 0.0003063472849223976, 0.0001531736424611988, 0.0001531736424611988, 0.0001531736424611988, 0.0001531736424611988, 0.0001531736424611988], 'stride': 20, 'train_loss_curve': [0.4542341186468884, 0.40891975945983905, 0.3854515764466866, 0.3677937653827112, 0.3522692267839733, 0.3358664691491634, 0.3263392558040011, 0.3184533125302719, 0.30948738744518145, 0.30207238430889205], 'val_f1_curve': [0.5890251021599533, 0.6208732694355698, 0.6365944482058226, 0.6002603036876356, 0.6284415256377873, 0.6406005114245649, 0.6443163097199341, 0.638755980861244, 0.6522942706148813, 0.6414871144909168], 'win_len': 120}\n",
            "Trial #71 failed.\n",
            "  params : {'features': 'all_numeric', 'win_len': 120, 'stride': 20, 'hidden': 64, 'layers': 3, 'drop': 0.2, 'lr': 0.0002991165766379828}\n",
            "  system attrs: {}\n",
            "  user attrs: {}\n"
          ]
        }
      ],
      "source": [
        "for t in study.trials:\n",
        "\n",
        "\n",
        "    print(f\"Trial #{t.number} failed.\")\n",
        "    print(\"  params :\", t.params)\n",
        "\n",
        "\n",
        "    # print(\"  message:\", t.message)  # often empty\n",
        "\n",
        "    print(\"  system attrs:\", t.system_attrs)\n",
        "    print(\"  user attrs:\", t.user_attrs)"
      ]
    },
    {
      "cell_type": "code",
      "execution_count": 11,
      "metadata": {
        "colab": {
          "base_uri": "https://localhost:8080/"
        },
        "id": "spLWgqxehWeR",
        "outputId": "d00e2121-0803-46ae-c37d-17f8d5c6814d"
      },
      "outputs": [
        {
          "output_type": "stream",
          "name": "stdout",
          "text": [
            "    number     state     value\n",
            "0        0  COMPLETE  0.592407\n",
            "1        1  COMPLETE  0.513301\n",
            "2        2  COMPLETE  0.606933\n",
            "3        3  COMPLETE  0.458864\n",
            "4        4  COMPLETE  0.591264\n",
            "..     ...       ...       ...\n",
            "67      67    PRUNED  0.531520\n",
            "68      68    PRUNED  0.591525\n",
            "69      69    PRUNED  0.609707\n",
            "70      70  COMPLETE  0.641487\n",
            "71      71    PRUNED  0.613156\n",
            "\n",
            "[72 rows x 3 columns]\n"
          ]
        }
      ],
      "source": [
        "print(study.trials_dataframe()[[\"number\", \"state\", \"value\"]])"
      ]
    },
    {
      "cell_type": "code",
      "execution_count": 12,
      "metadata": {
        "colab": {
          "base_uri": "https://localhost:8080/",
          "height": 649
        },
        "id": "sPcS-1GehWeR",
        "outputId": "b57879e0-b902-41da-86fe-578c920d9270"
      },
      "outputs": [
        {
          "output_type": "display_data",
          "data": {
            "text/plain": [
              "<Figure size 600x300 with 1 Axes>"
            ],
            "image/png": "[encoded data removed]"
          },
          "metadata": {}
        },
        {
          "output_type": "display_data",
          "data": {
            "text/plain": [
              "<Figure size 500x300 with 1 Axes>"
            ],
            "image/png": "[encoded data removed]"
          },
          "metadata": {}
        }
      ],
      "source": [
        "import matplotlib.pyplot as plt, pandas as pd\n",
        "\n",
        "best = study.best_trial\n",
        "epochs = range(1, len(best.user_attrs[\"lr_curve\"]) + 1)\n",
        "\n",
        "plt.figure(figsize=(6, 3))\n",
        "plt.plot(epochs, best.user_attrs[\"train_loss_curve\"], label=\"train loss\")\n",
        "plt.plot(epochs, best.user_attrs[\"val_f1_curve\"], label=\"val F1\")\n",
        "plt.xlabel(\"epoch\")\n",
        "plt.legend()\n",
        "plt.title(\"Learning curves - best trial\")\n",
        "plt.show()\n",
        "\n",
        "plt.figure(figsize=(5, 3))\n",
        "plt.plot(epochs, best.user_attrs[\"lr_curve\"])\n",
        "plt.xlabel(\"epoch\")\n",
        "plt.ylabel(\"learning rate\")\n",
        "plt.title(\"LR schedule -  best trial\")\n",
        "plt.show()"
      ]
    },
    {
      "cell_type": "markdown",
      "metadata": {
        "id": "JKoeinXIhWeR"
      },
      "source": [
        "## 4. Evaluate model on test set"
      ]
    },
    {
      "cell_type": "code",
      "execution_count": 13,
      "metadata": {
        "colab": {
          "base_uri": "https://localhost:8080/"
        },
        "id": "yXk-ebNXhWeR",
        "outputId": "bd0083dc-54fd-43f1-c9b2-08455faae4a0"
      },
      "outputs": [
        {
          "output_type": "execute_result",
          "data": {
            "text/plain": [
              "GRUClassifier(\n",
              "  (gru): GRU(17, 64, num_layers=3, batch_first=True, dropout=0.2)\n",
              "  (head): Sequential(\n",
              "    (0): Dropout(p=0.2, inplace=False)\n",
              "    (1): Linear(in_features=64, out_features=1, bias=True)\n",
              "  )\n",
              ")"
            ]
          },
          "metadata": {},
          "execution_count": 13
        }
      ],
      "source": [
        "# -- Rebuild the model with params and also the test df\n",
        "test_df = SUPER[\"test_df\"]\n",
        "\n",
        "best = study.best_trial\n",
        "\n",
        "ckpt = best.user_attrs[\"ckpt\"]  # \"gru_ckpts/trial_17.pt\"\n",
        "\n",
        "feature_key = best.user_attrs[\"features\"]\n",
        "if feature_key == \"all_numeric\":\n",
        "    cols = ALL_NUMERIC_COLS\n",
        "else:\n",
        "    cols = FEATURE_SETS[feature_key]\n",
        "WIN, S = best.user_attrs[\"win_len\"], best.user_attrs[\"stride\"]\n",
        "\n",
        "# rebuild windows only for test\n",
        "X_te, y_te = build_windows(test_df, WIN, S, cols)\n",
        "test_loader = DataLoader(\n",
        "    TensorDataset(torch.tensor(X_te), torch.tensor(y_te)[:, None]),\n",
        "    batch_size=256,\n",
        "    shuffle=False,\n",
        ")\n",
        "\n",
        "model = GRUClassifier(\n",
        "    n_feats=X_te.shape[2],\n",
        "    hidden=best.params[\"hidden\"],\n",
        "    num_layers=best.params[\"layers\"],\n",
        "    dropout=best.params[\"drop\"],\n",
        ").to(DEVICE)\n",
        "model.load_state_dict(torch.load(ckpt, map_location=DEVICE))\n",
        "model.eval()"
      ]
    },
    {
      "cell_type": "markdown",
      "metadata": {
        "id": "eZMNU2ZrhWeR"
      },
      "source": [
        "Evaluation"
      ]
    },
    {
      "cell_type": "code",
      "execution_count": 14,
      "metadata": {
        "id": "BKGlHXrUhWeS"
      },
      "outputs": [],
      "source": [
        "all_pred, all_true = [], []\n",
        "with torch.no_grad():\n",
        "    for xb, yb in test_loader:\n",
        "        logits = model(xb.to(DEVICE))\n",
        "        all_pred.extend((torch.sigmoid(logits) > 0.5).cpu().numpy().ravel())\n",
        "        all_true.extend(yb.numpy().ravel())\n",
        "y_pred = np.array(all_pred, dtype=int)\n",
        "y_true = np.array(all_true, dtype=int)"
      ]
    },
    {
      "cell_type": "markdown",
      "metadata": {
        "id": "koKcMCfWhWeS"
      },
      "source": [
        "Metrics"
      ]
    },
    {
      "cell_type": "code",
      "execution_count": 15,
      "metadata": {
        "colab": {
          "base_uri": "https://localhost:8080/"
        },
        "id": "YKD2mprshWeS",
        "outputId": "b2d1af08-fcb7-4d4b-ffd4-a7c821661adc"
      },
      "outputs": [
        {
          "output_type": "stream",
          "name": "stdout",
          "text": [
            "Confusion matrix (rows: true, cols: pred)\n",
            "[[10204  3192]\n",
            " [ 2226  4193]] \n",
            "\n",
            "Accuracy     : 0.727\n",
            "Recall (TPR) : 0.653\n",
            "Specificity  : 0.762\n",
            "Precision    : 0.568\n",
            "F1-score     : 0.608\n"
          ]
        }
      ],
      "source": [
        "cm = confusion_matrix(y_true, y_pred)  # [[TN FP] [FN TP]]\n",
        "TN, FP, FN, TP = cm.ravel()\n",
        "\n",
        "acc = accuracy_score(y_true, y_pred)\n",
        "recall = TP / (TP + FN + 1e-12)  # sensitivity / TPR\n",
        "spec = TN / (TN + FP + 1e-12)  # specificity / TNR\n",
        "prec = precision_score(y_true, y_pred)\n",
        "f1 = f1_score(y_true, y_pred)\n",
        "\n",
        "print(\"Confusion matrix (rows: true, cols: pred)\")\n",
        "print(cm, \"\\n\")\n",
        "print(f\"Accuracy     : {acc :.3f}\")\n",
        "print(f\"Recall (TPR) : {recall :.3f}\")\n",
        "print(f\"Specificity  : {spec :.3f}\")\n",
        "print(f\"Precision    : {prec :.3f}\")\n",
        "print(f\"F1-score     : {f1 :.3f}\")"
      ]
    },
    {
      "cell_type": "code",
      "execution_count": 16,
      "metadata": {
        "colab": {
          "base_uri": "https://localhost:8080/",
          "height": 487
        },
        "id": "dQZRC0XyhWeS",
        "outputId": "27478b03-ac3e-48f1-ee7d-60b5c687be59"
      },
      "outputs": [
        {
          "output_type": "display_data",
          "data": {
            "text/plain": [
              "<Figure size 640x480 with 2 Axes>"
            ],
            "image/png": "[encoded data removed]"
          },
          "metadata": {}
        }
      ],
      "source": [
        "fig1, ax1 = plt.subplots()\n",
        "ConfusionMatrixDisplay(cm, display_labels=[\"Normal\", \"Emergency\"]).plot(ax=ax1)\n",
        "ax1.set_title(\"GRU - Confusion matrix (test set)\")\n",
        "plt.tight_layout()\n",
        "plt.show()"
      ]
    },
    {
      "cell_type": "code",
      "execution_count": 17,
      "metadata": {
        "colab": {
          "base_uri": "https://localhost:8080/",
          "height": 487
        },
        "id": "b_w-w7R7hWeS",
        "outputId": "e6c37b77-9fcf-4a79-def9-db7932adde8a"
      },
      "outputs": [
        {
          "output_type": "display_data",
          "data": {
            "text/plain": [
              "<Figure size 640x480 with 1 Axes>"
            ],
            "image/png": "[encoded data removed]"
          },
          "metadata": {}
        }
      ],
      "source": [
        "fig2, ax2 = plt.subplots()\n",
        "metrics = [acc, recall, spec, prec, f1]\n",
        "labels = [\"Accuracy\", \"Recall\", \"Specificity\", \"Precision\", \"F1\"]\n",
        "ax2.bar(labels, metrics)\n",
        "ax2.set_ylim(0, 1)\n",
        "ax2.set_ylabel(\"score\")\n",
        "ax2.set_title(\"GRU hypertuned - test-set performance\")\n",
        "for idx, v in enumerate(metrics):  # annotate bars\n",
        "    ax2.text(idx, v + 0.02, f\"{v:.2f}\", ha=\"center\")\n",
        "plt.tight_layout()\n",
        "plt.show()"
      ]
    }
  ],
  "metadata": {
    "kernelspec": {
      "display_name": "Python 3",
      "name": "python3"
    },
    "language_info": {
      "codemirror_mode": {
        "name": "ipython",
        "version": 3
      },
      "file_extension": ".py",
      "mimetype": "text/x-python",
      "name": "python",
      "nbconvert_exporter": "python",
      "pygments_lexer": "ipython3",
      "version": "3.10.5"
    },
    "colab": {
      "provenance": [],
      "machine_shape": "hm",
      "gpuType": "A100"
    },
    "accelerator": "GPU"
  },
  "nbformat": 4,
  "nbformat_minor": 0
}