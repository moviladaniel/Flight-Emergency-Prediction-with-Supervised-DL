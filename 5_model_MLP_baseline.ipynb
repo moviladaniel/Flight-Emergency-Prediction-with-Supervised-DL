{
 "cells": [
  {
   "cell_type": "markdown",
   "metadata": {},
   "source": [
    " # Training a baseline MLP model"
   ]
  },
  {
   "cell_type": "code",
   "execution_count": null,
   "metadata": {},
   "outputs": [],
   "source": [
    "import pandas as pd\n",
    "import joblib\n",
    "import torch, numpy as np\n",
    "from torch import nn\n",
    "from torch.utils.data import TensorDataset, DataLoader\n",
    "from sklearn.metrics import (\n",
    "    confusion_matrix,\n",
    "    f1_score,\n",
    "    accuracy_score,\n",
    "    precision_score,\n",
    "    roc_auc_score,\n",
    ")\n",
    "from sklearn.metrics import ConfusionMatrixDisplay\n",
    "import matplotlib.pyplot as plt\n",
    "import numpy as np"
   ]
  },
  {
   "cell_type": "markdown",
   "metadata": {},
   "source": [
    " ## Data loading"
   ]
  },
  {
   "cell_type": "code",
   "execution_count": null,
   "metadata": {},
   "outputs": [],
   "source": [
    "bundle = joblib.load(\"baseline_data_processing/data_payload_30s.pkl\")\n",
    "\n",
    "X_train = bundle[\"X_train\"]\n",
    "X_test = bundle[\"X_test\"]\n",
    "X_val = bundle[\"X_val\"]\n",
    "\n",
    "y_train = bundle[\"y_train\"]\n",
    "y_test = bundle[\"y_test\"]\n",
    "y_val = bundle[\"y_val\"]"
   ]
  },
  {
   "cell_type": "markdown",
   "metadata": {},
   "source": [
    " ## DataLoader setup"
   ]
  },
  {
   "cell_type": "code",
   "execution_count": null,
   "metadata": {},
   "outputs": [],
   "source": [
    "DEVICE = \"cpu\"\n",
    "BATCH_SIZE = 256\n",
    "EPOCHS = 25\n",
    "LR = 1e-3  # will tune later\n",
    "\n",
    "\n",
    "def make_loader(X, y, shuffle):\n",
    "    tens_x = torch.tensor(X, dtype=torch.float32)\n",
    "    tens_y = torch.tensor(y, dtype=torch.float32).unsqueeze(1)  # (N,1) for BCE\n",
    "    return DataLoader(\n",
    "        TensorDataset(tens_x, tens_y),\n",
    "        batch_size=BATCH_SIZE,\n",
    "        shuffle=shuffle,\n",
    "        drop_last=True,\n",
    "    )\n",
    "\n",
    "\n",
    "train_loader = make_loader(X_train, y_train, shuffle=True)\n",
    "val_loader = make_loader(X_val, y_val, shuffle=False)\n",
    "test_loader = make_loader(X_test, y_test, shuffle=False)\n",
    "\n",
    "SEQ_LEN, N_FEATS = X_train.shape[1:]\n",
    "FLAT_DIM = SEQ_LEN * N_FEATS"
   ]
  },
  {
   "cell_type": "markdown",
   "metadata": {},
   "source": [
    " ## Model Definition\n",
    "\n",
    " A simple three-layer perceptron that ingests the flattened window."
   ]
  },
  {
   "cell_type": "code",
   "execution_count": 4,
   "metadata": {},
   "outputs": [
    {
     "name": "stdout",
     "output_type": "stream",
     "text": [
      "MLPClassifier(\n",
      "  (net): Sequential(\n",
      "    (0): Flatten(start_dim=1, end_dim=-1)\n",
      "    (1): Linear(in_features=300, out_features=256, bias=True)\n",
      "    (2): ReLU()\n",
      "    (3): Dropout(p=0.2, inplace=False)\n",
      "    (4): Linear(in_features=256, out_features=64, bias=True)\n",
      "    (5): ReLU()\n",
      "    (6): Dropout(p=0.2, inplace=False)\n",
      "    (7): Linear(in_features=64, out_features=1, bias=True)\n",
      "  )\n",
      ")\n"
     ]
    }
   ],
   "source": [
    "class MLPClassifier(nn.Module):\n",
    "    def __init__(self, in_dim, hidden1=256, hidden2=64, dropout=0.2):\n",
    "        super().__init__()\n",
    "        self.net = nn.Sequential(\n",
    "            nn.Flatten(),  # (B, T, F) → (B, T*F)\n",
    "            nn.Linear(in_dim, hidden1),\n",
    "            nn.ReLU(),\n",
    "            nn.Dropout(dropout),\n",
    "            nn.Linear(hidden1, hidden2),\n",
    "            nn.ReLU(),\n",
    "            nn.Dropout(dropout),\n",
    "            nn.Linear(hidden2, 1),  # binary logit\n",
    "        )\n",
    "\n",
    "    def forward(self, x):\n",
    "        return self.net(x)\n",
    "\n",
    "\n",
    "model = MLPClassifier(in_dim=FLAT_DIM).to(DEVICE)\n",
    "print(model)"
   ]
  },
  {
   "cell_type": "markdown",
   "metadata": {},
   "source": [
    " ## Training and validation loop"
   ]
  },
  {
   "cell_type": "code",
   "execution_count": 5,
   "metadata": {},
   "outputs": [
    {
     "name": "stdout",
     "output_type": "stream",
     "text": [
      "Epoch 01 | train: loss 0.4103 acc 0.813 | val: loss 0.4482 acc 0.788\n",
      "Epoch 02 | train: loss 0.3789 acc 0.826 | val: loss 0.4253 acc 0.785\n",
      "Epoch 03 | train: loss 0.3633 acc 0.833 | val: loss 0.4341 acc 0.788\n",
      "Epoch 04 | train: loss 0.3508 acc 0.839 | val: loss 0.4260 acc 0.788\n",
      "Epoch 05 | train: loss 0.3416 acc 0.844 | val: loss 0.4510 acc 0.777\n",
      "Epoch 06 | train: loss 0.3279 acc 0.850 | val: loss 0.4423 acc 0.787\n",
      "Early stop.\n"
     ]
    }
   ],
   "source": [
    "models_folder = \"baseline_models/\"\n",
    "\n",
    "criterion = nn.BCEWithLogitsLoss()\n",
    "optimiser = torch.optim.Adam(model.parameters(), lr=LR)\n",
    "scheduler = torch.optim.lr_scheduler.ReduceLROnPlateau(\n",
    "    optimiser, mode=\"min\", factor=0.5, patience=2\n",
    ")\n",
    "\n",
    "\n",
    "def run_epoch(loader, train):\n",
    "    total_loss, correct, total = 0.0, 0, 0\n",
    "    model.train(train)\n",
    "    for xb, yb in loader:\n",
    "        xb, yb = xb.to(DEVICE), yb.to(DEVICE)\n",
    "        logits = model(xb)\n",
    "        loss = criterion(logits, yb)\n",
    "        if train:\n",
    "            optimiser.zero_grad()\n",
    "            loss.backward()\n",
    "            optimiser.step()\n",
    "\n",
    "        preds = torch.sigmoid(logits) > 0.5\n",
    "        correct += (preds.float() == yb).sum().item()\n",
    "        total += yb.size(0)\n",
    "        total_loss += loss.item() * yb.size(0)\n",
    "    return total_loss / total, correct / total\n",
    "\n",
    "\n",
    "best_val = 1e9\n",
    "patience = 4\n",
    "waited = 0\n",
    "\n",
    "for epoch in range(1, EPOCHS + 1):\n",
    "    tr_loss, tr_acc = run_epoch(train_loader, train=True)\n",
    "    va_loss, va_acc = run_epoch(val_loader, train=False)\n",
    "    scheduler.step(va_loss)\n",
    "\n",
    "    print(\n",
    "        f\"Epoch {epoch:02d} | \"\n",
    "        f\"train: loss {tr_loss:.4f} acc {tr_acc:.3f} | \"\n",
    "        f\"val: loss {va_loss:.4f} acc {va_acc:.3f}\"\n",
    "    )\n",
    "\n",
    "    if va_loss < best_val:\n",
    "        best_val, waited = va_loss, 0\n",
    "        torch.save(model.state_dict(), models_folder + \"best_mlp.pt\")\n",
    "    else:\n",
    "        waited += 1\n",
    "        if waited >= patience:\n",
    "            print(\"Early stop.\")\n",
    "            break"
   ]
  },
  {
   "cell_type": "markdown",
   "metadata": {},
   "source": [
    " ## Test-set evaluation"
   ]
  },
  {
   "cell_type": "code",
   "execution_count": 6,
   "metadata": {},
   "outputs": [
    {
     "name": "stdout",
     "output_type": "stream",
     "text": [
      "Confusion matrix (rows: true, cols: pred)\n",
      "[[22327  5346]\n",
      " [ 4961  7558]] \n",
      "\n",
      "Accuracy     : 0.744\n",
      "Recall (TPR) : 0.604\n",
      "Specificity  : 0.807\n",
      "Precision    : 0.586\n",
      "F1-score     : 0.595\n"
     ]
    }
   ],
   "source": [
    "all_pred, all_true = [], []\n",
    "with torch.no_grad():\n",
    "    for xb, yb in test_loader:\n",
    "        logits = model(xb.to(DEVICE))\n",
    "        all_pred.extend((torch.sigmoid(logits) > 0.5).cpu().numpy().ravel())\n",
    "        all_true.extend(yb.numpy().ravel())\n",
    "\n",
    "y_pred = np.array(all_pred, dtype=int)\n",
    "y_true = np.array(all_true, dtype=int)\n",
    "\n",
    "cm = confusion_matrix(y_true, y_pred)\n",
    "TN, FP, FN, TP = cm.ravel()\n",
    "\n",
    "acc = accuracy_score(y_true, y_pred)\n",
    "recall = TP / (TP + FN + 1e-12)  # sensitivity / TPR\n",
    "spec = TN / (TN + FP + 1e-12)  # specificity / TNR\n",
    "prec = precision_score(y_true, y_pred)\n",
    "f1 = f1_score(y_true, y_pred)\n",
    "\n",
    "print(\"Confusion matrix (rows: true, cols: pred)\")\n",
    "print(cm, \"\\n\")\n",
    "print(f\"Accuracy     : {acc :.3f}\")\n",
    "print(f\"Recall (TPR) : {recall :.3f}\")\n",
    "print(f\"Specificity  : {spec :.3f}\")\n",
    "print(f\"Precision    : {prec :.3f}\")\n",
    "print(f\"F1-score     : {f1 :.3f}\")"
   ]
  },
  {
   "cell_type": "code",
   "execution_count": 7,
   "metadata": {},
   "outputs": [
    {
     "data": {
      "image/png": "[encoded data removed]",
      "text/plain": [
       "<Figure size 640x480 with 2 Axes>"
      ]
     },
     "metadata": {},
     "output_type": "display_data"
    }
   ],
   "source": [
    "fig1, ax1 = plt.subplots()\n",
    "ConfusionMatrixDisplay(cm, display_labels=[\"Normal\", \"Emergency\"]).plot(ax=ax1)\n",
    "ax1.set_title(\"MLP – Confusion matrix (test set)\")\n",
    "plt.tight_layout()\n",
    "plt.show()"
   ]
  },
  {
   "cell_type": "code",
   "execution_count": 9,
   "metadata": {},
   "outputs": [
    {
     "data": {
      "image/png": "[encoded data removed]",
      "text/plain": [
       "<Figure size 640x480 with 1 Axes>"
      ]
     },
     "metadata": {},
     "output_type": "display_data"
    }
   ],
   "source": [
    "fig2, ax2 = plt.subplots()\n",
    "metrics = [acc, recall, spec, prec, f1]\n",
    "labels = [\"Accuracy\", \"Recall\", \"Specificity\", \"Precision\", \"F1\"]\n",
    "ax2.bar(labels, metrics)\n",
    "ax2.set_ylim(0, 1)\n",
    "ax2.set_ylabel(\"score\")\n",
    "ax2.set_title(\"MLP - test-set performance\")\n",
    "for idx, v in enumerate(metrics):\n",
    "    ax2.text(idx, v + 0.02, f\"{v:.2f}\", ha=\"center\")\n",
    "plt.tight_layout()\n",
    "plt.show()"
   ]
  },
  {
   "cell_type": "code",
   "execution_count": null,
   "metadata": {},
   "outputs": [],
   "source": []
  }
 ],
 "metadata": {
  "kernelspec": {
   "display_name": "Python 3",
   "language": "python",
   "name": "python3"
  },
  "language_info": {
   "codemirror_mode": {
    "name": "ipython",
    "version": 3
   },
   "file_extension": ".py",
   "mimetype": "text/x-python",
   "name": "python",
   "nbconvert_exporter": "python",
   "pygments_lexer": "ipython3",
   "version": "3.10.5"
  }
 },
 "nbformat": 4,
 "nbformat_minor": 2
}
