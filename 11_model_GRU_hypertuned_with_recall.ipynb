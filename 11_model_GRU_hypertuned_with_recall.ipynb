{
  "cells": [
    {
      "cell_type": "markdown",
      "metadata": {
        "id": "hWcu6KUS9KFz"
      },
      "source": [
        " # Training an optimized GRU model optimized with recall"
      ]
    },
    {
      "cell_type": "code",
      "execution_count": 10,
      "metadata": {
        "colab": {
          "base_uri": "https://localhost:8080/"
        },
        "id": "oCLj45Zc9KF1",
        "outputId": "08379c7c-58bd-4094-a54d-31cb8657bed9"
      },
      "outputs": [
        {
          "output_type": "stream",
          "name": "stdout",
          "text": [
            "Drive already mounted at /content/drive/; to attempt to forcibly remount, call drive.mount(\"/content/drive/\", force_remount=True).\n",
            "/content\n",
            "/bin/bash: line 1: p: command not found\n"
          ]
        }
      ],
      "source": [
        "from google.colab import drive\n",
        "drive.mount('/content/drive/')\n",
        "!pwd\n",
        "!p \"/content/drive/My Drive/\"\n"
      ]
    },
    {
      "cell_type": "code",
      "execution_count": 11,
      "metadata": {
        "colab": {
          "base_uri": "https://localhost:8080/"
        },
        "id": "WgN3NOF_9KF1",
        "outputId": "1554d3f2-8c92-4c47-c862-0cffcaef498c"
      },
      "outputs": [
        {
          "output_type": "stream",
          "name": "stdout",
          "text": [
            "Requirement already satisfied: optuna in /usr/local/lib/python3.11/dist-packages (4.3.0)\n",
            "Requirement already satisfied: alembic>=1.5.0 in /usr/local/lib/python3.11/dist-packages (from optuna) (1.16.1)\n",
            "Requirement already satisfied: colorlog in /usr/local/lib/python3.11/dist-packages (from optuna) (6.9.0)\n",
            "Requirement already satisfied: numpy in /usr/local/lib/python3.11/dist-packages (from optuna) (2.0.2)\n",
            "Requirement already satisfied: packaging>=20.0 in /usr/local/lib/python3.11/dist-packages (from optuna) (24.2)\n",
            "Requirement already satisfied: sqlalchemy>=1.4.2 in /usr/local/lib/python3.11/dist-packages (from optuna) (2.0.40)\n",
            "Requirement already satisfied: tqdm in /usr/local/lib/python3.11/dist-packages (from optuna) (4.67.1)\n",
            "Requirement already satisfied: PyYAML in /usr/local/lib/python3.11/dist-packages (from optuna) (6.0.2)\n",
            "Requirement already satisfied: Mako in /usr/lib/python3/dist-packages (from alembic>=1.5.0->optuna) (1.1.3)\n",
            "Requirement already satisfied: typing-extensions>=4.12 in /usr/local/lib/python3.11/dist-packages (from alembic>=1.5.0->optuna) (4.13.2)\n",
            "Requirement already satisfied: greenlet>=1 in /usr/local/lib/python3.11/dist-packages (from sqlalchemy>=1.4.2->optuna) (3.2.2)\n"
          ]
        }
      ],
      "source": [
        "!pip install optuna\n"
      ]
    },
    {
      "cell_type": "code",
      "execution_count": 12,
      "metadata": {
        "colab": {
          "base_uri": "https://localhost:8080/"
        },
        "id": "_Ft2OK899KF2",
        "outputId": "9a0347c4-1747-49f7-e1d7-a55fb0716b97"
      },
      "outputs": [
        {
          "output_type": "stream",
          "name": "stdout",
          "text": [
            "Sun May 25 10:22:02 2025       \n",
            "+-----------------------------------------------------------------------------------------+\n",
            "| NVIDIA-SMI 550.54.15              Driver Version: 550.54.15      CUDA Version: 12.4     |\n",
            "|-----------------------------------------+------------------------+----------------------+\n",
            "| GPU  Name                 Persistence-M | Bus-Id          Disp.A | Volatile Uncorr. ECC |\n",
            "| Fan  Temp   Perf          Pwr:Usage/Cap |           Memory-Usage | GPU-Util  Compute M. |\n",
            "|                                         |                        |               MIG M. |\n",
            "|=========================================+========================+======================|\n",
            "|   0  NVIDIA A100-SXM4-40GB          Off |   00000000:00:04.0 Off |                    0 |\n",
            "| N/A   31C    P0             41W /  400W |       5MiB /  40960MiB |      0%      Default |\n",
            "|                                         |                        |             Disabled |\n",
            "+-----------------------------------------+------------------------+----------------------+\n",
            "                                                                                         \n",
            "+-----------------------------------------------------------------------------------------+\n",
            "| Processes:                                                                              |\n",
            "|  GPU   GI   CI        PID   Type   Process name                              GPU Memory |\n",
            "|        ID   ID                                                               Usage      |\n",
            "|=========================================================================================|\n",
            "|  No running processes found                                                             |\n",
            "+-----------------------------------------------------------------------------------------+\n"
          ]
        }
      ],
      "source": [
        "gpu_info = !nvidia-smi\n",
        "gpu_info = '\\n'.join(gpu_info)\n",
        "if gpu_info.find('failed') >= 0:\n",
        "  print('Not connected to a GPU')\n",
        "else:\n",
        "  print(gpu_info)\n"
      ]
    },
    {
      "cell_type": "code",
      "execution_count": 9,
      "metadata": {
        "colab": {
          "base_uri": "https://localhost:8080/"
        },
        "id": "c0WEAKGX9KF2",
        "outputId": "e5cce4e9-c9a0-411c-823a-ed3afd3d0fc4"
      },
      "outputs": [
        {
          "output_type": "stream",
          "name": "stdout",
          "text": [
            "Running on cuda\n"
          ]
        }
      ],
      "source": [
        "import joblib, numpy as np, torch, optuna, gc\n",
        "from torch.utils.data import TensorDataset, DataLoader\n",
        "from torch import nn\n",
        "from sklearn.metrics import (\n",
        "    recall_score,\n",
        "    accuracy_score,\n",
        "    precision_score,\n",
        "    confusion_matrix,\n",
        "    f1_score,\n",
        "    ConfusionMatrixDisplay,\n",
        ")\n",
        "from pathlib import Path\n",
        "\n",
        "\n",
        "DRIVE_PROJECT = \"/content/drive/My Drive/Project 3/\"\n",
        "DEVICE = \"cuda\" if torch.cuda.is_available() else \"cpu\"\n",
        "print(f\"Running on {DEVICE}\")\n",
        "\n",
        "SUPER = joblib.load(DRIVE_PROJECT + \"optimized_data_processing/super_data_payload.pkl\")\n",
        "train_df = SUPER[\"train_df\"]\n",
        "val_df = SUPER[\"val_df\"]\n",
        "FEATURE_SETS = SUPER[\"feature_sets\"]\n",
        "ALL_NUMERIC_COLS = SUPER[\"numeric_cols\"]\n",
        "\n",
        "CKPT_DIR = Path(DRIVE_PROJECT + \"gru_ckpts_recall\")\n",
        "CKPT_DIR.mkdir(exist_ok=True)\n",
        "\n",
        "\n",
        "# Helper: build sliding windows\n",
        "def build_windows(df, win_len, stride, feature_cols):\n",
        "    data, labels = [], []\n",
        "    for _, fl in df.groupby(\"flight_id\"):\n",
        "        X = fl[feature_cols].to_numpy(dtype=np.float32)\n",
        "        y = fl[\"is_7700\"].to_numpy(dtype=np.int8)  # chdanged from bool to int\n",
        "        for i in range(0, len(X) - win_len + 1, stride):\n",
        "            data.append(X[i : i + win_len])\n",
        "            labels.append(int(y[i : i + win_len].any()))  # 1 if ANY emergency in window\n",
        "    return np.stack(data), np.array(labels)\n",
        "\n",
        "\n",
        "# GRU module (same as before) ---------------------------------------\n",
        "class GRUClassifier(nn.Module):\n",
        "    def __init__(self, n_feats, hidden, num_layers, dropout):\n",
        "        super().__init__()\n",
        "        self.gru = nn.GRU(\n",
        "            input_size=n_feats,\n",
        "            hidden_size=hidden,\n",
        "            num_layers=num_layers,\n",
        "            batch_first=True,\n",
        "            dropout=dropout if num_layers > 1 else 0.0,\n",
        "        )\n",
        "        self.head = nn.Sequential(nn.Dropout(dropout), nn.Linear(hidden, 1))\n",
        "\n",
        "    def forward(self, x):\n",
        "        # x : (B, T, F)\n",
        "        _, h_n = self.gru(x)  # h_n : (num_layers, B, hidden)\n",
        "        logits = self.head(h_n[-1])  # use last layer’s hidden\n",
        "        return logits\n",
        "\n",
        "\n",
        "def run_epoch(model, loader, train, optim=None):\n",
        "    model.train(train)\n",
        "    total, preds, gts = 0.0, [], []\n",
        "    for xb, yb in loader:\n",
        "        xb, yb = xb.to(DEVICE), yb.to(DEVICE)\n",
        "        logit = model(xb)\n",
        "        loss = nn.functional.binary_cross_entropy_with_logits(logit, yb)\n",
        "        if train:\n",
        "            optim.zero_grad()\n",
        "            loss.backward()\n",
        "            optim.step()\n",
        "        total += loss.item() * yb.size(0)\n",
        "        preds.extend((torch.sigmoid(logit) > 0.5).cpu().numpy().ravel())\n",
        "        gts.extend(yb.cpu().numpy().ravel())\n",
        "    return total / len(loader.dataset), recall_score(gts, preds)"
      ]
    },
    {
      "cell_type": "code",
      "execution_count": 13,
      "metadata": {
        "id": "9dw0cVnE9KF3"
      },
      "outputs": [],
      "source": [
        "# print(f\"Training set size: {len(train_df)}\")\n",
        "# flights = train_df.flight_id.unique()\n",
        "# print(len(flights), \"flights in training set\")\n",
        "# print(len(val_df.flight_id.unique()), \"flights in validation set\")\n",
        "\n",
        "# selected_flights = np.random.choice(\n",
        "#     flights, size=int(len(flights) * 0.1), replace=False\n",
        "# )\n",
        "# print(\"Using\", len(selected_flights), \"flights for training\")\n",
        "\n",
        "# train_df = train_df[train_df.flight_id.isin(selected_flights)]\n",
        "# print(\"Training set size:\", len(train_df))"
      ]
    },
    {
      "cell_type": "markdown",
      "metadata": {
        "id": "68G2AZ3Z9KF4"
      },
      "source": [
        "  ## 1.  Optuna objective with per-epoch logging"
      ]
    },
    {
      "cell_type": "code",
      "execution_count": 14,
      "metadata": {
        "id": "2w_-ZIKV9KF4"
      },
      "outputs": [],
      "source": [
        "window_cache = {}\n",
        "\n",
        "\n",
        "def get_windows(df, feat_key, win_len, stride):\n",
        "    # Different DataFrames have different id() values\n",
        "    cache_key = f\"{id(df)}_{feat_key}_{win_len}_{stride}\"\n",
        "    if cache_key not in window_cache:\n",
        "        if feat_key == \"all_numeric\":\n",
        "            X_np, y_np = build_windows(df, win_len, stride, ALL_NUMERIC_COLS)\n",
        "        else:\n",
        "            X_np, y_np = build_windows(df, win_len, stride, FEATURE_SETS[feat_key])\n",
        "        X_t = torch.tensor(X_np, dtype=torch.float32)\n",
        "        y_t = torch.tensor(y_np, dtype=torch.float32).unsqueeze(1)\n",
        "        window_cache[cache_key] = (X_t, y_t)\n",
        "    return window_cache[cache_key]"
      ]
    },
    {
      "cell_type": "code",
      "execution_count": 15,
      "metadata": {
        "id": "jwpdU2gF9KF5"
      },
      "outputs": [],
      "source": [
        "def objective(trial: optuna.trial.Trial):\n",
        "    print(f\"---- Trial #{trial.number}  --  started ----------------------------\")\n",
        "    try:\n",
        "        # -- data hyper-params\n",
        "        feat_key = trial.suggest_categorical(\n",
        "            \"features\", [\"all_numeric\", \"baseline\", \"gru_delta\"]\n",
        "        )\n",
        "\n",
        "        win_len = trial.suggest_categorical(\"win_len\", [30, 60, 120])\n",
        "        stride = trial.suggest_categorical(\"stride\", [10, 20])\n",
        "\n",
        "        X_tr, y_tr = get_windows(train_df, feat_key, win_len, stride)\n",
        "        X_va, y_va = get_windows(val_df, feat_key, win_len, stride)\n",
        "\n",
        "        BATCH = 256\n",
        "        tr_loader = DataLoader(\n",
        "            TensorDataset(X_tr, y_tr),\n",
        "            batch_size=BATCH,\n",
        "            shuffle=True,\n",
        "            drop_last=True,\n",
        "        )\n",
        "        va_loader = DataLoader(\n",
        "            TensorDataset(X_va, y_va),\n",
        "            batch_size=BATCH,\n",
        "            shuffle=False,\n",
        "        )\n",
        "\n",
        "        # -- model hyper-params\n",
        "\n",
        "        hidden = trial.suggest_categorical(\"hidden\", [64, 128, 256])\n",
        "        layers = trial.suggest_int(\"layers\", 1, 3)\n",
        "        drop = trial.suggest_float(\"drop\", 0.0, 0.4, step=0.1)\n",
        "\n",
        "        lr = trial.suggest_float(\"lr\", 1e-4, 5e-3, log=True)\n",
        "\n",
        "        print(\n",
        "            f\"Using features: {feat_key}, win_len: {win_len}, stride: {stride}, \"\n",
        "            f\"hidden: {hidden}, layers: {layers}, drop: {drop}, lr: {lr}\"\n",
        "        )\n",
        "\n",
        "        model = GRUClassifier(X_tr.shape[2], hidden, layers, drop).to(DEVICE)\n",
        "\n",
        "        optim = torch.optim.Adam(model.parameters(), lr=lr)\n",
        "\n",
        "        scheduler = torch.optim.lr_scheduler.ReduceLROnPlateau(\n",
        "            optim, mode=\"max\", factor=0.5, patience=1\n",
        "        )\n",
        "\n",
        "        # -- training loop with logging\n",
        "\n",
        "        lr_curve, tr_loss_curve, val_recall_curve = [], [], []\n",
        "\n",
        "        EPOCHS = 10\n",
        "\n",
        "        for ep in range(1, EPOCHS + 1):\n",
        "            print(f\"Epoch {ep}/{EPOCHS}  —  LR: {optim.param_groups[0]['lr']:.6f}\")\n",
        "\n",
        "            tr_loss, _ = run_epoch(model, tr_loader, True, optim)\n",
        "            _, val_recall = run_epoch(model, va_loader, False)\n",
        "            lr_now = optim.param_groups[0][\"lr\"]\n",
        "            lr_curve.append(float(lr_now))\n",
        "            tr_loss_curve.append(float(tr_loss))\n",
        "            val_recall_curve.append(float(val_recall))\n",
        "\n",
        "            # report for pruning & Optuna dashboards\n",
        "            trial.report(val_recall, ep)\n",
        "            if trial.should_prune():\n",
        "                print(f\"Trial pruned at epoch {ep}, recall: {val_recall}\")\n",
        "                raise optuna.TrialPruned()\n",
        "            scheduler.step(val_recall)\n",
        "        ckpt_path = CKPT_DIR / f\"trial_{trial.number}.pt\"\n",
        "        torch.save(model.state_dict(), ckpt_path)\n",
        "\n",
        "        # save curves for later plotting\n",
        "        trial.set_user_attr(\"lr_curve\", lr_curve)\n",
        "        trial.set_user_attr(\"train_loss_curve\", tr_loss_curve)\n",
        "        trial.set_user_attr(\"val_recall_curve\", val_recall_curve)\n",
        "        trial.set_user_attr(\"ckpt\", str(ckpt_path))\n",
        "        trial.set_user_attr(\"features\", feat_key)\n",
        "        trial.set_user_attr(\"win_len\", win_len)\n",
        "        trial.set_user_attr(\"stride\", stride)\n",
        "\n",
        "        # tidy memory\n",
        "        del model, X_tr, y_tr, X_va, y_va, tr_loader, va_loader\n",
        "        torch.cuda.empty_cache()\n",
        "        gc.collect()\n",
        "\n",
        "        return val_recall_curve[-1]  # final validation recall\n",
        "    except Exception as e:\n",
        "        print(f\"Trial #{trial.number} failed with error: {e}\")\n",
        "        raise"
      ]
    },
    {
      "cell_type": "markdown",
      "metadata": {
        "id": "LySh3CuW9KF6"
      },
      "source": [
        "  ## 2.  Launch / resume the study"
      ]
    },
    {
      "cell_type": "code",
      "execution_count": 16,
      "metadata": {
        "colab": {
          "base_uri": "https://localhost:8080/"
        },
        "id": "lJ7BGvih9KF6",
        "outputId": "1fd690e9-b88d-45f0-8e2b-206fb0ee126f"
      },
      "outputs": [
        {
          "output_type": "stream",
          "name": "stderr",
          "text": [
            "[I 2025-05-25 10:22:04,014] A new study created in RDB with name: gru_hpo_recall\n"
          ]
        },
        {
          "output_type": "stream",
          "name": "stdout",
          "text": [
            "---- Trial #0  --  started ----------------------------\n",
            "Using features: gru_delta, win_len: 30, stride: 20, hidden: 256, layers: 3, drop: 0.2, lr: 0.00022201639415028723\n",
            "Epoch 1/10  —  LR: 0.000222\n",
            "Epoch 2/10  —  LR: 0.000222\n",
            "Epoch 3/10  —  LR: 0.000222\n",
            "Epoch 4/10  —  LR: 0.000222\n",
            "Epoch 5/10  —  LR: 0.000222\n",
            "Epoch 6/10  —  LR: 0.000222\n",
            "Epoch 7/10  —  LR: 0.000222\n",
            "Epoch 8/10  —  LR: 0.000111\n",
            "Epoch 9/10  —  LR: 0.000111\n",
            "Epoch 10/10  —  LR: 0.000056\n"
          ]
        },
        {
          "output_type": "stream",
          "name": "stderr",
          "text": [
            "[I 2025-05-25 10:23:10,317] Trial 0 finished with value: 0.4452699356116889 and parameters: {'features': 'gru_delta', 'win_len': 30, 'stride': 20, 'hidden': 256, 'layers': 3, 'drop': 0.2, 'lr': 0.00022201639415028723}. Best is trial 0 with value: 0.4452699356116889.\n"
          ]
        },
        {
          "output_type": "stream",
          "name": "stdout",
          "text": [
            "---- Trial #1  --  started ----------------------------\n",
            "Using features: baseline, win_len: 60, stride: 20, hidden: 64, layers: 1, drop: 0.0, lr: 0.00028575285639154916\n",
            "Epoch 1/10  —  LR: 0.000286\n",
            "Epoch 2/10  —  LR: 0.000286\n",
            "Epoch 3/10  —  LR: 0.000286\n",
            "Epoch 4/10  —  LR: 0.000286\n",
            "Epoch 5/10  —  LR: 0.000286\n",
            "Epoch 6/10  —  LR: 0.000286\n",
            "Epoch 7/10  —  LR: 0.000286\n",
            "Epoch 8/10  —  LR: 0.000143\n",
            "Epoch 9/10  —  LR: 0.000143\n",
            "Epoch 10/10  —  LR: 0.000071\n"
          ]
        },
        {
          "output_type": "stream",
          "name": "stderr",
          "text": [
            "[I 2025-05-25 10:23:46,929] Trial 1 finished with value: 0.4816521309856837 and parameters: {'features': 'baseline', 'win_len': 60, 'stride': 20, 'hidden': 64, 'layers': 1, 'drop': 0.0, 'lr': 0.00028575285639154916}. Best is trial 1 with value: 0.4816521309856837.\n"
          ]
        },
        {
          "output_type": "stream",
          "name": "stdout",
          "text": [
            "---- Trial #2  --  started ----------------------------\n",
            "Using features: gru_delta, win_len: 30, stride: 20, hidden: 256, layers: 3, drop: 0.2, lr: 0.0006517874081121625\n",
            "Epoch 1/10  —  LR: 0.000652\n",
            "Epoch 2/10  —  LR: 0.000652\n",
            "Epoch 3/10  —  LR: 0.000652\n",
            "Epoch 4/10  —  LR: 0.000652\n",
            "Epoch 5/10  —  LR: 0.000326\n",
            "Epoch 6/10  —  LR: 0.000326\n",
            "Epoch 7/10  —  LR: 0.000326\n",
            "Epoch 8/10  —  LR: 0.000326\n",
            "Epoch 9/10  —  LR: 0.000326\n",
            "Epoch 10/10  —  LR: 0.000163\n"
          ]
        },
        {
          "output_type": "stream",
          "name": "stderr",
          "text": [
            "[I 2025-05-25 10:24:43,493] Trial 2 finished with value: 0.5118045236915965 and parameters: {'features': 'gru_delta', 'win_len': 30, 'stride': 20, 'hidden': 256, 'layers': 3, 'drop': 0.2, 'lr': 0.0006517874081121625}. Best is trial 2 with value: 0.5118045236915965.\n"
          ]
        },
        {
          "output_type": "stream",
          "name": "stdout",
          "text": [
            "---- Trial #3  --  started ----------------------------\n",
            "Using features: baseline, win_len: 60, stride: 20, hidden: 128, layers: 2, drop: 0.30000000000000004, lr: 0.00013498658954868745\n",
            "Epoch 1/10  —  LR: 0.000135\n",
            "Epoch 2/10  —  LR: 0.000135\n",
            "Epoch 3/10  —  LR: 0.000135\n",
            "Epoch 4/10  —  LR: 0.000135\n",
            "Epoch 5/10  —  LR: 0.000135\n",
            "Epoch 6/10  —  LR: 0.000135\n",
            "Epoch 7/10  —  LR: 0.000135\n",
            "Epoch 8/10  —  LR: 0.000067\n",
            "Epoch 9/10  —  LR: 0.000067\n",
            "Epoch 10/10  —  LR: 0.000067\n"
          ]
        },
        {
          "output_type": "stream",
          "name": "stderr",
          "text": [
            "[I 2025-05-25 10:25:21,489] Trial 3 finished with value: 0.49646207010037846 and parameters: {'features': 'baseline', 'win_len': 60, 'stride': 20, 'hidden': 128, 'layers': 2, 'drop': 0.30000000000000004, 'lr': 0.00013498658954868745}. Best is trial 2 with value: 0.5118045236915965.\n"
          ]
        },
        {
          "output_type": "stream",
          "name": "stdout",
          "text": [
            "---- Trial #4  --  started ----------------------------\n",
            "Using features: gru_delta, win_len: 60, stride: 20, hidden: 128, layers: 1, drop: 0.0, lr: 0.0005335499128243722\n",
            "Epoch 1/10  —  LR: 0.000534\n",
            "Epoch 2/10  —  LR: 0.000534\n",
            "Epoch 3/10  —  LR: 0.000534\n",
            "Epoch 4/10  —  LR: 0.000534\n",
            "Epoch 5/10  —  LR: 0.000267\n",
            "Epoch 6/10  —  LR: 0.000267\n",
            "Epoch 7/10  —  LR: 0.000267\n",
            "Epoch 8/10  —  LR: 0.000267\n",
            "Epoch 9/10  —  LR: 0.000267\n",
            "Epoch 10/10  —  LR: 0.000267\n"
          ]
        },
        {
          "output_type": "stream",
          "name": "stderr",
          "text": [
            "[I 2025-05-25 10:25:58,149] Trial 4 finished with value: 0.5201579726838901 and parameters: {'features': 'gru_delta', 'win_len': 60, 'stride': 20, 'hidden': 128, 'layers': 1, 'drop': 0.0, 'lr': 0.0005335499128243722}. Best is trial 4 with value: 0.5201579726838901.\n"
          ]
        },
        {
          "output_type": "stream",
          "name": "stdout",
          "text": [
            "---- Trial #5  --  started ----------------------------\n",
            "Using features: gru_delta, win_len: 60, stride: 10, hidden: 256, layers: 3, drop: 0.4, lr: 0.0008663493483905527\n",
            "Epoch 1/10  —  LR: 0.000866\n",
            "Epoch 2/10  —  LR: 0.000866\n",
            "Epoch 3/10  —  LR: 0.000866\n",
            "Epoch 4/10  —  LR: 0.000866\n",
            "Epoch 5/10  —  LR: 0.000866\n",
            "Epoch 6/10  —  LR: 0.000433\n",
            "Epoch 7/10  —  LR: 0.000433\n",
            "Epoch 8/10  —  LR: 0.000217\n",
            "Epoch 9/10  —  LR: 0.000217\n",
            "Epoch 10/10  —  LR: 0.000108\n"
          ]
        },
        {
          "output_type": "stream",
          "name": "stderr",
          "text": [
            "[I 2025-05-25 10:28:46,077] Trial 5 finished with value: 0.5183508887425938 and parameters: {'features': 'gru_delta', 'win_len': 60, 'stride': 10, 'hidden': 256, 'layers': 3, 'drop': 0.4, 'lr': 0.0008663493483905527}. Best is trial 4 with value: 0.5201579726838901.\n"
          ]
        },
        {
          "output_type": "stream",
          "name": "stdout",
          "text": [
            "---- Trial #6  --  started ----------------------------\n",
            "Using features: gru_delta, win_len: 30, stride: 10, hidden: 256, layers: 1, drop: 0.2, lr: 0.0026914885397741587\n",
            "Epoch 1/10  —  LR: 0.002691\n",
            "Epoch 2/10  —  LR: 0.002691\n",
            "Epoch 3/10  —  LR: 0.002691\n",
            "Epoch 4/10  —  LR: 0.002691\n",
            "Epoch 5/10  —  LR: 0.002691\n",
            "Epoch 6/10  —  LR: 0.002691\n",
            "Epoch 7/10  —  LR: 0.001346\n",
            "Epoch 8/10  —  LR: 0.001346\n",
            "Epoch 9/10  —  LR: 0.000673\n",
            "Epoch 10/10  —  LR: 0.000673\n"
          ]
        },
        {
          "output_type": "stream",
          "name": "stderr",
          "text": [
            "[I 2025-05-25 10:30:05,548] Trial 6 finished with value: 0.5045037600198331 and parameters: {'features': 'gru_delta', 'win_len': 30, 'stride': 10, 'hidden': 256, 'layers': 1, 'drop': 0.2, 'lr': 0.0026914885397741587}. Best is trial 4 with value: 0.5201579726838901.\n"
          ]
        },
        {
          "output_type": "stream",
          "name": "stdout",
          "text": [
            "---- Trial #7  --  started ----------------------------\n",
            "Using features: baseline, win_len: 30, stride: 10, hidden: 256, layers: 2, drop: 0.4, lr: 0.0009724303348412737\n",
            "Epoch 1/10  —  LR: 0.000972\n",
            "Epoch 2/10  —  LR: 0.000972\n",
            "Epoch 3/10  —  LR: 0.000972\n",
            "Epoch 4/10  —  LR: 0.000972\n",
            "Epoch 5/10  —  LR: 0.000972\n",
            "Epoch 6/10  —  LR: 0.000486\n",
            "Epoch 7/10  —  LR: 0.000486\n",
            "Epoch 8/10  —  LR: 0.000243\n",
            "Epoch 9/10  —  LR: 0.000243\n",
            "Epoch 10/10  —  LR: 0.000122\n"
          ]
        },
        {
          "output_type": "stream",
          "name": "stderr",
          "text": [
            "[I 2025-05-25 10:31:43,552] Trial 7 finished with value: 0.6132551028840592 and parameters: {'features': 'baseline', 'win_len': 30, 'stride': 10, 'hidden': 256, 'layers': 2, 'drop': 0.4, 'lr': 0.0009724303348412737}. Best is trial 7 with value: 0.6132551028840592.\n"
          ]
        },
        {
          "output_type": "stream",
          "name": "stdout",
          "text": [
            "---- Trial #8  --  started ----------------------------\n",
            "Using features: gru_delta, win_len: 60, stride: 10, hidden: 64, layers: 2, drop: 0.0, lr: 0.0007108907559878005\n",
            "Epoch 1/10  —  LR: 0.000711\n",
            "Epoch 2/10  —  LR: 0.000711\n",
            "Epoch 3/10  —  LR: 0.000711\n"
          ]
        },
        {
          "output_type": "stream",
          "name": "stderr",
          "text": [
            "[I 2025-05-25 10:32:05,493] Trial 8 pruned. \n"
          ]
        },
        {
          "output_type": "stream",
          "name": "stdout",
          "text": [
            "Trial pruned at epoch 3, recall: 0.4710335747202107\n",
            "Trial #8 failed with error: \n",
            "---- Trial #9  --  started ----------------------------\n",
            "Using features: baseline, win_len: 30, stride: 20, hidden: 64, layers: 2, drop: 0.2, lr: 0.0003850945144607265\n",
            "Epoch 1/10  —  LR: 0.000385\n",
            "Epoch 2/10  —  LR: 0.000385\n",
            "Epoch 3/10  —  LR: 0.000385\n",
            "Epoch 4/10  —  LR: 0.000385\n",
            "Epoch 5/10  —  LR: 0.000385\n",
            "Epoch 6/10  —  LR: 0.000385\n",
            "Epoch 7/10  —  LR: 0.000193\n",
            "Epoch 8/10  —  LR: 0.000193\n",
            "Epoch 9/10  —  LR: 0.000193\n",
            "Epoch 10/10  —  LR: 0.000096\n"
          ]
        },
        {
          "output_type": "stream",
          "name": "stderr",
          "text": [
            "[I 2025-05-25 10:32:42,826] Trial 9 finished with value: 0.5730559683011391 and parameters: {'features': 'baseline', 'win_len': 30, 'stride': 20, 'hidden': 64, 'layers': 2, 'drop': 0.2, 'lr': 0.0003850945144607265}. Best is trial 7 with value: 0.6132551028840592.\n"
          ]
        },
        {
          "output_type": "stream",
          "name": "stdout",
          "text": [
            "---- Trial #10  --  started ----------------------------\n",
            "Using features: all_numeric, win_len: 120, stride: 10, hidden: 256, layers: 2, drop: 0.4, lr: 0.001919163875208349\n",
            "Epoch 1/10  —  LR: 0.001919\n",
            "Epoch 2/10  —  LR: 0.001919\n",
            "Epoch 3/10  —  LR: 0.001919\n",
            "Epoch 4/10  —  LR: 0.000960\n",
            "Epoch 5/10  —  LR: 0.000960\n",
            "Epoch 6/10  —  LR: 0.000480\n",
            "Epoch 7/10  —  LR: 0.000480\n",
            "Epoch 8/10  —  LR: 0.000240\n",
            "Epoch 9/10  —  LR: 0.000240\n",
            "Epoch 10/10  —  LR: 0.000120\n"
          ]
        },
        {
          "output_type": "stream",
          "name": "stderr",
          "text": [
            "[I 2025-05-25 10:36:01,756] Trial 10 finished with value: 0.5999510244061709 and parameters: {'features': 'all_numeric', 'win_len': 120, 'stride': 10, 'hidden': 256, 'layers': 2, 'drop': 0.4, 'lr': 0.001919163875208349}. Best is trial 7 with value: 0.6132551028840592.\n"
          ]
        },
        {
          "output_type": "stream",
          "name": "stdout",
          "text": [
            "---- Trial #11  --  started ----------------------------\n",
            "Using features: all_numeric, win_len: 120, stride: 10, hidden: 256, layers: 2, drop: 0.4, lr: 0.0020552725139293512\n",
            "Epoch 1/10  —  LR: 0.002055\n",
            "Epoch 2/10  —  LR: 0.002055\n",
            "Epoch 3/10  —  LR: 0.002055\n",
            "Epoch 4/10  —  LR: 0.002055\n",
            "Epoch 5/10  —  LR: 0.002055\n",
            "Epoch 6/10  —  LR: 0.001028\n",
            "Epoch 7/10  —  LR: 0.001028\n",
            "Epoch 8/10  —  LR: 0.000514\n",
            "Epoch 9/10  —  LR: 0.000514\n",
            "Epoch 10/10  —  LR: 0.000257\n"
          ]
        },
        {
          "output_type": "stream",
          "name": "stderr",
          "text": [
            "[I 2025-05-25 10:39:15,938] Trial 11 finished with value: 0.5774222512447963 and parameters: {'features': 'all_numeric', 'win_len': 120, 'stride': 10, 'hidden': 256, 'layers': 2, 'drop': 0.4, 'lr': 0.0020552725139293512}. Best is trial 7 with value: 0.6132551028840592.\n"
          ]
        },
        {
          "output_type": "stream",
          "name": "stdout",
          "text": [
            "---- Trial #12  --  started ----------------------------\n",
            "Using features: all_numeric, win_len: 120, stride: 10, hidden: 256, layers: 2, drop: 0.4, lr: 0.0014661187675270907\n",
            "Epoch 1/10  —  LR: 0.001466\n",
            "Epoch 2/10  —  LR: 0.001466\n",
            "Epoch 3/10  —  LR: 0.001466\n",
            "Epoch 4/10  —  LR: 0.001466\n",
            "Epoch 5/10  —  LR: 0.001466\n",
            "Epoch 6/10  —  LR: 0.001466\n",
            "Epoch 7/10  —  LR: 0.000733\n",
            "Epoch 8/10  —  LR: 0.000733\n",
            "Epoch 9/10  —  LR: 0.000367\n",
            "Epoch 10/10  —  LR: 0.000367\n"
          ]
        },
        {
          "output_type": "stream",
          "name": "stderr",
          "text": [
            "[I 2025-05-25 10:42:29,551] Trial 12 finished with value: 0.6657415721165619 and parameters: {'features': 'all_numeric', 'win_len': 120, 'stride': 10, 'hidden': 256, 'layers': 2, 'drop': 0.4, 'lr': 0.0014661187675270907}. Best is trial 12 with value: 0.6657415721165619.\n"
          ]
        },
        {
          "output_type": "stream",
          "name": "stdout",
          "text": [
            "---- Trial #13  --  started ----------------------------\n",
            "Using features: all_numeric, win_len: 120, stride: 10, hidden: 256, layers: 2, drop: 0.30000000000000004, lr: 0.0014680166186286396\n",
            "Epoch 1/10  —  LR: 0.001468\n",
            "Epoch 2/10  —  LR: 0.001468\n",
            "Epoch 3/10  —  LR: 0.001468\n",
            "Epoch 4/10  —  LR: 0.001468\n",
            "Epoch 5/10  —  LR: 0.000734\n",
            "Epoch 6/10  —  LR: 0.000734\n",
            "Epoch 7/10  —  LR: 0.000734\n",
            "Epoch 8/10  —  LR: 0.000734\n",
            "Epoch 9/10  —  LR: 0.000367\n",
            "Epoch 10/10  —  LR: 0.000367\n"
          ]
        },
        {
          "output_type": "stream",
          "name": "stderr",
          "text": [
            "[I 2025-05-25 10:45:43,647] Trial 13 finished with value: 0.5800342829156804 and parameters: {'features': 'all_numeric', 'win_len': 120, 'stride': 10, 'hidden': 256, 'layers': 2, 'drop': 0.30000000000000004, 'lr': 0.0014680166186286396}. Best is trial 12 with value: 0.6657415721165619.\n"
          ]
        },
        {
          "output_type": "stream",
          "name": "stdout",
          "text": [
            "---- Trial #14  --  started ----------------------------\n",
            "Using features: baseline, win_len: 120, stride: 10, hidden: 256, layers: 2, drop: 0.30000000000000004, lr: 0.004557493020091865\n",
            "Epoch 1/10  —  LR: 0.004557\n",
            "Epoch 2/10  —  LR: 0.004557\n",
            "Epoch 3/10  —  LR: 0.004557\n",
            "Epoch 4/10  —  LR: 0.004557\n",
            "Epoch 5/10  —  LR: 0.004557\n",
            "Epoch 6/10  —  LR: 0.002279\n",
            "Epoch 7/10  —  LR: 0.002279\n",
            "Epoch 8/10  —  LR: 0.002279\n",
            "Epoch 9/10  —  LR: 0.001139\n",
            "Epoch 10/10  —  LR: 0.001139\n"
          ]
        },
        {
          "output_type": "stream",
          "name": "stderr",
          "text": [
            "[I 2025-05-25 10:48:52,315] Trial 14 finished with value: 0.6186433760509347 and parameters: {'features': 'baseline', 'win_len': 120, 'stride': 10, 'hidden': 256, 'layers': 2, 'drop': 0.30000000000000004, 'lr': 0.004557493020091865}. Best is trial 12 with value: 0.6657415721165619.\n"
          ]
        },
        {
          "output_type": "stream",
          "name": "stdout",
          "text": [
            "---- Trial #15  --  started ----------------------------\n",
            "Using features: all_numeric, win_len: 120, stride: 10, hidden: 128, layers: 3, drop: 0.30000000000000004, lr: 0.004857432440005791\n",
            "Epoch 1/10  —  LR: 0.004857\n",
            "Epoch 2/10  —  LR: 0.004857\n",
            "Epoch 3/10  —  LR: 0.004857\n",
            "Epoch 4/10  —  LR: 0.004857\n",
            "Epoch 5/10  —  LR: 0.004857\n",
            "Epoch 6/10  —  LR: 0.004857\n",
            "Epoch 7/10  —  LR: 0.002429\n",
            "Epoch 8/10  —  LR: 0.002429\n",
            "Epoch 9/10  —  LR: 0.002429\n",
            "Epoch 10/10  —  LR: 0.001214\n"
          ]
        },
        {
          "output_type": "stream",
          "name": "stderr",
          "text": [
            "[I 2025-05-25 10:51:07,870] Trial 15 finished with value: 0.6095828911925557 and parameters: {'features': 'all_numeric', 'win_len': 120, 'stride': 10, 'hidden': 128, 'layers': 3, 'drop': 0.30000000000000004, 'lr': 0.004857432440005791}. Best is trial 12 with value: 0.6657415721165619.\n"
          ]
        },
        {
          "output_type": "stream",
          "name": "stdout",
          "text": [
            "---- Trial #16  --  started ----------------------------\n",
            "Using features: baseline, win_len: 120, stride: 10, hidden: 256, layers: 1, drop: 0.30000000000000004, lr: 0.004418244006754505\n",
            "Epoch 1/10  —  LR: 0.004418\n",
            "Epoch 2/10  —  LR: 0.004418\n",
            "Epoch 3/10  —  LR: 0.004418\n",
            "Epoch 4/10  —  LR: 0.004418\n",
            "Epoch 5/10  —  LR: 0.004418\n",
            "Epoch 6/10  —  LR: 0.004418\n",
            "Epoch 7/10  —  LR: 0.002209\n",
            "Epoch 8/10  —  LR: 0.002209\n",
            "Epoch 9/10  —  LR: 0.001105\n",
            "Epoch 10/10  —  LR: 0.001105\n"
          ]
        },
        {
          "output_type": "stream",
          "name": "stderr",
          "text": [
            "[I 2025-05-25 10:53:10,367] Trial 16 finished with value: 0.4772671618643376 and parameters: {'features': 'baseline', 'win_len': 120, 'stride': 10, 'hidden': 256, 'layers': 1, 'drop': 0.30000000000000004, 'lr': 0.004418244006754505}. Best is trial 12 with value: 0.6657415721165619.\n"
          ]
        },
        {
          "output_type": "stream",
          "name": "stdout",
          "text": [
            "---- Trial #17  --  started ----------------------------\n",
            "Using features: all_numeric, win_len: 120, stride: 10, hidden: 256, layers: 2, drop: 0.1, lr: 0.003446635817427107\n",
            "Epoch 1/10  —  LR: 0.003447\n",
            "Epoch 2/10  —  LR: 0.003447\n",
            "Epoch 3/10  —  LR: 0.003447\n",
            "Epoch 4/10  —  LR: 0.003447\n",
            "Epoch 5/10  —  LR: 0.001723\n",
            "Epoch 6/10  —  LR: 0.001723\n",
            "Epoch 7/10  —  LR: 0.000862\n",
            "Epoch 8/10  —  LR: 0.000862\n",
            "Epoch 9/10  —  LR: 0.000431\n",
            "Epoch 10/10  —  LR: 0.000431\n"
          ]
        },
        {
          "output_type": "stream",
          "name": "stderr",
          "text": [
            "[I 2025-05-25 10:56:25,348] Trial 17 finished with value: 0.6348053220145294 and parameters: {'features': 'all_numeric', 'win_len': 120, 'stride': 10, 'hidden': 256, 'layers': 2, 'drop': 0.1, 'lr': 0.003446635817427107}. Best is trial 12 with value: 0.6657415721165619.\n"
          ]
        },
        {
          "output_type": "stream",
          "name": "stdout",
          "text": [
            "---- Trial #18  --  started ----------------------------\n",
            "Using features: all_numeric, win_len: 120, stride: 10, hidden: 128, layers: 1, drop: 0.1, lr: 0.0027276797163193565\n",
            "Epoch 1/10  —  LR: 0.002728\n",
            "Epoch 2/10  —  LR: 0.002728\n",
            "Epoch 3/10  —  LR: 0.002728\n",
            "Epoch 4/10  —  LR: 0.002728\n",
            "Epoch 5/10  —  LR: 0.002728\n",
            "Epoch 6/10  —  LR: 0.002728\n",
            "Epoch 7/10  —  LR: 0.001364\n",
            "Epoch 8/10  —  LR: 0.001364\n",
            "Epoch 9/10  —  LR: 0.000682\n",
            "Epoch 10/10  —  LR: 0.000682\n"
          ]
        },
        {
          "output_type": "stream",
          "name": "stderr",
          "text": [
            "[I 2025-05-25 10:57:58,087] Trial 18 finished with value: 0.6401110113460126 and parameters: {'features': 'all_numeric', 'win_len': 120, 'stride': 10, 'hidden': 128, 'layers': 1, 'drop': 0.1, 'lr': 0.0027276797163193565}. Best is trial 12 with value: 0.6657415721165619.\n"
          ]
        },
        {
          "output_type": "stream",
          "name": "stdout",
          "text": [
            "---- Trial #19  --  started ----------------------------\n",
            "Using features: all_numeric, win_len: 120, stride: 10, hidden: 128, layers: 1, drop: 0.1, lr: 0.0013088415475859042\n",
            "Epoch 1/10  —  LR: 0.001309\n",
            "Epoch 2/10  —  LR: 0.001309\n",
            "Epoch 3/10  —  LR: 0.001309\n",
            "Epoch 4/10  —  LR: 0.000654\n",
            "Epoch 5/10  —  LR: 0.000654\n",
            "Epoch 6/10  —  LR: 0.000654\n",
            "Epoch 7/10  —  LR: 0.000327\n",
            "Epoch 8/10  —  LR: 0.000327\n",
            "Epoch 9/10  —  LR: 0.000164\n",
            "Epoch 10/10  —  LR: 0.000164\n"
          ]
        },
        {
          "output_type": "stream",
          "name": "stderr",
          "text": [
            "[I 2025-05-25 10:59:30,862] Trial 19 finished with value: 0.5783201371316627 and parameters: {'features': 'all_numeric', 'win_len': 120, 'stride': 10, 'hidden': 128, 'layers': 1, 'drop': 0.1, 'lr': 0.0013088415475859042}. Best is trial 12 with value: 0.6657415721165619.\n"
          ]
        },
        {
          "output_type": "stream",
          "name": "stdout",
          "text": [
            "---- Trial #20  --  started ----------------------------\n",
            "Using features: all_numeric, win_len: 120, stride: 10, hidden: 128, layers: 1, drop: 0.1, lr: 0.0027668703814902854\n",
            "Epoch 1/10  —  LR: 0.002767\n",
            "Epoch 2/10  —  LR: 0.002767\n",
            "Epoch 3/10  —  LR: 0.002767\n",
            "Epoch 4/10  —  LR: 0.002767\n",
            "Epoch 5/10  —  LR: 0.001383\n",
            "Epoch 6/10  —  LR: 0.001383\n",
            "Epoch 7/10  —  LR: 0.001383\n",
            "Epoch 8/10  —  LR: 0.001383\n",
            "Epoch 9/10  —  LR: 0.001383\n",
            "Epoch 10/10  —  LR: 0.000692\n"
          ]
        },
        {
          "output_type": "stream",
          "name": "stderr",
          "text": [
            "[I 2025-05-25 11:01:03,891] Trial 20 finished with value: 0.6392947514488613 and parameters: {'features': 'all_numeric', 'win_len': 120, 'stride': 10, 'hidden': 128, 'layers': 1, 'drop': 0.1, 'lr': 0.0027668703814902854}. Best is trial 12 with value: 0.6657415721165619.\n"
          ]
        },
        {
          "output_type": "stream",
          "name": "stdout",
          "text": [
            "---- Trial #21  --  started ----------------------------\n",
            "Using features: all_numeric, win_len: 120, stride: 10, hidden: 128, layers: 1, drop: 0.1, lr: 0.002379270702171194\n",
            "Epoch 1/10  —  LR: 0.002379\n",
            "Epoch 2/10  —  LR: 0.002379\n",
            "Epoch 3/10  —  LR: 0.002379\n",
            "Epoch 4/10  —  LR: 0.002379\n",
            "Epoch 5/10  —  LR: 0.001190\n",
            "Epoch 6/10  —  LR: 0.001190\n",
            "Epoch 7/10  —  LR: 0.000595\n",
            "Epoch 8/10  —  LR: 0.000595\n",
            "Epoch 9/10  —  LR: 0.000595\n",
            "Epoch 10/10  —  LR: 0.000595\n"
          ]
        },
        {
          "output_type": "stream",
          "name": "stderr",
          "text": [
            "[I 2025-05-25 11:02:36,636] Trial 21 finished with value: 0.6114602889560036 and parameters: {'features': 'all_numeric', 'win_len': 120, 'stride': 10, 'hidden': 128, 'layers': 1, 'drop': 0.1, 'lr': 0.002379270702171194}. Best is trial 12 with value: 0.6657415721165619.\n"
          ]
        },
        {
          "output_type": "stream",
          "name": "stdout",
          "text": [
            "---- Trial #22  --  started ----------------------------\n",
            "Using features: all_numeric, win_len: 120, stride: 10, hidden: 128, layers: 1, drop: 0.1, lr: 0.0014767253740475485\n",
            "Epoch 1/10  —  LR: 0.001477\n",
            "Epoch 2/10  —  LR: 0.001477\n",
            "Epoch 3/10  —  LR: 0.001477\n",
            "Epoch 4/10  —  LR: 0.001477\n",
            "Epoch 5/10  —  LR: 0.001477\n",
            "Epoch 6/10  —  LR: 0.001477\n",
            "Epoch 7/10  —  LR: 0.001477\n",
            "Epoch 8/10  —  LR: 0.000738\n",
            "Epoch 9/10  —  LR: 0.000738\n",
            "Epoch 10/10  —  LR: 0.000738\n"
          ]
        },
        {
          "output_type": "stream",
          "name": "stderr",
          "text": [
            "[I 2025-05-25 11:04:09,612] Trial 22 finished with value: 0.6347236960248143 and parameters: {'features': 'all_numeric', 'win_len': 120, 'stride': 10, 'hidden': 128, 'layers': 1, 'drop': 0.1, 'lr': 0.0014767253740475485}. Best is trial 12 with value: 0.6657415721165619.\n"
          ]
        },
        {
          "output_type": "stream",
          "name": "stdout",
          "text": [
            "---- Trial #23  --  started ----------------------------\n",
            "Using features: all_numeric, win_len: 120, stride: 10, hidden: 128, layers: 1, drop: 0.1, lr: 0.0030199783004998533\n",
            "Epoch 1/10  —  LR: 0.003020\n",
            "Epoch 2/10  —  LR: 0.003020\n",
            "Epoch 3/10  —  LR: 0.003020\n",
            "Epoch 4/10  —  LR: 0.003020\n",
            "Epoch 5/10  —  LR: 0.001510\n",
            "Epoch 6/10  —  LR: 0.001510\n",
            "Epoch 7/10  —  LR: 0.000755\n",
            "Epoch 8/10  —  LR: 0.000755\n",
            "Epoch 9/10  —  LR: 0.000377\n",
            "Epoch 10/10  —  LR: 0.000377\n"
          ]
        },
        {
          "output_type": "stream",
          "name": "stderr",
          "text": [
            "[I 2025-05-25 11:05:42,730] Trial 23 finished with value: 0.6157864664109053 and parameters: {'features': 'all_numeric', 'win_len': 120, 'stride': 10, 'hidden': 128, 'layers': 1, 'drop': 0.1, 'lr': 0.0030199783004998533}. Best is trial 12 with value: 0.6657415721165619.\n"
          ]
        },
        {
          "output_type": "stream",
          "name": "stdout",
          "text": [
            "---- Trial #24  --  started ----------------------------\n",
            "Using features: all_numeric, win_len: 120, stride: 10, hidden: 128, layers: 1, drop: 0.1, lr: 0.001827721683611315\n",
            "Epoch 1/10  —  LR: 0.001828\n",
            "Epoch 2/10  —  LR: 0.001828\n",
            "Epoch 3/10  —  LR: 0.001828\n",
            "Epoch 4/10  —  LR: 0.001828\n",
            "Epoch 5/10  —  LR: 0.001828\n",
            "Epoch 6/10  —  LR: 0.000914\n",
            "Epoch 7/10  —  LR: 0.000914\n",
            "Epoch 8/10  —  LR: 0.000457\n",
            "Epoch 9/10  —  LR: 0.000457\n",
            "Epoch 10/10  —  LR: 0.000228\n"
          ]
        },
        {
          "output_type": "stream",
          "name": "stderr",
          "text": [
            "[I 2025-05-25 11:07:15,488] Trial 24 finished with value: 0.6355399559219655 and parameters: {'features': 'all_numeric', 'win_len': 120, 'stride': 10, 'hidden': 128, 'layers': 1, 'drop': 0.1, 'lr': 0.001827721683611315}. Best is trial 12 with value: 0.6657415721165619.\n"
          ]
        },
        {
          "output_type": "stream",
          "name": "stdout",
          "text": [
            "---- Trial #25  --  started ----------------------------\n",
            "Using features: all_numeric, win_len: 120, stride: 10, hidden: 128, layers: 1, drop: 0.0, lr: 0.0010946148651103395\n",
            "Epoch 1/10  —  LR: 0.001095\n",
            "Epoch 2/10  —  LR: 0.001095\n",
            "Epoch 3/10  —  LR: 0.001095\n",
            "Epoch 4/10  —  LR: 0.001095\n",
            "Epoch 5/10  —  LR: 0.001095\n",
            "Epoch 6/10  —  LR: 0.001095\n",
            "Epoch 7/10  —  LR: 0.001095\n",
            "Epoch 8/10  —  LR: 0.000547\n",
            "Epoch 9/10  —  LR: 0.000547\n",
            "Epoch 10/10  —  LR: 0.000547\n"
          ]
        },
        {
          "output_type": "stream",
          "name": "stderr",
          "text": [
            "[I 2025-05-25 11:08:48,082] Trial 25 finished with value: 0.6261529671047261 and parameters: {'features': 'all_numeric', 'win_len': 120, 'stride': 10, 'hidden': 128, 'layers': 1, 'drop': 0.0, 'lr': 0.0010946148651103395}. Best is trial 12 with value: 0.6657415721165619.\n"
          ]
        },
        {
          "output_type": "stream",
          "name": "stdout",
          "text": [
            "---- Trial #26  --  started ----------------------------\n",
            "Using features: all_numeric, win_len: 120, stride: 10, hidden: 128, layers: 1, drop: 0.1, lr: 0.003389171398324571\n",
            "Epoch 1/10  —  LR: 0.003389\n",
            "Epoch 2/10  —  LR: 0.003389\n",
            "Epoch 3/10  —  LR: 0.003389\n",
            "Epoch 4/10  —  LR: 0.003389\n",
            "Epoch 5/10  —  LR: 0.003389\n",
            "Epoch 6/10  —  LR: 0.001695\n",
            "Epoch 7/10  —  LR: 0.001695\n",
            "Epoch 8/10  —  LR: 0.000847\n",
            "Epoch 9/10  —  LR: 0.000847\n",
            "Epoch 10/10  —  LR: 0.000424\n"
          ]
        },
        {
          "output_type": "stream",
          "name": "stderr",
          "text": [
            "[I 2025-05-25 11:10:21,615] Trial 26 finished with value: 0.5928495633009551 and parameters: {'features': 'all_numeric', 'win_len': 120, 'stride': 10, 'hidden': 128, 'layers': 1, 'drop': 0.1, 'lr': 0.003389171398324571}. Best is trial 12 with value: 0.6657415721165619.\n"
          ]
        },
        {
          "output_type": "stream",
          "name": "stdout",
          "text": [
            "---- Trial #27  --  started ----------------------------\n",
            "Using features: all_numeric, win_len: 120, stride: 10, hidden: 64, layers: 1, drop: 0.2, lr: 0.0024127083615508717\n",
            "Epoch 1/10  —  LR: 0.002413\n",
            "Epoch 2/10  —  LR: 0.002413\n",
            "Epoch 3/10  —  LR: 0.002413\n"
          ]
        },
        {
          "output_type": "stream",
          "name": "stderr",
          "text": [
            "[I 2025-05-25 11:10:47,602] Trial 27 pruned. \n"
          ]
        },
        {
          "output_type": "stream",
          "name": "stdout",
          "text": [
            "Trial pruned at epoch 3, recall: 0.5697494082115746\n",
            "Trial #27 failed with error: \n",
            "---- Trial #28  --  started ----------------------------\n",
            "Using features: all_numeric, win_len: 120, stride: 10, hidden: 128, layers: 2, drop: 0.0, lr: 0.001613198509439605\n",
            "Epoch 1/10  —  LR: 0.001613\n",
            "Epoch 2/10  —  LR: 0.001613\n",
            "Epoch 3/10  —  LR: 0.001613\n",
            "Epoch 4/10  —  LR: 0.000807\n",
            "Epoch 5/10  —  LR: 0.000807\n",
            "Epoch 6/10  —  LR: 0.000807\n",
            "Epoch 7/10  —  LR: 0.000807\n",
            "Epoch 8/10  —  LR: 0.000807\n",
            "Epoch 9/10  —  LR: 0.000403\n",
            "Epoch 10/10  —  LR: 0.000403\n"
          ]
        },
        {
          "output_type": "stream",
          "name": "stderr",
          "text": [
            "[I 2025-05-25 11:12:33,918] Trial 28 finished with value: 0.5865643620928904 and parameters: {'features': 'all_numeric', 'win_len': 120, 'stride': 10, 'hidden': 128, 'layers': 2, 'drop': 0.0, 'lr': 0.001613198509439605}. Best is trial 12 with value: 0.6657415721165619.\n"
          ]
        },
        {
          "output_type": "stream",
          "name": "stdout",
          "text": [
            "---- Trial #29  --  started ----------------------------\n",
            "Using features: all_numeric, win_len: 120, stride: 20, hidden: 128, layers: 3, drop: 0.2, lr: 0.0012086326964276515\n",
            "Epoch 1/10  —  LR: 0.001209\n",
            "Epoch 2/10  —  LR: 0.001209\n",
            "Epoch 3/10  —  LR: 0.001209\n",
            "Epoch 4/10  —  LR: 0.001209\n",
            "Epoch 5/10  —  LR: 0.001209\n",
            "Epoch 6/10  —  LR: 0.001209\n",
            "Epoch 7/10  —  LR: 0.001209\n",
            "Epoch 8/10  —  LR: 0.000604\n",
            "Epoch 9/10  —  LR: 0.000604\n",
            "Epoch 10/10  —  LR: 0.000302\n"
          ]
        },
        {
          "output_type": "stream",
          "name": "stderr",
          "text": [
            "[I 2025-05-25 11:13:45,106] Trial 29 finished with value: 0.6635651322233105 and parameters: {'features': 'all_numeric', 'win_len': 120, 'stride': 20, 'hidden': 128, 'layers': 3, 'drop': 0.2, 'lr': 0.0012086326964276515}. Best is trial 12 with value: 0.6657415721165619.\n"
          ]
        },
        {
          "output_type": "stream",
          "name": "stdout",
          "text": [
            "---- Trial #30  --  started ----------------------------\n",
            "Using features: all_numeric, win_len: 120, stride: 20, hidden: 64, layers: 3, drop: 0.2, lr: 0.001168455992379373\n",
            "Epoch 1/10  —  LR: 0.001168\n",
            "Epoch 2/10  —  LR: 0.001168\n",
            "Epoch 3/10  —  LR: 0.001168\n",
            "Epoch 4/10  —  LR: 0.001168\n",
            "Epoch 5/10  —  LR: 0.000584\n",
            "Epoch 6/10  —  LR: 0.000584\n",
            "Epoch 7/10  —  LR: 0.000584\n",
            "Epoch 8/10  —  LR: 0.000584\n",
            "Epoch 9/10  —  LR: 0.000584\n",
            "Epoch 10/10  —  LR: 0.000584\n"
          ]
        },
        {
          "output_type": "stream",
          "name": "stderr",
          "text": [
            "[I 2025-05-25 11:14:44,356] Trial 30 finished with value: 0.6612797910545217 and parameters: {'features': 'all_numeric', 'win_len': 120, 'stride': 20, 'hidden': 64, 'layers': 3, 'drop': 0.2, 'lr': 0.001168455992379373}. Best is trial 12 with value: 0.6657415721165619.\n"
          ]
        },
        {
          "output_type": "stream",
          "name": "stdout",
          "text": [
            "---- Trial #31  --  started ----------------------------\n",
            "Using features: all_numeric, win_len: 120, stride: 20, hidden: 64, layers: 3, drop: 0.2, lr: 0.001156866188648544\n",
            "Epoch 1/10  —  LR: 0.001157\n",
            "Epoch 2/10  —  LR: 0.001157\n",
            "Epoch 3/10  —  LR: 0.001157\n",
            "Epoch 4/10  —  LR: 0.001157\n",
            "Epoch 5/10  —  LR: 0.001157\n",
            "Epoch 6/10  —  LR: 0.001157\n",
            "Epoch 7/10  —  LR: 0.001157\n",
            "Epoch 8/10  —  LR: 0.000578\n",
            "Epoch 9/10  —  LR: 0.000578\n",
            "Epoch 10/10  —  LR: 0.000578\n"
          ]
        },
        {
          "output_type": "stream",
          "name": "stderr",
          "text": [
            "[I 2025-05-25 11:15:43,595] Trial 31 finished with value: 0.6199804113614104 and parameters: {'features': 'all_numeric', 'win_len': 120, 'stride': 20, 'hidden': 64, 'layers': 3, 'drop': 0.2, 'lr': 0.001156866188648544}. Best is trial 12 with value: 0.6657415721165619.\n"
          ]
        },
        {
          "output_type": "stream",
          "name": "stdout",
          "text": [
            "---- Trial #32  --  started ----------------------------\n",
            "Using features: all_numeric, win_len: 120, stride: 20, hidden: 64, layers: 3, drop: 0.2, lr: 0.0008476661613149965\n",
            "Epoch 1/10  —  LR: 0.000848\n",
            "Epoch 2/10  —  LR: 0.000848\n",
            "Epoch 3/10  —  LR: 0.000848\n"
          ]
        },
        {
          "output_type": "stream",
          "name": "stderr",
          "text": [
            "[I 2025-05-25 11:16:01,369] Trial 32 pruned. \n"
          ]
        },
        {
          "output_type": "stream",
          "name": "stdout",
          "text": [
            "Trial pruned at epoch 3, recall: 0.569213189683317\n",
            "Trial #32 failed with error: \n",
            "---- Trial #33  --  started ----------------------------\n",
            "Using features: all_numeric, win_len: 30, stride: 20, hidden: 64, layers: 3, drop: 0.30000000000000004, lr: 0.00048597845606181784\n",
            "Epoch 1/10  —  LR: 0.000486\n",
            "Epoch 2/10  —  LR: 0.000486\n",
            "Epoch 3/10  —  LR: 0.000486\n",
            "Epoch 4/10  —  LR: 0.000486\n",
            "Epoch 5/10  —  LR: 0.000486\n",
            "Epoch 6/10  —  LR: 0.000243\n",
            "Epoch 7/10  —  LR: 0.000243\n",
            "Epoch 8/10  —  LR: 0.000121\n",
            "Epoch 9/10  —  LR: 0.000121\n",
            "Epoch 10/10  —  LR: 0.000061\n"
          ]
        },
        {
          "output_type": "stream",
          "name": "stderr",
          "text": [
            "[I 2025-05-25 11:16:42,549] Trial 33 finished with value: 0.6004622750536569 and parameters: {'features': 'all_numeric', 'win_len': 30, 'stride': 20, 'hidden': 64, 'layers': 3, 'drop': 0.30000000000000004, 'lr': 0.00048597845606181784}. Best is trial 12 with value: 0.6657415721165619.\n"
          ]
        },
        {
          "output_type": "stream",
          "name": "stdout",
          "text": [
            "---- Trial #34  --  started ----------------------------\n",
            "Using features: all_numeric, win_len: 120, stride: 20, hidden: 64, layers: 3, drop: 0.2, lr: 0.00025905851849439683\n",
            "Epoch 1/10  —  LR: 0.000259\n",
            "Epoch 2/10  —  LR: 0.000259\n",
            "Epoch 3/10  —  LR: 0.000259\n"
          ]
        },
        {
          "output_type": "stream",
          "name": "stderr",
          "text": [
            "[I 2025-05-25 11:17:00,453] Trial 34 pruned. \n"
          ]
        },
        {
          "output_type": "stream",
          "name": "stdout",
          "text": [
            "Trial pruned at epoch 3, recall: 0.5714985308521058\n",
            "Trial #34 failed with error: \n",
            "---- Trial #35  --  started ----------------------------\n",
            "Using features: all_numeric, win_len: 60, stride: 20, hidden: 64, layers: 3, drop: 0.2, lr: 0.000668780130046106\n",
            "Epoch 1/10  —  LR: 0.000669\n",
            "Epoch 2/10  —  LR: 0.000669\n",
            "Epoch 3/10  —  LR: 0.000669\n",
            "Epoch 4/10  —  LR: 0.000334\n",
            "Epoch 5/10  —  LR: 0.000334\n",
            "Epoch 6/10  —  LR: 0.000334\n",
            "Epoch 7/10  —  LR: 0.000167\n",
            "Epoch 8/10  —  LR: 0.000167\n",
            "Epoch 9/10  —  LR: 0.000084\n",
            "Epoch 10/10  —  LR: 0.000084\n"
          ]
        },
        {
          "output_type": "stream",
          "name": "stderr",
          "text": [
            "[I 2025-05-25 11:17:47,257] Trial 35 finished with value: 0.5899292414020075 and parameters: {'features': 'all_numeric', 'win_len': 60, 'stride': 20, 'hidden': 64, 'layers': 3, 'drop': 0.2, 'lr': 0.000668780130046106}. Best is trial 12 with value: 0.6657415721165619.\n"
          ]
        },
        {
          "output_type": "stream",
          "name": "stdout",
          "text": [
            "---- Trial #36  --  started ----------------------------\n",
            "Using features: gru_delta, win_len: 120, stride: 20, hidden: 128, layers: 3, drop: 0.30000000000000004, lr: 0.00018833423795077428\n",
            "Epoch 1/10  —  LR: 0.000188\n",
            "Epoch 2/10  —  LR: 0.000188\n",
            "Epoch 3/10  —  LR: 0.000188\n"
          ]
        },
        {
          "output_type": "stream",
          "name": "stderr",
          "text": [
            "[I 2025-05-25 11:18:08,712] Trial 36 pruned. \n"
          ]
        },
        {
          "output_type": "stream",
          "name": "stdout",
          "text": [
            "Trial pruned at epoch 3, recall: 0.3930786810316683\n",
            "Trial #36 failed with error: \n",
            "---- Trial #37  --  started ----------------------------\n",
            "Using features: all_numeric, win_len: 30, stride: 20, hidden: 128, layers: 3, drop: 0.2, lr: 0.0012606564022504736\n",
            "Epoch 1/10  —  LR: 0.001261\n",
            "Epoch 2/10  —  LR: 0.001261\n",
            "Epoch 3/10  —  LR: 0.001261\n",
            "Epoch 4/10  —  LR: 0.001261\n",
            "Epoch 5/10  —  LR: 0.000630\n",
            "Epoch 6/10  —  LR: 0.000630\n",
            "Epoch 7/10  —  LR: 0.000315\n",
            "Epoch 8/10  —  LR: 0.000315\n",
            "Epoch 9/10  —  LR: 0.000158\n",
            "Epoch 10/10  —  LR: 0.000158\n"
          ]
        },
        {
          "output_type": "stream",
          "name": "stderr",
          "text": [
            "[I 2025-05-25 11:18:47,904] Trial 37 finished with value: 0.5928677563150074 and parameters: {'features': 'all_numeric', 'win_len': 30, 'stride': 20, 'hidden': 128, 'layers': 3, 'drop': 0.2, 'lr': 0.0012606564022504736}. Best is trial 12 with value: 0.6657415721165619.\n"
          ]
        },
        {
          "output_type": "stream",
          "name": "stdout",
          "text": [
            "---- Trial #38  --  started ----------------------------\n",
            "Using features: gru_delta, win_len: 60, stride: 20, hidden: 64, layers: 3, drop: 0.2, lr: 0.00092205890150824\n",
            "Epoch 1/10  —  LR: 0.000922\n",
            "Epoch 2/10  —  LR: 0.000922\n",
            "Epoch 3/10  —  LR: 0.000922\n"
          ]
        },
        {
          "output_type": "stream",
          "name": "stderr",
          "text": [
            "[I 2025-05-25 11:19:00,271] Trial 38 pruned. \n"
          ]
        },
        {
          "output_type": "stream",
          "name": "stdout",
          "text": [
            "Trial pruned at epoch 3, recall: 0.4006911304920191\n",
            "Trial #38 failed with error: \n",
            "---- Trial #39  --  started ----------------------------\n",
            "Using features: baseline, win_len: 120, stride: 20, hidden: 256, layers: 3, drop: 0.30000000000000004, lr: 0.00010513274149283086\n",
            "Epoch 1/10  —  LR: 0.000105\n",
            "Epoch 2/10  —  LR: 0.000105\n",
            "Epoch 3/10  —  LR: 0.000105\n"
          ]
        },
        {
          "output_type": "stream",
          "name": "stderr",
          "text": [
            "[I 2025-05-25 11:19:43,185] Trial 39 pruned. \n"
          ]
        },
        {
          "output_type": "stream",
          "name": "stdout",
          "text": [
            "Trial pruned at epoch 3, recall: 0.504733920992491\n",
            "Trial #39 failed with error: \n",
            "---- Trial #40  --  started ----------------------------\n",
            "Using features: all_numeric, win_len: 60, stride: 20, hidden: 128, layers: 3, drop: 0.4, lr: 0.0005347545317650786\n",
            "Epoch 1/10  —  LR: 0.000535\n",
            "Epoch 2/10  —  LR: 0.000535\n",
            "Epoch 3/10  —  LR: 0.000535\n"
          ]
        },
        {
          "output_type": "stream",
          "name": "stderr",
          "text": [
            "[I 2025-05-25 11:19:57,322] Trial 40 pruned. \n"
          ]
        },
        {
          "output_type": "stream",
          "name": "stdout",
          "text": [
            "Trial pruned at epoch 3, recall: 0.5678788876090176\n",
            "Trial #40 failed with error: \n",
            "---- Trial #41  --  started ----------------------------\n",
            "Using features: all_numeric, win_len: 120, stride: 20, hidden: 128, layers: 1, drop: 0.1, lr: 0.002384503253335705\n",
            "Epoch 1/10  —  LR: 0.002385\n",
            "Epoch 2/10  —  LR: 0.002385\n",
            "Epoch 3/10  —  LR: 0.002385\n",
            "Epoch 4/10  —  LR: 0.002385\n",
            "Epoch 5/10  —  LR: 0.002385\n",
            "Epoch 6/10  —  LR: 0.001192\n",
            "Epoch 7/10  —  LR: 0.001192\n",
            "Epoch 8/10  —  LR: 0.001192\n",
            "Epoch 9/10  —  LR: 0.001192\n",
            "Epoch 10/10  —  LR: 0.000596\n"
          ]
        },
        {
          "output_type": "stream",
          "name": "stderr",
          "text": [
            "[I 2025-05-25 11:20:44,248] Trial 41 finished with value: 0.6012079660463597 and parameters: {'features': 'all_numeric', 'win_len': 120, 'stride': 20, 'hidden': 128, 'layers': 1, 'drop': 0.1, 'lr': 0.002384503253335705}. Best is trial 12 with value: 0.6657415721165619.\n"
          ]
        },
        {
          "output_type": "stream",
          "name": "stdout",
          "text": [
            "---- Trial #42  --  started ----------------------------\n",
            "Using features: all_numeric, win_len: 120, stride: 20, hidden: 128, layers: 2, drop: 0.0, lr: 0.001966347489484959\n",
            "Epoch 1/10  —  LR: 0.001966\n",
            "Epoch 2/10  —  LR: 0.001966\n",
            "Epoch 3/10  —  LR: 0.001966\n"
          ]
        },
        {
          "output_type": "stream",
          "name": "stderr",
          "text": [
            "[I 2025-05-25 11:21:00,365] Trial 42 pruned. \n"
          ]
        },
        {
          "output_type": "stream",
          "name": "stdout",
          "text": [
            "Trial pruned at epoch 3, recall: 0.5951681358145609\n",
            "Trial #42 failed with error: \n",
            "---- Trial #43  --  started ----------------------------\n",
            "Using features: all_numeric, win_len: 120, stride: 10, hidden: 128, layers: 1, drop: 0.1, lr: 0.003528558396882435\n",
            "Epoch 1/10  —  LR: 0.003529\n",
            "Epoch 2/10  —  LR: 0.003529\n",
            "Epoch 3/10  —  LR: 0.003529\n"
          ]
        },
        {
          "output_type": "stream",
          "name": "stderr",
          "text": [
            "[I 2025-05-25 11:21:28,323] Trial 43 pruned. \n"
          ]
        },
        {
          "output_type": "stream",
          "name": "stdout",
          "text": [
            "Trial pruned at epoch 3, recall: 0.5545669741245612\n",
            "Trial #43 failed with error: \n",
            "---- Trial #44  --  started ----------------------------\n",
            "Using features: gru_delta, win_len: 30, stride: 20, hidden: 128, layers: 2, drop: 0.1, lr: 0.0016604620252881287\n",
            "Epoch 1/10  —  LR: 0.001660\n",
            "Epoch 2/10  —  LR: 0.001660\n",
            "Epoch 3/10  —  LR: 0.001660\n"
          ]
        },
        {
          "output_type": "stream",
          "name": "stderr",
          "text": [
            "[I 2025-05-25 11:21:39,103] Trial 44 pruned. \n"
          ]
        },
        {
          "output_type": "stream",
          "name": "stdout",
          "text": [
            "Trial pruned at epoch 3, recall: 0.4781244840680205\n",
            "Trial #44 failed with error: \n",
            "---- Trial #45  --  started ----------------------------\n",
            "Using features: all_numeric, win_len: 120, stride: 10, hidden: 256, layers: 3, drop: 0.2, lr: 0.0008050058960148382\n",
            "Epoch 1/10  —  LR: 0.000805\n",
            "Epoch 2/10  —  LR: 0.000805\n",
            "Epoch 3/10  —  LR: 0.000805\n",
            "Epoch 4/10  —  LR: 0.000403\n",
            "Epoch 5/10  —  LR: 0.000403\n",
            "Epoch 6/10  —  LR: 0.000201\n",
            "Epoch 7/10  —  LR: 0.000201\n",
            "Epoch 8/10  —  LR: 0.000101\n",
            "Epoch 9/10  —  LR: 0.000101\n",
            "Epoch 10/10  —  LR: 0.000050\n"
          ]
        },
        {
          "output_type": "stream",
          "name": "stderr",
          "text": [
            "[I 2025-05-25 11:26:18,161] Trial 45 finished with value: 0.6148069545343238 and parameters: {'features': 'all_numeric', 'win_len': 120, 'stride': 10, 'hidden': 256, 'layers': 3, 'drop': 0.2, 'lr': 0.0008050058960148382}. Best is trial 12 with value: 0.6657415721165619.\n"
          ]
        },
        {
          "output_type": "stream",
          "name": "stdout",
          "text": [
            "---- Trial #46  --  started ----------------------------\n",
            "Using features: all_numeric, win_len: 120, stride: 10, hidden: 64, layers: 2, drop: 0.2, lr: 0.0010736319960163335\n",
            "Epoch 1/10  —  LR: 0.001074\n",
            "Epoch 2/10  —  LR: 0.001074\n",
            "Epoch 3/10  —  LR: 0.001074\n",
            "Epoch 4/10  —  LR: 0.001074\n",
            "Epoch 5/10  —  LR: 0.000537\n",
            "Epoch 6/10  —  LR: 0.000537\n",
            "Epoch 7/10  —  LR: 0.000537\n",
            "Epoch 8/10  —  LR: 0.000268\n",
            "Epoch 9/10  —  LR: 0.000268\n",
            "Epoch 10/10  —  LR: 0.000134\n"
          ]
        },
        {
          "output_type": "stream",
          "name": "stderr",
          "text": [
            "[I 2025-05-25 11:27:56,804] Trial 46 finished with value: 0.6285201208064648 and parameters: {'features': 'all_numeric', 'win_len': 120, 'stride': 10, 'hidden': 64, 'layers': 2, 'drop': 0.2, 'lr': 0.0010736319960163335}. Best is trial 12 with value: 0.6657415721165619.\n"
          ]
        },
        {
          "output_type": "stream",
          "name": "stdout",
          "text": [
            "---- Trial #47  --  started ----------------------------\n",
            "Using features: baseline, win_len: 120, stride: 20, hidden: 256, layers: 1, drop: 0.0, lr: 0.003911251841811695\n",
            "Epoch 1/10  —  LR: 0.003911\n",
            "Epoch 2/10  —  LR: 0.003911\n",
            "Epoch 3/10  —  LR: 0.003911\n"
          ]
        },
        {
          "output_type": "stream",
          "name": "stderr",
          "text": [
            "[I 2025-05-25 11:28:15,256] Trial 47 pruned. \n"
          ]
        },
        {
          "output_type": "stream",
          "name": "stdout",
          "text": [
            "Trial pruned at epoch 3, recall: 0.5013059092393078\n",
            "Trial #47 failed with error: \n",
            "---- Trial #48  --  started ----------------------------\n",
            "Using features: all_numeric, win_len: 60, stride: 10, hidden: 128, layers: 2, drop: 0.4, lr: 0.0027975587987396776\n",
            "Epoch 1/10  —  LR: 0.002798\n",
            "Epoch 2/10  —  LR: 0.002798\n",
            "Epoch 3/10  —  LR: 0.002798\n",
            "Epoch 4/10  —  LR: 0.002798\n",
            "Epoch 5/10  —  LR: 0.002798\n",
            "Epoch 6/10  —  LR: 0.001399\n",
            "Epoch 7/10  —  LR: 0.001399\n",
            "Epoch 8/10  —  LR: 0.000699\n",
            "Epoch 9/10  —  LR: 0.000699\n",
            "Epoch 10/10  —  LR: 0.000350\n"
          ]
        },
        {
          "output_type": "stream",
          "name": "stderr",
          "text": [
            "[I 2025-05-25 11:29:40,742] Trial 48 finished with value: 0.6022053982883476 and parameters: {'features': 'all_numeric', 'win_len': 60, 'stride': 10, 'hidden': 128, 'layers': 2, 'drop': 0.4, 'lr': 0.0027975587987396776}. Best is trial 12 with value: 0.6657415721165619.\n"
          ]
        },
        {
          "output_type": "stream",
          "name": "stdout",
          "text": [
            "---- Trial #49  --  started ----------------------------\n",
            "Using features: all_numeric, win_len: 120, stride: 10, hidden: 256, layers: 2, drop: 0.1, lr: 0.0021302155460432006\n",
            "Epoch 1/10  —  LR: 0.002130\n",
            "Epoch 2/10  —  LR: 0.002130\n",
            "Epoch 3/10  —  LR: 0.002130\n",
            "Epoch 4/10  —  LR: 0.002130\n",
            "Epoch 5/10  —  LR: 0.002130\n",
            "Epoch 6/10  —  LR: 0.002130\n",
            "Epoch 7/10  —  LR: 0.002130\n",
            "Epoch 8/10  —  LR: 0.001065\n",
            "Epoch 9/10  —  LR: 0.001065\n",
            "Epoch 10/10  —  LR: 0.001065\n"
          ]
        },
        {
          "output_type": "stream",
          "name": "stderr",
          "text": [
            "[I 2025-05-25 11:32:57,410] Trial 49 finished with value: 0.6447636927597747 and parameters: {'features': 'all_numeric', 'win_len': 120, 'stride': 10, 'hidden': 256, 'layers': 2, 'drop': 0.1, 'lr': 0.0021302155460432006}. Best is trial 12 with value: 0.6657415721165619.\n"
          ]
        },
        {
          "output_type": "stream",
          "name": "stdout",
          "text": [
            "---- Trial #50  --  started ----------------------------\n",
            "Using features: gru_delta, win_len: 30, stride: 20, hidden: 256, layers: 2, drop: 0.30000000000000004, lr: 0.002214008490351387\n",
            "Epoch 1/10  —  LR: 0.002214\n",
            "Epoch 2/10  —  LR: 0.002214\n",
            "Epoch 3/10  —  LR: 0.002214\n"
          ]
        },
        {
          "output_type": "stream",
          "name": "stderr",
          "text": [
            "[I 2025-05-25 11:33:12,075] Trial 50 pruned. \n"
          ]
        },
        {
          "output_type": "stream",
          "name": "stdout",
          "text": [
            "Trial pruned at epoch 3, recall: 0.4256232458312696\n",
            "Trial #50 failed with error: \n",
            "---- Trial #51  --  started ----------------------------\n",
            "Using features: all_numeric, win_len: 120, stride: 10, hidden: 256, layers: 2, drop: 0.1, lr: 0.0014625700954682267\n",
            "Epoch 1/10  —  LR: 0.001463\n",
            "Epoch 2/10  —  LR: 0.001463\n",
            "Epoch 3/10  —  LR: 0.001463\n",
            "Epoch 4/10  —  LR: 0.001463\n",
            "Epoch 5/10  —  LR: 0.001463\n",
            "Epoch 6/10  —  LR: 0.000731\n",
            "Epoch 7/10  —  LR: 0.000731\n",
            "Epoch 8/10  —  LR: 0.000366\n",
            "Epoch 9/10  —  LR: 0.000366\n",
            "Epoch 10/10  —  LR: 0.000183\n"
          ]
        },
        {
          "output_type": "stream",
          "name": "stderr",
          "text": [
            "[I 2025-05-25 11:36:28,515] Trial 51 finished with value: 0.6411721492123093 and parameters: {'features': 'all_numeric', 'win_len': 120, 'stride': 10, 'hidden': 256, 'layers': 2, 'drop': 0.1, 'lr': 0.0014625700954682267}. Best is trial 12 with value: 0.6657415721165619.\n"
          ]
        },
        {
          "output_type": "stream",
          "name": "stdout",
          "text": [
            "---- Trial #52  --  started ----------------------------\n",
            "Using features: all_numeric, win_len: 120, stride: 10, hidden: 256, layers: 2, drop: 0.1, lr: 0.0013065069425644792\n",
            "Epoch 1/10  —  LR: 0.001307\n",
            "Epoch 2/10  —  LR: 0.001307\n",
            "Epoch 3/10  —  LR: 0.001307\n",
            "Epoch 4/10  —  LR: 0.000653\n",
            "Epoch 5/10  —  LR: 0.000653\n",
            "Epoch 6/10  —  LR: 0.000327\n",
            "Epoch 7/10  —  LR: 0.000327\n",
            "Epoch 8/10  —  LR: 0.000163\n",
            "Epoch 9/10  —  LR: 0.000163\n",
            "Epoch 10/10  —  LR: 0.000163\n"
          ]
        },
        {
          "output_type": "stream",
          "name": "stderr",
          "text": [
            "[I 2025-05-25 11:39:43,475] Trial 52 finished with value: 0.6174189862052077 and parameters: {'features': 'all_numeric', 'win_len': 120, 'stride': 10, 'hidden': 256, 'layers': 2, 'drop': 0.1, 'lr': 0.0013065069425644792}. Best is trial 12 with value: 0.6657415721165619.\n"
          ]
        },
        {
          "output_type": "stream",
          "name": "stdout",
          "text": [
            "---- Trial #53  --  started ----------------------------\n",
            "Using features: all_numeric, win_len: 120, stride: 10, hidden: 256, layers: 2, drop: 0.0, lr: 0.0017171718896724947\n",
            "Epoch 1/10  —  LR: 0.001717\n",
            "Epoch 2/10  —  LR: 0.001717\n",
            "Epoch 3/10  —  LR: 0.001717\n",
            "Epoch 4/10  —  LR: 0.001717\n",
            "Epoch 5/10  —  LR: 0.000859\n",
            "Epoch 6/10  —  LR: 0.000859\n",
            "Epoch 7/10  —  LR: 0.000859\n",
            "Epoch 8/10  —  LR: 0.000859\n",
            "Epoch 9/10  —  LR: 0.000859\n",
            "Epoch 10/10  —  LR: 0.000859\n"
          ]
        },
        {
          "output_type": "stream",
          "name": "stderr",
          "text": [
            "[I 2025-05-25 11:42:50,270] Trial 53 finished with value: 0.6244388213207085 and parameters: {'features': 'all_numeric', 'win_len': 120, 'stride': 10, 'hidden': 256, 'layers': 2, 'drop': 0.0, 'lr': 0.0017171718896724947}. Best is trial 12 with value: 0.6657415721165619.\n"
          ]
        },
        {
          "output_type": "stream",
          "name": "stdout",
          "text": [
            "---- Trial #54  --  started ----------------------------\n",
            "Using features: all_numeric, win_len: 120, stride: 10, hidden: 256, layers: 2, drop: 0.1, lr: 0.001483850624618329\n",
            "Epoch 1/10  —  LR: 0.001484\n",
            "Epoch 2/10  —  LR: 0.001484\n",
            "Epoch 3/10  —  LR: 0.001484\n",
            "Epoch 4/10  —  LR: 0.000742\n",
            "Epoch 5/10  —  LR: 0.000742\n",
            "Epoch 6/10  —  LR: 0.000742\n",
            "Epoch 7/10  —  LR: 0.000371\n",
            "Epoch 8/10  —  LR: 0.000371\n",
            "Epoch 9/10  —  LR: 0.000371\n",
            "Epoch 10/10  —  LR: 0.000185\n"
          ]
        },
        {
          "output_type": "stream",
          "name": "stderr",
          "text": [
            "[I 2025-05-25 11:46:04,295] Trial 54 finished with value: 0.6513753979266999 and parameters: {'features': 'all_numeric', 'win_len': 120, 'stride': 10, 'hidden': 256, 'layers': 2, 'drop': 0.1, 'lr': 0.001483850624618329}. Best is trial 12 with value: 0.6657415721165619.\n"
          ]
        },
        {
          "output_type": "stream",
          "name": "stdout",
          "text": [
            "---- Trial #55  --  started ----------------------------\n",
            "Using features: baseline, win_len: 120, stride: 10, hidden: 256, layers: 2, drop: 0.1, lr: 0.0007394482438279211\n",
            "Epoch 1/10  —  LR: 0.000739\n",
            "Epoch 2/10  —  LR: 0.000739\n",
            "Epoch 3/10  —  LR: 0.000739\n",
            "Epoch 4/10  —  LR: 0.000370\n",
            "Epoch 5/10  —  LR: 0.000370\n",
            "Epoch 6/10  —  LR: 0.000185\n",
            "Epoch 7/10  —  LR: 0.000185\n",
            "Epoch 8/10  —  LR: 0.000092\n",
            "Epoch 9/10  —  LR: 0.000092\n",
            "Epoch 10/10  —  LR: 0.000046\n"
          ]
        },
        {
          "output_type": "stream",
          "name": "stderr",
          "text": [
            "[I 2025-05-25 11:49:10,296] Trial 55 finished with value: 0.62541833319729 and parameters: {'features': 'baseline', 'win_len': 120, 'stride': 10, 'hidden': 256, 'layers': 2, 'drop': 0.1, 'lr': 0.0007394482438279211}. Best is trial 12 with value: 0.6657415721165619.\n"
          ]
        },
        {
          "output_type": "stream",
          "name": "stdout",
          "text": [
            "---- Trial #56  --  started ----------------------------\n",
            "Using features: all_numeric, win_len: 120, stride: 10, hidden: 256, layers: 2, drop: 0.0, lr: 0.0015029633824819894\n",
            "Epoch 1/10  —  LR: 0.001503\n",
            "Epoch 2/10  —  LR: 0.001503\n",
            "Epoch 3/10  —  LR: 0.001503\n",
            "Epoch 4/10  —  LR: 0.000751\n",
            "Epoch 5/10  —  LR: 0.000751\n",
            "Epoch 6/10  —  LR: 0.000376\n",
            "Epoch 7/10  —  LR: 0.000376\n",
            "Epoch 8/10  —  LR: 0.000188\n",
            "Epoch 9/10  —  LR: 0.000188\n",
            "Epoch 10/10  —  LR: 0.000188\n"
          ]
        },
        {
          "output_type": "stream",
          "name": "stderr",
          "text": [
            "[I 2025-05-25 11:52:17,880] Trial 56 finished with value: 0.6077871194188229 and parameters: {'features': 'all_numeric', 'win_len': 120, 'stride': 10, 'hidden': 256, 'layers': 2, 'drop': 0.0, 'lr': 0.0015029633824819894}. Best is trial 12 with value: 0.6657415721165619.\n"
          ]
        },
        {
          "output_type": "stream",
          "name": "stdout",
          "text": [
            "---- Trial #57  --  started ----------------------------\n",
            "Using features: all_numeric, win_len: 120, stride: 10, hidden: 256, layers: 2, drop: 0.4, lr: 0.0010060209773051524\n",
            "Epoch 1/10  —  LR: 0.001006\n",
            "Epoch 2/10  —  LR: 0.001006\n",
            "Epoch 3/10  —  LR: 0.001006\n",
            "Epoch 4/10  —  LR: 0.001006\n",
            "Epoch 5/10  —  LR: 0.000503\n"
          ]
        },
        {
          "output_type": "stream",
          "name": "stderr",
          "text": [
            "[I 2025-05-25 11:53:55,743] Trial 57 pruned. \n"
          ]
        },
        {
          "output_type": "stream",
          "name": "stdout",
          "text": [
            "Trial pruned at epoch 5, recall: 0.6005224063341768\n",
            "Trial #57 failed with error: \n",
            "---- Trial #58  --  started ----------------------------\n",
            "Using features: all_numeric, win_len: 120, stride: 10, hidden: 256, layers: 2, drop: 0.1, lr: 0.0012209990834780129\n",
            "Epoch 1/10  —  LR: 0.001221\n",
            "Epoch 2/10  —  LR: 0.001221\n",
            "Epoch 3/10  —  LR: 0.001221\n",
            "Epoch 4/10  —  LR: 0.001221\n",
            "Epoch 5/10  —  LR: 0.001221\n",
            "Epoch 6/10  —  LR: 0.001221\n",
            "Epoch 7/10  —  LR: 0.000610\n",
            "Epoch 8/10  —  LR: 0.000610\n",
            "Epoch 9/10  —  LR: 0.000305\n",
            "Epoch 10/10  —  LR: 0.000305\n"
          ]
        },
        {
          "output_type": "stream",
          "name": "stderr",
          "text": [
            "[I 2025-05-25 11:57:12,706] Trial 58 finished with value: 0.6081952493673985 and parameters: {'features': 'all_numeric', 'win_len': 120, 'stride': 10, 'hidden': 256, 'layers': 2, 'drop': 0.1, 'lr': 0.0012209990834780129}. Best is trial 12 with value: 0.6657415721165619.\n"
          ]
        },
        {
          "output_type": "stream",
          "name": "stdout",
          "text": [
            "---- Trial #59  --  started ----------------------------\n",
            "Using features: all_numeric, win_len: 120, stride: 10, hidden: 256, layers: 2, drop: 0.1, lr: 0.0018896684365266965\n",
            "Epoch 1/10  —  LR: 0.001890\n",
            "Epoch 2/10  —  LR: 0.001890\n",
            "Epoch 3/10  —  LR: 0.001890\n",
            "Epoch 4/10  —  LR: 0.001890\n",
            "Epoch 5/10  —  LR: 0.001890\n",
            "Epoch 6/10  —  LR: 0.000945\n",
            "Epoch 7/10  —  LR: 0.000945\n",
            "Epoch 8/10  —  LR: 0.000472\n",
            "Epoch 9/10  —  LR: 0.000472\n",
            "Epoch 10/10  —  LR: 0.000236\n"
          ]
        },
        {
          "output_type": "stream",
          "name": "stderr",
          "text": [
            "[I 2025-05-25 12:00:27,986] Trial 59 finished with value: 0.6427230430168965 and parameters: {'features': 'all_numeric', 'win_len': 120, 'stride': 10, 'hidden': 256, 'layers': 2, 'drop': 0.1, 'lr': 0.0018896684365266965}. Best is trial 12 with value: 0.6657415721165619.\n"
          ]
        },
        {
          "output_type": "stream",
          "name": "stdout",
          "text": [
            "---- Trial #60  --  started ----------------------------\n",
            "Using features: all_numeric, win_len: 120, stride: 10, hidden: 256, layers: 2, drop: 0.2, lr: 0.0020409083927332293\n",
            "Epoch 1/10  —  LR: 0.002041\n",
            "Epoch 2/10  —  LR: 0.002041\n",
            "Epoch 3/10  —  LR: 0.002041\n",
            "Epoch 4/10  —  LR: 0.002041\n",
            "Epoch 5/10  —  LR: 0.002041\n",
            "Epoch 6/10  —  LR: 0.001020\n",
            "Epoch 7/10  —  LR: 0.001020\n",
            "Epoch 8/10  —  LR: 0.000510\n",
            "Epoch 9/10  —  LR: 0.000510\n",
            "Epoch 10/10  —  LR: 0.000255\n"
          ]
        },
        {
          "output_type": "stream",
          "name": "stderr",
          "text": [
            "[I 2025-05-25 12:03:42,146] Trial 60 finished with value: 0.6383968655619949 and parameters: {'features': 'all_numeric', 'win_len': 120, 'stride': 10, 'hidden': 256, 'layers': 2, 'drop': 0.2, 'lr': 0.0020409083927332293}. Best is trial 12 with value: 0.6657415721165619.\n"
          ]
        },
        {
          "output_type": "stream",
          "name": "stdout",
          "text": [
            "---- Trial #61  --  started ----------------------------\n",
            "Using features: all_numeric, win_len: 120, stride: 10, hidden: 256, layers: 2, drop: 0.1, lr: 0.0014494423241898924\n",
            "Epoch 1/10  —  LR: 0.001449\n",
            "Epoch 2/10  —  LR: 0.001449\n",
            "Epoch 3/10  —  LR: 0.001449\n",
            "Epoch 4/10  —  LR: 0.001449\n",
            "Epoch 5/10  —  LR: 0.000725\n",
            "Epoch 6/10  —  LR: 0.000725\n",
            "Epoch 7/10  —  LR: 0.000362\n",
            "Epoch 8/10  —  LR: 0.000362\n",
            "Epoch 9/10  —  LR: 0.000181\n",
            "Epoch 10/10  —  LR: 0.000181\n"
          ]
        },
        {
          "output_type": "stream",
          "name": "stderr",
          "text": [
            "[I 2025-05-25 12:06:56,478] Trial 61 finished with value: 0.6222349195984002 and parameters: {'features': 'all_numeric', 'win_len': 120, 'stride': 10, 'hidden': 256, 'layers': 2, 'drop': 0.1, 'lr': 0.0014494423241898924}. Best is trial 12 with value: 0.6657415721165619.\n"
          ]
        },
        {
          "output_type": "stream",
          "name": "stdout",
          "text": [
            "---- Trial #62  --  started ----------------------------\n",
            "Using features: all_numeric, win_len: 120, stride: 10, hidden: 256, layers: 2, drop: 0.1, lr: 0.0018204899603906958\n",
            "Epoch 1/10  —  LR: 0.001820\n",
            "Epoch 2/10  —  LR: 0.001820\n",
            "Epoch 3/10  —  LR: 0.001820\n",
            "Epoch 4/10  —  LR: 0.001820\n",
            "Epoch 5/10  —  LR: 0.001820\n",
            "Epoch 6/10  —  LR: 0.001820\n",
            "Epoch 7/10  —  LR: 0.000910\n",
            "Epoch 8/10  —  LR: 0.000910\n",
            "Epoch 9/10  —  LR: 0.000455\n",
            "Epoch 10/10  —  LR: 0.000455\n"
          ]
        },
        {
          "output_type": "stream",
          "name": "stderr",
          "text": [
            "[I 2025-05-25 12:10:10,487] Trial 62 finished with value: 0.5952983429924088 and parameters: {'features': 'all_numeric', 'win_len': 120, 'stride': 10, 'hidden': 256, 'layers': 2, 'drop': 0.1, 'lr': 0.0018204899603906958}. Best is trial 12 with value: 0.6657415721165619.\n"
          ]
        },
        {
          "output_type": "stream",
          "name": "stdout",
          "text": [
            "---- Trial #63  --  started ----------------------------\n",
            "Using features: all_numeric, win_len: 120, stride: 10, hidden: 256, layers: 2, drop: 0.1, lr: 0.0013857138922113738\n",
            "Epoch 1/10  —  LR: 0.001386\n",
            "Epoch 2/10  —  LR: 0.001386\n",
            "Epoch 3/10  —  LR: 0.001386\n",
            "Epoch 4/10  —  LR: 0.001386\n",
            "Epoch 5/10  —  LR: 0.001386\n",
            "Epoch 6/10  —  LR: 0.000693\n",
            "Epoch 7/10  —  LR: 0.000693\n",
            "Epoch 8/10  —  LR: 0.000346\n",
            "Epoch 9/10  —  LR: 0.000346\n",
            "Epoch 10/10  —  LR: 0.000173\n"
          ]
        },
        {
          "output_type": "stream",
          "name": "stderr",
          "text": [
            "[I 2025-05-25 12:13:24,164] Trial 63 finished with value: 0.5782385111419476 and parameters: {'features': 'all_numeric', 'win_len': 120, 'stride': 10, 'hidden': 256, 'layers': 2, 'drop': 0.1, 'lr': 0.0013857138922113738}. Best is trial 12 with value: 0.6657415721165619.\n"
          ]
        },
        {
          "output_type": "stream",
          "name": "stdout",
          "text": [
            "---- Trial #64  --  started ----------------------------\n",
            "Using features: all_numeric, win_len: 120, stride: 10, hidden: 256, layers: 2, drop: 0.2, lr: 0.0009566787530669579\n",
            "Epoch 1/10  —  LR: 0.000957\n",
            "Epoch 2/10  —  LR: 0.000957\n",
            "Epoch 3/10  —  LR: 0.000957\n",
            "Epoch 4/10  —  LR: 0.000957\n",
            "Epoch 5/10  —  LR: 0.000957\n",
            "Epoch 6/10  —  LR: 0.000478\n",
            "Epoch 7/10  —  LR: 0.000478\n",
            "Epoch 8/10  —  LR: 0.000239\n",
            "Epoch 9/10  —  LR: 0.000239\n",
            "Epoch 10/10  —  LR: 0.000120\n"
          ]
        },
        {
          "output_type": "stream",
          "name": "stderr",
          "text": [
            "[I 2025-05-25 12:16:38,422] Trial 64 finished with value: 0.6206023998040976 and parameters: {'features': 'all_numeric', 'win_len': 120, 'stride': 10, 'hidden': 256, 'layers': 2, 'drop': 0.2, 'lr': 0.0009566787530669579}. Best is trial 12 with value: 0.6657415721165619.\n"
          ]
        },
        {
          "output_type": "stream",
          "name": "stdout",
          "text": [
            "---- Trial #65  --  started ----------------------------\n",
            "Using features: all_numeric, win_len: 120, stride: 10, hidden: 256, layers: 2, drop: 0.1, lr: 0.0016608188253633524\n",
            "Epoch 1/10  —  LR: 0.001661\n",
            "Epoch 2/10  —  LR: 0.001661\n",
            "Epoch 3/10  —  LR: 0.001661\n",
            "Epoch 4/10  —  LR: 0.001661\n",
            "Epoch 5/10  —  LR: 0.000830\n",
            "Epoch 6/10  —  LR: 0.000830\n",
            "Epoch 7/10  —  LR: 0.000830\n",
            "Epoch 8/10  —  LR: 0.000830\n",
            "Epoch 9/10  —  LR: 0.000830\n",
            "Epoch 10/10  —  LR: 0.000830\n"
          ]
        },
        {
          "output_type": "stream",
          "name": "stderr",
          "text": [
            "[I 2025-05-25 12:19:52,402] Trial 65 finished with value: 0.6394580034282916 and parameters: {'features': 'all_numeric', 'win_len': 120, 'stride': 10, 'hidden': 256, 'layers': 2, 'drop': 0.1, 'lr': 0.0016608188253633524}. Best is trial 12 with value: 0.6657415721165619.\n"
          ]
        },
        {
          "output_type": "stream",
          "name": "stdout",
          "text": [
            "---- Trial #66  --  started ----------------------------\n",
            "Using features: all_numeric, win_len: 120, stride: 10, hidden: 256, layers: 2, drop: 0.2, lr: 0.0011517867286366399\n",
            "Epoch 1/10  —  LR: 0.001152\n",
            "Epoch 2/10  —  LR: 0.001152\n",
            "Epoch 3/10  —  LR: 0.001152\n",
            "Epoch 4/10  —  LR: 0.001152\n",
            "Epoch 5/10  —  LR: 0.001152\n",
            "Epoch 6/10  —  LR: 0.001152\n",
            "Epoch 7/10  —  LR: 0.001152\n",
            "Epoch 8/10  —  LR: 0.000576\n",
            "Epoch 9/10  —  LR: 0.000576\n",
            "Epoch 10/10  —  LR: 0.000288\n"
          ]
        },
        {
          "output_type": "stream",
          "name": "stderr",
          "text": [
            "[I 2025-05-25 12:23:06,200] Trial 66 finished with value: 0.6480287323483798 and parameters: {'features': 'all_numeric', 'win_len': 120, 'stride': 10, 'hidden': 256, 'layers': 2, 'drop': 0.2, 'lr': 0.0011517867286366399}. Best is trial 12 with value: 0.6657415721165619.\n"
          ]
        },
        {
          "output_type": "stream",
          "name": "stdout",
          "text": [
            "---- Trial #67  --  started ----------------------------\n",
            "Using features: all_numeric, win_len: 120, stride: 10, hidden: 256, layers: 2, drop: 0.2, lr: 0.001131941376325844\n",
            "Epoch 1/10  —  LR: 0.001132\n",
            "Epoch 2/10  —  LR: 0.001132\n",
            "Epoch 3/10  —  LR: 0.001132\n",
            "Epoch 4/10  —  LR: 0.001132\n",
            "Epoch 5/10  —  LR: 0.001132\n",
            "Epoch 6/10  —  LR: 0.000566\n",
            "Epoch 7/10  —  LR: 0.000566\n",
            "Epoch 8/10  —  LR: 0.000283\n",
            "Epoch 9/10  —  LR: 0.000283\n",
            "Epoch 10/10  —  LR: 0.000141\n"
          ]
        },
        {
          "output_type": "stream",
          "name": "stderr",
          "text": [
            "[I 2025-05-25 12:26:19,915] Trial 67 finished with value: 0.605909721655375 and parameters: {'features': 'all_numeric', 'win_len': 120, 'stride': 10, 'hidden': 256, 'layers': 2, 'drop': 0.2, 'lr': 0.001131941376325844}. Best is trial 12 with value: 0.6657415721165619.\n"
          ]
        },
        {
          "output_type": "stream",
          "name": "stdout",
          "text": [
            "---- Trial #68  --  started ----------------------------\n",
            "Using features: baseline, win_len: 120, stride: 10, hidden: 256, layers: 2, drop: 0.2, lr: 0.0007819223975817528\n",
            "Epoch 1/10  —  LR: 0.000782\n",
            "Epoch 2/10  —  LR: 0.000782\n",
            "Epoch 3/10  —  LR: 0.000782\n",
            "Epoch 4/10  —  LR: 0.000782\n",
            "Epoch 5/10  —  LR: 0.000782\n",
            "Epoch 6/10  —  LR: 0.000782\n",
            "Epoch 7/10  —  LR: 0.000391\n",
            "Epoch 8/10  —  LR: 0.000391\n",
            "Epoch 9/10  —  LR: 0.000391\n",
            "Epoch 10/10  —  LR: 0.000391\n"
          ]
        },
        {
          "output_type": "stream",
          "name": "stderr",
          "text": [
            "[I 2025-05-25 12:29:24,984] Trial 68 finished with value: 0.5899110276712105 and parameters: {'features': 'baseline', 'win_len': 120, 'stride': 10, 'hidden': 256, 'layers': 2, 'drop': 0.2, 'lr': 0.0007819223975817528}. Best is trial 12 with value: 0.6657415721165619.\n"
          ]
        },
        {
          "output_type": "stream",
          "name": "stdout",
          "text": [
            "---- Trial #69  --  started ----------------------------\n",
            "Using features: all_numeric, win_len: 60, stride: 20, hidden: 256, layers: 2, drop: 0.2, lr: 0.0005620885256462703\n",
            "Epoch 1/10  —  LR: 0.000562\n",
            "Epoch 2/10  —  LR: 0.000562\n",
            "Epoch 3/10  —  LR: 0.000562\n",
            "Epoch 4/10  —  LR: 0.000562\n",
            "Epoch 5/10  —  LR: 0.000562\n",
            "Epoch 6/10  —  LR: 0.000562\n",
            "Epoch 7/10  —  LR: 0.000281\n",
            "Epoch 8/10  —  LR: 0.000281\n",
            "Epoch 9/10  —  LR: 0.000281\n",
            "Epoch 10/10  —  LR: 0.000281\n"
          ]
        },
        {
          "output_type": "stream",
          "name": "stderr",
          "text": [
            "[I 2025-05-25 12:30:30,342] Trial 69 finished with value: 0.6228402172124403 and parameters: {'features': 'all_numeric', 'win_len': 60, 'stride': 20, 'hidden': 256, 'layers': 2, 'drop': 0.2, 'lr': 0.0005620885256462703}. Best is trial 12 with value: 0.6657415721165619.\n"
          ]
        },
        {
          "output_type": "stream",
          "name": "stdout",
          "text": [
            "---- Trial #70  --  started ----------------------------\n",
            "Using features: gru_delta, win_len: 30, stride: 10, hidden: 64, layers: 3, drop: 0.30000000000000004, lr: 0.002191670198192978\n",
            "Epoch 1/10  —  LR: 0.002192\n",
            "Epoch 2/10  —  LR: 0.002192\n",
            "Epoch 3/10  —  LR: 0.002192\n"
          ]
        },
        {
          "output_type": "stream",
          "name": "stderr",
          "text": [
            "[I 2025-05-25 12:30:52,786] Trial 70 pruned. \n"
          ]
        },
        {
          "output_type": "stream",
          "name": "stdout",
          "text": [
            "Trial pruned at epoch 3, recall: 0.4602099000082638\n",
            "Trial #70 failed with error: \n",
            "---- Trial #71  --  started ----------------------------\n",
            "Using features: all_numeric, win_len: 120, stride: 10, hidden: 256, layers: 2, drop: 0.1, lr: 0.001544711461725579\n",
            "Epoch 1/10  —  LR: 0.001545\n",
            "Epoch 2/10  —  LR: 0.001545\n",
            "Epoch 3/10  —  LR: 0.001545\n"
          ]
        },
        {
          "output_type": "stream",
          "name": "stderr",
          "text": [
            "[I 2025-05-25 12:31:51,231] Trial 71 pruned. \n"
          ]
        },
        {
          "output_type": "stream",
          "name": "stdout",
          "text": [
            "Trial pruned at epoch 3, recall: 0.5561994939188638\n",
            "Trial #71 failed with error: \n",
            "Best recall: 0.6657415721165619\n",
            "Best params: {'features': 'all_numeric', 'win_len': 120, 'stride': 10, 'hidden': 256, 'layers': 2, 'drop': 0.4, 'lr': 0.0014661187675270907}\n"
          ]
        }
      ],
      "source": [
        "import optuna\n",
        "\n",
        "TRIALS = 72\n",
        "\n",
        "optuna.logging.set_verbosity(optuna.logging.DEBUG)\n",
        "\n",
        "\n",
        "# DB = \"sqlite:///gru_hpo.db\"\n",
        "DB = f\"sqlite:///{DRIVE_PROJECT}/gru_hpo_recall.db\"\n",
        "\n",
        "study = optuna.create_study(\n",
        "    study_name=\"gru_hpo_recall\",\n",
        "    direction=\"maximize\",\n",
        "    storage=DB,\n",
        "    load_if_exists=True,\n",
        "    pruner=optuna.pruners.MedianPruner(n_startup_trials=5, n_warmup_steps=3),\n",
        ")\n",
        "\n",
        "\n",
        "study.optimize(objective, n_trials=TRIALS)\n",
        "\n",
        "\n",
        "print(\"Best recall:\", study.best_value)\n",
        "print(\"Best params:\", study.best_params)"
      ]
    },
    {
      "cell_type": "markdown",
      "metadata": {
        "id": "Jv3dnqO09KF6"
      },
      "source": [
        "  ## 3.  Retrieve and plot curves for the winning trial"
      ]
    },
    {
      "cell_type": "code",
      "execution_count": 17,
      "metadata": {
        "colab": {
          "base_uri": "https://localhost:8080/"
        },
        "id": "9IDtrmFY9KF6",
        "outputId": "3af0fd30-fb68-473d-90a1-80aa8d62792c"
      },
      "outputs": [
        {
          "output_type": "stream",
          "name": "stdout",
          "text": [
            "Trials recorded so far: 72\n"
          ]
        }
      ],
      "source": [
        "print(\"Trials recorded so far:\", len(study.trials))"
      ]
    },
    {
      "cell_type": "code",
      "execution_count": 18,
      "metadata": {
        "colab": {
          "base_uri": "https://localhost:8080/"
        },
        "id": "7X1kQ5Qj9KF6",
        "outputId": "c3524372-80a0-4cde-fae1-f715375ef1f6"
      },
      "outputs": [
        {
          "output_type": "stream",
          "name": "stdout",
          "text": [
            "Trial #0 failed.\n",
            "  params : {'features': 'gru_delta', 'win_len': 30, 'stride': 20, 'hidden': 256, 'layers': 3, 'drop': 0.2, 'lr': 0.00022201639415028723}\n",
            "  system attrs: {}\n",
            "  user attrs: {'ckpt': '/content/drive/My Drive/Project 3/gru_ckpts_recall/trial_0.pt', 'features': 'gru_delta', 'lr_curve': [0.00022201639415028723, 0.00022201639415028723, 0.00022201639415028723, 0.00022201639415028723, 0.00022201639415028723, 0.00022201639415028723, 0.00022201639415028723, 0.00011100819707514362, 0.00011100819707514362, 5.550409853757181e-05], 'stride': 20, 'train_loss_curve': [0.4774733641098418, 0.45172077012120876, 0.43488320253862484, 0.41336967478817943, 0.38964655316852026, 0.3637731330328625, 0.3347104390003273, 0.29276043335926605, 0.27053735560116726, 0.2424096125210478], 'val_recall_curve': [0.4271091299323097, 0.4338781575037147, 0.4180287270926201, 0.4444444444444444, 0.4639260359914149, 0.45055307908205383, 0.43569423807165264, 0.4558362225524187, 0.4574872048869077, 0.4452699356116889], 'win_len': 30}\n",
            "Trial #1 failed.\n",
            "  params : {'features': 'baseline', 'win_len': 60, 'stride': 20, 'hidden': 64, 'layers': 1, 'drop': 0.0, 'lr': 0.00028575285639154916}\n",
            "  system attrs: {}\n",
            "  user attrs: {'ckpt': '/content/drive/My Drive/Project 3/gru_ckpts_recall/trial_1.pt', 'features': 'baseline', 'lr_curve': [0.00028575285639154916, 0.00028575285639154916, 0.00028575285639154916, 0.00028575285639154916, 0.00028575285639154916, 0.00028575285639154916, 0.00028575285639154916, 0.00014287642819577458, 0.00014287642819577458, 7.143821409788729e-05], 'stride': 20, 'train_loss_curve': [0.4703919497550115, 0.42983704158007185, 0.41933383868943325, 0.41244270738791067, 0.4057579609258152, 0.4016992353041289, 0.39826381191942184, 0.3938261158014661, 0.3910814816732332, 0.38833594486949563], 'val_recall_curve': [0.4043113378311667, 0.4454500575942077, 0.49201908836597, 0.4808293565904229, 0.49876583840710875, 0.47704459437222313, 0.48231035050189236, 0.47704459437222313, 0.4786901431627448, 0.4816521309856837], 'win_len': 60}\n",
            "Trial #2 failed.\n",
            "  params : {'features': 'gru_delta', 'win_len': 30, 'stride': 20, 'hidden': 256, 'layers': 3, 'drop': 0.2, 'lr': 0.0006517874081121625}\n",
            "  system attrs: {}\n",
            "  user attrs: {'ckpt': '/content/drive/My Drive/Project 3/gru_ckpts_recall/trial_2.pt', 'features': 'gru_delta', 'lr_curve': [0.0006517874081121625, 0.0006517874081121625, 0.0006517874081121625, 0.0006517874081121625, 0.00032589370405608124, 0.00032589370405608124, 0.00032589370405608124, 0.00032589370405608124, 0.00032589370405608124, 0.00016294685202804062], 'stride': 20, 'train_loss_curve': [0.46925418947618347, 0.43570458270407236, 0.39380346698780494, 0.3439358417332219, 0.26827139752024326, 0.22386622496304698, 0.18900920860117498, 0.16601072110718412, 0.14945305717168555, 0.11540127161972963], 'val_recall_curve': [0.4594683836882945, 0.52781905233614, 0.5152715865940234, 0.48604919927356777, 0.5213802212316329, 0.5296351329040779, 0.5410269110120521, 0.49876176324913324, 0.521050024764735, 0.5118045236915965], 'win_len': 30}\n",
            "Trial #3 failed.\n",
            "  params : {'features': 'baseline', 'win_len': 60, 'stride': 20, 'hidden': 128, 'layers': 2, 'drop': 0.30000000000000004, 'lr': 0.00013498658954868745}\n",
            "  system attrs: {}\n",
            "  user attrs: {'ckpt': '/content/drive/My Drive/Project 3/gru_ckpts_recall/trial_3.pt', 'features': 'baseline', 'lr_curve': [0.00013498658954868745, 0.00013498658954868745, 0.00013498658954868745, 0.00013498658954868745, 0.00013498658954868745, 0.00013498658954868745, 0.00013498658954868745, 6.749329477434373e-05, 6.749329477434373e-05, 6.749329477434373e-05], 'stride': 20, 'train_loss_curve': [0.47165621530557417, 0.4363805788300637, 0.4215239069152673, 0.4144467066974124, 0.4090731376758279, 0.4055862524162196, 0.4019384326335847, 0.39699735980202083, 0.3948975655895082, 0.39296568568579304], 'val_recall_curve': [0.40513411222642753, 0.4609182162251111, 0.4661839723547803, 0.4449563929570512, 0.5004113871976305, 0.47605726509791013, 0.4803356919532664, 0.4918545334869179, 0.5041961494158301, 0.49646207010037846], 'win_len': 60}\n",
            "Trial #4 failed.\n",
            "  params : {'features': 'gru_delta', 'win_len': 60, 'stride': 20, 'hidden': 128, 'layers': 1, 'drop': 0.0, 'lr': 0.0005335499128243722}\n",
            "  system attrs: {}\n",
            "  user attrs: {'ckpt': '/content/drive/My Drive/Project 3/gru_ckpts_recall/trial_4.pt', 'features': 'gru_delta', 'lr_curve': [0.0005335499128243722, 0.0005335499128243722, 0.0005335499128243722, 0.0005335499128243722, 0.0002667749564121861, 0.0002667749564121861, 0.0002667749564121861, 0.0002667749564121861, 0.0002667749564121861, 0.0002667749564121861], 'stride': 20, 'train_loss_curve': [0.4811583097915709, 0.4496271667185024, 0.4313397873145465, 0.41457316260765703, 0.38974717470784076, 0.37751398040961676, 0.3704635381453366, 0.3631086795308553, 0.35495197462099337, 0.35180321836122447], 'val_recall_curve': [0.4080961000493665, 0.4633865394108935, 0.4151719598486095, 0.4339312160605562, 0.493993746914596, 0.5142339970380122, 0.4763863748560145, 0.5285502715155505, 0.49843672864900446, 0.5201579726838901], 'win_len': 60}\n",
            "Trial #5 failed.\n",
            "  params : {'features': 'gru_delta', 'win_len': 60, 'stride': 10, 'hidden': 256, 'layers': 3, 'drop': 0.4, 'lr': 0.0008663493483905527}\n",
            "  system attrs: {}\n",
            "  user attrs: {'ckpt': '/content/drive/My Drive/Project 3/gru_ckpts_recall/trial_5.pt', 'features': 'gru_delta', 'lr_curve': [0.0008663493483905527, 0.0008663493483905527, 0.0008663493483905527, 0.0008663493483905527, 0.0008663493483905527, 0.00043317467419527636, 0.00043317467419527636, 0.00021658733709763818, 0.00021658733709763818, 0.00010829366854881909], 'stride': 10, 'train_loss_curve': [0.4545441313817915, 0.3657228130706029, 0.26032198490976716, 0.1832190690748808, 0.13912038472564342, 0.08628554709297775, 0.07360571525864498, 0.05193811335356515, 0.04638110179267776, 0.035109796082249844], 'val_recall_curve': [0.4880678077682686, 0.4524358130348914, 0.5618828176431863, 0.5366194865042792, 0.5592495062541145, 0.517198815009875, 0.5031270572745227, 0.5018926925608953, 0.5125082290980908, 0.5183508887425938], 'win_len': 60}\n",
            "Trial #6 failed.\n",
            "  params : {'features': 'gru_delta', 'win_len': 30, 'stride': 10, 'hidden': 256, 'layers': 1, 'drop': 0.2, 'lr': 0.0026914885397741587}\n",
            "  system attrs: {}\n",
            "  user attrs: {'ckpt': '/content/drive/My Drive/Project 3/gru_ckpts_recall/trial_6.pt', 'features': 'gru_delta', 'lr_curve': [0.0026914885397741587, 0.0026914885397741587, 0.0026914885397741587, 0.0026914885397741587, 0.0026914885397741587, 0.0026914885397741587, 0.0013457442698870793, 0.0013457442698870793, 0.0006728721349435397, 0.0006728721349435397], 'stride': 10, 'train_loss_curve': [0.416597292678807, 0.28343147360387216, 0.20840191810833433, 0.17759199792687239, 0.153616213583033, 0.14680131411973216, 0.09797686040205852, 0.08643915619476805, 0.05827417984867648, 0.05124382234983694], 'val_recall_curve': [0.4782249400875961, 0.485083877365507, 0.5264027766300305, 0.5665647467151476, 0.5351623832741096, 0.507809271960995, 0.5467316750681762, 0.4686389554582266, 0.4963226179654574, 0.5045037600198331], 'win_len': 30}\n",
            "Trial #7 failed.\n",
            "  params : {'features': 'baseline', 'win_len': 30, 'stride': 10, 'hidden': 256, 'layers': 2, 'drop': 0.4, 'lr': 0.0009724303348412737}\n",
            "  system attrs: {}\n",
            "  user attrs: {'ckpt': '/content/drive/My Drive/Project 3/gru_ckpts_recall/trial_7.pt', 'features': 'baseline', 'lr_curve': [0.0009724303348412737, 0.0009724303348412737, 0.0009724303348412737, 0.0009724303348412737, 0.0009724303348412737, 0.00048621516742063684, 0.00048621516742063684, 0.00024310758371031842, 0.00024310758371031842, 0.00012155379185515921], 'stride': 10, 'train_loss_curve': [0.41295412000212145, 0.3339835943206001, 0.2645306149319575, 0.21580785640660483, 0.1844937606616184, 0.13307185442102779, 0.1172329668713858, 0.09136196102788695, 0.08283507841387147, 0.06890429169616676], 'val_recall_curve': [0.5507809271960995, 0.5612759276092885, 0.6539955375588794, 0.5926782910503264, 0.651599041401537, 0.6233369143046029, 0.6301958515825138, 0.6052392364267416, 0.6087100239649615, 0.6132551028840592], 'win_len': 30}\n",
            "Trial #8 failed.\n",
            "  params : {'features': 'gru_delta', 'win_len': 60, 'stride': 10, 'hidden': 64, 'layers': 2, 'drop': 0.0, 'lr': 0.0007108907559878005}\n",
            "  system attrs: {}\n",
            "  user attrs: {}\n",
            "Trial #9 failed.\n",
            "  params : {'features': 'baseline', 'win_len': 30, 'stride': 20, 'hidden': 64, 'layers': 2, 'drop': 0.2, 'lr': 0.0003850945144607265}\n",
            "  system attrs: {}\n",
            "  user attrs: {'ckpt': '/content/drive/My Drive/Project 3/gru_ckpts_recall/trial_9.pt', 'features': 'baseline', 'lr_curve': [0.0003850945144607265, 0.0003850945144607265, 0.0003850945144607265, 0.0003850945144607265, 0.0003850945144607265, 0.0003850945144607265, 0.00019254725723036326, 0.00019254725723036326, 0.00019254725723036326, 9.627362861518163e-05], 'stride': 20, 'train_loss_curve': [0.453970436142547, 0.4171620836930894, 0.4070670488558686, 0.3993040540477526, 0.38952066086119264, 0.37933054902611935, 0.3669482217313781, 0.3615538732444581, 0.35705314805588984, 0.3511296542895756], 'val_recall_curve': [0.4918276374442793, 0.4573221066534588, 0.5431731880468879, 0.5671124318969787, 0.5501073138517418, 0.5383853392768697, 0.5930328545484563, 0.5922073633812118, 0.5652963513290408, 0.5730559683011391], 'win_len': 30}\n",
            "Trial #10 failed.\n",
            "  params : {'features': 'all_numeric', 'win_len': 120, 'stride': 10, 'hidden': 256, 'layers': 2, 'drop': 0.4, 'lr': 0.001919163875208349}\n",
            "  system attrs: {}\n",
            "  user attrs: {'ckpt': '/content/drive/My Drive/Project 3/gru_ckpts_recall/trial_10.pt', 'features': 'all_numeric', 'lr_curve': [0.001919163875208349, 0.001919163875208349, 0.001919163875208349, 0.0009595819376041745, 0.0009595819376041745, 0.00047979096880208723, 0.00047979096880208723, 0.00023989548440104362, 0.00023989548440104362, 0.00011994774220052181], 'stride': 10, 'train_loss_curve': [0.36393480741639717, 0.2192741387485835, 0.2659374841567494, 0.19243449976087393, 0.14369575336127471, 0.1018086306595562, 0.09169426219131087, 0.06975351640628774, 0.06354505306319976, 0.051087631502697885], 'val_recall_curve': [0.6410905232225941, 0.6166843522977716, 0.6293363807036161, 0.6201126438658069, 0.6060729736348053, 0.5957880989306995, 0.5896661497020651, 0.6061545996245205, 0.6098277691617011, 0.5999510244061709], 'win_len': 120}\n",
            "Trial #11 failed.\n",
            "  params : {'features': 'all_numeric', 'win_len': 120, 'stride': 10, 'hidden': 256, 'layers': 2, 'drop': 0.4, 'lr': 0.0020552725139293512}\n",
            "  system attrs: {}\n",
            "  user attrs: {'ckpt': '/content/drive/My Drive/Project 3/gru_ckpts_recall/trial_11.pt', 'features': 'all_numeric', 'lr_curve': [0.0020552725139293512, 0.0020552725139293512, 0.0020552725139293512, 0.0020552725139293512, 0.0020552725139293512, 0.0010276362569646756, 0.0010276362569646756, 0.0005138181284823378, 0.0005138181284823378, 0.0002569090642411689], 'stride': 10, 'train_loss_curve': [0.36898489174234267, 0.26264935630838854, 0.18902114497130815, 0.15254942398915416, 0.12189758088720508, 0.07817546833238281, 0.07064947963144082, 0.043790881981755625, 0.04096820197188351, 0.027901994070334363], 'val_recall_curve': [0.5799526569259652, 0.6254999591870052, 0.647538976410089, 0.5973389927352869, 0.5930944412701004, 0.5805240388539711, 0.5748102195739123, 0.5738307076973308, 0.5832176965145702, 0.5774222512447963], 'win_len': 120}\n",
            "Trial #12 failed.\n",
            "  params : {'features': 'all_numeric', 'win_len': 120, 'stride': 10, 'hidden': 256, 'layers': 2, 'drop': 0.4, 'lr': 0.0014661187675270907}\n",
            "  system attrs: {}\n",
            "  user attrs: {'ckpt': '/content/drive/My Drive/Project 3/gru_ckpts_recall/trial_12.pt', 'features': 'all_numeric', 'lr_curve': [0.0014661187675270907, 0.0014661187675270907, 0.0014661187675270907, 0.0014661187675270907, 0.0014661187675270907, 0.0014661187675270907, 0.0007330593837635453, 0.0007330593837635453, 0.00036652969188177267, 0.00036652969188177267], 'stride': 10, 'train_loss_curve': [0.3754396506829057, 0.25845753205558575, 0.1978519983693908, 0.13368179367200686, 0.12417935882525159, 0.12728154738934278, 0.07095529886065512, 0.06128029699129695, 0.04129549070104132, 0.03639136244783908], 'val_recall_curve': [0.5944820830952575, 0.5819116806791282, 0.6039506979022121, 0.6837809158436046, 0.6470492204717982, 0.646885968492368, 0.6518651538649907, 0.678148722553261, 0.665170190188556, 0.6657415721165619], 'win_len': 120}\n",
            "Trial #13 failed.\n",
            "  params : {'features': 'all_numeric', 'win_len': 120, 'stride': 10, 'hidden': 256, 'layers': 2, 'drop': 0.30000000000000004, 'lr': 0.0014680166186286396}\n",
            "  system attrs: {}\n",
            "  user attrs: {'ckpt': '/content/drive/My Drive/Project 3/gru_ckpts_recall/trial_13.pt', 'features': 'all_numeric', 'lr_curve': [0.0014680166186286396, 0.0014680166186286396, 0.0014680166186286396, 0.0014680166186286396, 0.0007340083093143198, 0.0007340083093143198, 0.0007340083093143198, 0.0007340083093143198, 0.0003670041546571599, 0.0003670041546571599], 'stride': 10, 'train_loss_curve': [0.3674886098090109, 0.23477963006626937, 0.14678927818390375, 0.10917941561914624, 0.06287486192410988, 0.05412742499636839, 0.04975212978985567, 0.046612419772323235, 0.029100846282936927, 0.027481029668474124], 'val_recall_curve': [0.5983185046118684, 0.620194269855522, 0.5681985144069872, 0.5643620928903763, 0.5756264794710636, 0.624765325279569, 0.5890131417843442, 0.5976654966941474, 0.5721165619133132, 0.5800342829156804], 'win_len': 120}\n",
            "Trial #14 failed.\n",
            "  params : {'features': 'baseline', 'win_len': 120, 'stride': 10, 'hidden': 256, 'layers': 2, 'drop': 0.30000000000000004, 'lr': 0.004557493020091865}\n",
            "  system attrs: {}\n",
            "  user attrs: {'ckpt': '/content/drive/My Drive/Project 3/gru_ckpts_recall/trial_14.pt', 'features': 'baseline', 'lr_curve': [0.004557493020091865, 0.004557493020091865, 0.004557493020091865, 0.004557493020091865, 0.004557493020091865, 0.0022787465100459325, 0.0022787465100459325, 0.0022787465100459325, 0.0011393732550229662, 0.0011393732550229662], 'stride': 10, 'train_loss_curve': [0.4190121125572833, 0.3750405313381548, 0.3480088101422939, 0.345429091512885, 0.33163249319110605, 0.2961331442563675, 0.298133426724222, 0.2809090980673855, 0.2521750355859409, 0.23325709179755796], 'val_recall_curve': [0.5168557668761734, 0.6041955758713574, 0.6374989796751286, 0.5447718553587462, 0.6303975185699127, 0.7044322912415313, 0.6397028813974369, 0.6093380132234103, 0.5792180230185291, 0.6186433760509347], 'win_len': 120}\n",
            "Trial #15 failed.\n",
            "  params : {'features': 'all_numeric', 'win_len': 120, 'stride': 10, 'hidden': 128, 'layers': 3, 'drop': 0.30000000000000004, 'lr': 0.004857432440005791}\n",
            "  system attrs: {}\n",
            "  user attrs: {'ckpt': '/content/drive/My Drive/Project 3/gru_ckpts_recall/trial_15.pt', 'features': 'all_numeric', 'lr_curve': [0.004857432440005791, 0.004857432440005791, 0.004857432440005791, 0.004857432440005791, 0.004857432440005791, 0.004857432440005791, 0.0024287162200028957, 0.0024287162200028957, 0.0024287162200028957, 0.0012143581100014479], 'stride': 10, 'train_loss_curve': [0.35354341762738817, 0.22474981834850843, 0.24317459802553432, 0.290646022160098, 0.3755810124684421, 0.362389662809802, 0.33072179913280836, 0.3190977062316756, 0.3052737666494101, 0.3020394974374596], 'val_recall_curve': [0.5903191576197862, 0.623459309444127, 0.6300710146110522, 0.6330095502407966, 0.5219982042282263, 0.5593012815280385, 0.6663945800342829, 0.5206105624030691, 0.545343237286752, 0.6095828911925557], 'win_len': 120}\n",
            "Trial #16 failed.\n",
            "  params : {'features': 'baseline', 'win_len': 120, 'stride': 10, 'hidden': 256, 'layers': 1, 'drop': 0.30000000000000004, 'lr': 0.004418244006754505}\n",
            "  system attrs: {}\n",
            "  user attrs: {'ckpt': '/content/drive/My Drive/Project 3/gru_ckpts_recall/trial_16.pt', 'features': 'baseline', 'lr_curve': [0.004418244006754505, 0.004418244006754505, 0.004418244006754505, 0.004418244006754505, 0.004418244006754505, 0.004418244006754505, 0.0022091220033772525, 0.0022091220033772525, 0.0011045610016886262, 0.0011045610016886262], 'stride': 10, 'train_loss_curve': [0.41510405435461584, 0.3499719007231703, 0.3440436877531509, 0.32623870756243273, 0.37498227586892874, 0.4082301222739544, 0.43710959681579387, 0.4358515449118272, 0.43146689034152913, 0.430574486139486], 'val_recall_curve': [0.5305689331483144, 0.6216635376703943, 0.5330177128397682, 0.629907762631622, 0.5412619378009959, 0.43392376132560606, 0.4642886294996327, 0.46559464533507466, 0.473593992327157, 0.4772671618643376], 'win_len': 120}\n",
            "Trial #17 failed.\n",
            "  params : {'features': 'all_numeric', 'win_len': 120, 'stride': 10, 'hidden': 256, 'layers': 2, 'drop': 0.1, 'lr': 0.003446635817427107}\n",
            "  system attrs: {}\n",
            "  user attrs: {'ckpt': '/content/drive/My Drive/Project 3/gru_ckpts_recall/trial_17.pt', 'features': 'all_numeric', 'lr_curve': [0.003446635817427107, 0.003446635817427107, 0.003446635817427107, 0.003446635817427107, 0.0017233179087135534, 0.0017233179087135534, 0.0008616589543567767, 0.0008616589543567767, 0.00043082947717838836, 0.00043082947717838836], 'stride': 10, 'train_loss_curve': [0.3287279894675951, 0.1736663088729226, 0.12350356025714852, 0.12334510275881835, 0.07491929083968979, 0.07029187275642797, 0.042878944550723413, 0.03284896627840632, 0.023159059350720955, 0.022183527428359256], 'val_recall_curve': [0.640437515304873, 0.6817402661007265, 0.6361113378499714, 0.6432944249449024, 0.6132560607297364, 0.6052567137376541, 0.6256632111664354, 0.6272141049710228, 0.6451718227083504, 0.6348053220145294], 'win_len': 120}\n",
            "Trial #18 failed.\n",
            "  params : {'features': 'all_numeric', 'win_len': 120, 'stride': 10, 'hidden': 128, 'layers': 1, 'drop': 0.1, 'lr': 0.0027276797163193565}\n",
            "  system attrs: {}\n",
            "  user attrs: {'ckpt': '/content/drive/My Drive/Project 3/gru_ckpts_recall/trial_18.pt', 'features': 'all_numeric', 'lr_curve': [0.0027276797163193565, 0.0027276797163193565, 0.0027276797163193565, 0.0027276797163193565, 0.0027276797163193565, 0.0027276797163193565, 0.0013638398581596782, 0.0013638398581596782, 0.0006819199290798391, 0.0006819199290798391], 'stride': 10, 'train_loss_curve': [0.3651538661852539, 0.25861713541302866, 0.21547856942505467, 0.21167393089017586, 0.19032764684651765, 0.19305152223093316, 0.15454314999539343, 0.12222229480251039, 0.09950989990689284, 0.08374983942602314], 'val_recall_curve': [0.570647294098441, 0.6426414170271815, 0.6507223900089789, 0.669088237694882, 0.6132560607297364, 0.6499877561015427, 0.5888498898049139, 0.6166027263080565, 0.6146437025548934, 0.6401110113460126], 'win_len': 120}\n",
            "Trial #19 failed.\n",
            "  params : {'features': 'all_numeric', 'win_len': 120, 'stride': 10, 'hidden': 128, 'layers': 1, 'drop': 0.1, 'lr': 0.0013088415475859042}\n",
            "  system attrs: {}\n",
            "  user attrs: {'ckpt': '/content/drive/My Drive/Project 3/gru_ckpts_recall/trial_19.pt', 'features': 'all_numeric', 'lr_curve': [0.0013088415475859042, 0.0013088415475859042, 0.0013088415475859042, 0.0006544207737929521, 0.0006544207737929521, 0.0006544207737929521, 0.00032721038689647604, 0.00032721038689647604, 0.00016360519344823802, 0.00016360519344823802], 'stride': 10, 'train_loss_curve': [0.3883661842207685, 0.3016692991081302, 0.24929257116019726, 0.17527202884160523, 0.17749275424875072, 0.1513238319365718, 0.11308116189686963, 0.10351344907771659, 0.08679510329321656, 0.0786921322363814], 'val_recall_curve': [0.6075422414496776, 0.5573422577748756, 0.5762794873887845, 0.6233776834544119, 0.5684433923761325, 0.6010937882621826, 0.5642804669006611, 0.5746469675944821, 0.5847685903191576, 0.5783201371316627], 'win_len': 120}\n",
            "Trial #20 failed.\n",
            "  params : {'features': 'all_numeric', 'win_len': 120, 'stride': 10, 'hidden': 128, 'layers': 1, 'drop': 0.1, 'lr': 0.0027668703814902854}\n",
            "  system attrs: {}\n",
            "  user attrs: {'ckpt': '/content/drive/My Drive/Project 3/gru_ckpts_recall/trial_20.pt', 'features': 'all_numeric', 'lr_curve': [0.0027668703814902854, 0.0027668703814902854, 0.0027668703814902854, 0.0027668703814902854, 0.0013834351907451427, 0.0013834351907451427, 0.0013834351907451427, 0.0013834351907451427, 0.0013834351907451427, 0.0006917175953725713], 'stride': 10, 'train_loss_curve': [0.36839505471610473, 0.273792240406779, 0.2320076973087636, 0.2159341754668285, 0.15451462161318943, 0.13501982464795356, 0.1310113931446681, 0.11155526230525893, 0.128098239609221, 0.13898750889812628], 'val_recall_curve': [0.5859929801648845, 0.596685984817566, 0.5908089135580769, 0.575218349522488, 0.6135825646885968, 0.5912170435066525, 0.6239490653824178, 0.6172557342257775, 0.6223165455881152, 0.6392947514488613], 'win_len': 120}\n",
            "Trial #21 failed.\n",
            "  params : {'features': 'all_numeric', 'win_len': 120, 'stride': 10, 'hidden': 128, 'layers': 1, 'drop': 0.1, 'lr': 0.002379270702171194}\n",
            "  system attrs: {}\n",
            "  user attrs: {'ckpt': '/content/drive/My Drive/Project 3/gru_ckpts_recall/trial_21.pt', 'features': 'all_numeric', 'lr_curve': [0.002379270702171194, 0.002379270702171194, 0.002379270702171194, 0.002379270702171194, 0.001189635351085597, 0.001189635351085597, 0.0005948176755427985, 0.0005948176755427985, 0.0005948176755427985, 0.0005948176755427985], 'stride': 10, 'train_loss_curve': [0.36762878599230836, 0.2539191501261254, 0.2166164766456481, 0.194792951993052, 0.15426701115407818, 0.11331096270165257, 0.08585647197656403, 0.08003242470462175, 0.07248184543009531, 0.06510493176105185], 'val_recall_curve': [0.5720349359235981, 0.5956248469512693, 0.5745653416047669, 0.5676271324789813, 0.5778303811933719, 0.5577503877234512, 0.5838707044322913, 0.6179903681332136, 0.6063178516039507, 0.6114602889560036], 'win_len': 120}\n",
            "Trial #22 failed.\n",
            "  params : {'features': 'all_numeric', 'win_len': 120, 'stride': 10, 'hidden': 128, 'layers': 1, 'drop': 0.1, 'lr': 0.0014767253740475485}\n",
            "  system attrs: {}\n",
            "  user attrs: {'ckpt': '/content/drive/My Drive/Project 3/gru_ckpts_recall/trial_22.pt', 'features': 'all_numeric', 'lr_curve': [0.0014767253740475485, 0.0014767253740475485, 0.0014767253740475485, 0.0014767253740475485, 0.0014767253740475485, 0.0014767253740475485, 0.0014767253740475485, 0.0007383626870237742, 0.0007383626870237742, 0.0007383626870237742], 'stride': 10, 'train_loss_curve': [0.3861596446230164, 0.29398808584021596, 0.23471115767690784, 0.18459575656898244, 0.152598257552718, 0.15278900295007544, 0.17000600939539293, 0.1008298461649346, 0.09526527632058215, 0.0951321014437328], 'val_recall_curve': [0.5999510244061709, 0.6116235409354338, 0.6354583299322504, 0.6157048404211901, 0.6512121459472696, 0.6427230430168965, 0.6089298832748347, 0.6410088972328789, 0.6607623867439393, 0.6347236960248143], 'win_len': 120}\n",
            "Trial #23 failed.\n",
            "  params : {'features': 'all_numeric', 'win_len': 120, 'stride': 10, 'hidden': 128, 'layers': 1, 'drop': 0.1, 'lr': 0.0030199783004998533}\n",
            "  system attrs: {}\n",
            "  user attrs: {'ckpt': '/content/drive/My Drive/Project 3/gru_ckpts_recall/trial_23.pt', 'features': 'all_numeric', 'lr_curve': [0.0030199783004998533, 0.0030199783004998533, 0.0030199783004998533, 0.0030199783004998533, 0.0015099891502499266, 0.0015099891502499266, 0.0007549945751249633, 0.0007549945751249633, 0.00037749728756248166, 0.00037749728756248166], 'stride': 10, 'train_loss_curve': [0.3615646142097203, 0.26534772077846047, 0.237848877349779, 0.2218506566727258, 0.1456611200740347, 0.16468933861023538, 0.15635017002947352, 0.12994915705856935, 0.10711275261614926, 0.09893414560804945], 'val_recall_curve': [0.5682801403967023, 0.6334993061790875, 0.5651783527875276, 0.5997061464370256, 0.6220716676189699, 0.5901559056403559, 0.5845237123500122, 0.6083585013468288, 0.6191331319892254, 0.6157864664109053], 'win_len': 120}\n",
            "Trial #24 failed.\n",
            "  params : {'features': 'all_numeric', 'win_len': 120, 'stride': 10, 'hidden': 128, 'layers': 1, 'drop': 0.1, 'lr': 0.001827721683611315}\n",
            "  system attrs: {}\n",
            "  user attrs: {'ckpt': '/content/drive/My Drive/Project 3/gru_ckpts_recall/trial_24.pt', 'features': 'all_numeric', 'lr_curve': [0.001827721683611315, 0.001827721683611315, 0.001827721683611315, 0.001827721683611315, 0.001827721683611315, 0.0009138608418056575, 0.0009138608418056575, 0.00045693042090282874, 0.00045693042090282874, 0.00022846521045141437], 'stride': 10, 'train_loss_curve': [0.3827975802182559, 0.297985922213505, 0.25154496027048917, 0.2387100822889356, 0.21226637320822697, 0.1693937542362029, 0.14890848858066336, 0.12077053196734416, 0.10346070562156566, 0.08044646212024253], 'val_recall_curve': [0.5597094114766141, 0.6189698800097951, 0.6797812423475634, 0.6473757244306587, 0.6387233695208554, 0.6525997877724268, 0.6363562158191168, 0.6458248306260713, 0.6470492204717982, 0.6355399559219655], 'win_len': 120}\n",
            "Trial #25 failed.\n",
            "  params : {'features': 'all_numeric', 'win_len': 120, 'stride': 10, 'hidden': 128, 'layers': 1, 'drop': 0.0, 'lr': 0.0010946148651103395}\n",
            "  system attrs: {}\n",
            "  user attrs: {'ckpt': '/content/drive/My Drive/Project 3/gru_ckpts_recall/trial_25.pt', 'features': 'all_numeric', 'lr_curve': [0.0010946148651103395, 0.0010946148651103395, 0.0010946148651103395, 0.0010946148651103395, 0.0010946148651103395, 0.0010946148651103395, 0.0010946148651103395, 0.0005473074325551698, 0.0005473074325551698, 0.0005473074325551698], 'stride': 10, 'train_loss_curve': [0.38968548378588297, 0.29191277943046867, 0.24188014171595631, 0.18457107698464578, 0.1470420839588055, 0.14094431246473801, 0.11913609948197464, 0.08634698673853967, 0.07162801268160868, 0.07461940630737542], 'val_recall_curve': [0.5591380295486083, 0.5806056648436863, 0.5903191576197862, 0.5579952656925965, 0.6171741082360623, 0.6125214268223003, 0.6050934617582239, 0.6303158925801975, 0.6244388213207085, 0.6261529671047261], 'win_len': 120}\n",
            "Trial #26 failed.\n",
            "  params : {'features': 'all_numeric', 'win_len': 120, 'stride': 10, 'hidden': 128, 'layers': 1, 'drop': 0.1, 'lr': 0.003389171398324571}\n",
            "  system attrs: {}\n",
            "  user attrs: {'ckpt': '/content/drive/My Drive/Project 3/gru_ckpts_recall/trial_26.pt', 'features': 'all_numeric', 'lr_curve': [0.003389171398324571, 0.003389171398324571, 0.003389171398324571, 0.003389171398324571, 0.003389171398324571, 0.0016945856991622855, 0.0016945856991622855, 0.0008472928495811428, 0.0008472928495811428, 0.0004236464247905714], 'stride': 10, 'train_loss_curve': [0.35776625314853505, 0.28692885415231284, 0.26538879054962894, 0.2348601876387395, 0.23441597075961856, 0.178765259729269, 0.1620422112263419, 0.12130330587658564, 0.1359188149706614, 0.09798777467624051], 'val_recall_curve': [0.6166843522977716, 0.5216717002693657, 0.6347236960248143, 0.6336625581585177, 0.6293363807036161, 0.6009305362827524, 0.6189698800097951, 0.6262345930944413, 0.5820749326585585, 0.5928495633009551], 'win_len': 120}\n",
            "Trial #27 failed.\n",
            "  params : {'features': 'all_numeric', 'win_len': 120, 'stride': 10, 'hidden': 64, 'layers': 1, 'drop': 0.2, 'lr': 0.0024127083615508717}\n",
            "  system attrs: {}\n",
            "  user attrs: {}\n",
            "Trial #28 failed.\n",
            "  params : {'features': 'all_numeric', 'win_len': 120, 'stride': 10, 'hidden': 128, 'layers': 2, 'drop': 0.0, 'lr': 0.001613198509439605}\n",
            "  system attrs: {}\n",
            "  user attrs: {'ckpt': '/content/drive/My Drive/Project 3/gru_ckpts_recall/trial_28.pt', 'features': 'all_numeric', 'lr_curve': [0.001613198509439605, 0.001613198509439605, 0.001613198509439605, 0.0008065992547198025, 0.0008065992547198025, 0.0008065992547198025, 0.0008065992547198025, 0.0008065992547198025, 0.00040329962735990125, 0.00040329962735990125], 'stride': 10, 'train_loss_curve': [0.36550699960336996, 0.21459529867323282, 0.1383035320998954, 0.0755309251122476, 0.06183355109804974, 0.054363575464679036, 0.051072575189975766, 0.04512338988457772, 0.028823086093705184, 0.026141111580716987], 'val_recall_curve': [0.596685984817566, 0.5599542894457595, 0.5761978613990695, 0.5949718390335483, 0.6157048404211901, 0.6183168720920741, 0.5671373765406905, 0.571300302016162, 0.5975838707044323, 0.5865643620928904], 'win_len': 120}\n",
            "Trial #29 failed.\n",
            "  params : {'features': 'all_numeric', 'win_len': 120, 'stride': 20, 'hidden': 128, 'layers': 3, 'drop': 0.2, 'lr': 0.0012086326964276515}\n",
            "  system attrs: {}\n",
            "  user attrs: {'ckpt': '/content/drive/My Drive/Project 3/gru_ckpts_recall/trial_29.pt', 'features': 'all_numeric', 'lr_curve': [0.0012086326964276515, 0.0012086326964276515, 0.0012086326964276515, 0.0012086326964276515, 0.0012086326964276515, 0.0012086326964276515, 0.0012086326964276515, 0.0006043163482138258, 0.0006043163482138258, 0.0003021581741069129], 'stride': 20, 'train_loss_curve': [0.41768635978778834, 0.34699572454385713, 0.2816862541057256, 0.22325463054939815, 0.1768437287550972, 0.14592403557426573, 0.12755552455331787, 0.08385510756028648, 0.07441828880797442, 0.055416133680850806], 'val_recall_curve': [0.5737838720208945, 0.6235716617695071, 0.6578517793013385, 0.6139405811296115, 0.6828272935031016, 0.6707476330395038, 0.6669931439764937, 0.6692784851452824, 0.6588312112308194, 0.6635651322233105], 'win_len': 120}\n",
            "Trial #30 failed.\n",
            "  params : {'features': 'all_numeric', 'win_len': 120, 'stride': 20, 'hidden': 64, 'layers': 3, 'drop': 0.2, 'lr': 0.001168455992379373}\n",
            "  system attrs: {}\n",
            "  user attrs: {'ckpt': '/content/drive/My Drive/Project 3/gru_ckpts_recall/trial_30.pt', 'features': 'all_numeric', 'lr_curve': [0.001168455992379373, 0.001168455992379373, 0.001168455992379373, 0.001168455992379373, 0.0005842279961896865, 0.0005842279961896865, 0.0005842279961896865, 0.0005842279961896865, 0.0005842279961896865, 0.0005842279961896865], 'stride': 20, 'train_loss_curve': [0.4221290029253352, 0.35694651729894317, 0.3106890035856255, 0.2696600417060004, 0.22010082267829376, 0.19512335535873448, 0.1769018903768486, 0.162126482894477, 0.14951022781001874, 0.13795805810839146], 'val_recall_curve': [0.534116878876918, 0.653281096963761, 0.6096963761018609, 0.6333659810643161, 0.6307541625857003, 0.6642180868429645, 0.6642180868429645, 0.6939275220372184, 0.6867450212210251, 0.6612797910545217], 'win_len': 120}\n",
            "Trial #31 failed.\n",
            "  params : {'features': 'all_numeric', 'win_len': 120, 'stride': 20, 'hidden': 64, 'layers': 3, 'drop': 0.2, 'lr': 0.001156866188648544}\n",
            "  system attrs: {}\n",
            "  user attrs: {'ckpt': '/content/drive/My Drive/Project 3/gru_ckpts_recall/trial_31.pt', 'features': 'all_numeric', 'lr_curve': [0.001156866188648544, 0.001156866188648544, 0.001156866188648544, 0.001156866188648544, 0.001156866188648544, 0.001156866188648544, 0.001156866188648544, 0.000578433094324272, 0.000578433094324272, 0.000578433094324272], 'stride': 20, 'train_loss_curve': [0.4255391321941993, 0.363989621115667, 0.320948144345619, 0.2791079877825498, 0.24310506046177022, 0.2115150024457593, 0.1881017757507013, 0.14580695269347146, 0.13138724220847242, 0.1239501136026827], 'val_recall_curve': [0.5288932419196866, 0.6335292197192295, 0.6173685928827947, 0.6341821743388835, 0.6353248449232778, 0.62324518445968, 0.6217760365654587, 0.6547502448579824, 0.6446294482533463, 0.6199804113614104], 'win_len': 120}\n",
            "Trial #32 failed.\n",
            "  params : {'features': 'all_numeric', 'win_len': 120, 'stride': 20, 'hidden': 64, 'layers': 3, 'drop': 0.2, 'lr': 0.0008476661613149965}\n",
            "  system attrs: {}\n",
            "  user attrs: {}\n",
            "Trial #33 failed.\n",
            "  params : {'features': 'all_numeric', 'win_len': 30, 'stride': 20, 'hidden': 64, 'layers': 3, 'drop': 0.30000000000000004, 'lr': 0.00048597845606181784}\n",
            "  system attrs: {}\n",
            "  user attrs: {'ckpt': '/content/drive/My Drive/Project 3/gru_ckpts_recall/trial_33.pt', 'features': 'all_numeric', 'lr_curve': [0.00048597845606181784, 0.00048597845606181784, 0.00048597845606181784, 0.00048597845606181784, 0.00048597845606181784, 0.00024298922803090892, 0.00024298922803090892, 0.00012149461401545446, 0.00012149461401545446, 6.074730700772723e-05], 'stride': 20, 'train_loss_curve': [0.43697264517055684, 0.39215593675926536, 0.36785767679215053, 0.3465580503368165, 0.32893082582512423, 0.3066236339119993, 0.2953969265273968, 0.2844555784403428, 0.2796464678054036, 0.27261430783614005], 'val_recall_curve': [0.5390457322106653, 0.5372296516427274, 0.6541192009245501, 0.6402509493148423, 0.6496615486214298, 0.6399207528479445, 0.601948159154697, 0.5983159980188212, 0.6146607231302625, 0.6004622750536569], 'win_len': 30}\n",
            "Trial #34 failed.\n",
            "  params : {'features': 'all_numeric', 'win_len': 120, 'stride': 20, 'hidden': 64, 'layers': 3, 'drop': 0.2, 'lr': 0.00025905851849439683}\n",
            "  system attrs: {}\n",
            "  user attrs: {}\n",
            "Trial #35 failed.\n",
            "  params : {'features': 'all_numeric', 'win_len': 60, 'stride': 20, 'hidden': 64, 'layers': 3, 'drop': 0.2, 'lr': 0.000668780130046106}\n",
            "  system attrs: {}\n",
            "  user attrs: {'ckpt': '/content/drive/My Drive/Project 3/gru_ckpts_recall/trial_35.pt', 'features': 'all_numeric', 'lr_curve': [0.000668780130046106, 0.000668780130046106, 0.000668780130046106, 0.000334390065023053, 0.000334390065023053, 0.000334390065023053, 0.0001671950325115265, 0.0001671950325115265, 8.359751625576326e-05, 8.359751625576326e-05], 'stride': 20, 'train_loss_curve': [0.4303387473237892, 0.38124377082810396, 0.3487736890830585, 0.31572508690483725, 0.2986171875443167, 0.286327376048001, 0.26679172990196176, 0.25969452261600157, 0.24953143702103264, 0.2453128184569382], 'val_recall_curve': [0.593384893862103, 0.5061708079644561, 0.5617903570840875, 0.6371564916899786, 0.6032581866052329, 0.6045746256376502, 0.6114859305578411, 0.5800559486588778, 0.5884482474905381, 0.5899292414020075], 'win_len': 60}\n",
            "Trial #36 failed.\n",
            "  params : {'features': 'gru_delta', 'win_len': 120, 'stride': 20, 'hidden': 128, 'layers': 3, 'drop': 0.30000000000000004, 'lr': 0.00018833423795077428}\n",
            "  system attrs: {}\n",
            "  user attrs: {}\n",
            "Trial #37 failed.\n",
            "  params : {'features': 'all_numeric', 'win_len': 30, 'stride': 20, 'hidden': 128, 'layers': 3, 'drop': 0.2, 'lr': 0.0012606564022504736}\n",
            "  system attrs: {}\n",
            "  user attrs: {'ckpt': '/content/drive/My Drive/Project 3/gru_ckpts_recall/trial_37.pt', 'features': 'all_numeric', 'lr_curve': [0.0012606564022504736, 0.0012606564022504736, 0.0012606564022504736, 0.0012606564022504736, 0.0006303282011252368, 0.0006303282011252368, 0.0003151641005626184, 0.0003151641005626184, 0.0001575820502813092, 0.0001575820502813092], 'stride': 20, 'train_loss_curve': [0.4110072776814169, 0.34047751785550945, 0.27588269850382025, 0.22134673162135723, 0.1604392530800081, 0.13398828237400814, 0.1034157416568525, 0.09420200061734987, 0.07751935629439341, 0.07309843798101949], 'val_recall_curve': [0.5390457322106653, 0.6153211160640581, 0.6110285619943867, 0.5694238071652633, 0.5588575202245336, 0.5877497110780915, 0.5964999174508833, 0.5948489351163943, 0.5988112927191679, 0.5928677563150074], 'win_len': 30}\n",
            "Trial #38 failed.\n",
            "  params : {'features': 'gru_delta', 'win_len': 60, 'stride': 20, 'hidden': 64, 'layers': 3, 'drop': 0.2, 'lr': 0.00092205890150824}\n",
            "  system attrs: {}\n",
            "  user attrs: {}\n",
            "Trial #39 failed.\n",
            "  params : {'features': 'baseline', 'win_len': 120, 'stride': 20, 'hidden': 256, 'layers': 3, 'drop': 0.30000000000000004, 'lr': 0.00010513274149283086}\n",
            "  system attrs: {}\n",
            "  user attrs: {}\n",
            "Trial #40 failed.\n",
            "  params : {'features': 'all_numeric', 'win_len': 60, 'stride': 20, 'hidden': 128, 'layers': 3, 'drop': 0.4, 'lr': 0.0005347545317650786}\n",
            "  system attrs: {}\n",
            "  user attrs: {}\n",
            "Trial #41 failed.\n",
            "  params : {'features': 'all_numeric', 'win_len': 120, 'stride': 20, 'hidden': 128, 'layers': 1, 'drop': 0.1, 'lr': 0.002384503253335705}\n",
            "  system attrs: {}\n",
            "  user attrs: {'ckpt': '/content/drive/My Drive/Project 3/gru_ckpts_recall/trial_41.pt', 'features': 'all_numeric', 'lr_curve': [0.002384503253335705, 0.002384503253335705, 0.002384503253335705, 0.002384503253335705, 0.002384503253335705, 0.0011922516266678525, 0.0011922516266678525, 0.0011922516266678525, 0.0011922516266678525, 0.0005961258133339262], 'stride': 20, 'train_loss_curve': [0.40944734371930064, 0.3349321981382401, 0.28574913735450924, 0.25227741039518786, 0.22923056842147468, 0.1878303354270043, 0.1707301642249361, 0.14504086758110796, 0.14493856736157554, 0.10911334533099165], 'val_recall_curve': [0.5287300032647732, 0.4884100555011427, 0.6124714332353901, 0.6000652954619654, 0.5968005223636957, 0.5675808031341821, 0.6229187071498531, 0.5731309174012406, 0.5861900097943193, 0.6012079660463597], 'win_len': 120}\n",
            "Trial #42 failed.\n",
            "  params : {'features': 'all_numeric', 'win_len': 120, 'stride': 20, 'hidden': 128, 'layers': 2, 'drop': 0.0, 'lr': 0.001966347489484959}\n",
            "  system attrs: {}\n",
            "  user attrs: {}\n",
            "Trial #43 failed.\n",
            "  params : {'features': 'all_numeric', 'win_len': 120, 'stride': 10, 'hidden': 128, 'layers': 1, 'drop': 0.1, 'lr': 0.003528558396882435}\n",
            "  system attrs: {}\n",
            "  user attrs: {}\n",
            "Trial #44 failed.\n",
            "  params : {'features': 'gru_delta', 'win_len': 30, 'stride': 20, 'hidden': 128, 'layers': 2, 'drop': 0.1, 'lr': 0.0016604620252881287}\n",
            "  system attrs: {}\n",
            "  user attrs: {}\n",
            "Trial #45 failed.\n",
            "  params : {'features': 'all_numeric', 'win_len': 120, 'stride': 10, 'hidden': 256, 'layers': 3, 'drop': 0.2, 'lr': 0.0008050058960148382}\n",
            "  system attrs: {}\n",
            "  user attrs: {'ckpt': '/content/drive/My Drive/Project 3/gru_ckpts_recall/trial_45.pt', 'features': 'all_numeric', 'lr_curve': [0.0008050058960148382, 0.0008050058960148382, 0.0008050058960148382, 0.0004025029480074191, 0.0004025029480074191, 0.00020125147400370955, 0.00020125147400370955, 0.00010062573700185477, 0.00010062573700185477, 5.031286850092739e-05], 'stride': 10, 'train_loss_curve': [0.384164317478106, 0.24989528448012643, 0.14970679661974354, 0.07750521031871108, 0.0626292844175143, 0.038472756270100786, 0.034445862230242034, 0.02366717125354355, 0.02226366045071256, 0.016102956763212935], 'val_recall_curve': [0.6549669414741653, 0.6126846788017305, 0.5908089135580769, 0.5957880989306995, 0.613664190678312, 0.5916251734552281, 0.6027263080564852, 0.6135825646885968, 0.6186433760509347, 0.6148069545343238], 'win_len': 120}\n",
            "Trial #46 failed.\n",
            "  params : {'features': 'all_numeric', 'win_len': 120, 'stride': 10, 'hidden': 64, 'layers': 2, 'drop': 0.2, 'lr': 0.0010736319960163335}\n",
            "  system attrs: {}\n",
            "  user attrs: {'ckpt': '/content/drive/My Drive/Project 3/gru_ckpts_recall/trial_46.pt', 'features': 'all_numeric', 'lr_curve': [0.0010736319960163335, 0.0010736319960163335, 0.0010736319960163335, 0.0010736319960163335, 0.0005368159980081667, 0.0005368159980081667, 0.0005368159980081667, 0.00026840799900408336, 0.00026840799900408336, 0.00013420399950204168], 'stride': 10, 'train_loss_curve': [0.39754495712802085, 0.3063333552372612, 0.24549193637491723, 0.19845694695307886, 0.15126953377934713, 0.1342243933350474, 0.12241400843780023, 0.10445482274897772, 0.0962518980612302, 0.08448311197808091], 'val_recall_curve': [0.5838707044322913, 0.6170108562566321, 0.5760346094196392, 0.6140723206268875, 0.6314586564362092, 0.6129295567708758, 0.623459309444127, 0.6255815851767202, 0.6204391478246674, 0.6285201208064648], 'win_len': 120}\n",
            "Trial #47 failed.\n",
            "  params : {'features': 'baseline', 'win_len': 120, 'stride': 20, 'hidden': 256, 'layers': 1, 'drop': 0.0, 'lr': 0.003911251841811695}\n",
            "  system attrs: {}\n",
            "  user attrs: {}\n",
            "Trial #48 failed.\n",
            "  params : {'features': 'all_numeric', 'win_len': 60, 'stride': 10, 'hidden': 128, 'layers': 2, 'drop': 0.4, 'lr': 0.0027975587987396776}\n",
            "  system attrs: {}\n",
            "  user attrs: {'ckpt': '/content/drive/My Drive/Project 3/gru_ckpts_recall/trial_48.pt', 'features': 'all_numeric', 'lr_curve': [0.0027975587987396776, 0.0027975587987396776, 0.0027975587987396776, 0.0027975587987396776, 0.0027975587987396776, 0.0013987793993698388, 0.0013987793993698388, 0.0006993896996849194, 0.0006993896996849194, 0.0003496948498424597], 'stride': 10, 'train_loss_curve': [0.3611482920739879, 0.2293292098372203, 0.16911164373815987, 0.1436782734792948, 0.1306542088781367, 0.09399902713188149, 0.08096070856461979, 0.05805538657569218, 0.05237948650425204, 0.038962656196812114], 'val_recall_curve': [0.591589861751152, 0.6292791310072416, 0.6491112574061882, 0.5933179723502304, 0.5920836076366031, 0.6327353522053983, 0.6194042132982225, 0.6072251481237656, 0.6226135615536538, 0.6022053982883476], 'win_len': 60}\n",
            "Trial #49 failed.\n",
            "  params : {'features': 'all_numeric', 'win_len': 120, 'stride': 10, 'hidden': 256, 'layers': 2, 'drop': 0.1, 'lr': 0.0021302155460432006}\n",
            "  system attrs: {}\n",
            "  user attrs: {'ckpt': '/content/drive/My Drive/Project 3/gru_ckpts_recall/trial_49.pt', 'features': 'all_numeric', 'lr_curve': [0.0021302155460432006, 0.0021302155460432006, 0.0021302155460432006, 0.0021302155460432006, 0.0021302155460432006, 0.0021302155460432006, 0.0021302155460432006, 0.0010651077730216003, 0.0010651077730216003, 0.0010651077730216003], 'stride': 10, 'train_loss_curve': [0.344388160448307, 0.1771904139953557, 0.1189547554539445, 0.09661441359512901, 0.08403317501231201, 0.08054558956692001, 0.07762888412507378, 0.05555129205786202, 0.040836558309208924, 0.038934821496921325], 'val_recall_curve': [0.5651783527875276, 0.6356215819116807, 0.6387233695208554, 0.6223165455881152, 0.6531711697004327, 0.6242755693412783, 0.6308872745082034, 0.6598645008570729, 0.6849236796996163, 0.6447636927597747], 'win_len': 120}\n",
            "Trial #50 failed.\n",
            "  params : {'features': 'gru_delta', 'win_len': 30, 'stride': 20, 'hidden': 256, 'layers': 2, 'drop': 0.30000000000000004, 'lr': 0.002214008490351387}\n",
            "  system attrs: {}\n",
            "  user attrs: {}\n",
            "Trial #51 failed.\n",
            "  params : {'features': 'all_numeric', 'win_len': 120, 'stride': 10, 'hidden': 256, 'layers': 2, 'drop': 0.1, 'lr': 0.0014625700954682267}\n",
            "  system attrs: {}\n",
            "  user attrs: {'ckpt': '/content/drive/My Drive/Project 3/gru_ckpts_recall/trial_51.pt', 'features': 'all_numeric', 'lr_curve': [0.0014625700954682267, 0.0014625700954682267, 0.0014625700954682267, 0.0014625700954682267, 0.0014625700954682267, 0.0007312850477341133, 0.0007312850477341133, 0.0003656425238670567, 0.0003656425238670567, 0.00018282126193352834], 'stride': 10, 'train_loss_curve': [0.3624044634410633, 0.20241990521927264, 0.11978320985673345, 0.09091988380238827, 0.07698759183163113, 0.04495025102819615, 0.04006095593660748, 0.0256721963617458, 0.022903726858206287, 0.015376053997407395], 'val_recall_curve': [0.6006040323238919, 0.6108072810382826, 0.6361929638396866, 0.5924414333523794, 0.6285201208064648, 0.6337441841482327, 0.6077054934291078, 0.6336625581585177, 0.6281119908578892, 0.6411721492123093], 'win_len': 120}\n",
            "Trial #52 failed.\n",
            "  params : {'features': 'all_numeric', 'win_len': 120, 'stride': 10, 'hidden': 256, 'layers': 2, 'drop': 0.1, 'lr': 0.0013065069425644792}\n",
            "  system attrs: {}\n",
            "  user attrs: {'ckpt': '/content/drive/My Drive/Project 3/gru_ckpts_recall/trial_52.pt', 'features': 'all_numeric', 'lr_curve': [0.0013065069425644792, 0.0013065069425644792, 0.0013065069425644792, 0.0006532534712822396, 0.0006532534712822396, 0.0003266267356411198, 0.0003266267356411198, 0.0001633133678205599, 0.0001633133678205599, 0.0001633133678205599], 'stride': 10, 'train_loss_curve': [0.3684929450078555, 0.20824480025058195, 0.1251884196661925, 0.06779933597074993, 0.05401236742219985, 0.03358979790455791, 0.03114234716146405, 0.02392135475904808, 0.019685643127570176, 0.01843287347775664], 'val_recall_curve': [0.6287649987756102, 0.5797077789568198, 0.5925230593420945, 0.6085217533262591, 0.6168476042772019, 0.6179903681332136, 0.6107256550485675, 0.6223165455881152, 0.6351318259733899, 0.6174189862052077], 'win_len': 120}\n",
            "Trial #53 failed.\n",
            "  params : {'features': 'all_numeric', 'win_len': 120, 'stride': 10, 'hidden': 256, 'layers': 2, 'drop': 0.0, 'lr': 0.0017171718896724947}\n",
            "  system attrs: {}\n",
            "  user attrs: {'ckpt': '/content/drive/My Drive/Project 3/gru_ckpts_recall/trial_53.pt', 'features': 'all_numeric', 'lr_curve': [0.0017171718896724947, 0.0017171718896724947, 0.0017171718896724947, 0.0017171718896724947, 0.0008585859448362474, 0.0008585859448362474, 0.0008585859448362474, 0.0008585859448362474, 0.0008585859448362474, 0.0008585859448362474], 'stride': 10, 'train_loss_curve': [0.3540569138148727, 0.17985231782450534, 0.10582588769076604, 0.0858976929051511, 0.044326124898747474, 0.03995832856612863, 0.03881936505711709, 0.03436170872886933, 0.03281034688859381, 0.031302963788554024], 'val_recall_curve': [0.6015835442004734, 0.6212554077218186, 0.6131744347400212, 0.6165211003183414, 0.6148069545343238, 0.6240306913721329, 0.6112970369765733, 0.6303975185699127, 0.6189698800097951, 0.6244388213207085], 'win_len': 120}\n",
            "Trial #54 failed.\n",
            "  params : {'features': 'all_numeric', 'win_len': 120, 'stride': 10, 'hidden': 256, 'layers': 2, 'drop': 0.1, 'lr': 0.001483850624618329}\n",
            "  system attrs: {}\n",
            "  user attrs: {'ckpt': '/content/drive/My Drive/Project 3/gru_ckpts_recall/trial_54.pt', 'features': 'all_numeric', 'lr_curve': [0.001483850624618329, 0.001483850624618329, 0.001483850624618329, 0.0007419253123091645, 0.0007419253123091645, 0.0007419253123091645, 0.00037096265615458224, 0.00037096265615458224, 0.00037096265615458224, 0.00018548132807729112], 'stride': 10, 'train_loss_curve': [0.35814177417561976, 0.20094160281210968, 0.1212376282024738, 0.06574724632595529, 0.05295185129871336, 0.04754079620744856, 0.03111692842156552, 0.02704525346389904, 0.025762973214291288, 0.01739526690730948], 'val_recall_curve': [0.6411721492123093, 0.6322749163333605, 0.6303975185699127, 0.6456615786466411, 0.6416619051506, 0.6305607705493429, 0.6537425516284385, 0.6364378418088319, 0.6231328054852665, 0.6513753979266999], 'win_len': 120}\n",
            "Trial #55 failed.\n",
            "  params : {'features': 'baseline', 'win_len': 120, 'stride': 10, 'hidden': 256, 'layers': 2, 'drop': 0.1, 'lr': 0.0007394482438279211}\n",
            "  system attrs: {}\n",
            "  user attrs: {'ckpt': '/content/drive/My Drive/Project 3/gru_ckpts_recall/trial_55.pt', 'features': 'baseline', 'lr_curve': [0.0007394482438279211, 0.0007394482438279211, 0.0007394482438279211, 0.0003697241219139606, 0.0003697241219139606, 0.0001848620609569803, 0.0001848620609569803, 9.243103047849014e-05, 9.243103047849014e-05, 4.621551523924507e-05], 'stride': 10, 'train_loss_curve': [0.4187520279987239, 0.3433905531374615, 0.2595623672737024, 0.16608476006895478, 0.13115249822017372, 0.08767832598861207, 0.07640475147012696, 0.05646315495592211, 0.05075222749291847, 0.04050814166466331], 'val_recall_curve': [0.6774140886458249, 0.6580687290833401, 0.5730960737898947, 0.5620765651783528, 0.6275406089298833, 0.623459309444127, 0.6289282507550404, 0.6314586564362092, 0.6236225614235572, 0.62541833319729], 'win_len': 120}\n",
            "Trial #56 failed.\n",
            "  params : {'features': 'all_numeric', 'win_len': 120, 'stride': 10, 'hidden': 256, 'layers': 2, 'drop': 0.0, 'lr': 0.0015029633824819894}\n",
            "  system attrs: {}\n",
            "  user attrs: {'ckpt': '/content/drive/My Drive/Project 3/gru_ckpts_recall/trial_56.pt', 'features': 'all_numeric', 'lr_curve': [0.0015029633824819894, 0.0015029633824819894, 0.0015029633824819894, 0.0007514816912409947, 0.0007514816912409947, 0.00037574084562049735, 0.00037574084562049735, 0.00018787042281024867, 0.00018787042281024867, 0.00018787042281024867], 'stride': 10, 'train_loss_curve': [0.3555115801453314, 0.2800729560711207, 0.19274665743431343, 0.13263465011773548, 0.12020006655786178, 0.07796417811731217, 0.0567472472125008, 0.03694364055672712, 0.0331524701016036, 0.03130113423867611], 'val_recall_curve': [0.6191331319892254, 0.5593012815280385, 0.5540772181862705, 0.5500775446902294, 0.5630560770549343, 0.6083585013468288, 0.6184801240715043, 0.628030364868174, 0.611705166925149, 0.6077871194188229], 'win_len': 120}\n",
            "Trial #57 failed.\n",
            "  params : {'features': 'all_numeric', 'win_len': 120, 'stride': 10, 'hidden': 256, 'layers': 2, 'drop': 0.4, 'lr': 0.0010060209773051524}\n",
            "  system attrs: {}\n",
            "  user attrs: {}\n",
            "Trial #58 failed.\n",
            "  params : {'features': 'all_numeric', 'win_len': 120, 'stride': 10, 'hidden': 256, 'layers': 2, 'drop': 0.1, 'lr': 0.0012209990834780129}\n",
            "  system attrs: {}\n",
            "  user attrs: {'ckpt': '/content/drive/My Drive/Project 3/gru_ckpts_recall/trial_58.pt', 'features': 'all_numeric', 'lr_curve': [0.0012209990834780129, 0.0012209990834780129, 0.0012209990834780129, 0.0012209990834780129, 0.0012209990834780129, 0.0012209990834780129, 0.0006104995417390064, 0.0006104995417390064, 0.0003052497708695032, 0.0003052497708695032], 'stride': 10, 'train_loss_curve': [0.3715225849421786, 0.214624863865676, 0.1313995142681028, 0.10081894589737762, 0.08214773659027186, 0.0702614395400357, 0.04084926524936248, 0.03895067707098574, 0.024268717929831415, 0.02241016917518948], 'val_recall_curve': [0.5955432209615542, 0.64500857072892, 0.6239490653824178, 0.6471308464615133, 0.639131499469431, 0.6180719941229288, 0.6108889070279977, 0.6194596359480858, 0.6354583299322504, 0.6081952493673985], 'win_len': 120}\n",
            "Trial #59 failed.\n",
            "  params : {'features': 'all_numeric', 'win_len': 120, 'stride': 10, 'hidden': 256, 'layers': 2, 'drop': 0.1, 'lr': 0.0018896684365266965}\n",
            "  system attrs: {}\n",
            "  user attrs: {'ckpt': '/content/drive/My Drive/Project 3/gru_ckpts_recall/trial_59.pt', 'features': 'all_numeric', 'lr_curve': [0.0018896684365266965, 0.0018896684365266965, 0.0018896684365266965, 0.0018896684365266965, 0.0018896684365266965, 0.0009448342182633482, 0.0009448342182633482, 0.0004724171091316741, 0.0004724171091316741, 0.00023620855456583706], 'stride': 10, 'train_loss_curve': [0.35761610543501887, 0.19518037220740142, 0.12321620514644524, 0.10391058150284199, 0.085356538112656, 0.05111403309217643, 0.044148667961631784, 0.027015750335391053, 0.025367571317631885, 0.01705586005902476], 'val_recall_curve': [0.6125214268223003, 0.6546404375153049, 0.6672924659211493, 0.6435393029140478, 0.5824014366174189, 0.6499061301118276, 0.6508856419884091, 0.6379071096237042, 0.6517019018855603, 0.6427230430168965], 'win_len': 120}\n",
            "Trial #60 failed.\n",
            "  params : {'features': 'all_numeric', 'win_len': 120, 'stride': 10, 'hidden': 256, 'layers': 2, 'drop': 0.2, 'lr': 0.0020409083927332293}\n",
            "  system attrs: {}\n",
            "  user attrs: {'ckpt': '/content/drive/My Drive/Project 3/gru_ckpts_recall/trial_60.pt', 'features': 'all_numeric', 'lr_curve': [0.0020409083927332293, 0.0020409083927332293, 0.0020409083927332293, 0.0020409083927332293, 0.0020409083927332293, 0.0010204541963666147, 0.0010204541963666147, 0.0005102270981833073, 0.0005102270981833073, 0.00025511354909165366], 'stride': 10, 'train_loss_curve': [0.3534428015900965, 0.21826046177318545, 0.140417034871191, 0.10562005668105211, 0.11533534014183622, 0.057028361982494356, 0.05235453180346931, 0.035817023310451175, 0.03157406845111007, 0.021758113911390407], 'val_recall_curve': [0.5787282670802384, 0.5832176965145702, 0.6757815688515223, 0.6410905232225941, 0.5659129866949637, 0.6385601175414252, 0.6287649987756102, 0.5964411068484206, 0.6321116643539303, 0.6383968655619949], 'win_len': 120}\n",
            "Trial #61 failed.\n",
            "  params : {'features': 'all_numeric', 'win_len': 120, 'stride': 10, 'hidden': 256, 'layers': 2, 'drop': 0.1, 'lr': 0.0014494423241898924}\n",
            "  system attrs: {}\n",
            "  user attrs: {'ckpt': '/content/drive/My Drive/Project 3/gru_ckpts_recall/trial_61.pt', 'features': 'all_numeric', 'lr_curve': [0.0014494423241898924, 0.0014494423241898924, 0.0014494423241898924, 0.0014494423241898924, 0.0007247211620949462, 0.0007247211620949462, 0.0003623605810474731, 0.0003623605810474731, 0.00018118029052373655, 0.00018118029052373655], 'stride': 10, 'train_loss_curve': [0.3575556422571902, 0.1881151176694748, 0.11494307623214639, 0.08840588058859684, 0.051246219341592646, 0.04487494099482013, 0.02788529028891246, 0.026450010896555645, 0.017539224908652062, 0.01638642682215275], 'val_recall_curve': [0.6289282507550404, 0.632601420292221, 0.6167659782874867, 0.6042772018610726, 0.613664190678312, 0.6050934617582239, 0.6209289037629582, 0.6126846788017305, 0.6212554077218186, 0.6222349195984002], 'win_len': 120}\n",
            "Trial #62 failed.\n",
            "  params : {'features': 'all_numeric', 'win_len': 120, 'stride': 10, 'hidden': 256, 'layers': 2, 'drop': 0.1, 'lr': 0.0018204899603906958}\n",
            "  system attrs: {}\n",
            "  user attrs: {'ckpt': '/content/drive/My Drive/Project 3/gru_ckpts_recall/trial_62.pt', 'features': 'all_numeric', 'lr_curve': [0.0018204899603906958, 0.0018204899603906958, 0.0018204899603906958, 0.0018204899603906958, 0.0018204899603906958, 0.0018204899603906958, 0.0009102449801953479, 0.0009102449801953479, 0.00045512249009767395, 0.00045512249009767395], 'stride': 10, 'train_loss_curve': [0.35659598303096723, 0.18995666550659432, 0.11632280272968566, 0.09123035716324687, 0.07902454054628945, 0.07529209045028604, 0.04242140754667284, 0.039421072664247395, 0.02552510295248341, 0.02247915260357902], 'val_recall_curve': [0.6113786629662885, 0.6020733001387641, 0.6205207738143825, 0.6268876010121622, 0.6049302097787935, 0.593502571218676, 0.6134193127091666, 0.5641172149212309, 0.5939923271569668, 0.5952983429924088], 'win_len': 120}\n",
            "Trial #63 failed.\n",
            "  params : {'features': 'all_numeric', 'win_len': 120, 'stride': 10, 'hidden': 256, 'layers': 2, 'drop': 0.1, 'lr': 0.0013857138922113738}\n",
            "  system attrs: {}\n",
            "  user attrs: {'ckpt': '/content/drive/My Drive/Project 3/gru_ckpts_recall/trial_63.pt', 'features': 'all_numeric', 'lr_curve': [0.0013857138922113738, 0.0013857138922113738, 0.0013857138922113738, 0.0013857138922113738, 0.0013857138922113738, 0.0006928569461056869, 0.0006928569461056869, 0.00034642847305284345, 0.00034642847305284345, 0.00017321423652642172], 'stride': 10, 'train_loss_curve': [0.36079427744485654, 0.20387283203333145, 0.12556549477487136, 0.09794512278617945, 0.0836846782065466, 0.04905830477949675, 0.044633930108140527, 0.028283044430356383, 0.025196658697079467, 0.017197607985204522], 'val_recall_curve': [0.6028079340462003, 0.6245204473104237, 0.6428862949963269, 0.5660762386743939, 0.5886866378254836, 0.5619133131989226, 0.5951350910129786, 0.5708921720675864, 0.5859929801648845, 0.5782385111419476], 'win_len': 120}\n",
            "Trial #64 failed.\n",
            "  params : {'features': 'all_numeric', 'win_len': 120, 'stride': 10, 'hidden': 256, 'layers': 2, 'drop': 0.2, 'lr': 0.0009566787530669579}\n",
            "  system attrs: {}\n",
            "  user attrs: {'ckpt': '/content/drive/My Drive/Project 3/gru_ckpts_recall/trial_64.pt', 'features': 'all_numeric', 'lr_curve': [0.0009566787530669579, 0.0009566787530669579, 0.0009566787530669579, 0.0009566787530669579, 0.0009566787530669579, 0.00047833937653347897, 0.00047833937653347897, 0.00023916968826673949, 0.00023916968826673949, 0.00011958484413336974], 'stride': 10, 'train_loss_curve': [0.3770434416854533, 0.24053632845263695, 0.14987568512102684, 0.11043634033751307, 0.09104320533960049, 0.054030546909534, 0.0478606312051007, 0.03223755453674689, 0.029054913074714587, 0.02009265961154708], 'val_recall_curve': [0.5991347645090197, 0.6379887356134193, 0.6394580034282916, 0.6268876010121622, 0.6041955758713574, 0.6175006121949229, 0.620194269855522, 0.6255815851767202, 0.6065627295730961, 0.6206023998040976], 'win_len': 120}\n",
            "Trial #65 failed.\n",
            "  params : {'features': 'all_numeric', 'win_len': 120, 'stride': 10, 'hidden': 256, 'layers': 2, 'drop': 0.1, 'lr': 0.0016608188253633524}\n",
            "  system attrs: {}\n",
            "  user attrs: {'ckpt': '/content/drive/My Drive/Project 3/gru_ckpts_recall/trial_65.pt', 'features': 'all_numeric', 'lr_curve': [0.0016608188253633524, 0.0016608188253633524, 0.0016608188253633524, 0.0016608188253633524, 0.0008304094126816762, 0.0008304094126816762, 0.0008304094126816762, 0.0008304094126816762, 0.0008304094126816762, 0.0008304094126816762], 'stride': 10, 'train_loss_curve': [0.3575436995660902, 0.19127127970747826, 0.1212791366938083, 0.09180269086784522, 0.055346623571117394, 0.04702833280358546, 0.042118019567997086, 0.04087244397439267, 0.03783676986883628, 0.037309661177366504], 'val_recall_curve': [0.6140723206268875, 0.6161129703697658, 0.6061545996245205, 0.614970206513754, 0.6226430495469758, 0.6339890621173782, 0.6370908497265529, 0.6330911762305118, 0.6423965390580361, 0.6394580034282916], 'win_len': 120}\n",
            "Trial #66 failed.\n",
            "  params : {'features': 'all_numeric', 'win_len': 120, 'stride': 10, 'hidden': 256, 'layers': 2, 'drop': 0.2, 'lr': 0.0011517867286366399}\n",
            "  system attrs: {}\n",
            "  user attrs: {'ckpt': '/content/drive/My Drive/Project 3/gru_ckpts_recall/trial_66.pt', 'features': 'all_numeric', 'lr_curve': [0.0011517867286366399, 0.0011517867286366399, 0.0011517867286366399, 0.0011517867286366399, 0.0011517867286366399, 0.0011517867286366399, 0.0011517867286366399, 0.0005758933643183199, 0.0005758933643183199, 0.00028794668215915997], 'stride': 10, 'train_loss_curve': [0.3691517991739923, 0.21500079000907762, 0.1395604739927512, 0.09996002031315207, 0.08194972666751606, 0.07287295770081036, 0.06798027937953481, 0.03949828775754189, 0.03706588448862731, 0.024367906858586117], 'val_recall_curve': [0.6463145865643621, 0.6352950779528201, 0.6477838543792344, 0.6362745898294017, 0.6774140886458249, 0.6306423965390581, 0.6314586564362092, 0.6605175087747939, 0.6290915027344707, 0.6480287323483798], 'win_len': 120}\n",
            "Trial #67 failed.\n",
            "  params : {'features': 'all_numeric', 'win_len': 120, 'stride': 10, 'hidden': 256, 'layers': 2, 'drop': 0.2, 'lr': 0.001131941376325844}\n",
            "  system attrs: {}\n",
            "  user attrs: {'ckpt': '/content/drive/My Drive/Project 3/gru_ckpts_recall/trial_67.pt', 'features': 'all_numeric', 'lr_curve': [0.001131941376325844, 0.001131941376325844, 0.001131941376325844, 0.001131941376325844, 0.001131941376325844, 0.000565970688162922, 0.000565970688162922, 0.000282985344081461, 0.000282985344081461, 0.0001414926720407305], 'stride': 10, 'train_loss_curve': [0.3763995213854565, 0.22722749319781604, 0.13373676386238317, 0.09832365069737319, 0.08163658071217865, 0.048700261362723915, 0.04436902346370726, 0.028358221818747347, 0.025170007973046544, 0.01753168478594206], 'val_recall_curve': [0.555056730062852, 0.595461594971839, 0.6394580034282916, 0.6024814300873398, 0.6100726471308464, 0.6228879275161211, 0.6218267896498245, 0.6006856583136071, 0.6069708595216717, 0.605909721655375], 'win_len': 120}\n",
            "Trial #68 failed.\n",
            "  params : {'features': 'baseline', 'win_len': 120, 'stride': 10, 'hidden': 256, 'layers': 2, 'drop': 0.2, 'lr': 0.0007819223975817528}\n",
            "  system attrs: {}\n",
            "  user attrs: {'ckpt': '/content/drive/My Drive/Project 3/gru_ckpts_recall/trial_68.pt', 'features': 'baseline', 'lr_curve': [0.0007819223975817528, 0.0007819223975817528, 0.0007819223975817528, 0.0007819223975817528, 0.0007819223975817528, 0.0007819223975817528, 0.0003909611987908764, 0.0003909611987908764, 0.0003909611987908764, 0.0003909611987908764], 'stride': 10, 'train_loss_curve': [0.41791623112275594, 0.334620356890313, 0.2729254725052679, 0.20746294848687757, 0.1634117152401171, 0.1379676071837012, 0.09023728972657545, 0.08124171142301347, 0.0682729352797448, 0.0633273007826481], 'val_recall_curve': [0.5068973961309281, 0.590237531630071, 0.6207656517835278, 0.6473757244306587, 0.6197861399069464, 0.6457432046363563, 0.6125214268223003, 0.6597828748673578, 0.6375806056648436, 0.5899110276712105], 'win_len': 120}\n",
            "Trial #69 failed.\n",
            "  params : {'features': 'all_numeric', 'win_len': 60, 'stride': 20, 'hidden': 256, 'layers': 2, 'drop': 0.2, 'lr': 0.0005620885256462703}\n",
            "  system attrs: {}\n",
            "  user attrs: {'ckpt': '/content/drive/My Drive/Project 3/gru_ckpts_recall/trial_69.pt', 'features': 'all_numeric', 'lr_curve': [0.0005620885256462703, 0.0005620885256462703, 0.0005620885256462703, 0.0005620885256462703, 0.0005620885256462703, 0.0005620885256462703, 0.00028104426282313515, 0.00028104426282313515, 0.00028104426282313515, 0.00028104426282313515], 'stride': 20, 'train_loss_curve': [0.4224021652183826, 0.3606896286486223, 0.30836255476379115, 0.2584070584342247, 0.20837804136831936, 0.17069558159599735, 0.12123378316381056, 0.10463512219498088, 0.09599757757421745, 0.0869932885076791], 'val_recall_curve': [0.5609675826888267, 0.5976633207174593, 0.6284350831002139, 0.6483462234655257, 0.6170807964456146, 0.6124732598321541, 0.6379792660852395, 0.6504854368932039, 0.621523778180023, 0.6228402172124403], 'win_len': 60}\n",
            "Trial #70 failed.\n",
            "  params : {'features': 'gru_delta', 'win_len': 30, 'stride': 10, 'hidden': 64, 'layers': 3, 'drop': 0.30000000000000004, 'lr': 0.002191670198192978}\n",
            "  system attrs: {}\n",
            "  user attrs: {}\n",
            "Trial #71 failed.\n",
            "  params : {'features': 'all_numeric', 'win_len': 120, 'stride': 10, 'hidden': 256, 'layers': 2, 'drop': 0.1, 'lr': 0.001544711461725579}\n",
            "  system attrs: {}\n",
            "  user attrs: {}\n"
          ]
        }
      ],
      "source": [
        "for t in study.trials:\n",
        "\n",
        "    print(f\"Trial #{t.number} failed.\")\n",
        "    print(\"  params :\", t.params)\n",
        "\n",
        "    # print(\"  message:\", t.message)  # often empty\n",
        "\n",
        "    print(\"  system attrs:\", t.system_attrs)\n",
        "    print(\"  user attrs:\", t.user_attrs)"
      ]
    },
    {
      "cell_type": "code",
      "execution_count": 19,
      "metadata": {
        "colab": {
          "base_uri": "https://localhost:8080/"
        },
        "id": "fS94sogp9KF6",
        "outputId": "fb4bc29d-6d39-43a7-d1f5-c0de94edb779"
      },
      "outputs": [
        {
          "output_type": "stream",
          "name": "stdout",
          "text": [
            "    number     state     value\n",
            "0        0  COMPLETE  0.445270\n",
            "1        1  COMPLETE  0.481652\n",
            "2        2  COMPLETE  0.511805\n",
            "3        3  COMPLETE  0.496462\n",
            "4        4  COMPLETE  0.520158\n",
            "..     ...       ...       ...\n",
            "67      67  COMPLETE  0.605910\n",
            "68      68  COMPLETE  0.589911\n",
            "69      69  COMPLETE  0.622840\n",
            "70      70    PRUNED  0.460210\n",
            "71      71    PRUNED  0.556199\n",
            "\n",
            "[72 rows x 3 columns]\n"
          ]
        }
      ],
      "source": [
        "print(study.trials_dataframe()[[\"number\", \"state\", \"value\"]])"
      ]
    },
    {
      "cell_type": "code",
      "execution_count": 20,
      "metadata": {
        "colab": {
          "base_uri": "https://localhost:8080/",
          "height": 649
        },
        "id": "ERGJZZOp9KF6",
        "outputId": "78e3d653-26f1-4ab1-d996-0bfde972446a"
      },
      "outputs": [
        {
          "output_type": "display_data",
          "data": {
            "text/plain": [
              "<Figure size 600x300 with 1 Axes>"
            ],
            "image/png": "[encoded data removed]"
          },
          "metadata": {}
        },
        {
          "output_type": "display_data",
          "data": {
            "text/plain": [
              "<Figure size 500x300 with 1 Axes>"
            ],
            "image/png": "[encoded data removed]"
          },
          "metadata": {}
        }
      ],
      "source": [
        "import matplotlib.pyplot as plt, pandas as pd\n",
        "\n",
        "best = study.best_trial\n",
        "epochs = range(1, len(best.user_attrs[\"lr_curve\"]) + 1)\n",
        "\n",
        "plt.figure(figsize=(6, 3))\n",
        "plt.plot(epochs, best.user_attrs[\"train_loss_curve\"], label=\"train loss\")\n",
        "plt.plot(epochs, best.user_attrs[\"val_recall_curve\"], label=\"val recall\")\n",
        "plt.xlabel(\"epoch\")\n",
        "plt.legend()\n",
        "plt.title(\"Learning curves - best trial\")\n",
        "plt.show()\n",
        "\n",
        "plt.figure(figsize=(5, 3))\n",
        "plt.plot(epochs, best.user_attrs[\"lr_curve\"])\n",
        "plt.xlabel(\"epoch\")\n",
        "plt.ylabel(\"learning rate\")\n",
        "plt.title(\"LR schedule -  best trial\")\n",
        "plt.show()"
      ]
    },
    {
      "cell_type": "markdown",
      "metadata": {
        "id": "7Z1zqiJ29KF7"
      },
      "source": [
        " ## 4. Evaluate model on test set"
      ]
    },
    {
      "cell_type": "code",
      "execution_count": 21,
      "metadata": {
        "colab": {
          "base_uri": "https://localhost:8080/"
        },
        "id": "2McVNhe_9KF7",
        "outputId": "7dfb2e75-6dc0-4c16-edb1-e58baad55ade"
      },
      "outputs": [
        {
          "output_type": "execute_result",
          "data": {
            "text/plain": [
              "GRUClassifier(\n",
              "  (gru): GRU(17, 256, num_layers=2, batch_first=True, dropout=0.4)\n",
              "  (head): Sequential(\n",
              "    (0): Dropout(p=0.4, inplace=False)\n",
              "    (1): Linear(in_features=256, out_features=1, bias=True)\n",
              "  )\n",
              ")"
            ]
          },
          "metadata": {},
          "execution_count": 21
        }
      ],
      "source": [
        "# -- Rebuild the model with params and also the test df\n",
        "test_df = SUPER[\"test_df\"]\n",
        "\n",
        "best = study.best_trial\n",
        "\n",
        "ckpt = best.user_attrs[\"ckpt\"]  # \"gru_ckpts/trial_17.pt\"\n",
        "\n",
        "feature_key = best.user_attrs[\"features\"]\n",
        "if feature_key == \"all_numeric\":\n",
        "    cols = ALL_NUMERIC_COLS\n",
        "else:\n",
        "    cols = FEATURE_SETS[feature_key]\n",
        "WIN, S = best.user_attrs[\"win_len\"], best.user_attrs[\"stride\"]\n",
        "\n",
        "# rebuild windows only for test\n",
        "X_te, y_te = build_windows(test_df, WIN, S, cols)\n",
        "test_loader = DataLoader(\n",
        "    TensorDataset(torch.tensor(X_te), torch.tensor(y_te)[:, None]),\n",
        "    batch_size=256,\n",
        "    shuffle=False,\n",
        ")\n",
        "\n",
        "model = GRUClassifier(\n",
        "    n_feats=X_te.shape[2],\n",
        "    hidden=best.params[\"hidden\"],\n",
        "    num_layers=best.params[\"layers\"],\n",
        "    dropout=best.params[\"drop\"],\n",
        ").to(DEVICE)\n",
        "model.load_state_dict(torch.load(ckpt, map_location=DEVICE))\n",
        "model.eval()"
      ]
    },
    {
      "cell_type": "markdown",
      "metadata": {
        "id": "oFA4FuUn9KF7"
      },
      "source": [
        " Evaluation"
      ]
    },
    {
      "cell_type": "code",
      "execution_count": 22,
      "metadata": {
        "id": "sqCGsbS79KF7"
      },
      "outputs": [],
      "source": [
        "all_pred, all_true = [], []\n",
        "with torch.no_grad():\n",
        "    for xb, yb in test_loader:\n",
        "        logits = model(xb.to(DEVICE))\n",
        "        all_pred.extend((torch.sigmoid(logits) > 0.5).cpu().numpy().ravel())\n",
        "        all_true.extend(yb.numpy().ravel())\n",
        "y_pred = np.array(all_pred, dtype=int)\n",
        "y_true = np.array(all_true, dtype=int)"
      ]
    },
    {
      "cell_type": "markdown",
      "metadata": {
        "id": "e5rXDpyC9KF7"
      },
      "source": [
        " Metrics"
      ]
    },
    {
      "cell_type": "code",
      "execution_count": 32,
      "metadata": {
        "colab": {
          "base_uri": "https://localhost:8080/"
        },
        "id": "kBwUh0wT9KF7",
        "outputId": "9a24d3f7-3eff-4f60-aa7c-faf7752fdc9c"
      },
      "outputs": [
        {
          "output_type": "stream",
          "name": "stdout",
          "text": [
            "Confusion matrix (rows: true, cols: pred)\n",
            "[[20415  6350]\n",
            " [ 4434  8388]] \n",
            "\n",
            "Accuracy     : 0.7276\n",
            "Recall (TPR) : 0.6542\n",
            "Specificity  : 0.7627\n",
            "Precision    : 0.5691\n",
            "f1-score     : 0.6087\n"
          ]
        }
      ],
      "source": [
        "cm = confusion_matrix(y_true, y_pred)  # [[TN FP] [FN TP]]\n",
        "TN, FP, FN, TP = cm.ravel()\n",
        "\n",
        "acc = accuracy_score(y_true, y_pred)\n",
        "recall = TP / (TP + FN )  # sensitivity / TPR\n",
        "spec = TN / (TN + FP)  # specificity / TNR\n",
        "prec = precision_score(y_true, y_pred)\n",
        "f1 = f1_score(y_true, y_pred)\n",
        "\n",
        "print(\"Confusion matrix (rows: true, cols: pred)\")\n",
        "print(cm, \"\\n\")\n",
        "print(f\"Accuracy     : {acc :.4f}\")\n",
        "print(f\"Recall (TPR) : {recall :.4f}\")\n",
        "print(f\"Specificity  : {spec :.4f}\")\n",
        "print(f\"Precision    : {prec :.4f}\")\n",
        "print(f\"f1-score     : {f1 :.4f}\")"
      ]
    },
    {
      "cell_type": "code",
      "source": [
        "study.best_params"
      ],
      "metadata": {
        "id": "TtM-doTRcccs",
        "outputId": "644216be-2ca1-47f5-ff1d-733045d53f08",
        "colab": {
          "base_uri": "https://localhost:8080/"
        }
      },
      "execution_count": 35,
      "outputs": [
        {
          "output_type": "execute_result",
          "data": {
            "text/plain": [
              "{'features': 'all_numeric',\n",
              " 'win_len': 120,\n",
              " 'stride': 10,\n",
              " 'hidden': 256,\n",
              " 'layers': 2,\n",
              " 'drop': 0.4,\n",
              " 'lr': 0.0014661187675270907}"
            ]
          },
          "metadata": {},
          "execution_count": 35
        }
      ]
    },
    {
      "cell_type": "code",
      "execution_count": 33,
      "metadata": {
        "colab": {
          "base_uri": "https://localhost:8080/",
          "height": 487
        },
        "id": "8UBtMUy89KF7",
        "outputId": "bf0d5366-db6b-4f14-fd69-f20791eecd6f"
      },
      "outputs": [
        {
          "output_type": "display_data",
          "data": {
            "text/plain": [
              "<Figure size 640x480 with 2 Axes>"
            ],
            "image/png": "[encoded data removed]"
          },
          "metadata": {}
        }
      ],
      "source": [
        "fig1, ax1 = plt.subplots()\n",
        "ConfusionMatrixDisplay(cm, display_labels=[\"Normal\", \"Emergency\"]).plot(ax=ax1)\n",
        "ax1.set_title(\"GRU - Confusion matrix (test set)\")\n",
        "plt.tight_layout()\n",
        "plt.show()"
      ]
    },
    {
      "cell_type": "code",
      "execution_count": 34,
      "metadata": {
        "colab": {
          "base_uri": "https://localhost:8080/",
          "height": 487
        },
        "id": "Ac5_EIFF9KF8",
        "outputId": "c184a6f3-aeff-456e-b42e-85d67d67f4ff"
      },
      "outputs": [
        {
          "output_type": "display_data",
          "data": {
            "text/plain": [
              "<Figure size 640x480 with 1 Axes>"
            ],
            "image/png": "[encoded data removed]"
          },
          "metadata": {}
        }
      ],
      "source": [
        "fig2, ax2 = plt.subplots()\n",
        "metrics = [acc, recall, spec, prec, f1]\n",
        "labels = [\"Accuracy\", \"Recall\", \"Specificity\", \"Precision\", \"f1\"]\n",
        "ax2.bar(labels, metrics)\n",
        "ax2.set_ylim(0, 1)\n",
        "ax2.set_ylabel(\"score\")\n",
        "ax2.set_title(\"GRU hypertuned - test-set performance\")\n",
        "for idx, v in enumerate(metrics):  # annotate bars\n",
        "    ax2.text(idx, v + 0.02, f\"{v:.3f}\", ha=\"center\")\n",
        "plt.tight_layout()\n",
        "plt.show()"
      ]
    }
  ],
  "metadata": {
    "language_info": {
      "name": "python"
    },
    "colab": {
      "provenance": [],
      "machine_shape": "hm",
      "gpuType": "A100"
    },
    "accelerator": "GPU",
    "kernelspec": {
      "name": "python3",
      "display_name": "Python 3"
    }
  },
  "nbformat": 4,
  "nbformat_minor": 0
}