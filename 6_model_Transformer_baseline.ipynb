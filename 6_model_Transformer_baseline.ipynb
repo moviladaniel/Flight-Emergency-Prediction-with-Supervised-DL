{
 "cells": [
  {
   "cell_type": "markdown",
   "metadata": {},
   "source": [
    " # Training a baseline Transformer model (vanilla encoder)"
   ]
  },
  {
   "cell_type": "code",
   "execution_count": 1,
   "metadata": {},
   "outputs": [],
   "source": [
    "import joblib, torch, numpy as np, matplotlib.pyplot as plt\n",
    "from torch import nn\n",
    "from torch.utils.data import TensorDataset, DataLoader\n",
    "from sklearn.metrics import (\n",
    "    confusion_matrix,\n",
    "    f1_score,\n",
    "    accuracy_score,\n",
    "    precision_score,\n",
    "    ConfusionMatrixDisplay,\n",
    ")"
   ]
  },
  {
   "cell_type": "markdown",
   "metadata": {},
   "source": [
    " ## Data loading"
   ]
  },
  {
   "cell_type": "code",
   "execution_count": 2,
   "metadata": {},
   "outputs": [],
   "source": [
    "bundle = joblib.load(\"baseline_data_processing/data_payload_30s.pkl\")\n",
    "X_train = bundle[\"X_train\"]\n",
    "y_train = bundle[\"y_train\"]\n",
    "X_val = bundle[\"X_val\"]\n",
    "y_val = bundle[\"y_val\"]\n",
    "X_test = bundle[\"X_test\"]\n",
    "y_test = bundle[\"y_test\"]"
   ]
  },
  {
   "cell_type": "markdown",
   "metadata": {},
   "source": [
    " ## DataLoader setup"
   ]
  },
  {
   "cell_type": "code",
   "execution_count": 3,
   "metadata": {},
   "outputs": [],
   "source": [
    "DEVICE = \"cpu\"\n",
    "BATCH_SIZE = 256\n",
    "EPOCHS = 25\n",
    "LR = 1e-3  # will grid-search later\n",
    "\n",
    "\n",
    "def make_loader(X, y, shuffle):\n",
    "    tx = torch.tensor(X, dtype=torch.float32)\n",
    "    ty = torch.tensor(y, dtype=torch.float32).unsqueeze(1)\n",
    "    return DataLoader(\n",
    "        TensorDataset(tx, ty), batch_size=BATCH_SIZE, shuffle=shuffle, drop_last=True\n",
    "    )\n",
    "\n",
    "\n",
    "train_loader = make_loader(X_train, y_train, True)\n",
    "val_loader = make_loader(X_val, y_val, False)\n",
    "test_loader = make_loader(X_test, y_test, False)\n",
    "\n",
    "SEQ_LEN, N_FEATS = X_train.shape[1:]"
   ]
  },
  {
   "cell_type": "markdown",
   "metadata": {},
   "source": [
    " ## Model definition\n",
    "\n",
    " Vanilla Transformer encoder + learnable CLS token -> binary logit."
   ]
  },
  {
   "cell_type": "code",
   "execution_count": 4,
   "metadata": {},
   "outputs": [
    {
     "name": "stdout",
     "output_type": "stream",
     "text": [
      "TransformerClassifier(\n",
      "  (proj): Linear(in_features=10, out_features=64, bias=True)\n",
      "  (pos): PositionalEncoding()\n",
      "  (enc): TransformerEncoder(\n",
      "    (layers): ModuleList(\n",
      "      (0-1): 2 x TransformerEncoderLayer(\n",
      "        (self_attn): MultiheadAttention(\n",
      "          (out_proj): NonDynamicallyQuantizableLinear(in_features=64, out_features=64, bias=True)\n",
      "        )\n",
      "        (linear1): Linear(in_features=64, out_features=128, bias=True)\n",
      "        (dropout): Dropout(p=0.1, inplace=False)\n",
      "        (linear2): Linear(in_features=128, out_features=64, bias=True)\n",
      "        (norm1): LayerNorm((64,), eps=1e-05, elementwise_affine=True)\n",
      "        (norm2): LayerNorm((64,), eps=1e-05, elementwise_affine=True)\n",
      "        (dropout1): Dropout(p=0.1, inplace=False)\n",
      "        (dropout2): Dropout(p=0.1, inplace=False)\n",
      "      )\n",
      "    )\n",
      "  )\n",
      "  (head): Sequential(\n",
      "    (0): LayerNorm((64,), eps=1e-05, elementwise_affine=True)\n",
      "    (1): Dropout(p=0.1, inplace=False)\n",
      "    (2): Linear(in_features=64, out_features=1, bias=True)\n",
      "  )\n",
      ")\n"
     ]
    }
   ],
   "source": [
    "class PositionalEncoding(nn.Module):\n",
    "    \"\"\"Standard sinusoidal encoding, batch_first.\"\"\"\n",
    "\n",
    "    def __init__(self, d_model, max_len=512):\n",
    "        super().__init__()\n",
    "        pe = torch.zeros(max_len, d_model)\n",
    "        pos = torch.arange(0, max_len).unsqueeze(1)\n",
    "        div = torch.exp(torch.arange(0, d_model, 2) * (-np.log(10000.0) / d_model))\n",
    "        pe[:, 0::2] = torch.sin(pos * div)\n",
    "        pe[:, 1::2] = torch.cos(pos * div)\n",
    "        self.register_buffer(\"pe\", pe.unsqueeze(0))  # (1, L, d_model)\n",
    "\n",
    "    def forward(self, x):\n",
    "        return x + self.pe[:, : x.size(1)]\n",
    "\n",
    "\n",
    "class TransformerClassifier(nn.Module):\n",
    "    def __init__(\n",
    "        self, n_feats, d_model=64, n_head=4, n_layers=2, dim_ff=128, dropout=0.1\n",
    "    ):\n",
    "        super().__init__()\n",
    "        self.proj = nn.Linear(n_feats, d_model)\n",
    "        self.cls = nn.Parameter(torch.zeros(1, 1, d_model))\n",
    "        self.pos = PositionalEncoding(d_model, max_len=SEQ_LEN + 1)\n",
    "        encoder_layer = nn.TransformerEncoderLayer(\n",
    "            d_model, n_head, dim_ff, dropout, batch_first=True\n",
    "        )\n",
    "        self.enc = nn.TransformerEncoder(encoder_layer, n_layers)\n",
    "        self.head = nn.Sequential(\n",
    "            nn.LayerNorm(d_model), nn.Dropout(dropout), nn.Linear(d_model, 1)\n",
    "        )\n",
    "\n",
    "    def forward(self, x):\n",
    "        B = x.size(0)\n",
    "        x = self.proj(x)  # (B, T, d_model)\n",
    "        cls_token = self.cls.expand(B, -1, -1)  # (B,1,d_model)\n",
    "        x = torch.cat([cls_token, x], dim=1)  # prepend\n",
    "        x = self.pos(x)\n",
    "        enc_out = self.enc(x)  # (B, T+1, d_model)\n",
    "        cls_out = enc_out[:, 0]  # (B, d_model)\n",
    "        return self.head(cls_out)\n",
    "\n",
    "\n",
    "model = TransformerClassifier(n_feats=N_FEATS).to(DEVICE)\n",
    "print(model)"
   ]
  },
  {
   "cell_type": "markdown",
   "metadata": {},
   "source": [
    " ## Training & validation loop"
   ]
  },
  {
   "cell_type": "code",
   "execution_count": 5,
   "metadata": {},
   "outputs": [
    {
     "name": "stdout",
     "output_type": "stream",
     "text": [
      "Epoch 01 | train: 0.4141/0.811 | val: 0.4359/0.793\n",
      "Epoch 02 | train: 0.3691/0.832 | val: 0.4466/0.790\n",
      "Epoch 03 | train: 0.3372/0.847 | val: 0.4995/0.785\n",
      "Epoch 04 | train: 0.3128/0.859 | val: 0.5163/0.789\n",
      "Epoch 05 | train: 0.2805/0.874 | val: 0.6143/0.761\n",
      "Early stop.\n"
     ]
    }
   ],
   "source": [
    "models_folder = \"baseline_models/\"\n",
    "\n",
    "criterion = nn.BCEWithLogitsLoss()\n",
    "optimiser = torch.optim.Adam(model.parameters(), lr=LR, weight_decay=1e-4)\n",
    "scheduler = torch.optim.lr_scheduler.ReduceLROnPlateau(\n",
    "    optimiser, mode=\"min\", factor=0.5, patience=2\n",
    ")\n",
    "\n",
    "\n",
    "def run_epoch(loader, train):\n",
    "    tot_loss, correct, total = 0.0, 0, 0\n",
    "    model.train(train)\n",
    "    for xb, yb in loader:\n",
    "        xb, yb = xb.to(DEVICE), yb.to(DEVICE)\n",
    "        logits = model(xb)\n",
    "        loss = criterion(logits, yb)\n",
    "        if train:\n",
    "            optimiser.zero_grad()\n",
    "            loss.backward()\n",
    "            optimiser.step()\n",
    "\n",
    "        preds = torch.sigmoid(logits) > 0.5\n",
    "        correct += (preds.float() == yb).sum().item()\n",
    "        total += yb.size(0)\n",
    "        tot_loss += loss.item() * yb.size(0)\n",
    "    return tot_loss / total, correct / total\n",
    "\n",
    "\n",
    "best_val, patience, waited = 1e9, 4, 0\n",
    "for epoch in range(1, EPOCHS + 1):\n",
    "    tr_loss, tr_acc = run_epoch(train_loader, True)\n",
    "    va_loss, va_acc = run_epoch(val_loader, False)\n",
    "    scheduler.step(va_loss)\n",
    "    print(\n",
    "        f\"Epoch {epoch:02d} | \"\n",
    "        f\"train: {tr_loss:.4f}/{tr_acc:.3f} | \"\n",
    "        f\"val: {va_loss:.4f}/{va_acc:.3f}\"\n",
    "    )\n",
    "    if va_loss < best_val:\n",
    "        best_val, waited = va_loss, 0\n",
    "        torch.save(model.state_dict(), models_folder + \"best_transformer.pt\")\n",
    "    else:\n",
    "        waited += 1\n",
    "        if waited >= patience:\n",
    "            print(\"Early stop.\")\n",
    "            break"
   ]
  },
  {
   "cell_type": "markdown",
   "metadata": {},
   "source": [
    " ## Test-set evaluation (confusion matrix, recall, specificity, plots)"
   ]
  },
  {
   "cell_type": "code",
   "execution_count": 8,
   "metadata": {},
   "outputs": [
    {
     "name": "stdout",
     "output_type": "stream",
     "text": [
      "Confusion matrix (rows: true, cols: pred)\n",
      "[[23632  4041]\n",
      " [ 5298  7221]] \n",
      "\n",
      "Accuracy     : 0.768\n",
      "Recall (TPR) : 0.577\n",
      "Specificity  : 0.854\n",
      "Precision    : 0.641\n",
      "F1-score     : 0.607\n"
     ]
    }
   ],
   "source": [
    "model.load_state_dict(\n",
    "    torch.load(models_folder + \"best_transformer.pt\", map_location=DEVICE)\n",
    ")\n",
    "model.eval()\n",
    "\n",
    "all_pred, all_true = [], []\n",
    "with torch.no_grad():\n",
    "    for xb, yb in test_loader:\n",
    "        logit = model(xb.to(DEVICE))\n",
    "        all_pred.extend((torch.sigmoid(logit) > 0.5).cpu().numpy().ravel())\n",
    "        all_true.extend(yb.numpy().ravel())\n",
    "\n",
    "y_pred = np.array(all_pred, dtype=int)\n",
    "y_true = np.array(all_true, dtype=int)\n",
    "\n",
    "cm = confusion_matrix(y_true, y_pred)\n",
    "TN, FP, FN, TP = cm.ravel()\n",
    "acc = accuracy_score(y_true, y_pred)\n",
    "recall = TP / (TP + FN + 1e-12)\n",
    "spec = TN / (TN + FP + 1e-12)\n",
    "prec = precision_score(y_true, y_pred)\n",
    "f1 = f1_score(y_true, y_pred)\n",
    "\n",
    "print(\"Confusion matrix (rows: true, cols: pred)\")\n",
    "print(cm, \"\\n\")\n",
    "print(f\"Accuracy     : {acc :.3f}\")\n",
    "print(f\"Recall (TPR) : {recall :.3f}\")\n",
    "print(f\"Specificity  : {spec :.3f}\")\n",
    "print(f\"Precision    : {prec :.3f}\")\n",
    "print(f\"F1-score     : {f1 :.3f}\")"
   ]
  },
  {
   "cell_type": "code",
   "execution_count": null,
   "metadata": {},
   "outputs": [
    {
     "data": {
      "image/png": "[encoded data removed]",
      "text/plain": [
       "<Figure size 640x480 with 2 Axes>"
      ]
     },
     "metadata": {},
     "output_type": "display_data"
    }
   ],
   "source": [
    "fig1, ax1 = plt.subplots()\n",
    "\n",
    "ConfusionMatrixDisplay(\n",
    "    confusion_matrix=cm, display_labels=[\"Normal\", \"Emergency\"]\n",
    ").plot(ax=ax1)\n",
    "\n",
    "ax1.set_title(\"Transformer - Confusion matrix (test set)\")\n",
    "plt.tight_layout()\n",
    "plt.show()"
   ]
  },
  {
   "cell_type": "code",
   "execution_count": 11,
   "metadata": {},
   "outputs": [
    {
     "data": {
      "image/png": "[encoded data removed]",
      "text/plain": [
       "<Figure size 640x480 with 1 Axes>"
      ]
     },
     "metadata": {},
     "output_type": "display_data"
    }
   ],
   "source": [
    "fig2, ax2 = plt.subplots()\n",
    "metrics = [acc, recall, spec, prec, f1]\n",
    "labels = [\"Accuracy\", \"Recall\", \"Specificity\", \"Precision\", \"F1\"]\n",
    "ax2.bar(labels, metrics)\n",
    "ax2.set_ylim(0, 1)\n",
    "ax2.set_ylabel(\"score\")\n",
    "ax2.set_title(\"Transformer - test-set performance\")\n",
    "for i, v in enumerate(metrics):\n",
    "    ax2.text(i, v + 0.02, f\"{v:.2f}\", ha=\"center\")\n",
    "plt.tight_layout()\n",
    "plt.show()"
   ]
  }
 ],
 "metadata": {
  "kernelspec": {
   "display_name": "Python 3",
   "language": "python",
   "name": "python3"
  },
  "language_info": {
   "codemirror_mode": {
    "name": "ipython",
    "version": 3
   },
   "file_extension": ".py",
   "mimetype": "text/x-python",
   "name": "python",
   "nbconvert_exporter": "python",
   "pygments_lexer": "ipython3",
   "version": "3.10.5"
  }
 },
 "nbformat": 4,
 "nbformat_minor": 2
}
