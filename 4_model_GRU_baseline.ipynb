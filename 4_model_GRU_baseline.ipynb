{
 "cells": [
  {
   "cell_type": "markdown",
   "id": "15aeaa15",
   "metadata": {},
   "source": [
    "# Training a baseline GRU model"
   ]
  },
  {
   "cell_type": "code",
   "execution_count": 24,
   "id": "a9a578a9",
   "metadata": {},
   "outputs": [],
   "source": [
    "import pandas as pd\n",
    "import joblib\n",
    "import torch, numpy as np\n",
    "from torch import nn\n",
    "from torch.utils.data import TensorDataset, DataLoader\n",
    "from sklearn.metrics import (\n",
    "    confusion_matrix,\n",
    "    f1_score,\n",
    "    accuracy_score,\n",
    "    precision_score,\n",
    "    roc_auc_score,\n",
    ")\n",
    "from sklearn.metrics import ConfusionMatrixDisplay\n",
    "import numpy as np, matplotlib.pyplot as plt"
   ]
  },
  {
   "cell_type": "markdown",
   "id": "ec6c71f8",
   "metadata": {},
   "source": [
    "## Data loading"
   ]
  },
  {
   "cell_type": "code",
   "execution_count": null,
   "id": "714a7e9c",
   "metadata": {},
   "outputs": [],
   "source": [
    "bundle = joblib.load(\"baseline_data_processing/data_payload_30s.pkl\")"
   ]
  },
  {
   "cell_type": "code",
   "execution_count": null,
   "id": "a5291482",
   "metadata": {},
   "outputs": [],
   "source": [
    "X_train = bundle[\"X_train\"]\n",
    "X_test = bundle[\"X_test\"]\n",
    "X_val = bundle[\"X_val\"]\n",
    "\n",
    "y_train = bundle[\"y_train\"]\n",
    "y_test = bundle[\"y_test\"]\n",
    "y_val = bundle[\"y_val\"]"
   ]
  },
  {
   "cell_type": "markdown",
   "id": "2ff4f879",
   "metadata": {},
   "source": [
    "## DataLoader setup"
   ]
  },
  {
   "cell_type": "code",
   "execution_count": null,
   "id": "6b0ac063",
   "metadata": {},
   "outputs": [],
   "source": [
    "DEVICE = \"cpu\"\n",
    "BATCH_SIZE = 256\n",
    "EPOCHS = 25\n",
    "LR = 1e-3  # will tune later\n",
    "\n",
    "\n",
    "def make_loader(X, y, shuffle):\n",
    "    tens_x = torch.tensor(X, dtype=torch.float32)\n",
    "    tens_y = torch.tensor(y, dtype=torch.float32).unsqueeze(1)  # (N,1) for BCE\n",
    "    return DataLoader(\n",
    "        TensorDataset(tens_x, tens_y),\n",
    "        batch_size=BATCH_SIZE,\n",
    "        shuffle=shuffle,\n",
    "        drop_last=True,\n",
    "    )\n",
    "\n",
    "\n",
    "train_loader = make_loader(X_train, y_train, shuffle=True)\n",
    "val_loader = make_loader(X_val, y_val, shuffle=False)\n",
    "test_loader = make_loader(X_test, y_test, shuffle=False)\n",
    "\n",
    "SEQ_LEN, N_FEATS = X_train.shape[1:]"
   ]
  },
  {
   "cell_type": "markdown",
   "id": "5a8308cc",
   "metadata": {},
   "source": [
    "## Model Definition"
   ]
  },
  {
   "cell_type": "markdown",
   "id": "77b82cbf",
   "metadata": {},
   "source": [
    "We create a single layer GRU that reads feature vectors, build a small head consisting of dropout plus a linear layer that maps the final hidden state to one logit (binary classification)"
   ]
  },
  {
   "cell_type": "code",
   "execution_count": null,
   "id": "008513b0",
   "metadata": {},
   "outputs": [
    {
     "name": "stdout",
     "output_type": "stream",
     "text": [
      "GRUClassifier(\n",
      "  (gru): GRU(10, 128, batch_first=True)\n",
      "  (head): Sequential(\n",
      "    (0): Dropout(p=0.1, inplace=False)\n",
      "    (1): Linear(in_features=128, out_features=1, bias=True)\n",
      "  )\n",
      ")\n"
     ]
    }
   ],
   "source": [
    "class GRUClassifier(nn.Module):\n",
    "    def __init__(self, n_feats, hidden=128, num_layers=1, dropout=0.1):\n",
    "        super().__init__()\n",
    "        self.gru = nn.GRU(\n",
    "            input_size=n_feats,\n",
    "            hidden_size=hidden,\n",
    "            num_layers=num_layers,\n",
    "            batch_first=True,\n",
    "            dropout=dropout if num_layers > 1 else 0.0,\n",
    "        )\n",
    "        self.head = nn.Sequential(\n",
    "            nn.Dropout(dropout), nn.Linear(hidden, 1)  # binary logit\n",
    "        )\n",
    "\n",
    "    def forward(self, x):\n",
    "        # x : (B, T, F)\n",
    "        _, h_n = self.gru(x)  # h_n : (num_layers, B, hidden)\n",
    "        logits = self.head(h_n[-1])  # use last layer’s hidden\n",
    "        return logits\n",
    "\n",
    "\n",
    "model = GRUClassifier(n_feats=N_FEATS).to(DEVICE)\n",
    "print(model)"
   ]
  },
  {
   "cell_type": "markdown",
   "id": "231f7613",
   "metadata": {},
   "source": [
    "## Training and validation loop"
   ]
  },
  {
   "cell_type": "code",
   "execution_count": 20,
   "id": "12e4c9c9",
   "metadata": {},
   "outputs": [],
   "source": [
    "models_folder = \"baseline_models/\""
   ]
  },
  {
   "cell_type": "code",
   "execution_count": 19,
   "id": "9c87ee10",
   "metadata": {},
   "outputs": [],
   "source": [
    "criterion = nn.BCEWithLogitsLoss()\n",
    "optimiser = torch.optim.Adam(model.parameters(), lr=LR)\n",
    "scheduler = torch.optim.lr_scheduler.ReduceLROnPlateau(\n",
    "    optimiser, mode=\"min\", factor=0.5, patience=2\n",
    ")\n",
    "\n",
    "\n",
    "def run_epoch(loader, train):\n",
    "    total_loss, correct, total = 0.0, 0, 0\n",
    "    model.train(train)\n",
    "    for xb, yb in loader:\n",
    "        xb, yb = xb.to(DEVICE), yb.to(DEVICE)\n",
    "        logits = model(xb)\n",
    "        loss = criterion(logits, yb)\n",
    "        if train:\n",
    "            optimiser.zero_grad()\n",
    "            loss.backward()\n",
    "            optimiser.step()\n",
    "\n",
    "        preds = torch.sigmoid(logits) > 0.5\n",
    "        correct += (preds.float() == yb).sum().item()\n",
    "        total += yb.size(0)\n",
    "        total_loss += loss.item() * yb.size(0)\n",
    "    return total_loss / total, correct / total"
   ]
  },
  {
   "cell_type": "code",
   "execution_count": null,
   "id": "4460a3ea",
   "metadata": {},
   "outputs": [
    {
     "name": "stdout",
     "output_type": "stream",
     "text": [
      "Epoch 01 | train: loss 0.4185 acc 0.808 | val: loss 0.4463 acc 0.792\n",
      "Epoch 02 | train: loss 0.3629 acc 0.835 | val: loss 0.5029 acc 0.761\n",
      "Epoch 03 | train: loss 0.3087 acc 0.863 | val: loss 0.5233 acc 0.778\n",
      "Epoch 04 | train: loss 0.2685 acc 0.882 | val: loss 0.5903 acc 0.757\n",
      "Epoch 05 | train: loss 0.2154 acc 0.908 | val: loss 0.6392 acc 0.768\n",
      "Early stop.\n"
     ]
    }
   ],
   "source": [
    "best_val = 1e9\n",
    "patience = 4\n",
    "waited = 0\n",
    "for epoch in range(1, EPOCHS + 1):\n",
    "    tr_loss, tr_acc = run_epoch(train_loader, train=True)\n",
    "    va_loss, va_acc = run_epoch(val_loader, train=False)\n",
    "    scheduler.step(va_loss)\n",
    "\n",
    "    print(\n",
    "        f\"Epoch {epoch:02d} | \"\n",
    "        f\"train: loss {tr_loss:.4f} acc {tr_acc:.3f} | \"\n",
    "        f\"val: loss {va_loss:.4f} acc {va_acc:.3f}\"\n",
    "    )\n",
    "\n",
    "    # early-stopping\n",
    "    if va_loss < best_val:\n",
    "        best_val, waited = va_loss, 0\n",
    "        torch.save(model.state_dict(), models_folder + \"best_gru.pt\")\n",
    "    else:\n",
    "        waited += 1\n",
    "        if waited >= patience:\n",
    "            print(\"Early stop.\")\n",
    "            break"
   ]
  },
  {
   "cell_type": "markdown",
   "id": "42eb91b7",
   "metadata": {},
   "source": [
    "## Test-set evaluation"
   ]
  },
  {
   "cell_type": "code",
   "execution_count": 23,
   "id": "e028a9a3",
   "metadata": {},
   "outputs": [],
   "source": [
    "all_pred, all_true = [], []\n",
    "with torch.no_grad():\n",
    "    for xb, yb in test_loader:\n",
    "        logits = model(xb.to(DEVICE))\n",
    "        all_pred.extend((torch.sigmoid(logits) > 0.5).cpu().numpy().ravel())\n",
    "        all_true.extend(yb.numpy().ravel())\n",
    "y_pred = np.array(all_pred, dtype=int)\n",
    "y_true = np.array(all_true, dtype=int)"
   ]
  },
  {
   "cell_type": "markdown",
   "id": "fa7bffc8",
   "metadata": {},
   "source": [
    "Metrics"
   ]
  },
  {
   "cell_type": "code",
   "execution_count": 25,
   "id": "07c52180",
   "metadata": {},
   "outputs": [
    {
     "name": "stdout",
     "output_type": "stream",
     "text": [
      "Confusion matrix (rows: true, cols: pred)\n",
      "[[21740  5933]\n",
      " [ 4770  7749]] \n",
      "\n",
      "Accuracy     : 0.734\n",
      "Recall (TPR) : 0.619\n",
      "Specificity  : 0.786\n",
      "Precision    : 0.566\n",
      "F1-score     : 0.592\n"
     ]
    }
   ],
   "source": [
    "cm = confusion_matrix(y_true, y_pred)  # [[TN FP] [FN TP]]\n",
    "TN, FP, FN, TP = cm.ravel()\n",
    "\n",
    "acc = accuracy_score(y_true, y_pred)\n",
    "recall = TP / (TP + FN + 1e-12)  # sensitivity / TPR\n",
    "spec = TN / (TN + FP + 1e-12)  # specificity / TNR\n",
    "prec = precision_score(y_true, y_pred)\n",
    "f1 = f1_score(y_true, y_pred)\n",
    "\n",
    "print(\"Confusion matrix (rows: true, cols: pred)\")\n",
    "print(cm, \"\\n\")\n",
    "print(f\"Accuracy     : {acc :.3f}\")\n",
    "print(f\"Recall (TPR) : {recall :.3f}\")\n",
    "print(f\"Specificity  : {spec :.3f}\")\n",
    "print(f\"Precision    : {prec :.3f}\")\n",
    "print(f\"F1-score     : {f1 :.3f}\")"
   ]
  },
  {
   "cell_type": "code",
   "execution_count": null,
   "id": "a7b410a0",
   "metadata": {},
   "outputs": [
    {
     "data": {
      "image/png": "[encoded data removed]",
      "text/plain": [
       "<Figure size 640x480 with 2 Axes>"
      ]
     },
     "metadata": {},
     "output_type": "display_data"
    }
   ],
   "source": [
    "fig1, ax1 = plt.subplots()\n",
    "ConfusionMatrixDisplay(cm, display_labels=[\"Normal\", \"Emergency\"]).plot(ax=ax1)\n",
    "ax1.set_title(\"GRU - Confusion matrix (test set)\")\n",
    "plt.tight_layout()\n",
    "plt.show()"
   ]
  },
  {
   "cell_type": "code",
   "execution_count": null,
   "id": "2cda15aa",
   "metadata": {},
   "outputs": [
    {
     "data": {
      "image/png": "[encoded data removed]",
      "text/plain": [
       "<Figure size 640x480 with 1 Axes>"
      ]
     },
     "metadata": {},
     "output_type": "display_data"
    }
   ],
   "source": [
    "fig2, ax2 = plt.subplots()\n",
    "metrics = [acc, recall, spec, prec, f1]\n",
    "labels = [\"Accuracy\", \"Recall\", \"Specificity\", \"Precision\", \"F1\"]\n",
    "ax2.bar(labels, metrics)\n",
    "ax2.set_ylim(0, 1)\n",
    "ax2.set_ylabel(\"score\")\n",
    "ax2.set_title(\"GRU - test-set performance\")\n",
    "for idx, v in enumerate(metrics):  # annotate bars\n",
    "    ax2.text(idx, v + 0.02, f\"{v:.2f}\", ha=\"center\")\n",
    "plt.tight_layout()\n",
    "plt.show()"
   ]
  }
 ],
 "metadata": {
  "kernelspec": {
   "display_name": "Python 3",
   "language": "python",
   "name": "python3"
  },
  "language_info": {
   "codemirror_mode": {
    "name": "ipython",
    "version": 3
   },
   "file_extension": ".py",
   "mimetype": "text/x-python",
   "name": "python",
   "nbconvert_exporter": "python",
   "pygments_lexer": "ipython3",
   "version": "3.10.5"
  }
 },
 "nbformat": 4,
 "nbformat_minor": 5
}
